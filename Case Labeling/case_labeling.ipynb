{
 "cells": [
  {
   "cell_type": "code",
   "execution_count": 1,
   "id": "f1886d0c",
   "metadata": {},
   "outputs": [
    {
     "name": "stderr",
     "output_type": "stream",
     "text": [
      "100%|██████████| 14844/14844 [00:26<00:00, 564.70it/s]\n",
      "100%|██████████| 11969/11969 [01:16<00:00, 156.08it/s]\n",
      "100%|██████████| 14844/14844 [17:11<00:00, 14.39it/s]\n",
      "100%|██████████| 11969/11969 [08:27<00:00, 23.61it/s]\n"
     ]
    }
   ],
   "source": [
    "import time\n",
    "import numpy as np\n",
    "import pandas as pd\n",
    "\n",
    "from Case import *\n",
    "pd.set_option('display.max_columns',None)\n",
    "mimic = pd.read_csv(\"/Users/DAHS/Desktop/ECP_CONT/ECP_SCL/Data preproc/mimic_df_cp.csv.gz\", compression='gzip')\n",
    "eicu = pd.read_csv(\"/Users/DAHS/Desktop/ECP_CONT/ECP_SCL/Data preproc/eicu_df_cp.csv.gz\", compression='gzip')\n",
    "\n",
    "mimic_v1, eicu_v1 = filter_cohort(mimic, eicu) # 코호트의 모든 기록이 no_circ 인 경우 제외\n",
    "\n",
    "mimic_v2 = define_ambcirc(mimic_v1, 'mimic') # circ - amb - circ -> circ - amb_circ - circ\n",
    "eicu_v2 = define_ambcirc(eicu_v1, 'eicu')\n",
    "\n",
    "mimic_v3 = early_event_prediction_label(mimic_v2) # case 1, case 2 정의\n",
    "eicu_v3 = early_event_prediction_label(eicu_v2)\n",
    "\n",
    "mimic_v4 = optimized_recovered_labeler(mimic_v3, 'mimic') # case 3, case 4 정의\n",
    "eicu_v4 = optimized_recovered_labeler(eicu_v3, 'eicu')\n",
    "\n",
    "mimic_v5 = mimic_v4[~(mimic_v4['classes']=='undefined')]\n",
    "eicu_v5 = eicu_v4[~(eicu_v4['classes']=='undefined')]"
   ]
  },
  {
   "cell_type": "code",
   "execution_count": 4,
   "id": "95ea7d21",
   "metadata": {},
   "outputs": [],
   "source": [
    "invalid_columns_mimic, _ = find_invalid_columns(mimic_v5)\n",
    "invalid_columns_eicu, _ = find_invalid_columns(eicu_v5)\n",
    "\n",
    "mimic_v6 = replace_inf_with_previous(mimic_v5, invalid_columns_mimic)\n",
    "eicu_v6 = replace_inf_with_previous(eicu_v5, invalid_columns_eicu)"
   ]
  },
  {
   "cell_type": "code",
   "execution_count": 8,
   "id": "ae25df87",
   "metadata": {},
   "outputs": [
    {
     "name": "stdout",
     "output_type": "stream",
     "text": [
      "step1 모든 관측치가 amb ,0, 0인 stay 제거\n",
      "step1 완료\n",
      "step2 forward fill 잔재 제거(특정 시점부터 마지막까지 모두 amb-0-0인 경우)\n",
      "step2 완료\n",
      "step3 한번이라도 circulatory failure event가 발생하지 않은 stay 제거\n",
      "step3 완료, 제거 stay 수 5804\n"
     ]
    }
   ],
   "source": [
    "mimic_v7 = del_noise(mimic_v6, 'mimic')\n",
    "eicu_v7 = del_noise(eicu_v6, 'eicu')"
   ]
  },
  {
   "cell_type": "code",
   "execution_count": 11,
   "id": "276038c5",
   "metadata": {},
   "outputs": [
    {
     "name": "stdout",
     "output_type": "stream",
     "text": [
      "MIMIC-IV CACE DEFINED\n",
      "\n",
      "전체 샘플의 개수: 927484\n",
      "\n",
      "샘플의 클래스 개수:\n",
      "classes\n",
      "0    612058\n",
      "1     59562\n",
      "2     16989\n",
      "3    238875\n",
      "Name: count, dtype: int64\n",
      "\n",
      "총 Stay 수: 8883\n",
      "\n",
      "총 환자 수: 8546\n",
      "\n",
      "eICU CACE DEFINED\n",
      "\n",
      "전체 샘플의 개수: 569246\n",
      "\n",
      "샘플의 클래스 개수:\n",
      "classes\n",
      "0    378172\n",
      "1     46104\n",
      "2      6186\n",
      "3    138784\n",
      "Name: count, dtype: int64\n",
      "\n",
      "총 Stay 수: 5208\n",
      "\n",
      "총 환자 수: 5075\n",
      "\n"
     ]
    }
   ],
   "source": [
    "def print_summary(dataset, dataset_name, stay_id_col, patient_id_col):\n",
    "    print(f'{dataset_name} CACE DEFINED\\n')\n",
    "    print(f'전체 샘플의 개수: {len(dataset)}\\n')\n",
    "    print('샘플의 클래스 개수:')\n",
    "    print(dataset['classes'].value_counts().sort_index())\n",
    "    print(f'\\n총 Stay 수: {len(dataset[stay_id_col].unique())}')\n",
    "    print(f'\\n총 환자 수: {len(dataset[patient_id_col].unique())}\\n')\n",
    "\n",
    "print_summary(mimic_v7, 'MIMIC-IV', 'stay_id', 'subject_id')\n",
    "\n",
    "print_summary(eicu_v7, 'eICU', 'patientunitstayid', 'uniquepid')"
   ]
  },
  {
   "cell_type": "code",
   "execution_count": 17,
   "id": "1cc2fce0",
   "metadata": {},
   "outputs": [],
   "source": [
    "mimic_v7.drop(['Unnamed: 0'], axis = 1).to_csv('MIMIC-IV.csv.gz', index=False, compression='gzip')\n",
    "eicu_v7.drop(['Unnamed: 0'], axis = 1).to_csv('eICU.csv.gz', index=False, compression='gzip')"
   ]
  }
 ],
 "metadata": {
  "kernelspec": {
   "display_name": "DL",
   "language": "python",
   "name": "python3"
  },
  "language_info": {
   "codemirror_mode": {
    "name": "ipython",
    "version": 3
   },
   "file_extension": ".py",
   "mimetype": "text/x-python",
   "name": "python",
   "nbconvert_exporter": "python",
   "pygments_lexer": "ipython3",
   "version": "3.9.16"
  }
 },
 "nbformat": 4,
 "nbformat_minor": 5
}
