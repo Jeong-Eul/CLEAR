{
 "cells": [
  {
   "cell_type": "code",
   "execution_count": 1,
   "id": "253039e7",
   "metadata": {},
   "outputs": [
    {
     "name": "stderr",
     "output_type": "stream",
     "text": [
      "C:\\Users\\DAHS\\AppData\\Local\\Temp\\ipykernel_34084\\1818478163.py:6: DeprecationWarning: the imp module is deprecated in favour of importlib; see the module's documentation for alternative uses\n",
      "  from imp import reload\n"
     ]
    }
   ],
   "source": [
    "import time\n",
    "import numpy as np\n",
    "import pandas as pd\n",
    "\n",
    "import Case\n",
    "from imp import reload\n",
    "reload(Case)\n",
    "from tqdm import tqdm"
   ]
  },
  {
   "cell_type": "code",
   "execution_count": 4,
   "id": "0e32571c",
   "metadata": {},
   "outputs": [],
   "source": [
    "def number(df, mode):\n",
    "    \n",
    "    if mode == 'mimic':\n",
    "        print('number of subject :', len(df.drop_duplicates(subset=[\"subject_id\"])))\n",
    "        print('number of stay :', len(df.drop_duplicates(subset=[\"stay_id\"])))\n",
    "        \n",
    "    else:\n",
    "        print('number of subject :', len(df.drop_duplicates(subset=[\"uniquepid\"])))\n",
    "        print('number of stay :', len(df.drop_duplicates(subset=[\"patientunitstayid\"])))"
   ]
  },
  {
   "cell_type": "code",
   "execution_count": 6,
   "id": "e998c8af",
   "metadata": {},
   "outputs": [],
   "source": [
    "mimic_path = '/Users/DAHS/Desktop/ECP_CONT/ECP_SCL/Case Labeling/MIMIC-IV.csv.gz'\n",
    "eicu_path = '/Users/DAHS/Desktop/ECP_CONT/ECP_SCL/Case Labeling/eICU.csv.gz'\n",
    "\n",
    "mimic = pd.read_csv(mimic_path, compression = 'gzip')\n",
    "eicu = pd.read_csv(eicu_path, compression = 'gzip')"
   ]
  },
  {
   "cell_type": "code",
   "execution_count": 7,
   "id": "025c930a",
   "metadata": {},
   "outputs": [
    {
     "name": "stdout",
     "output_type": "stream",
     "text": [
      "number of subject : 9880\n",
      "number of stay : 10289\n",
      "number of subject : 9554\n",
      "number of stay : 9980\n"
     ]
    }
   ],
   "source": [
    "number(mimic, 'mimic')\n",
    "number(eicu, 'eicu')"
   ]
  },
  {
   "cell_type": "code",
   "execution_count": null,
   "metadata": {},
   "outputs": [],
   "source": [
    "mimic_annoted = Case.annotation(mimic, 'mimic')\n",
    "\n",
    "analysis_cohort_for_mimic = []\n",
    "\n",
    "idx = mimic_annoted[(mimic_annoted['ABPd']==75.00)|(mimic_annoted['ABPs']==125.00)].index\n",
    "\n",
    "mimic_annoted['MAP_fillna'].loc[idx]=1\n",
    "mimic_annoted['ABPd_fillna'].loc[idx]=1\n",
    "mimic_annoted['ABPs_fillna'].loc[idx]=1\n",
    "\n",
    "for stayid in mimic_annoted.stay_id.unique():\n",
    "\n",
    "    interest = mimic_annoted[mimic_annoted['stay_id']==stayid].head(9) # 입원 후 9시간 동안은 no circ 인 경우만 포함\n",
    "    lactic = mimic_annoted[mimic_annoted['stay_id']==stayid].head(2) \n",
    "\n",
    "    if all(interest['Annotation']=='no_circ'):\n",
    "        analysis_cohort_for_mimic.append(stayid)\n",
    "    \n",
    "    if any(lactic['Lactate']==1.1):\n",
    "\n",
    "        stay_df = mimic_annoted[mimic_annoted['stay_id']==stayid]\n",
    "        lact_idx = stay_df[stay_df['Lactate']==1.1].index\n",
    "        mimic_annoted['Lactate_fillna'].loc[lact_idx]=1\n",
    "\n",
    "print('num of retain stay id: ', len(analysis_cohort_for_mimic))\n",
    "\n",
    "check_mimic = mimic_annoted[mimic_annoted['stay_id'].isin(analysis_cohort_for_mimic)].reset_index(drop=True)\n",
    "mimic_labeled = optimized_shock_labeler(check_mimic, 'mimic')\n",
    "\n",
    "\n",
    "eicu_annoted = Case.annotation(eicu, 'eicu')\n",
    "\n",
    "analysis_cohort_for_eicu = []\n",
    "\n",
    "idx = eicu_annoted[(eicu_annoted['ABPd']==75.00)|(eicu_annoted['ABPs']==125.00)].index\n",
    "\n",
    "eicu_annoted['MAP_fillna'].loc[idx]=1\n",
    "eicu_annoted['ABPd_fillna'].loc[idx]=1\n",
    "eicu_annoted['ABPs_fillna'].loc[idx]=1\n",
    "\n",
    "for stayid in eicu_annoted.patientunitstayid.unique():\n",
    "\n",
    "    interest = eicu_annoted[eicu_annoted['patientunitstayid']==stayid].head(9)\n",
    "    lactic = eicu_annoted[eicu_annoted['patientunitstayid']==stayid].head(2)\n",
    "\n",
    "\n",
    "    if all(interest['Annotation']=='no_circ'):\n",
    "        analysis_cohort_for_eicu.append(stayid)\n",
    "    \n",
    "    if any(lactic['Lactate']==1.1):\n",
    "\n",
    "        stay_df = eicu_annoted[eicu_annoted['patientunitstayid']==stayid]\n",
    "        lact_idx = stay_df[stay_df['Lactate']==1.1].index\n",
    "        eicu_annoted['Lactate_fillna'].loc[lact_idx]=1\n",
    "\n",
    "print('num of retain stay id: ', len(analysis_cohort_for_eicu))\n",
    "\n",
    "check_eicu = eicu_annoted[eicu_annoted['patientunitstayid'].isin(analysis_cohort_for_eicu)].reset_index(drop=True)\n",
    "eicu_labeled = optimized_shock_labeler(check_eicu, 'eicu')"
   ]
  },
  {
   "cell_type": "code",
   "execution_count": null,
   "id": "3db7621e",
   "metadata": {},
   "outputs": [],
   "source": [
    "# mimic_labeled.drop('Unnamed: 0', axis = 1).to_csv('check_point_mimic_labeled.csv.gz', compression = 'gzip', index=False)\n",
    "# eicu_labeled.drop('Unnamed: 0', axis = 1).to_csv('check_point_eicu_labeled.csv.gz', compression = 'gzip', index=False)"
   ]
  },
  {
   "cell_type": "code",
   "execution_count": 2,
   "id": "6f644f93",
   "metadata": {},
   "outputs": [],
   "source": [
    "import pandas as pd\n",
    "import numpy as np\n",
    "\n",
    "mimic_labeled = pd.read_csv('check_point_mimic_labeled.csv.gz', compression = 'gzip')\n",
    "eicu_labeled = pd.read_csv('check_point_eicu_labeled.csv.gz', compression = 'gzip')"
   ]
  },
  {
   "cell_type": "code",
   "execution_count": 3,
   "id": "d4c8679c",
   "metadata": {},
   "outputs": [],
   "source": [
    "mimic_labeled['PaO2/FiO2'] = mimic_labeled['PaO2'] / ((mimic_labeled['FIO2 (%)']+ 0.00000001)/100)\n",
    "eicu_labeled['PaO2/FiO2'] = eicu_labeled['PaO2'] / ((eicu_labeled['FIO2 (%)'] + 0.00000001)/100)"
   ]
  },
  {
   "cell_type": "code",
   "execution_count": 5,
   "id": "5c8a4663",
   "metadata": {},
   "outputs": [
    {
     "name": "stdout",
     "output_type": "stream",
     "text": [
      "number of subject : 3218\n",
      "number of stay : 3291\n",
      "number of subject : 5411\n",
      "number of stay : 5578\n"
     ]
    }
   ],
   "source": [
    "number(mimic_labeled, 'mimic')\n",
    "number(eicu_labeled, 'eicu')"
   ]
  },
  {
   "cell_type": "code",
   "execution_count": 4,
   "id": "87b8f009",
   "metadata": {},
   "outputs": [],
   "source": [
    "import Case\n",
    "from imp import reload\n",
    "reload(Case)\n",
    "from tqdm import tqdm"
   ]
  },
  {
   "cell_type": "code",
   "execution_count": 5,
   "id": "c856e550",
   "metadata": {},
   "outputs": [],
   "source": [
    "invalid_columns_mimic, _ = Case.find_invalid_columns(mimic_labeled)\n",
    "invalid_columns_eicu, _ = Case.find_invalid_columns(eicu_labeled)\n",
    "\n",
    "m_labeled = Case.replace_inf_with_previous(mimic_labeled, invalid_columns_mimic)\n",
    "e_labeled = Case.replace_inf_with_previous(eicu_labeled, invalid_columns_eicu)"
   ]
  },
  {
   "cell_type": "code",
   "execution_count": 6,
   "id": "f9c8372a",
   "metadata": {},
   "outputs": [
    {
     "name": "stdout",
     "output_type": "stream",
     "text": [
      "|Start MIMIC-IV process|\n",
      "Extract Case 1, Case 2\n"
     ]
    },
    {
     "name": "stderr",
     "output_type": "stream",
     "text": [
      "100%|██████████| 3291/3291 [00:12<00:00, 261.97it/s]\n"
     ]
    },
    {
     "name": "stdout",
     "output_type": "stream",
     "text": [
      "--------------\n",
      "Extract Case 3, Case 4\n"
     ]
    },
    {
     "name": "stderr",
     "output_type": "stream",
     "text": [
      "100%|██████████| 639/639 [00:00<00:00, 803.63it/s]\n",
      "100%|██████████| 639/639 [00:17<00:00, 36.80it/s]\n",
      "100%|██████████| 639/639 [00:12<00:00, 52.51it/s]\n"
     ]
    },
    {
     "name": "stdout",
     "output_type": "stream",
     "text": [
      "|Start eICU-CRD process|\n",
      "Extract Case 1, Case 2\n"
     ]
    },
    {
     "name": "stderr",
     "output_type": "stream",
     "text": [
      "100%|██████████| 5563/5563 [00:11<00:00, 469.29it/s]\n"
     ]
    },
    {
     "name": "stdout",
     "output_type": "stream",
     "text": [
      "--------------\n",
      "Extract Case 3, Case 4\n"
     ]
    },
    {
     "name": "stderr",
     "output_type": "stream",
     "text": [
      "100%|██████████| 708/708 [00:00<00:00, 1399.21it/s]\n",
      "100%|██████████| 708/708 [00:08<00:00, 81.43it/s] \n",
      "100%|██████████| 708/708 [00:14<00:00, 49.75it/s]\n"
     ]
    }
   ],
   "source": [
    "reload(Case)\n",
    "m_case1_case2, m_case3_case4 = Case.Case_definetion(m_labeled, 'mimic')\n",
    "e_case1_case2, e_case3_case4 = Case.Case_definetion(e_labeled, 'eicu')"
   ]
  },
  {
   "cell_type": "code",
   "execution_count": 7,
   "id": "f6d71a01",
   "metadata": {},
   "outputs": [
    {
     "data": {
      "text/plain": [
       "4.0    19344\n",
       "3.0    14957\n",
       "Name: Case, dtype: int64"
      ]
     },
     "execution_count": 7,
     "metadata": {},
     "output_type": "execute_result"
    }
   ],
   "source": [
    "m_case3_case4.Case.value_counts()"
   ]
  },
  {
   "cell_type": "code",
   "execution_count": 8,
   "id": "9301a04b",
   "metadata": {},
   "outputs": [],
   "source": [
    "m_case1_case2['INDEX'] = 'CASE1_CASE2_DF'\n",
    "m_case3_case4['INDEX'] = 'CASE3_CASE4_DF'\n",
    "\n",
    "e_case1_case2['INDEX'] = 'CASE1_CASE2_DF'\n",
    "e_case3_case4['INDEX'] = 'CASE3_CASE4_DF'"
   ]
  },
  {
   "cell_type": "code",
   "execution_count": 9,
   "id": "973fd0db",
   "metadata": {},
   "outputs": [],
   "source": [
    "mimic_analysis = pd.concat([m_case1_case2, m_case3_case4], axis = 0).reset_index(drop=True)\n",
    "eicu_analysis = pd.concat([e_case1_case2, e_case3_case4], axis = 0).reset_index(drop=True)"
   ]
  },
  {
   "cell_type": "code",
   "execution_count": 10,
   "id": "3d9b3cac",
   "metadata": {},
   "outputs": [],
   "source": [
    "mimic_ethnicity = {'AMERICAN INDIAN/ALASKA NATIVE': 0, 'ASIAN': 1,\n",
    " 'ASIAN - ASIAN INDIAN': 2, 'ASIAN - CHINESE': 3,\n",
    " 'ASIAN - KOREAN': 4, 'ASIAN - SOUTH EAST ASIAN': 5,\n",
    " 'BLACK/AFRICAN': 6, 'BLACK/AFRICAN AMERICAN': 7,\n",
    " 'BLACK/CAPE VERDEAN': 8, 'BLACK/CARIBBEAN ISLAND': 9,\n",
    " 'HISPANIC OR LATINO': 10, 'HISPANIC/LATINO - CENTRAL AMERICAN': 11,\n",
    " 'HISPANIC/LATINO - COLUMBIAN': 12, 'HISPANIC/LATINO - CUBAN': 13,\n",
    " 'HISPANIC/LATINO - DOMINICAN': 14, 'HISPANIC/LATINO - GUATEMALAN': 15,\n",
    " 'HISPANIC/LATINO - HONDURAN': 16, 'HISPANIC/LATINO - MEXICAN': 17,\n",
    " 'HISPANIC/LATINO - PUERTO RICAN': 18, 'HISPANIC/LATINO - SALVADORAN': 19, \n",
    " 'MULTIPLE RACE/ETHNICITY': 20, 'NATIVE HAWAIIAN OR OTHER PACIFIC ISLANDER': 21, \n",
    " 'OTHER': 22, 'PATIENT DECLINED TO ANSWER': 23, 'PORTUGUESE': 24, 'SOUTH AMERICAN': 25,\n",
    " 'UNABLE TO OBTAIN': 26, 'UNKNOWN': 27, 'WHITE': 28, 'WHITE - BRAZILIAN': 29,\n",
    " 'WHITE - EASTERN EUROPEAN': 30, 'WHITE - OTHER EUROPEAN': 31, 'WHITE - RUSSIAN': 32}\n",
    "\n",
    "eicu_ethnicity = {'0': 0, 'African American': 1, 'Asian': 2, \n",
    "                  'Caucasian': 3, 'Hispanic': 4, 'Native American': 5, 'Other/Unknown': 6}\n",
    "\n",
    "new_mimic_ethnicity = {v:k for k,v in mimic_ethnicity.items()}\n",
    "new_eicu_ethnicity = {v:k for k,v in eicu_ethnicity.items()}"
   ]
  },
  {
   "cell_type": "code",
   "execution_count": 11,
   "id": "38a84c7c",
   "metadata": {},
   "outputs": [],
   "source": [
    "mimic_analysis['ethnicity'] = mimic_analysis['ethnicity'].map(new_mimic_ethnicity)\n",
    "eicu_analysis['ethnicity'] = eicu_analysis['ethnicity'].map(new_eicu_ethnicity)"
   ]
  },
  {
   "cell_type": "code",
   "execution_count": 12,
   "id": "858f6870",
   "metadata": {},
   "outputs": [],
   "source": [
    "A = {'AMERICAN INDIAN/ALASKA NATIVE': 1, 'ASIAN': 2, 'ASIAN - ASIAN INDIAN': 2, \n",
    " 'ASIAN - CHINESE': 2, 'ASIAN - KOREAN': 2, 'ASIAN - SOUTH EAST ASIAN': 2, \n",
    " 'BLACK/AFRICAN': 5, 'BLACK/AFRICAN AMERICAN': 5, 'BLACK/CAPE VERDEAN': 6, \n",
    " 'BLACK/CARIBBEAN ISLAND': 6, 'HISPANIC OR LATINO': 4, 'HISPANIC/LATINO - CENTRAL AMERICAN': 4, \n",
    " 'HISPANIC/LATINO - COLUMBIAN': 4, 'HISPANIC/LATINO - CUBAN': 4, 'HISPANIC/LATINO - DOMINICAN': 4, \n",
    " 'HISPANIC/LATINO - GUATEMALAN': 4, 'HISPANIC/LATINO - HONDURAN': 4, 'HISPANIC/LATINO - MEXICAN': 4, \n",
    " 'HISPANIC/LATINO - PUERTO RICAN': 4, 'HISPANIC/LATINO - SALVADORAN': 4, 'MULTIPLE RACE/ETHNICITY': 6, \n",
    " 'NATIVE HAWAIIAN OR OTHER PACIFIC ISLANDER': 6, 'OTHER': 6, 'PATIENT DECLINED TO ANSWER': 6, 'PORTUGUESE': 4, \n",
    " 'SOUTH AMERICAN': 5, 'UNABLE TO OBTAIN': 6, 'UNKNOWN': 6, 'WHITE': 3, 'WHITE - BRAZILIAN': 3, \n",
    " 'WHITE - EASTERN EUROPEAN': 3, 'WHITE - OTHER EUROPEAN': 3, 'WHITE - RUSSIAN': 3}\n",
    "\n",
    "B = {'0': 6, 'African American': 1, 'Asian': 2, 'Caucasian': 3, 'Hispanic': 4, 'Native American': 5, 'Other/Unknown': 6}\n",
    "\n",
    "\n",
    "mimic_analysis['ethnicity'] = mimic_analysis['ethnicity'].map(A)\n",
    "eicu_analysis['ethnicity'] = eicu_analysis['ethnicity'].map(B)"
   ]
  },
  {
   "cell_type": "code",
   "execution_count": 15,
   "id": "676f2466",
   "metadata": {},
   "outputs": [],
   "source": [
    "mimic_analysis.to_csv('mimic_analysis(new_version0308).csv.gz', compression = 'gzip', index=False)\n",
    "eicu_analysis.to_csv('eicu_analysis(new_version0308).csv.gz', compression = 'gzip', index=False)"
   ]
  },
  {
   "cell_type": "code",
   "execution_count": 16,
   "id": "7be0a9d4",
   "metadata": {},
   "outputs": [
    {
     "ename": "NameError",
     "evalue": "name 'number' is not defined",
     "output_type": "error",
     "traceback": [
      "\u001b[1;31m---------------------------------------------------------------------------\u001b[0m",
      "\u001b[1;31mNameError\u001b[0m                                 Traceback (most recent call last)",
      "Cell \u001b[1;32mIn[16], line 1\u001b[0m\n\u001b[1;32m----> 1\u001b[0m \u001b[43mnumber\u001b[49m(mimic_analysis, \u001b[38;5;124m'\u001b[39m\u001b[38;5;124mmimic\u001b[39m\u001b[38;5;124m'\u001b[39m)\n\u001b[0;32m      2\u001b[0m number(eicu_analysis, \u001b[38;5;124m'\u001b[39m\u001b[38;5;124meicu\u001b[39m\u001b[38;5;124m'\u001b[39m)\n",
      "\u001b[1;31mNameError\u001b[0m: name 'number' is not defined"
     ]
    }
   ],
   "source": [
    "number(mimic_analysis, 'mimic')\n",
    "number(eicu_analysis, 'eicu')"
   ]
  },
  {
   "cell_type": "code",
   "execution_count": 192,
   "id": "d8d7089c",
   "metadata": {},
   "outputs": [
    {
     "name": "stderr",
     "output_type": "stream",
     "text": [
      "C:\\Users\\DAHS\\AppData\\Local\\Temp\\ipykernel_23712\\3583358883.py:1: DtypeWarning: Columns (225) have mixed types. Specify dtype option on import or set low_memory=False.\n",
      "  mimic_analysis_past = pd.read_csv('mimic_analysis.csv.gz', compression = 'gzip')\n"
     ]
    }
   ],
   "source": [
    "mimic_analysis_past = pd.read_csv('mimic_analysis.csv.gz', compression = 'gzip')"
   ]
  },
  {
   "cell_type": "code",
   "execution_count": 195,
   "id": "2996c7b2",
   "metadata": {},
   "outputs": [
    {
     "data": {
      "text/plain": [
       "1.0      522948\n",
       "4.0       19652\n",
       "3.0       10382\n",
       "2.0        5640\n",
       "1.0        4096\n",
       "3.0        1636\n",
       "4.0        1551\n",
       "event       705\n",
       "Name: Case, dtype: int64"
      ]
     },
     "execution_count": 195,
     "metadata": {},
     "output_type": "execute_result"
    }
   ],
   "source": [
    "mimic_analysis_past.Case.value_counts()"
   ]
  },
  {
   "cell_type": "code",
   "execution_count": 193,
   "id": "688b6c1f",
   "metadata": {},
   "outputs": [
    {
     "data": {
      "text/plain": [
       "1.0      522948\n",
       "4.0       19652\n",
       "3.0       10382\n",
       "2.0        5640\n",
       "1.0        4096\n",
       "3.0        1636\n",
       "4.0        1551\n",
       "event       705\n",
       "Name: Case, dtype: int64"
      ]
     },
     "execution_count": 193,
     "metadata": {},
     "output_type": "execute_result"
    }
   ],
   "source": [
    "mimic_analysis_past.Case.value_counts()"
   ]
  },
  {
   "cell_type": "code",
   "execution_count": null,
   "id": "092b7d9a",
   "metadata": {},
   "outputs": [],
   "source": []
  },
  {
   "cell_type": "code",
   "execution_count": 184,
   "id": "7004a3ff",
   "metadata": {},
   "outputs": [
    {
     "data": {
      "text/plain": [
       "CASE1_CASE2_DF    929197\n",
       "CASE3_CASE4_DF     30195\n",
       "Name: INDEX, dtype: int64"
      ]
     },
     "execution_count": 184,
     "metadata": {},
     "output_type": "execute_result"
    }
   ],
   "source": [
    "eicu_analysis.INDEX.value_counts()"
   ]
  }
 ],
 "metadata": {
  "kernelspec": {
   "display_name": "DL",
   "language": "python",
   "name": "python3"
  },
  "language_info": {
   "codemirror_mode": {
    "name": "ipython",
    "version": 3
   },
   "file_extension": ".py",
   "mimetype": "text/x-python",
   "name": "python",
   "nbconvert_exporter": "python",
   "pygments_lexer": "ipython3",
   "version": "3.8.16"
  }
 },
 "nbformat": 4,
 "nbformat_minor": 5
}
