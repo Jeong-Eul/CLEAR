{
 "cells": [
  {
   "cell_type": "code",
   "execution_count": null,
   "id": "f1886d0c",
   "metadata": {},
   "outputs": [],
   "source": [
    "import time\n",
    "import numpy as np\n",
    "import pandas as pd\n",
    "\n",
    "from Case import *\n",
    "pd.set_option('display.max_columns',None)\n",
    "mimic = pd.read_csv(\"/Users/DAHS/Desktop/ECP_CONT/ECP_SCL/Data preproc/mimic_df_cp.csv.gz\", compression='gzip')\n",
    "eicu = pd.read_csv(\"/Users/DAHS/Desktop/ECP_CONT/ECP_SCL/Data preproc/eicu_df_cp.csv.gz\", compression='gzip')\n",
    "\n",
    "mimic_v1, eicu_v1 = filter_cohort(mimic, eicu)\n",
    "\n",
    "mimic_v2 = early_event_prediction_label(mimic_v1)\n",
    "eicu_v2 = early_event_prediction_label(eicu_v1)\n",
    "\n",
    "mimic_v3 = optimized_recovered_labeler(mimic_v2, 'mimic')\n",
    "eicu_v3 = optimized_recovered_labeler(eicu_v2, 'eicu')\n",
    "\n",
    "mimic_v4 = mimic_v3[~(mimic_v3['classes']=='undefined')]\n",
    "eicu_v4 = eicu_v3[~(eicu_v3['classes']=='undefined')]"
   ]
  },
  {
   "cell_type": "code",
   "execution_count": 26,
   "id": "276038c5",
   "metadata": {},
   "outputs": [
    {
     "name": "stdout",
     "output_type": "stream",
     "text": [
      "MIMIC-IV CACE DEFINED\n",
      "\n",
      "전체 샘플의 개수: 2280865\n",
      "\n",
      "샘플의 클래스 개수:\n",
      "0    1918756\n",
      "1     104932\n",
      "2      19981\n",
      "3     237196\n",
      "Name: classes, dtype: int64\n",
      "\n",
      "총 Stay 수: 14844\n",
      "\n",
      "총 환자 수: 14001\n",
      "\n",
      "eICU CACE DEFINED\n",
      "\n",
      "전체 샘플의 개수: 2206374\n",
      "\n",
      "샘플의 클래스 개수:\n",
      "0    1941364\n",
      "1     119414\n",
      "2       7719\n",
      "3     137877\n",
      "Name: classes, dtype: int64\n",
      "\n",
      "총 Stay 수: 11969\n",
      "\n",
      "총 환자 수: 11365\n",
      "\n"
     ]
    }
   ],
   "source": [
    "def print_summary(dataset, dataset_name, stay_id_col, patient_id_col):\n",
    "    print(f'{dataset_name} CACE DEFINED\\n')\n",
    "    print(f'전체 샘플의 개수: {len(dataset)}\\n')\n",
    "    print('샘플의 클래스 개수:')\n",
    "    print(dataset['classes'].value_counts().sort_index())\n",
    "    print(f'\\n총 Stay 수: {len(dataset[stay_id_col].unique())}')\n",
    "    print(f'\\n총 환자 수: {len(dataset[patient_id_col].unique())}\\n')\n",
    "\n",
    "# MIMIC-IV 데이터셋 요약 출력\n",
    "print_summary(mimic_v4, 'MIMIC-IV', 'stay_id', 'subject_id')\n",
    "\n",
    "# eICU 데이터셋 요약 출력\n",
    "print_summary(eicu_v4, 'eICU', 'patientunitstayid', 'uniquepid')"
   ]
  },
  {
   "cell_type": "code",
   "execution_count": 28,
   "id": "1cc2fce0",
   "metadata": {},
   "outputs": [],
   "source": [
    "mimic_v4.drop(['Unnamed: 0'], axis = 1).to_csv('MIMIC-IV.csv', index=False)\n",
    "eicu_v4.drop(['Unnamed: 0'], axis = 1).to_csv('eICU.csv', index=False)"
   ]
  }
 ],
 "metadata": {
  "kernelspec": {
   "display_name": "DL",
   "language": "python",
   "name": "python3"
  },
  "language_info": {
   "codemirror_mode": {
    "name": "ipython",
    "version": 3
   },
   "file_extension": ".py",
   "mimetype": "text/x-python",
   "name": "python",
   "nbconvert_exporter": "python",
   "pygments_lexer": "ipython3",
   "version": "3.8.16"
  }
 },
 "nbformat": 4,
 "nbformat_minor": 5
}
