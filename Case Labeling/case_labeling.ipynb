{
 "cells": [
  {
   "cell_type": "code",
   "execution_count": null,
   "id": "253039e7",
   "metadata": {},
   "outputs": [],
   "source": [
    "import time\n",
    "import numpy as np\n",
    "import pandas as pd\n",
    "\n",
    "import Case\n",
    "from imp import reload\n",
    "reload(Case)"
   ]
  },
  {
   "cell_type": "code",
   "execution_count": null,
   "metadata": {},
   "outputs": [],
   "source": [
    "mimic_annoted = Case.annotation(mimic, 'mimic')\n",
    "\n",
    "analysis_cohort_for_mimic = []\n",
    "\n",
    "idx = mimic_annoted[(mimic_annoted['ABPd']==75.00)|(mimic_annoted['ABPs']==125.00)].index\n",
    "\n",
    "mimic_annoted['MAP_fillna'].loc[idx]=1\n",
    "mimic_annoted['ABPd_fillna'].loc[idx]=1\n",
    "mimic_annoted['ABPs_fillna'].loc[idx]=1\n",
    "\n",
    "for stayid in mimic_annoted.stay_id.unique():\n",
    "\n",
    "    interest = mimic_annoted[mimic_annoted['stay_id']==stayid].head(9)\n",
    "    lactic = mimic_annoted[mimic_annoted['stay_id']==stayid].head(2)\n",
    "\n",
    "\n",
    "    if all(interest['Annotation']=='no_circ'):\n",
    "        analysis_cohort_for_mimic.append(stayid)\n",
    "    \n",
    "    if any(lactic['Lactate']==1.1):\n",
    "\n",
    "        stay_df = mimic_annoted[mimic_annoted['stay_id']==stayid]\n",
    "        lact_idx = stay_df[stay_df['Lactate']==1.1].index\n",
    "        mimic_annoted['Lactate_fillna'].loc[lact_idx]=1\n",
    "\n",
    "print('num of retain stay id: ', len(analysis_cohort_for_mimic))\n",
    "\n",
    "check_mimic = mimic_annoted[mimic_annoted['stay_id'].isin(analysis_cohort_for_mimic)].reset_index(drop=True)\n",
    "mimic_labeled = optimized_shock_labeler(check_mimic, 'mimic')\n",
    "\n",
    "\n",
    "eicu_annoted = Case.annotation(eicu, 'eicu')\n",
    "\n",
    "analysis_cohort_for_eicu = []\n",
    "\n",
    "idx = eicu_annoted[(eicu_annoted['ABPd']==75.00)|(eicu_annoted['ABPs']==125.00)].index\n",
    "\n",
    "eicu_annoted['MAP_fillna'].loc[idx]=1\n",
    "eicu_annoted['ABPd_fillna'].loc[idx]=1\n",
    "eicu_annoted['ABPs_fillna'].loc[idx]=1\n",
    "\n",
    "for stayid in eicu_annoted.patientunitstayid.unique():\n",
    "\n",
    "    interest = eicu_annoted[eicu_annoted['patientunitstayid']==stayid].head(9)\n",
    "    lactic = eicu_annoted[eicu_annoted['patientunitstayid']==stayid].head(2)\n",
    "\n",
    "\n",
    "    if all(interest['Annotation']=='no_circ'):\n",
    "        analysis_cohort_for_eicu.append(stayid)\n",
    "    \n",
    "    if any(lactic['Lactate']==1.1):\n",
    "\n",
    "        stay_df = eicu_annoted[eicu_annoted['patientunitstayid']==stayid]\n",
    "        lact_idx = stay_df[stay_df['Lactate']==1.1].index\n",
    "        eicu_annoted['Lactate_fillna'].loc[lact_idx]=1\n",
    "\n",
    "print('num of retain stay id: ', len(analysis_cohort_for_eicu))\n",
    "\n",
    "check_eicu = eicu_annoted[eicu_annoted['patientunitstayid'].isin(analysis_cohort_for_eicu)].reset_index(drop=True)\n",
    "eicu_labeled = optimized_shock_labeler(check_eicu, 'eicu')"
   ]
  },
  {
   "cell_type": "code",
   "execution_count": null,
   "id": "3db7621e",
   "metadata": {},
   "outputs": [],
   "source": [
    "# mimic_labeled.drop('Unnamed: 0', axis = 1).to_csv('check_point_mimic_labeled.csv.gz', compression = 'gzip', index=False)\n",
    "# eicu_labeled.drop('Unnamed: 0', axis = 1).to_csv('check_point_eicu_labeled.csv.gz', compression = 'gzip', index=False)"
   ]
  },
  {
   "cell_type": "code",
   "execution_count": null,
   "id": "6f644f93",
   "metadata": {},
   "outputs": [],
   "source": [
    "# mimic_labeled = pd.read_csv('check_point_mimic_labeled.csv.gz', compression = 'gzip')\n",
    "# eicu_labeled = pd.read_csv('check_point_eicu_labeled.csv.gz', compression = 'gzip')"
   ]
  },
  {
   "cell_type": "code",
   "execution_count": null,
   "id": "c856e550",
   "metadata": {},
   "outputs": [],
   "source": [
    "invalid_columns_mimic, _ = Case.find_invalid_columns(mimic_labeled)\n",
    "invalid_columns_eicu, _ = Case.find_invalid_columns(eicu_labeled)\n",
    "\n",
    "m_labeled = Case.replace_inf_with_previous(mimic_labeled, invalid_columns_mimic)\n",
    "e_labeled = Case.replace_inf_with_previous(eicu_labeled, invalid_columns_eicu)"
   ]
  },
  {
   "cell_type": "code",
   "execution_count": null,
   "id": "307c4b20",
   "metadata": {},
   "outputs": [],
   "source": [
    "m_case1_case2, m_case3_case4 = Case.Case_definetion(m_labeled, 'mimic')\n",
    "e_case1_case2, e_case3_case4 = Case.Case_definetion(e_labeled, 'eicu')"
   ]
  },
  {
   "cell_type": "code",
   "execution_count": null,
   "id": "d80c3450",
   "metadata": {},
   "outputs": [],
   "source": [
    "case1_stay_ids = []\n",
    "for stay_id, group in m_case1_case2.groupby('stay_id'):\n",
    "    if all(group['Case'] == 1):\n",
    "        case1_stay_ids.append(stay_id)\n",
    "\n",
    "m_case1_case2_filtered = m_case1_case2[~(m_case1_case2['stay_id'].isin(case1_stay_ids))].reset_index(drop=True)\n",
    "\n",
    "case1_stay_ids = []\n",
    "for stay_id, group in e_case1_case2.groupby('patientunitstayid'):\n",
    "    if all(group['Case'] == 1):\n",
    "        case1_stay_ids.append(stay_id)\n",
    "\n",
    "e_case1_case2_filtered = e_case1_case2[~(e_case1_case2['patientunitstayid'].isin(case1_stay_ids))].reset_index(drop=True)"
   ]
  },
  {
   "cell_type": "code",
   "execution_count": null,
   "id": "9301a04b",
   "metadata": {},
   "outputs": [],
   "source": [
    "m_case1_case2['INDEX'] = 'CASE1_CASE2_DF'\n",
    "m_case3_case4['INDEX'] = 'CASE3_CASE4_DF'\n",
    "\n",
    "e_case1_case2['INDEX'] = 'CASE1_CASE2_DF'\n",
    "e_case3_case4['INDEX'] = 'CASE3_CASE4_DF'"
   ]
  },
  {
   "cell_type": "code",
   "execution_count": null,
   "id": "973fd0db",
   "metadata": {},
   "outputs": [],
   "source": [
    "mimic_analysis = pd.concat([m_case1_case2, m_case3_case4], axis = 0).reset_index(drop=True)\n",
    "eicu_analysis = pd.concat([e_case1_case2, e_case3_case4], axis = 0).reset_index(drop=True)"
   ]
  },
  {
   "cell_type": "code",
   "execution_count": null,
   "id": "ea2ece26",
   "metadata": {},
   "outputs": [],
   "source": [
    "from tqdm import tqdm\n",
    "def lactate_up(df, mode):\n",
    "    targ = df.copy()\n",
    "    \n",
    "    if mode == 'mimic':\n",
    "        stay_id_id = 'stay_id'\n",
    "    elif mode == 'eicu':\n",
    "        stay_id_id = 'patientunitstayid'\n",
    "        \n",
    "    targ['lactate_up'] = np.nan\n",
    "        \n",
    "    for stayid in tqdm(targ[stay_id_id].unique()):\n",
    "        \n",
    "        stay_trajectory = targ[targ[stay_id_id]==stayid]\n",
    "\n",
    "        true_measurements_lactate = stay_trajectory['Lactate'].unique()\n",
    "        true_measurements_lactate_index = []\n",
    "        \n",
    "        for value in true_measurements_lactate:\n",
    "            first_occurrence_index = stay_trajectory[stay_trajectory['Lactate'] == value].index[0]\n",
    "            true_measurements_lactate_index.append(first_occurrence_index)\n",
    "        \n",
    "        #init\n",
    "        \n",
    "        anchor_lactate = true_measurements_lactate[0]\n",
    "        count_change = 0\n",
    "        \n",
    "        # true_measurements_lactate_index = [0, 1, 2, 3]\n",
    "        # true_measurements_lactate = [(1.2 masking), 1.2, 2.0, 1.4, 0.7]\n",
    "        \n",
    "        lactate_count_dict = {element: index+1 for index, element in enumerate(true_measurements_lactate)}\n",
    "        \n",
    "        for idx, row in stay_trajectory.iterrows():\n",
    "            #LACTATE COND\n",
    "            current_lactate = row['Lactate']\n",
    "            \n",
    "            if lactate_count_dict[current_lactate] - count_change == 1:\n",
    "                lactate_decrease = current_lactate <= anchor_lactate\n",
    "            \n",
    "            elif current_lactate != anchor_lactate:\n",
    "                count_change += 1\n",
    "                lactate_decrease = current_lactate <= anchor_lactate #바뀌는 순간은 그대로 계산해도 됨\n",
    "                for key, value in lactate_count_dict.items():\n",
    "                    if value == count_change:\n",
    "                        anchor_lactate = key\n",
    "            \n",
    "            # Annotation\n",
    "            \n",
    "            if lactate_decrease:\n",
    "                targ.at[idx, 'lactate_up'] = 0\n",
    "            else :\n",
    "                targ.at[idx, 'lactate_up'] = 1\n",
    "\n",
    "    return targ\n",
    "\n",
    "\n",
    "mimic_analysis_save = lactate_up(mimic_analysis, 'mimic')\n",
    "eicu_analysis_save = lactate_up(eicu_analysis, 'eicu')"
   ]
  },
  {
   "cell_type": "code",
   "execution_count": null,
   "id": "676f2466",
   "metadata": {},
   "outputs": [],
   "source": [
    "mimic_analysis_save.to_csv('mimic_analysis.csv.gz', compression = 'gzip', index=False)\n",
    "eicu_analysis_save.to_csv('eicu_analysis.csv.gz', compression = 'gzip', index=False)"
   ]
  },
  {
   "cell_type": "code",
   "execution_count": 2,
   "metadata": {},
   "outputs": [
    {
     "name": "stderr",
     "output_type": "stream",
     "text": [
      "C:\\Users\\DAHS\\AppData\\Local\\Temp\\ipykernel_44536\\3158904586.py:3: DtypeWarning: Columns (225) have mixed types. Specify dtype option on import or set low_memory=False.\n",
      "  mimic = pd.read_csv(mimic_data_dir, compression='gzip')\n"
     ]
    }
   ],
   "source": [
    "import pandas as pd\n",
    "mimic_data_dir = '/Users/DAHS/Desktop/ECP_CONT/ECP_SCL/Case Labeling/mimic_analysis.csv.gz'\n",
    "mimic = pd.read_csv(mimic_data_dir, compression='gzip')"
   ]
  },
  {
   "cell_type": "code",
   "execution_count": 15,
   "metadata": {},
   "outputs": [
    {
     "data": {
      "text/html": [
       "<div>\n",
       "<style scoped>\n",
       "    .dataframe tbody tr th:only-of-type {\n",
       "        vertical-align: middle;\n",
       "    }\n",
       "\n",
       "    .dataframe tbody tr th {\n",
       "        vertical-align: top;\n",
       "    }\n",
       "\n",
       "    .dataframe thead th {\n",
       "        text-align: right;\n",
       "    }\n",
       "</style>\n",
       "<table border=\"1\" class=\"dataframe\">\n",
       "  <thead>\n",
       "    <tr style=\"text-align: right;\">\n",
       "      <th></th>\n",
       "      <th>Time_since_ICU_admission</th>\n",
       "      <th>MAP</th>\n",
       "      <th>MAP_fillna</th>\n",
       "      <th>Lactate</th>\n",
       "      <th>Lactate_fillna</th>\n",
       "      <th>lactate_up</th>\n",
       "      <th>vasoactive/inotropic</th>\n",
       "      <th>Annotation</th>\n",
       "      <th>progress</th>\n",
       "      <th>Case</th>\n",
       "    </tr>\n",
       "  </thead>\n",
       "  <tbody>\n",
       "    <tr>\n",
       "      <th>724</th>\n",
       "      <td>40</td>\n",
       "      <td>91.666667</td>\n",
       "      <td>1</td>\n",
       "      <td>1.1</td>\n",
       "      <td>1</td>\n",
       "      <td>0.0</td>\n",
       "      <td>0</td>\n",
       "      <td>no_circ</td>\n",
       "      <td>0</td>\n",
       "      <td>1.0</td>\n",
       "    </tr>\n",
       "    <tr>\n",
       "      <th>725</th>\n",
       "      <td>41</td>\n",
       "      <td>91.666667</td>\n",
       "      <td>1</td>\n",
       "      <td>1.1</td>\n",
       "      <td>1</td>\n",
       "      <td>0.0</td>\n",
       "      <td>0</td>\n",
       "      <td>no_circ</td>\n",
       "      <td>0</td>\n",
       "      <td>1.0</td>\n",
       "    </tr>\n",
       "    <tr>\n",
       "      <th>726</th>\n",
       "      <td>42</td>\n",
       "      <td>91.666667</td>\n",
       "      <td>1</td>\n",
       "      <td>1.1</td>\n",
       "      <td>1</td>\n",
       "      <td>0.0</td>\n",
       "      <td>0</td>\n",
       "      <td>no_circ</td>\n",
       "      <td>0</td>\n",
       "      <td>1.0</td>\n",
       "    </tr>\n",
       "    <tr>\n",
       "      <th>727</th>\n",
       "      <td>43</td>\n",
       "      <td>91.666667</td>\n",
       "      <td>1</td>\n",
       "      <td>1.1</td>\n",
       "      <td>1</td>\n",
       "      <td>0.0</td>\n",
       "      <td>0</td>\n",
       "      <td>no_circ</td>\n",
       "      <td>0</td>\n",
       "      <td>1.0</td>\n",
       "    </tr>\n",
       "    <tr>\n",
       "      <th>728</th>\n",
       "      <td>44</td>\n",
       "      <td>91.666667</td>\n",
       "      <td>1</td>\n",
       "      <td>1.1</td>\n",
       "      <td>1</td>\n",
       "      <td>0.0</td>\n",
       "      <td>0</td>\n",
       "      <td>no_circ</td>\n",
       "      <td>0</td>\n",
       "      <td>2.0</td>\n",
       "    </tr>\n",
       "    <tr>\n",
       "      <th>729</th>\n",
       "      <td>45</td>\n",
       "      <td>91.666667</td>\n",
       "      <td>1</td>\n",
       "      <td>1.1</td>\n",
       "      <td>1</td>\n",
       "      <td>0.0</td>\n",
       "      <td>0</td>\n",
       "      <td>no_circ</td>\n",
       "      <td>0</td>\n",
       "      <td>2.0</td>\n",
       "    </tr>\n",
       "    <tr>\n",
       "      <th>730</th>\n",
       "      <td>46</td>\n",
       "      <td>91.666667</td>\n",
       "      <td>1</td>\n",
       "      <td>1.0</td>\n",
       "      <td>0</td>\n",
       "      <td>0.0</td>\n",
       "      <td>0</td>\n",
       "      <td>no_circ</td>\n",
       "      <td>0</td>\n",
       "      <td>2.0</td>\n",
       "    </tr>\n",
       "    <tr>\n",
       "      <th>731</th>\n",
       "      <td>47</td>\n",
       "      <td>91.666667</td>\n",
       "      <td>1</td>\n",
       "      <td>1.0</td>\n",
       "      <td>0</td>\n",
       "      <td>0.0</td>\n",
       "      <td>0</td>\n",
       "      <td>no_circ</td>\n",
       "      <td>0</td>\n",
       "      <td>2.0</td>\n",
       "    </tr>\n",
       "    <tr>\n",
       "      <th>732</th>\n",
       "      <td>48</td>\n",
       "      <td>91.666667</td>\n",
       "      <td>1</td>\n",
       "      <td>1.0</td>\n",
       "      <td>0</td>\n",
       "      <td>0.0</td>\n",
       "      <td>0</td>\n",
       "      <td>no_circ</td>\n",
       "      <td>0</td>\n",
       "      <td>2.0</td>\n",
       "    </tr>\n",
       "    <tr>\n",
       "      <th>733</th>\n",
       "      <td>49</td>\n",
       "      <td>91.666667</td>\n",
       "      <td>1</td>\n",
       "      <td>1.0</td>\n",
       "      <td>0</td>\n",
       "      <td>0.0</td>\n",
       "      <td>0</td>\n",
       "      <td>no_circ</td>\n",
       "      <td>0</td>\n",
       "      <td>2.0</td>\n",
       "    </tr>\n",
       "    <tr>\n",
       "      <th>734</th>\n",
       "      <td>50</td>\n",
       "      <td>71.666667</td>\n",
       "      <td>0</td>\n",
       "      <td>4.7</td>\n",
       "      <td>0</td>\n",
       "      <td>1.0</td>\n",
       "      <td>0</td>\n",
       "      <td>ambiguous</td>\n",
       "      <td>0</td>\n",
       "      <td>2.0</td>\n",
       "    </tr>\n",
       "    <tr>\n",
       "      <th>735</th>\n",
       "      <td>51</td>\n",
       "      <td>66.333333</td>\n",
       "      <td>0</td>\n",
       "      <td>4.7</td>\n",
       "      <td>0</td>\n",
       "      <td>1.0</td>\n",
       "      <td>1</td>\n",
       "      <td>ambiguous</td>\n",
       "      <td>0</td>\n",
       "      <td>2.0</td>\n",
       "    </tr>\n",
       "    <tr>\n",
       "      <th>736</th>\n",
       "      <td>52</td>\n",
       "      <td>59.777778</td>\n",
       "      <td>0</td>\n",
       "      <td>4.7</td>\n",
       "      <td>0</td>\n",
       "      <td>1.0</td>\n",
       "      <td>1</td>\n",
       "      <td>circ</td>\n",
       "      <td>0</td>\n",
       "      <td>event</td>\n",
       "    </tr>\n",
       "    <tr>\n",
       "      <th>533389</th>\n",
       "      <td>53</td>\n",
       "      <td>67.777778</td>\n",
       "      <td>0</td>\n",
       "      <td>4.2</td>\n",
       "      <td>0</td>\n",
       "      <td>1.0</td>\n",
       "      <td>1</td>\n",
       "      <td>circ</td>\n",
       "      <td>1</td>\n",
       "      <td>4.0</td>\n",
       "    </tr>\n",
       "    <tr>\n",
       "      <th>533390</th>\n",
       "      <td>54</td>\n",
       "      <td>78.444444</td>\n",
       "      <td>0</td>\n",
       "      <td>4.2</td>\n",
       "      <td>0</td>\n",
       "      <td>0.0</td>\n",
       "      <td>1</td>\n",
       "      <td>circ</td>\n",
       "      <td>1</td>\n",
       "      <td>4.0</td>\n",
       "    </tr>\n",
       "    <tr>\n",
       "      <th>533391</th>\n",
       "      <td>55</td>\n",
       "      <td>77.888889</td>\n",
       "      <td>0</td>\n",
       "      <td>4.2</td>\n",
       "      <td>0</td>\n",
       "      <td>0.0</td>\n",
       "      <td>1</td>\n",
       "      <td>circ</td>\n",
       "      <td>1</td>\n",
       "      <td>3.0</td>\n",
       "    </tr>\n",
       "    <tr>\n",
       "      <th>533392</th>\n",
       "      <td>56</td>\n",
       "      <td>78.000000</td>\n",
       "      <td>0</td>\n",
       "      <td>2.9</td>\n",
       "      <td>0</td>\n",
       "      <td>0.0</td>\n",
       "      <td>1</td>\n",
       "      <td>circ</td>\n",
       "      <td>2</td>\n",
       "      <td>3.0</td>\n",
       "    </tr>\n",
       "    <tr>\n",
       "      <th>533393</th>\n",
       "      <td>57</td>\n",
       "      <td>72.666667</td>\n",
       "      <td>0</td>\n",
       "      <td>2.9</td>\n",
       "      <td>0</td>\n",
       "      <td>0.0</td>\n",
       "      <td>1</td>\n",
       "      <td>circ</td>\n",
       "      <td>2</td>\n",
       "      <td>3.0</td>\n",
       "    </tr>\n",
       "    <tr>\n",
       "      <th>533394</th>\n",
       "      <td>58</td>\n",
       "      <td>81.333333</td>\n",
       "      <td>0</td>\n",
       "      <td>2.9</td>\n",
       "      <td>0</td>\n",
       "      <td>0.0</td>\n",
       "      <td>0</td>\n",
       "      <td>ambiguous</td>\n",
       "      <td>2</td>\n",
       "      <td>3.0</td>\n",
       "    </tr>\n",
       "    <tr>\n",
       "      <th>533395</th>\n",
       "      <td>59</td>\n",
       "      <td>81.333333</td>\n",
       "      <td>0</td>\n",
       "      <td>2.5</td>\n",
       "      <td>0</td>\n",
       "      <td>0.0</td>\n",
       "      <td>0</td>\n",
       "      <td>ambiguous</td>\n",
       "      <td>2</td>\n",
       "      <td>3.0</td>\n",
       "    </tr>\n",
       "  </tbody>\n",
       "</table>\n",
       "</div>"
      ],
      "text/plain": [
       "        Time_since_ICU_admission        MAP  MAP_fillna  Lactate  \\\n",
       "724                           40  91.666667           1      1.1   \n",
       "725                           41  91.666667           1      1.1   \n",
       "726                           42  91.666667           1      1.1   \n",
       "727                           43  91.666667           1      1.1   \n",
       "728                           44  91.666667           1      1.1   \n",
       "729                           45  91.666667           1      1.1   \n",
       "730                           46  91.666667           1      1.0   \n",
       "731                           47  91.666667           1      1.0   \n",
       "732                           48  91.666667           1      1.0   \n",
       "733                           49  91.666667           1      1.0   \n",
       "734                           50  71.666667           0      4.7   \n",
       "735                           51  66.333333           0      4.7   \n",
       "736                           52  59.777778           0      4.7   \n",
       "533389                        53  67.777778           0      4.2   \n",
       "533390                        54  78.444444           0      4.2   \n",
       "533391                        55  77.888889           0      4.2   \n",
       "533392                        56  78.000000           0      2.9   \n",
       "533393                        57  72.666667           0      2.9   \n",
       "533394                        58  81.333333           0      2.9   \n",
       "533395                        59  81.333333           0      2.5   \n",
       "\n",
       "        Lactate_fillna  lactate_up  vasoactive/inotropic Annotation  progress  \\\n",
       "724                  1         0.0                     0    no_circ         0   \n",
       "725                  1         0.0                     0    no_circ         0   \n",
       "726                  1         0.0                     0    no_circ         0   \n",
       "727                  1         0.0                     0    no_circ         0   \n",
       "728                  1         0.0                     0    no_circ         0   \n",
       "729                  1         0.0                     0    no_circ         0   \n",
       "730                  0         0.0                     0    no_circ         0   \n",
       "731                  0         0.0                     0    no_circ         0   \n",
       "732                  0         0.0                     0    no_circ         0   \n",
       "733                  0         0.0                     0    no_circ         0   \n",
       "734                  0         1.0                     0  ambiguous         0   \n",
       "735                  0         1.0                     1  ambiguous         0   \n",
       "736                  0         1.0                     1       circ         0   \n",
       "533389               0         1.0                     1       circ         1   \n",
       "533390               0         0.0                     1       circ         1   \n",
       "533391               0         0.0                     1       circ         1   \n",
       "533392               0         0.0                     1       circ         2   \n",
       "533393               0         0.0                     1       circ         2   \n",
       "533394               0         0.0                     0  ambiguous         2   \n",
       "533395               0         0.0                     0  ambiguous         2   \n",
       "\n",
       "         Case  \n",
       "724       1.0  \n",
       "725       1.0  \n",
       "726       1.0  \n",
       "727       1.0  \n",
       "728       2.0  \n",
       "729       2.0  \n",
       "730       2.0  \n",
       "731       2.0  \n",
       "732       2.0  \n",
       "733       2.0  \n",
       "734       2.0  \n",
       "735       2.0  \n",
       "736     event  \n",
       "533389    4.0  \n",
       "533390    4.0  \n",
       "533391    3.0  \n",
       "533392    3.0  \n",
       "533393    3.0  \n",
       "533394    3.0  \n",
       "533395    3.0  "
      ]
     },
     "execution_count": 15,
     "metadata": {},
     "output_type": "execute_result"
    }
   ],
   "source": [
    "mimic[mimic['stay_id']==mimic.stay_id.unique()[6]][['Time_since_ICU_admission', 'MAP', 'MAP_fillna', 'Lactate', 'Lactate_fillna', 'lactate_up', 'vasoactive/inotropic', 'Annotation', 'progress', 'Case']].iloc[40:60]"
   ]
  },
  {
   "cell_type": "code",
   "execution_count": 16,
   "metadata": {},
   "outputs": [
    {
     "data": {
      "text/plain": [
       "566610"
      ]
     },
     "execution_count": 16,
     "metadata": {},
     "output_type": "execute_result"
    }
   ],
   "source": [
    "len(mimic)"
   ]
  },
  {
   "cell_type": "code",
   "execution_count": 17,
   "metadata": {},
   "outputs": [
    {
     "data": {
      "text/plain": [
       "3291"
      ]
     },
     "execution_count": 17,
     "metadata": {},
     "output_type": "execute_result"
    }
   ],
   "source": [
    "mimic.stay_id.nunique()"
   ]
  },
  {
   "cell_type": "code",
   "execution_count": 18,
   "metadata": {},
   "outputs": [
    {
     "data": {
      "text/plain": [
       "3218"
      ]
     },
     "execution_count": 18,
     "metadata": {},
     "output_type": "execute_result"
    }
   ],
   "source": [
    "mimic.subject_id.nunique()"
   ]
  },
  {
   "cell_type": "code",
   "execution_count": null,
   "metadata": {},
   "outputs": [],
   "source": []
  },
  {
   "cell_type": "code",
   "execution_count": 19,
   "metadata": {},
   "outputs": [
    {
     "name": "stderr",
     "output_type": "stream",
     "text": [
      "C:\\Users\\DAHS\\AppData\\Local\\Temp\\ipykernel_44536\\3589023738.py:3: DtypeWarning: Columns (224) have mixed types. Specify dtype option on import or set low_memory=False.\n",
      "  eicu = pd.read_csv(eicu_data_dir, compression='gzip')\n"
     ]
    }
   ],
   "source": [
    "import pandas as pd\n",
    "eicu_data_dir = '/Users/DAHS/Desktop/ECP_CONT/ECP_SCL/Case Labeling/eicu_analysis.csv.gz'\n",
    "eicu = pd.read_csv(eicu_data_dir, compression='gzip')"
   ]
  },
  {
   "cell_type": "code",
   "execution_count": 21,
   "metadata": {},
   "outputs": [
    {
     "data": {
      "text/plain": [
       "5563"
      ]
     },
     "execution_count": 21,
     "metadata": {},
     "output_type": "execute_result"
    }
   ],
   "source": [
    "eicu.patientunitstayid.nunique()"
   ]
  },
  {
   "cell_type": "code",
   "execution_count": 22,
   "metadata": {},
   "outputs": [
    {
     "data": {
      "text/plain": [
       "5397"
      ]
     },
     "execution_count": 22,
     "metadata": {},
     "output_type": "execute_result"
    }
   ],
   "source": [
    "eicu.uniquepid.nunique()"
   ]
  },
  {
   "cell_type": "code",
   "execution_count": 23,
   "metadata": {},
   "outputs": [
    {
     "data": {
      "text/plain": [
       "958448"
      ]
     },
     "execution_count": 23,
     "metadata": {},
     "output_type": "execute_result"
    }
   ],
   "source": [
    "len(eicu)"
   ]
  },
  {
   "cell_type": "code",
   "execution_count": null,
   "metadata": {},
   "outputs": [],
   "source": []
  }
 ],
 "metadata": {
  "kernelspec": {
   "display_name": "DL",
   "language": "python",
   "name": "python3"
  },
  "language_info": {
   "codemirror_mode": {
    "name": "ipython",
    "version": 3
   },
   "file_extension": ".py",
   "mimetype": "text/x-python",
   "name": "python",
   "nbconvert_exporter": "python",
   "pygments_lexer": "ipython3",
   "version": "3.8.16"
  }
 },
 "nbformat": 4,
 "nbformat_minor": 5
}
