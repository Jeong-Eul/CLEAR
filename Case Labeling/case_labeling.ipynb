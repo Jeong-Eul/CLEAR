{
 "cells": [
  {
   "cell_type": "code",
   "execution_count": 7,
   "id": "253039e7",
   "metadata": {},
   "outputs": [
    {
     "name": "stderr",
     "output_type": "stream",
     "text": [
      "C:\\Users\\DAHS\\AppData\\Local\\Temp\\ipykernel_20588\\1818478163.py:6: DeprecationWarning: the imp module is deprecated in favour of importlib; see the module's documentation for alternative uses\n",
      "  from imp import reload\n"
     ]
    }
   ],
   "source": [
    "import time\n",
    "import numpy as np\n",
    "import pandas as pd\n",
    "\n",
    "import Case\n",
    "from imp import reload\n",
    "reload(Case)\n",
    "from tqdm import tqdm"
   ]
  },
  {
   "cell_type": "code",
   "execution_count": 8,
   "id": "0e32571c",
   "metadata": {},
   "outputs": [],
   "source": [
    "def number(df, mode):\n",
    "    \n",
    "    if mode == 'mimic':\n",
    "        print('number of subject :', len(df.drop_duplicates(subset=[\"subject_id\"])))\n",
    "        print('number of stay :', len(df.drop_duplicates(subset=[\"stay_id\"])))\n",
    "        \n",
    "    else:\n",
    "        print('number of subject :', len(df.drop_duplicates(subset=[\"uniquepid\"])))\n",
    "        print('number of stay :', len(df.drop_duplicates(subset=[\"patientunitstayid\"])))"
   ]
  },
  {
   "cell_type": "code",
   "execution_count": 31,
   "id": "e998c8af",
   "metadata": {},
   "outputs": [],
   "source": [
    "# mimic_path = '/Users/DAHS/Desktop/ECP_CONT/ECP_SCL/Case Labeling/MIMIC-IV.csv.gz'\n",
    "# eicu_path = '/Users/DAHS/Desktop/ECP_CONT/ECP_SCL/Case Labeling/eICU.csv.gz'\n",
    "\n",
    "# mimic = pd.read_csv(mimic_path, compression = 'gzip')\n",
    "# eicu = pd.read_csv(eicu_path, compression = 'gzip')"
   ]
  },
  {
   "cell_type": "code",
   "execution_count": 228,
   "id": "d5eeae32",
   "metadata": {},
   "outputs": [],
   "source": [
    "mimic_path = '/Users/DAHS/Desktop/ECP_CONT/ECP_SCL/Make Derived Variable/mimic_df_cp.csv.gz'\n",
    "mimic = pd.read_csv(mimic_path, compression = 'gzip')"
   ]
  },
  {
   "cell_type": "code",
   "execution_count": 235,
   "id": "7b244631",
   "metadata": {},
   "outputs": [],
   "source": [
    "eicu_path = '/Users/DAHS/Desktop/ECP_CONT/ECP_SCL/Make Derived Variable/eicu_df_cp.csv.gz'\n",
    "eicu = pd.read_csv(eicu_path, compression = 'gzip')"
   ]
  },
  {
   "cell_type": "code",
   "execution_count": 236,
   "id": "476471d7",
   "metadata": {},
   "outputs": [
    {
     "name": "stdout",
     "output_type": "stream",
     "text": [
      "number of subject : 15053\n",
      "number of stay : 16005\n",
      "number of subject : 13405\n",
      "number of stay : 14236\n"
     ]
    }
   ],
   "source": [
    "number(mimic, 'mimic')\n",
    "number(eicu, 'eicu')"
   ]
  },
  {
   "cell_type": "code",
   "execution_count": 237,
   "metadata": {},
   "outputs": [
    {
     "name": "stderr",
     "output_type": "stream",
     "text": [
      "100%|██████████| 16005/16005 [25:08<00:00, 10.61it/s]\n",
      "100%|██████████| 16005/16005 [1:54:45<00:00,  2.32it/s]  \n",
      "100%|██████████| 14236/14236 [27:18<00:00,  8.69it/s] \n",
      "100%|██████████| 14236/14236 [2:15:39<00:00,  1.75it/s]  \n"
     ]
    }
   ],
   "source": [
    "mimic_annoted = Case.annotation(mimic, 'mimic')\n",
    "mimic_annoted = mimic_annoted.reset_index(drop=True)\n",
    "\n",
    "analysis_cohort_for_mimic = []\n",
    "\n",
    "idx = mimic_annoted[(mimic_annoted['ABPd']==75.00)|(mimic_annoted['ABPs']==125.00)].index\n",
    "\n",
    "mimic_annoted['MAP_fillna'].loc[idx]=1\n",
    "mimic_annoted['ABPd_fillna'].loc[idx]=1\n",
    "mimic_annoted['ABPs_fillna'].loc[idx]=1\n",
    "\n",
    "lactic_idx = mimic_annoted[mimic_annoted['Lactate']==1.1].index\n",
    "mimic_annoted['Lactate_fillna'].loc[lactic_idx]=1\n",
    "mimic_labeled = Case.optimized_shock_labeler(mimic_annoted, 'mimic')\n",
    "\n",
    "\n",
    "eicu_annoted = Case.annotation(eicu, 'eicu')\n",
    "eicu_annoted = eicu_annoted.reset_index(drop=True)\n",
    "\n",
    "analysis_cohort_for_eicu = []\n",
    "\n",
    "idx = eicu_annoted[(eicu_annoted['ABPd']==75.00)|(eicu_annoted['ABPs']==125.00)].index\n",
    "\n",
    "eicu_annoted['MAP_fillna'].loc[idx]=1\n",
    "eicu_annoted['ABPd_fillna'].loc[idx]=1\n",
    "eicu_annoted['ABPs_fillna'].loc[idx]=1\n",
    "\n",
    "lactic_idx = eicu_annoted[eicu_annoted['Lactate']==1.1].index\n",
    "eicu_annoted['Lactate_fillna'].loc[lactic_idx]=1\n",
    "eicu_labeled = Case.optimized_shock_labeler(eicu_annoted, 'eicu')"
   ]
  },
  {
   "cell_type": "code",
   "execution_count": 238,
   "id": "3db7621e",
   "metadata": {},
   "outputs": [],
   "source": [
    "mimic_labeled.to_csv('check_point_mimic_labeled_adding_constraint(0312).csv.gz', compression = 'gzip', index=False)\n",
    "eicu_labeled.to_csv('check_point_eicu_labeled_adding_constraint(0312).csv.gz', compression = 'gzip', index=False)"
   ]
  },
  {
   "cell_type": "code",
   "execution_count": 9,
   "id": "6f644f93",
   "metadata": {},
   "outputs": [],
   "source": [
    "import pandas as pd\n",
    "import numpy as np\n",
    "\n",
    "# mimic_labeled = pd.read_csv('check_point_mimic_labeled.csv.gz', compression = 'gzip')\n",
    "# eicu_labeled = pd.read_csv('check_point_eicu_labeled.csv.gz', compression = 'gzip')\n",
    "\n",
    "mimic_labeled = pd.read_csv('check_point_mimic_labeled_adding_constraint(0312).csv.gz', compression = 'gzip')\n",
    "eicu_labeled = pd.read_csv('check_point_eicu_labeled_adding_constraint(0312).csv.gz', compression = 'gzip')"
   ]
  },
  {
   "cell_type": "code",
   "execution_count": 10,
   "id": "d4c8679c",
   "metadata": {},
   "outputs": [],
   "source": [
    "mimic_labeled['PaO2/FiO2'] = mimic_labeled['PaO2'] / ((mimic_labeled['FIO2 (%)']+ 0.00000001)/100)\n",
    "eicu_labeled['PaO2/FiO2'] = eicu_labeled['PaO2'] / ((eicu_labeled['FIO2 (%)'] + 0.00000001)/100)"
   ]
  },
  {
   "cell_type": "code",
   "execution_count": 11,
   "id": "5c8a4663",
   "metadata": {},
   "outputs": [
    {
     "name": "stdout",
     "output_type": "stream",
     "text": [
      "number of subject : 15053\n",
      "number of stay : 16005\n",
      "number of subject : 13405\n",
      "number of stay : 14236\n"
     ]
    }
   ],
   "source": [
    "number(mimic_labeled, 'mimic')\n",
    "number(eicu_labeled, 'eicu')"
   ]
  },
  {
   "cell_type": "code",
   "execution_count": 12,
   "id": "87b8f009",
   "metadata": {},
   "outputs": [],
   "source": [
    "import Case\n",
    "from imp import reload\n",
    "reload(Case)\n",
    "from tqdm import tqdm"
   ]
  },
  {
   "cell_type": "code",
   "execution_count": 13,
   "id": "c856e550",
   "metadata": {},
   "outputs": [],
   "source": [
    "invalid_columns_mimic, _ = Case.find_invalid_columns(mimic_labeled)\n",
    "invalid_columns_eicu, _ = Case.find_invalid_columns(eicu_labeled)\n",
    "\n",
    "m_labeled = Case.replace_inf_with_previous(mimic_labeled, invalid_columns_mimic)\n",
    "e_labeled = Case.replace_inf_with_previous(eicu_labeled, invalid_columns_eicu)"
   ]
  },
  {
   "cell_type": "code",
   "execution_count": 14,
   "id": "3c6d56c8",
   "metadata": {},
   "outputs": [
    {
     "name": "stdout",
     "output_type": "stream",
     "text": [
      "number of subject : 15053\n",
      "number of stay : 16005\n",
      "number of subject : 13405\n",
      "number of stay : 14236\n"
     ]
    }
   ],
   "source": [
    "number(m_labeled, 'mimic')\n",
    "number(e_labeled, 'eicu')"
   ]
  },
  {
   "cell_type": "code",
   "execution_count": 20,
   "id": "272c6f6d",
   "metadata": {},
   "outputs": [
    {
     "name": "stdout",
     "output_type": "stream",
     "text": [
      "number of subject : 14818\n",
      "number of stay : 15759\n"
     ]
    }
   ],
   "source": [
    "case1_stay_ids = []\n",
    "for stay_id, group in m_labeled.groupby('stay_id'):\n",
    "    if all(group['Annotation'] == 'circ') | all(group['Annotation'] == 'ambiguous'):\n",
    "        case1_stay_ids.append(stay_id)\n",
    "test_m = m_labeled[~(m_labeled['stay_id'].isin(case1_stay_ids))].reset_index(drop=True)\n",
    "\n",
    "number(test_m, 'mimic')"
   ]
  },
  {
   "cell_type": "code",
   "execution_count": 23,
   "id": "ad2fbe06",
   "metadata": {},
   "outputs": [
    {
     "name": "stdout",
     "output_type": "stream",
     "text": [
      "number of subject : 13169\n",
      "number of stay : 13975\n"
     ]
    }
   ],
   "source": [
    "case1_stay_ids = []\n",
    "for stay_id, group in e_labeled.groupby('patientunitstayid'):\n",
    "    if all(group['Annotation'] == 'circ') | all(group['Annotation'] == 'ambiguous'):\n",
    "        case1_stay_ids.append(stay_id)\n",
    "test_e = e_labeled[~(e_labeled['patientunitstayid'].isin(case1_stay_ids))].reset_index(drop=True)\n",
    "\n",
    "number(test_e, 'eicu')"
   ]
  },
  {
   "cell_type": "code",
   "execution_count": 15,
   "id": "f9c8372a",
   "metadata": {},
   "outputs": [
    {
     "name": "stdout",
     "output_type": "stream",
     "text": [
      "|Start MIMIC-IV process|\n",
      "number of subject : 6853\n",
      "number of stay : 7097\n",
      "Extract Case 1, Case 2\n"
     ]
    },
    {
     "name": "stderr",
     "output_type": "stream",
     "text": [
      "100%|██████████| 7094/7094 [00:04<00:00, 1681.30it/s]\n"
     ]
    },
    {
     "name": "stdout",
     "output_type": "stream",
     "text": [
      "--------------\n",
      "Extract Case 3, Case 4\n"
     ]
    },
    {
     "name": "stderr",
     "output_type": "stream",
     "text": [
      "100%|██████████| 7093/7093 [00:03<00:00, 1893.72it/s]\n",
      "100%|██████████| 7093/7093 [00:37<00:00, 191.06it/s]\n",
      "100%|██████████| 7093/7093 [00:46<00:00, 153.39it/s]\n"
     ]
    },
    {
     "name": "stdout",
     "output_type": "stream",
     "text": [
      "|Start eICU-CRD process|\n",
      "number of subject : 4090\n",
      "number of stay : 4177\n",
      "Extract Case 1, Case 2\n"
     ]
    },
    {
     "name": "stderr",
     "output_type": "stream",
     "text": [
      "100%|██████████| 4140/4140 [00:02<00:00, 1402.29it/s]\n"
     ]
    },
    {
     "name": "stdout",
     "output_type": "stream",
     "text": [
      "--------------\n",
      "Extract Case 3, Case 4\n"
     ]
    },
    {
     "name": "stderr",
     "output_type": "stream",
     "text": [
      "100%|██████████| 4172/4172 [00:01<00:00, 2269.73it/s]\n",
      "100%|██████████| 4172/4172 [00:08<00:00, 511.64it/s]\n",
      "100%|██████████| 4172/4172 [00:10<00:00, 391.58it/s]\n"
     ]
    }
   ],
   "source": [
    "reload(Case)\n",
    "m_case1_case2, m_case3_case4 = Case.Case_definetion(m_labeled, 'mimic')\n",
    "e_case1_case2, e_case3_case4 = Case.Case_definetion(e_labeled, 'eicu')"
   ]
  },
  {
   "cell_type": "code",
   "execution_count": 16,
   "id": "8c125b6b",
   "metadata": {},
   "outputs": [
    {
     "name": "stdout",
     "output_type": "stream",
     "text": [
      "number of subject : 6853\n",
      "number of stay : 7097\n",
      "number of subject : 4090\n",
      "number of stay : 4177\n"
     ]
    }
   ],
   "source": [
    "number(pd.concat([m_case1_case2, m_case3_case4], axis = 0), 'mimic')\n",
    "number(pd.concat([e_case1_case2, e_case3_case4], axis = 0), 'eicu')"
   ]
  },
  {
   "cell_type": "code",
   "execution_count": 17,
   "id": "9301a04b",
   "metadata": {},
   "outputs": [],
   "source": [
    "m_case1_case2['INDEX'] = 'CASE1_CASE2_DF'\n",
    "m_case3_case4['INDEX'] = 'CASE3_CASE4_DF'\n",
    "\n",
    "e_case1_case2['INDEX'] = 'CASE1_CASE2_DF'\n",
    "e_case3_case4['INDEX'] = 'CASE3_CASE4_DF'"
   ]
  },
  {
   "cell_type": "code",
   "execution_count": 249,
   "id": "9ac2d158",
   "metadata": {},
   "outputs": [
    {
     "name": "stdout",
     "output_type": "stream",
     "text": [
      "|Start MIMIC-IV process|\n",
      "event가 있는 코호트 수:\n",
      "number of subject : 6850\n",
      "number of stay : 7094\n",
      "135163\n",
      "number of subject : 5111\n",
      "number of stay : 5213\n"
     ]
    }
   ],
   "source": [
    "mode = 'mimic'\n",
    "if mode == 'mimic':\n",
    "        print('|Start MIMIC-IV process|')\n",
    "        stay_id_id = 'stay_id'\n",
    "elif mode == 'eicu':\n",
    "    print('|Start eICU-CRD process|')\n",
    "    stay_id_id = 'patientunitstayid'\n",
    "\n",
    "# event 발생 전, ABPd, ABPs를 1번이라도 측정하지 않은 경우 + event set 만 포함\n",
    "mimic_event = m_case1_case2[m_case1_case2['Case']=='event']\n",
    "drop_stay = []\n",
    "print('event가 있는 코호트 수:')\n",
    "number(mimic_event, 'mimic') \n",
    "for stay in mimic_event[stay_id_id].unique():\n",
    "    view = m_case1_case2[m_case1_case2[stay_id_id]==stay]\n",
    "    view = view[~(view['Case']=='event')]\n",
    "    if all(view['ABPd_fillna']==1) | all(view['ABPs_fillna']==1) | all(view['Lactate_fillna']==1):\n",
    "        drop_stay.append(stay)\n",
    "\n",
    "filtered = m_case1_case2[~(m_case1_case2['stay_id'].isin(drop_stay))]\n",
    "target_m_case1_case2 = filtered[filtered.stay_id.isin(mimic_event[stay_id_id].unique())]\n",
    "print(len(target_m_case1_case2))\n",
    "number(target_m_case1_case2, 'mimic') "
   ]
  },
  {
   "cell_type": "code",
   "execution_count": 32,
   "id": "1a278947",
   "metadata": {},
   "outputs": [
    {
     "data": {
      "text/plain": [
       "15200"
      ]
     },
     "execution_count": 32,
     "metadata": {},
     "output_type": "execute_result"
    }
   ],
   "source": [
    "13975 - - 1225"
   ]
  },
  {
   "cell_type": "code",
   "execution_count": 26,
   "id": "8d3e1467",
   "metadata": {},
   "outputs": [
    {
     "data": {
      "text/plain": [
       "1183"
      ]
     },
     "execution_count": 26,
     "metadata": {},
     "output_type": "execute_result"
    }
   ],
   "source": [
    "4056 - 2873"
   ]
  },
  {
   "cell_type": "code",
   "execution_count": 18,
   "id": "f26fb7b2",
   "metadata": {},
   "outputs": [
    {
     "name": "stdout",
     "output_type": "stream",
     "text": [
      "|Start eICU-CRD process|\n",
      "event가 있는 코호트 수: 4140\n",
      "number of subject : 4056\n",
      "number of stay : 4140\n",
      "153165\n",
      "number of subject : 2873\n",
      "number of stay : 2915\n"
     ]
    }
   ],
   "source": [
    "mode = 'eicu'\n",
    "if mode == 'mimic':\n",
    "        print('|Start MIMIC-IV process|')\n",
    "        stay_id_id = 'stay_id'\n",
    "elif mode == 'eicu':\n",
    "    print('|Start eICU-CRD process|')\n",
    "    stay_id_id = 'patientunitstayid'\n",
    "\n",
    "# event 발생 전, ABPd, ABPs를 1번이라도 측정하지 않은 경우 + event set 만 포함\n",
    "eicu_event = e_case1_case2[e_case1_case2['Case']=='event']\n",
    "drop_stay = []\n",
    "print('event가 있는 코호트 수:', len(eicu_event[stay_id_id].unique()))\n",
    "number(eicu_event, 'eicu') \n",
    "for stay in eicu_event[stay_id_id].unique():\n",
    "    view = e_case1_case2[e_case1_case2[stay_id_id]==stay]\n",
    "    view = view[~(view['Case']=='event')]\n",
    "    if all(view['ABPd_fillna']==1) | all(view['ABPs_fillna']==1) | all(view['Lactate_fillna']==1):\n",
    "        drop_stay.append(stay)\n",
    "\n",
    "filtered = e_case1_case2[~(e_case1_case2[stay_id_id].isin(drop_stay))]\n",
    "target_e_case1_case2 = filtered[filtered[stay_id_id].isin(eicu_event[stay_id_id].unique())]\n",
    "print(len(target_e_case1_case2))\n",
    "number(target_e_case1_case2, 'eicu')"
   ]
  },
  {
   "cell_type": "code",
   "execution_count": 251,
   "id": "973fd0db",
   "metadata": {},
   "outputs": [
    {
     "name": "stdout",
     "output_type": "stream",
     "text": [
      "number of subject : 5111\n",
      "number of stay : 5213\n",
      "number of subject : 2873\n",
      "number of stay : 2915\n"
     ]
    }
   ],
   "source": [
    "mimic_analysis = pd.concat([target_m_case1_case2, m_case3_case4[m_case3_case4.stay_id.isin(target_m_case1_case2.stay_id.unique())]], axis = 0).reset_index(drop=True)\n",
    "eicu_analysis = pd.concat([target_e_case1_case2, e_case3_case4[e_case3_case4.patientunitstayid.isin(target_e_case1_case2.patientunitstayid.unique())]], axis = 0).reset_index(drop=True)\n",
    "\n",
    "number(mimic_analysis, 'mimic')\n",
    "\n",
    "number(eicu_analysis, 'eicu')\n",
    "\n",
    "mimic_ethnicity = {'AMERICAN INDIAN/ALASKA NATIVE': 0, 'ASIAN': 1,\n",
    " 'ASIAN - ASIAN INDIAN': 2, 'ASIAN - CHINESE': 3,\n",
    " 'ASIAN - KOREAN': 4, 'ASIAN - SOUTH EAST ASIAN': 5,\n",
    " 'BLACK/AFRICAN': 6, 'BLACK/AFRICAN AMERICAN': 7,\n",
    " 'BLACK/CAPE VERDEAN': 8, 'BLACK/CARIBBEAN ISLAND': 9,\n",
    " 'HISPANIC OR LATINO': 10, 'HISPANIC/LATINO - CENTRAL AMERICAN': 11,\n",
    " 'HISPANIC/LATINO - COLUMBIAN': 12, 'HISPANIC/LATINO - CUBAN': 13,\n",
    " 'HISPANIC/LATINO - DOMINICAN': 14, 'HISPANIC/LATINO - GUATEMALAN': 15,\n",
    " 'HISPANIC/LATINO - HONDURAN': 16, 'HISPANIC/LATINO - MEXICAN': 17,\n",
    " 'HISPANIC/LATINO - PUERTO RICAN': 18, 'HISPANIC/LATINO - SALVADORAN': 19, \n",
    " 'MULTIPLE RACE/ETHNICITY': 20, 'NATIVE HAWAIIAN OR OTHER PACIFIC ISLANDER': 21, \n",
    " 'OTHER': 22, 'PATIENT DECLINED TO ANSWER': 23, 'PORTUGUESE': 24, 'SOUTH AMERICAN': 25,\n",
    " 'UNABLE TO OBTAIN': 26, 'UNKNOWN': 27, 'WHITE': 28, 'WHITE - BRAZILIAN': 29,\n",
    " 'WHITE - EASTERN EUROPEAN': 30, 'WHITE - OTHER EUROPEAN': 31, 'WHITE - RUSSIAN': 32}\n",
    "\n",
    "eicu_ethnicity = {'0': 0, 'African American': 1, 'Asian': 2, \n",
    "                  'Caucasian': 3, 'Hispanic': 4, 'Native American': 5, 'Other/Unknown': 6}\n",
    "\n",
    "new_mimic_ethnicity = {v:k for k,v in mimic_ethnicity.items()}\n",
    "new_eicu_ethnicity = {v:k for k,v in eicu_ethnicity.items()}\n",
    "\n",
    "mimic_analysis['ethnicity'] = mimic_analysis['ethnicity'].map(new_mimic_ethnicity)\n",
    "eicu_analysis['ethnicity'] = eicu_analysis['ethnicity'].map(new_eicu_ethnicity)\n",
    "\n",
    "A = {'AMERICAN INDIAN/ALASKA NATIVE': 1, 'ASIAN': 2, 'ASIAN - ASIAN INDIAN': 2, \n",
    " 'ASIAN - CHINESE': 2, 'ASIAN - KOREAN': 2, 'ASIAN - SOUTH EAST ASIAN': 2, \n",
    " 'BLACK/AFRICAN': 5, 'BLACK/AFRICAN AMERICAN': 5, 'BLACK/CAPE VERDEAN': 6, \n",
    " 'BLACK/CARIBBEAN ISLAND': 6, 'HISPANIC OR LATINO': 4, 'HISPANIC/LATINO - CENTRAL AMERICAN': 4, \n",
    " 'HISPANIC/LATINO - COLUMBIAN': 4, 'HISPANIC/LATINO - CUBAN': 4, 'HISPANIC/LATINO - DOMINICAN': 4, \n",
    " 'HISPANIC/LATINO - GUATEMALAN': 4, 'HISPANIC/LATINO - HONDURAN': 4, 'HISPANIC/LATINO - MEXICAN': 4, \n",
    " 'HISPANIC/LATINO - PUERTO RICAN': 4, 'HISPANIC/LATINO - SALVADORAN': 4, 'MULTIPLE RACE/ETHNICITY': 6, \n",
    " 'NATIVE HAWAIIAN OR OTHER PACIFIC ISLANDER': 6, 'OTHER': 6, 'PATIENT DECLINED TO ANSWER': 6, 'PORTUGUESE': 4, \n",
    " 'SOUTH AMERICAN': 5, 'UNABLE TO OBTAIN': 6, 'UNKNOWN': 6, 'WHITE': 3, 'WHITE - BRAZILIAN': 3, \n",
    " 'WHITE - EASTERN EUROPEAN': 3, 'WHITE - OTHER EUROPEAN': 3, 'WHITE - RUSSIAN': 3}\n",
    "\n",
    "B = {'0': 6, 'African American': 1, 'Asian': 2, 'Caucasian': 3, 'Hispanic': 4, 'Native American': 5, 'Other/Unknown': 6}\n",
    "\n",
    "\n",
    "mimic_analysis['ethnicity'] = mimic_analysis['ethnicity'].map(A)\n",
    "eicu_analysis['ethnicity'] = eicu_analysis['ethnicity'].map(B)"
   ]
  },
  {
   "cell_type": "code",
   "execution_count": 252,
   "id": "22158ed9",
   "metadata": {},
   "outputs": [],
   "source": [
    "mimic_analysis['over_lactic'] = (mimic_analysis['Lactate'] >= 2).astype(int)\n",
    "eicu_analysis['over_lactic'] = (eicu_analysis['Lactate'] >= 2).astype(int)"
   ]
  },
  {
   "cell_type": "code",
   "execution_count": 254,
   "id": "b434d953",
   "metadata": {},
   "outputs": [],
   "source": [
    "mimic_result  = pd.DataFrame()\n",
    "\n",
    "for stay in mimic_analysis['stay_id'].unique():\n",
    "    view = mimic_analysis[mimic_analysis['stay_id']==stay]\n",
    "\n",
    "    view.set_index('Time_since_ICU_admission', inplace=True)\n",
    "    view['MAP_3hr_avg'] = view['MAP'].rolling(window=4, min_periods=1).mean().shift(1) \n",
    "\n",
    "    view['MAP_increase'] = (view['MAP'] > view['MAP_3hr_avg']).astype(int)\n",
    "    view['MAP_decrease'] = (view['MAP'] < view['MAP_3hr_avg']).astype(int)\n",
    "    view = view.reset_index()\n",
    "\n",
    "    view = view.fillna(0)\n",
    "    \n",
    "    mimic_result = pd.concat([mimic_result, view], axis = 0)"
   ]
  },
  {
   "cell_type": "code",
   "execution_count": 268,
   "id": "e0f1b66d",
   "metadata": {},
   "outputs": [],
   "source": [
    "eicu_result  = pd.DataFrame()\n",
    "\n",
    "for stay in eicu_analysis['patientunitstayid'].unique():\n",
    "    view = eicu_analysis[eicu_analysis['patientunitstayid']==stay]\n",
    "\n",
    "    view.set_index('Time_since_ICU_admission', inplace=True)\n",
    "    view['MAP_3hr_avg'] = view['MAP'].rolling(window=4, min_periods=1).mean().shift(1) \n",
    "\n",
    "    view['MAP_increase'] = (view['MAP'] > view['MAP_3hr_avg']).astype(int)\n",
    "    view['MAP_decrease'] = (view['MAP'] < view['MAP_3hr_avg']).astype(int)\n",
    "    view = view.reset_index()\n",
    "\n",
    "    view = view.fillna(0)\n",
    "    \n",
    "    eicu_result = pd.concat([eicu_result, view], axis = 0)"
   ]
  },
  {
   "cell_type": "code",
   "execution_count": 354,
   "id": "f518c0dc",
   "metadata": {},
   "outputs": [
    {
     "name": "stderr",
     "output_type": "stream",
     "text": [
      "100%|██████████| 5213/5213 [00:14<00:00, 350.47it/s]\n",
      "100%|██████████| 2915/2915 [00:08<00:00, 338.83it/s]\n"
     ]
    }
   ],
   "source": [
    "def Lactate_up(df, mode = 'mimic'):\n",
    "    data = df.copy().reset_index(drop=True)\n",
    "    data['lactate_up'] = 0\n",
    "    if mode == 'mimic':\n",
    "        stay_id_id = 'stay_id'\n",
    "    else:\n",
    "        stay_id_id = 'patientunitstayid'\n",
    "    \n",
    "    for stay in tqdm(data[stay_id_id].unique()):\n",
    "        interest = data[data[stay_id_id]==stay].sort_values(by='Time_since_ICU_admission')\n",
    "        idx = interest.index\n",
    "        interest.set_index('Time_since_ICU_admission', inplace=True)\n",
    "        interest['Lactate_3hr_avg'] = interest['Lactate'].rolling(window=3, min_periods=1).mean().shift(1) \n",
    "\n",
    "        interest['lactate_up'] = (interest['Lactate'] > interest['Lactate_3hr_avg']).astype(int)\n",
    "        interest['Lactate_down'] = (interest['Lactate'] < interest['Lactate_3hr_avg']).astype(int)\n",
    "        interest = interest.reset_index()\n",
    "        interest = interest.fillna(0)\n",
    "               \n",
    "        \n",
    "        data.loc[idx, 'lactate_up'] = interest['lactate_up'].values\n",
    "        data.loc[idx, 'lactate_down'] = interest['Lactate_down'].values\n",
    "    return data\n",
    "\n",
    "mimic_result_lac = Lactate_up(mimic_result, 'mimic')\n",
    "eicu_result_lac = Lactate_up(eicu_result, 'eicu')"
   ]
  },
  {
   "cell_type": "code",
   "execution_count": 363,
   "id": "5e37fc28",
   "metadata": {},
   "outputs": [
    {
     "name": "stderr",
     "output_type": "stream",
     "text": [
      "100%|██████████| 5213/5213 [00:12<00:00, 415.72it/s]\n",
      "100%|██████████| 2915/2915 [00:09<00:00, 308.46it/s]\n"
     ]
    }
   ],
   "source": [
    "def recov_Annotation(data, mode):\n",
    "    targ = data.copy()\n",
    "    # targ['progress'] = 0\n",
    "    \n",
    "    if mode == 'mimic':\n",
    "        stay_id_id = 'stay_id'\n",
    "    else:\n",
    "        stay_id_id = 'patientunitstayid'\n",
    "    \n",
    "    \n",
    "    for stay_trajectory in tqdm(targ[stay_id_id].unique()):\n",
    "        interest = targ[targ[stay_id_id] == stay_trajectory]\n",
    "        \n",
    "        for idx, row in interest.iterrows():\n",
    "            if row['INDEX']!='CASE1_CASE2_DF':\n",
    "                recover_cond = (row['MAP_3hr_avg'] >= 65.0) & ((row['Lactate'] <= 2) | (row['lactate_down']==1)) \n",
    "                \n",
    "                if recover_cond:\n",
    "                    targ.at[idx, 'after_shock_annotation'] = 'recov'\n",
    "                else:\n",
    "                    targ.at[idx, 'after_shock_annotation'] = 'not_recov'\n",
    "            else:\n",
    "                targ.at[idx, 'after_shock_annotation'] = 'before_experience_shock'\n",
    "\n",
    "    return targ\n",
    "\n",
    "mimic_result_lac_3_4 = recov_Annotation(mimic_result_lac, 'mimic')\n",
    "eicu_result_lac_3_4 = recov_Annotation(eicu_result_lac, 'eicu')"
   ]
  },
  {
   "cell_type": "code",
   "execution_count": 404,
   "id": "eaa75ff1",
   "metadata": {},
   "outputs": [
    {
     "name": "stderr",
     "output_type": "stream",
     "text": [
      "100%|██████████| 5213/5213 [02:52<00:00, 30.17it/s]\n",
      "100%|██████████| 2915/2915 [01:12<00:00, 39.96it/s]\n"
     ]
    }
   ],
   "source": [
    "def Case3_Case4_labeler(parts, mode):\n",
    "    targ = parts.copy().reset_index(drop=True)\n",
    "    if mode == 'mimic':\n",
    "        stay_id_id = 'stay_id'\n",
    "    else:\n",
    "        stay_id_id = 'patientunitstayid'\n",
    "    for stayid in tqdm(targ[stay_id_id].unique()):\n",
    "        interest = targ[targ[stay_id_id]==stayid]\n",
    "        interest['endpoint_window'] = interest['Time_since_ICU_admission'] + 1\n",
    "        \n",
    "        for idx, row in interest.iterrows():\n",
    "            if row['INDEX']!='CASE1_CASE2_DF':\n",
    "                current_time = row['Time_since_ICU_admission']\n",
    "                endpoint_window = row['endpoint_window']\n",
    "\n",
    "                future_rows = interest[(interest['Time_since_ICU_admission'] > current_time) & (interest['Time_since_ICU_admission'] <= endpoint_window)]\n",
    "\n",
    "                if any(future_rows['after_shock_annotation'] == 'not_recov'):\n",
    "                    targ.loc[idx, 'Case'] = 4\n",
    "                else:\n",
    "                    targ.loc[idx, 'Case'] = 3\n",
    "\n",
    "    return targ.reset_index(drop=True)\n",
    "\n",
    "m_modified = Case3_Case4_labeler(mimic_result_lac_3_4, 'mimic')\n",
    "e_modified = Case3_Case4_labeler(eicu_result_lac_3_4, 'eicu')"
   ]
  },
  {
   "cell_type": "code",
   "execution_count": 405,
   "id": "20e07f7d",
   "metadata": {},
   "outputs": [],
   "source": [
    "interest = m_modified[m_modified['stay_id']==m_modified.stay_id.unique()[24]][['stay_id','Time_since_ICU_admission','MAP', 'MAP_3hr_avg', 'MAP_increase', 'MAP_decrease','Lactate', 'lactate_up', 'lactate_down', 'over_lactic', 'vasoactive/inotropic', 'Annotation', 'progress','after_shock_annotation','Case']]"
   ]
  },
  {
   "cell_type": "code",
   "execution_count": 406,
   "id": "46cb7e23",
   "metadata": {},
   "outputs": [
    {
     "data": {
      "text/html": [
       "<div>\n",
       "<style scoped>\n",
       "    .dataframe tbody tr th:only-of-type {\n",
       "        vertical-align: middle;\n",
       "    }\n",
       "\n",
       "    .dataframe tbody tr th {\n",
       "        vertical-align: top;\n",
       "    }\n",
       "\n",
       "    .dataframe thead th {\n",
       "        text-align: right;\n",
       "    }\n",
       "</style>\n",
       "<table border=\"1\" class=\"dataframe\">\n",
       "  <thead>\n",
       "    <tr style=\"text-align: right;\">\n",
       "      <th></th>\n",
       "      <th>stay_id</th>\n",
       "      <th>Time_since_ICU_admission</th>\n",
       "      <th>MAP</th>\n",
       "      <th>MAP_3hr_avg</th>\n",
       "      <th>MAP_increase</th>\n",
       "      <th>MAP_decrease</th>\n",
       "      <th>Lactate</th>\n",
       "      <th>lactate_up</th>\n",
       "      <th>lactate_down</th>\n",
       "      <th>over_lactic</th>\n",
       "      <th>vasoactive/inotropic</th>\n",
       "      <th>Annotation</th>\n",
       "      <th>progress</th>\n",
       "      <th>after_shock_annotation</th>\n",
       "      <th>Case</th>\n",
       "    </tr>\n",
       "  </thead>\n",
       "  <tbody>\n",
       "    <tr>\n",
       "      <th>1068</th>\n",
       "      <td>36405440</td>\n",
       "      <td>0</td>\n",
       "      <td>91.666667</td>\n",
       "      <td>0.000000</td>\n",
       "      <td>0</td>\n",
       "      <td>0</td>\n",
       "      <td>1.1</td>\n",
       "      <td>0</td>\n",
       "      <td>0.0</td>\n",
       "      <td>0</td>\n",
       "      <td>0</td>\n",
       "      <td>no_circ</td>\n",
       "      <td>0</td>\n",
       "      <td>before_experience_shock</td>\n",
       "      <td>2.0</td>\n",
       "    </tr>\n",
       "    <tr>\n",
       "      <th>1069</th>\n",
       "      <td>36405440</td>\n",
       "      <td>1</td>\n",
       "      <td>91.666667</td>\n",
       "      <td>91.666667</td>\n",
       "      <td>0</td>\n",
       "      <td>0</td>\n",
       "      <td>1.1</td>\n",
       "      <td>0</td>\n",
       "      <td>0.0</td>\n",
       "      <td>0</td>\n",
       "      <td>0</td>\n",
       "      <td>no_circ</td>\n",
       "      <td>0</td>\n",
       "      <td>before_experience_shock</td>\n",
       "      <td>2.0</td>\n",
       "    </tr>\n",
       "    <tr>\n",
       "      <th>1070</th>\n",
       "      <td>36405440</td>\n",
       "      <td>2</td>\n",
       "      <td>69.166667</td>\n",
       "      <td>91.666667</td>\n",
       "      <td>0</td>\n",
       "      <td>1</td>\n",
       "      <td>3.4</td>\n",
       "      <td>1</td>\n",
       "      <td>0.0</td>\n",
       "      <td>1</td>\n",
       "      <td>1</td>\n",
       "      <td>ambiguous</td>\n",
       "      <td>0</td>\n",
       "      <td>before_experience_shock</td>\n",
       "      <td>2.0</td>\n",
       "    </tr>\n",
       "    <tr>\n",
       "      <th>1071</th>\n",
       "      <td>36405440</td>\n",
       "      <td>3</td>\n",
       "      <td>71.666667</td>\n",
       "      <td>84.166667</td>\n",
       "      <td>0</td>\n",
       "      <td>1</td>\n",
       "      <td>3.4</td>\n",
       "      <td>1</td>\n",
       "      <td>0.0</td>\n",
       "      <td>1</td>\n",
       "      <td>1</td>\n",
       "      <td>circ</td>\n",
       "      <td>0</td>\n",
       "      <td>before_experience_shock</td>\n",
       "      <td>event</td>\n",
       "    </tr>\n",
       "    <tr>\n",
       "      <th>1072</th>\n",
       "      <td>36405440</td>\n",
       "      <td>3</td>\n",
       "      <td>71.666667</td>\n",
       "      <td>81.041667</td>\n",
       "      <td>0</td>\n",
       "      <td>1</td>\n",
       "      <td>3.4</td>\n",
       "      <td>1</td>\n",
       "      <td>0.0</td>\n",
       "      <td>1</td>\n",
       "      <td>1</td>\n",
       "      <td>circ</td>\n",
       "      <td>1</td>\n",
       "      <td>not_recov</td>\n",
       "      <td>4</td>\n",
       "    </tr>\n",
       "    <tr>\n",
       "      <th>1073</th>\n",
       "      <td>36405440</td>\n",
       "      <td>4</td>\n",
       "      <td>70.333333</td>\n",
       "      <td>76.041667</td>\n",
       "      <td>0</td>\n",
       "      <td>1</td>\n",
       "      <td>3.4</td>\n",
       "      <td>0</td>\n",
       "      <td>0.0</td>\n",
       "      <td>1</td>\n",
       "      <td>1</td>\n",
       "      <td>circ</td>\n",
       "      <td>1</td>\n",
       "      <td>not_recov</td>\n",
       "      <td>4</td>\n",
       "    </tr>\n",
       "    <tr>\n",
       "      <th>1074</th>\n",
       "      <td>36405440</td>\n",
       "      <td>5</td>\n",
       "      <td>74.666667</td>\n",
       "      <td>70.708333</td>\n",
       "      <td>1</td>\n",
       "      <td>0</td>\n",
       "      <td>4.7</td>\n",
       "      <td>1</td>\n",
       "      <td>0.0</td>\n",
       "      <td>1</td>\n",
       "      <td>1</td>\n",
       "      <td>circ</td>\n",
       "      <td>1</td>\n",
       "      <td>not_recov</td>\n",
       "      <td>4</td>\n",
       "    </tr>\n",
       "    <tr>\n",
       "      <th>1075</th>\n",
       "      <td>36405440</td>\n",
       "      <td>6</td>\n",
       "      <td>65.666667</td>\n",
       "      <td>72.083333</td>\n",
       "      <td>0</td>\n",
       "      <td>1</td>\n",
       "      <td>4.7</td>\n",
       "      <td>1</td>\n",
       "      <td>0.0</td>\n",
       "      <td>1</td>\n",
       "      <td>1</td>\n",
       "      <td>circ</td>\n",
       "      <td>1</td>\n",
       "      <td>not_recov</td>\n",
       "      <td>4</td>\n",
       "    </tr>\n",
       "    <tr>\n",
       "      <th>1076</th>\n",
       "      <td>36405440</td>\n",
       "      <td>7</td>\n",
       "      <td>82.000000</td>\n",
       "      <td>70.583333</td>\n",
       "      <td>1</td>\n",
       "      <td>0</td>\n",
       "      <td>4.7</td>\n",
       "      <td>1</td>\n",
       "      <td>0.0</td>\n",
       "      <td>1</td>\n",
       "      <td>1</td>\n",
       "      <td>circ</td>\n",
       "      <td>1</td>\n",
       "      <td>not_recov</td>\n",
       "      <td>4</td>\n",
       "    </tr>\n",
       "    <tr>\n",
       "      <th>1077</th>\n",
       "      <td>36405440</td>\n",
       "      <td>8</td>\n",
       "      <td>59.000000</td>\n",
       "      <td>73.166667</td>\n",
       "      <td>0</td>\n",
       "      <td>1</td>\n",
       "      <td>4.7</td>\n",
       "      <td>0</td>\n",
       "      <td>0.0</td>\n",
       "      <td>1</td>\n",
       "      <td>1</td>\n",
       "      <td>circ</td>\n",
       "      <td>1</td>\n",
       "      <td>not_recov</td>\n",
       "      <td>4</td>\n",
       "    </tr>\n",
       "    <tr>\n",
       "      <th>1078</th>\n",
       "      <td>36405440</td>\n",
       "      <td>9</td>\n",
       "      <td>88.444444</td>\n",
       "      <td>70.333333</td>\n",
       "      <td>1</td>\n",
       "      <td>0</td>\n",
       "      <td>4.7</td>\n",
       "      <td>0</td>\n",
       "      <td>0.0</td>\n",
       "      <td>1</td>\n",
       "      <td>1</td>\n",
       "      <td>circ</td>\n",
       "      <td>1</td>\n",
       "      <td>not_recov</td>\n",
       "      <td>4</td>\n",
       "    </tr>\n",
       "    <tr>\n",
       "      <th>1079</th>\n",
       "      <td>36405440</td>\n",
       "      <td>10</td>\n",
       "      <td>75.333333</td>\n",
       "      <td>73.777778</td>\n",
       "      <td>1</td>\n",
       "      <td>0</td>\n",
       "      <td>4.7</td>\n",
       "      <td>0</td>\n",
       "      <td>0.0</td>\n",
       "      <td>1</td>\n",
       "      <td>1</td>\n",
       "      <td>circ</td>\n",
       "      <td>1</td>\n",
       "      <td>not_recov</td>\n",
       "      <td>3</td>\n",
       "    </tr>\n",
       "    <tr>\n",
       "      <th>1080</th>\n",
       "      <td>36405440</td>\n",
       "      <td>11</td>\n",
       "      <td>75.750000</td>\n",
       "      <td>76.194444</td>\n",
       "      <td>0</td>\n",
       "      <td>1</td>\n",
       "      <td>2.4</td>\n",
       "      <td>0</td>\n",
       "      <td>1.0</td>\n",
       "      <td>1</td>\n",
       "      <td>1</td>\n",
       "      <td>circ</td>\n",
       "      <td>1</td>\n",
       "      <td>recov</td>\n",
       "      <td>3</td>\n",
       "    </tr>\n",
       "    <tr>\n",
       "      <th>1081</th>\n",
       "      <td>36405440</td>\n",
       "      <td>12</td>\n",
       "      <td>79.000000</td>\n",
       "      <td>74.631944</td>\n",
       "      <td>1</td>\n",
       "      <td>0</td>\n",
       "      <td>2.4</td>\n",
       "      <td>0</td>\n",
       "      <td>1.0</td>\n",
       "      <td>1</td>\n",
       "      <td>1</td>\n",
       "      <td>circ</td>\n",
       "      <td>1</td>\n",
       "      <td>recov</td>\n",
       "      <td>3</td>\n",
       "    </tr>\n",
       "    <tr>\n",
       "      <th>1082</th>\n",
       "      <td>36405440</td>\n",
       "      <td>13</td>\n",
       "      <td>69.200000</td>\n",
       "      <td>79.631944</td>\n",
       "      <td>0</td>\n",
       "      <td>1</td>\n",
       "      <td>2.4</td>\n",
       "      <td>0</td>\n",
       "      <td>1.0</td>\n",
       "      <td>1</td>\n",
       "      <td>1</td>\n",
       "      <td>circ</td>\n",
       "      <td>1</td>\n",
       "      <td>recov</td>\n",
       "      <td>3</td>\n",
       "    </tr>\n",
       "    <tr>\n",
       "      <th>1083</th>\n",
       "      <td>36405440</td>\n",
       "      <td>14</td>\n",
       "      <td>65.533333</td>\n",
       "      <td>74.820833</td>\n",
       "      <td>0</td>\n",
       "      <td>1</td>\n",
       "      <td>1.7</td>\n",
       "      <td>0</td>\n",
       "      <td>1.0</td>\n",
       "      <td>0</td>\n",
       "      <td>1</td>\n",
       "      <td>ambiguous</td>\n",
       "      <td>1</td>\n",
       "      <td>recov</td>\n",
       "      <td>3</td>\n",
       "    </tr>\n",
       "    <tr>\n",
       "      <th>1084</th>\n",
       "      <td>36405440</td>\n",
       "      <td>15</td>\n",
       "      <td>69.600000</td>\n",
       "      <td>72.370833</td>\n",
       "      <td>0</td>\n",
       "      <td>1</td>\n",
       "      <td>1.7</td>\n",
       "      <td>0</td>\n",
       "      <td>1.0</td>\n",
       "      <td>0</td>\n",
       "      <td>0</td>\n",
       "      <td>no_circ</td>\n",
       "      <td>1</td>\n",
       "      <td>recov</td>\n",
       "      <td>3</td>\n",
       "    </tr>\n",
       "  </tbody>\n",
       "</table>\n",
       "</div>"
      ],
      "text/plain": [
       "       stay_id  Time_since_ICU_admission        MAP  MAP_3hr_avg  \\\n",
       "1068  36405440                         0  91.666667     0.000000   \n",
       "1069  36405440                         1  91.666667    91.666667   \n",
       "1070  36405440                         2  69.166667    91.666667   \n",
       "1071  36405440                         3  71.666667    84.166667   \n",
       "1072  36405440                         3  71.666667    81.041667   \n",
       "1073  36405440                         4  70.333333    76.041667   \n",
       "1074  36405440                         5  74.666667    70.708333   \n",
       "1075  36405440                         6  65.666667    72.083333   \n",
       "1076  36405440                         7  82.000000    70.583333   \n",
       "1077  36405440                         8  59.000000    73.166667   \n",
       "1078  36405440                         9  88.444444    70.333333   \n",
       "1079  36405440                        10  75.333333    73.777778   \n",
       "1080  36405440                        11  75.750000    76.194444   \n",
       "1081  36405440                        12  79.000000    74.631944   \n",
       "1082  36405440                        13  69.200000    79.631944   \n",
       "1083  36405440                        14  65.533333    74.820833   \n",
       "1084  36405440                        15  69.600000    72.370833   \n",
       "\n",
       "      MAP_increase  MAP_decrease  Lactate  lactate_up  lactate_down  \\\n",
       "1068             0             0      1.1           0           0.0   \n",
       "1069             0             0      1.1           0           0.0   \n",
       "1070             0             1      3.4           1           0.0   \n",
       "1071             0             1      3.4           1           0.0   \n",
       "1072             0             1      3.4           1           0.0   \n",
       "1073             0             1      3.4           0           0.0   \n",
       "1074             1             0      4.7           1           0.0   \n",
       "1075             0             1      4.7           1           0.0   \n",
       "1076             1             0      4.7           1           0.0   \n",
       "1077             0             1      4.7           0           0.0   \n",
       "1078             1             0      4.7           0           0.0   \n",
       "1079             1             0      4.7           0           0.0   \n",
       "1080             0             1      2.4           0           1.0   \n",
       "1081             1             0      2.4           0           1.0   \n",
       "1082             0             1      2.4           0           1.0   \n",
       "1083             0             1      1.7           0           1.0   \n",
       "1084             0             1      1.7           0           1.0   \n",
       "\n",
       "      over_lactic  vasoactive/inotropic Annotation  progress  \\\n",
       "1068            0                     0    no_circ         0   \n",
       "1069            0                     0    no_circ         0   \n",
       "1070            1                     1  ambiguous         0   \n",
       "1071            1                     1       circ         0   \n",
       "1072            1                     1       circ         1   \n",
       "1073            1                     1       circ         1   \n",
       "1074            1                     1       circ         1   \n",
       "1075            1                     1       circ         1   \n",
       "1076            1                     1       circ         1   \n",
       "1077            1                     1       circ         1   \n",
       "1078            1                     1       circ         1   \n",
       "1079            1                     1       circ         1   \n",
       "1080            1                     1       circ         1   \n",
       "1081            1                     1       circ         1   \n",
       "1082            1                     1       circ         1   \n",
       "1083            0                     1  ambiguous         1   \n",
       "1084            0                     0    no_circ         1   \n",
       "\n",
       "       after_shock_annotation   Case  \n",
       "1068  before_experience_shock    2.0  \n",
       "1069  before_experience_shock    2.0  \n",
       "1070  before_experience_shock    2.0  \n",
       "1071  before_experience_shock  event  \n",
       "1072                not_recov      4  \n",
       "1073                not_recov      4  \n",
       "1074                not_recov      4  \n",
       "1075                not_recov      4  \n",
       "1076                not_recov      4  \n",
       "1077                not_recov      4  \n",
       "1078                not_recov      4  \n",
       "1079                not_recov      3  \n",
       "1080                    recov      3  \n",
       "1081                    recov      3  \n",
       "1082                    recov      3  \n",
       "1083                    recov      3  \n",
       "1084                    recov      3  "
      ]
     },
     "execution_count": 406,
     "metadata": {},
     "output_type": "execute_result"
    }
   ],
   "source": [
    "interest.head(30)"
   ]
  },
  {
   "cell_type": "code",
   "execution_count": 35,
   "id": "2fb137be",
   "metadata": {},
   "outputs": [
    {
     "data": {
      "text/plain": [
       "69.0"
      ]
     },
     "execution_count": 35,
     "metadata": {},
     "output_type": "execute_result"
    }
   ],
   "source": [
    "(60 + 78) /2"
   ]
  },
  {
   "cell_type": "code",
   "execution_count": 409,
   "id": "4eadde25",
   "metadata": {},
   "outputs": [
    {
     "data": {
      "text/plain": [
       "(298318, 236)"
      ]
     },
     "execution_count": 409,
     "metadata": {},
     "output_type": "execute_result"
    }
   ],
   "source": [
    "m_modified.shape"
   ]
  },
  {
   "cell_type": "code",
   "execution_count": 410,
   "id": "88a6bb17",
   "metadata": {},
   "outputs": [
    {
     "data": {
      "text/plain": [
       "(241337, 235)"
      ]
     },
     "execution_count": 410,
     "metadata": {},
     "output_type": "execute_result"
    }
   ],
   "source": [
    "e_modified.shape"
   ]
  },
  {
   "cell_type": "code",
   "execution_count": 411,
   "id": "94f1b654",
   "metadata": {},
   "outputs": [
    {
     "name": "stdout",
     "output_type": "stream",
     "text": [
      "number of subject : 5111\n",
      "number of stay : 5213\n",
      "number of subject : 2873\n",
      "number of stay : 2915\n"
     ]
    }
   ],
   "source": [
    "number(m_modified, 'mimic')\n",
    "number(e_modified, 'eicu')"
   ]
  },
  {
   "cell_type": "code",
   "execution_count": 412,
   "id": "5f3e0954",
   "metadata": {},
   "outputs": [
    {
     "data": {
      "text/plain": [
       "1.0    0.338827\n",
       "2.0    0.104529\n",
       "3.0    0.283782\n",
       "4.0    0.272861\n",
       "Name: Case, dtype: float64"
      ]
     },
     "execution_count": 412,
     "metadata": {},
     "output_type": "execute_result"
    }
   ],
   "source": [
    "m_modified[m_modified['Case']!='event'].Case.value_counts(normalize=True).sort_index()"
   ]
  },
  {
   "cell_type": "code",
   "execution_count": 413,
   "id": "854535b9",
   "metadata": {},
   "outputs": [
    {
     "data": {
      "text/plain": [
       "1.0    0.541687\n",
       "2.0    0.088499\n",
       "3.0    0.067288\n",
       "4.0    0.302527\n",
       "Name: Case, dtype: float64"
      ]
     },
     "execution_count": 413,
     "metadata": {},
     "output_type": "execute_result"
    }
   ],
   "source": [
    "e_modified[e_modified['Case']!='event'].Case.value_counts(normalize=True).sort_index()"
   ]
  },
  {
   "cell_type": "code",
   "execution_count": 271,
   "id": "676f2466",
   "metadata": {},
   "outputs": [],
   "source": [
    "mimic_result.to_csv('mimic_analysis(new_version0312).csv.gz', compression = 'gzip', index=False)\n",
    "eicu_result.to_csv('eicu_analysis(new_version0312).csv.gz', compression = 'gzip', index=False)"
   ]
  },
  {
   "cell_type": "code",
   "execution_count": 263,
   "id": "7be0a9d4",
   "metadata": {},
   "outputs": [
    {
     "name": "stdout",
     "output_type": "stream",
     "text": [
      "number of subject : 5111\n",
      "number of stay : 5213\n",
      "number of subject : 2873\n",
      "number of stay : 2915\n"
     ]
    }
   ],
   "source": [
    "number(mimic_analysis, 'mimic')\n",
    "number(eicu_analysis, 'eicu')"
   ]
  },
  {
   "cell_type": "code",
   "execution_count": 295,
   "id": "0a3ff68e",
   "metadata": {},
   "outputs": [],
   "source": [
    "case1_m = []\n",
    "for stay_id, group in m_labeled.groupby('stay_id'):\n",
    "    if all(group['Annotation'] == 'no_circ'):\n",
    "        case1_m.append(stay_id)\n",
    "no_event_mimic = m_labeled[m_labeled['stay_id'].isin(case1_m)].reset_index(drop=True)"
   ]
  },
  {
   "cell_type": "code",
   "execution_count": 296,
   "id": "bd710829",
   "metadata": {},
   "outputs": [],
   "source": [
    "case1_e = []\n",
    "for stay_id, group in e_labeled.groupby('patientunitstayid'):\n",
    "    if all(group['Annotation'] == 'no_circ'):\n",
    "        case1_e.append(stay_id)\n",
    "no_event_eicu = e_labeled[e_labeled['patientunitstayid'].isin(case1_e)].reset_index(drop=True)"
   ]
  },
  {
   "cell_type": "code",
   "execution_count": 300,
   "id": "5a9bc6d5",
   "metadata": {},
   "outputs": [
    {
     "name": "stdout",
     "output_type": "stream",
     "text": [
      "number of subject : 819\n",
      "number of stay : 824\n",
      "number of subject : 1878\n",
      "number of stay : 1894\n"
     ]
    }
   ],
   "source": [
    "number(no_event_mimic, 'mimic')\n",
    "number(no_event_eicu, 'eicu')"
   ]
  },
  {
   "cell_type": "code",
   "execution_count": 19,
   "id": "bdc7f8c6",
   "metadata": {},
   "outputs": [
    {
     "data": {
      "text/plain": [
       "4751"
      ]
     },
     "execution_count": 19,
     "metadata": {},
     "output_type": "execute_result"
    }
   ],
   "source": [
    "1878+2873"
   ]
  },
  {
   "cell_type": "code",
   "execution_count": 302,
   "id": "8130256f",
   "metadata": {},
   "outputs": [],
   "source": [
    "no_event_mimic['INDEX'] = 'CASE1_CASE2_DF'\n",
    "no_event_mimic['after_shock_annotation'] = 'before_experience_shock'\n",
    "no_event_eicu['INDEX'] = 'CASE1_CASE2_DF'\n",
    "no_event_eicu['after_shock_annotation'] = 'before_experience_shock'"
   ]
  },
  {
   "cell_type": "code",
   "execution_count": 301,
   "id": "b1faef0e",
   "metadata": {},
   "outputs": [],
   "source": [
    "mimic_ethnicity = {'AMERICAN INDIAN/ALASKA NATIVE': 0, 'ASIAN': 1,\n",
    " 'ASIAN - ASIAN INDIAN': 2, 'ASIAN - CHINESE': 3,\n",
    " 'ASIAN - KOREAN': 4, 'ASIAN - SOUTH EAST ASIAN': 5,\n",
    " 'BLACK/AFRICAN': 6, 'BLACK/AFRICAN AMERICAN': 7,\n",
    " 'BLACK/CAPE VERDEAN': 8, 'BLACK/CARIBBEAN ISLAND': 9,\n",
    " 'HISPANIC OR LATINO': 10, 'HISPANIC/LATINO - CENTRAL AMERICAN': 11,\n",
    " 'HISPANIC/LATINO - COLUMBIAN': 12, 'HISPANIC/LATINO - CUBAN': 13,\n",
    " 'HISPANIC/LATINO - DOMINICAN': 14, 'HISPANIC/LATINO - GUATEMALAN': 15,\n",
    " 'HISPANIC/LATINO - HONDURAN': 16, 'HISPANIC/LATINO - MEXICAN': 17,\n",
    " 'HISPANIC/LATINO - PUERTO RICAN': 18, 'HISPANIC/LATINO - SALVADORAN': 19, \n",
    " 'MULTIPLE RACE/ETHNICITY': 20, 'NATIVE HAWAIIAN OR OTHER PACIFIC ISLANDER': 21, \n",
    " 'OTHER': 22, 'PATIENT DECLINED TO ANSWER': 23, 'PORTUGUESE': 24, 'SOUTH AMERICAN': 25,\n",
    " 'UNABLE TO OBTAIN': 26, 'UNKNOWN': 27, 'WHITE': 28, 'WHITE - BRAZILIAN': 29,\n",
    " 'WHITE - EASTERN EUROPEAN': 30, 'WHITE - OTHER EUROPEAN': 31, 'WHITE - RUSSIAN': 32}\n",
    "\n",
    "eicu_ethnicity = {'0': 0, 'African American': 1, 'Asian': 2, \n",
    "                  'Caucasian': 3, 'Hispanic': 4, 'Native American': 5, 'Other/Unknown': 6}\n",
    "\n",
    "new_mimic_ethnicity = {v:k for k,v in mimic_ethnicity.items()}\n",
    "new_eicu_ethnicity = {v:k for k,v in eicu_ethnicity.items()}\n",
    "\n",
    "no_event_mimic['ethnicity'] = no_event_mimic['ethnicity'].map(new_mimic_ethnicity)\n",
    "no_event_eicu['ethnicity'] = no_event_eicu['ethnicity'].map(new_eicu_ethnicity)\n",
    "\n",
    "A = {'AMERICAN INDIAN/ALASKA NATIVE': 1, 'ASIAN': 2, 'ASIAN - ASIAN INDIAN': 2, \n",
    " 'ASIAN - CHINESE': 2, 'ASIAN - KOREAN': 2, 'ASIAN - SOUTH EAST ASIAN': 2, \n",
    " 'BLACK/AFRICAN': 5, 'BLACK/AFRICAN AMERICAN': 5, 'BLACK/CAPE VERDEAN': 6, \n",
    " 'BLACK/CARIBBEAN ISLAND': 6, 'HISPANIC OR LATINO': 4, 'HISPANIC/LATINO - CENTRAL AMERICAN': 4, \n",
    " 'HISPANIC/LATINO - COLUMBIAN': 4, 'HISPANIC/LATINO - CUBAN': 4, 'HISPANIC/LATINO - DOMINICAN': 4, \n",
    " 'HISPANIC/LATINO - GUATEMALAN': 4, 'HISPANIC/LATINO - HONDURAN': 4, 'HISPANIC/LATINO - MEXICAN': 4, \n",
    " 'HISPANIC/LATINO - PUERTO RICAN': 4, 'HISPANIC/LATINO - SALVADORAN': 4, 'MULTIPLE RACE/ETHNICITY': 6, \n",
    " 'NATIVE HAWAIIAN OR OTHER PACIFIC ISLANDER': 6, 'OTHER': 6, 'PATIENT DECLINED TO ANSWER': 6, 'PORTUGUESE': 4, \n",
    " 'SOUTH AMERICAN': 5, 'UNABLE TO OBTAIN': 6, 'UNKNOWN': 6, 'WHITE': 3, 'WHITE - BRAZILIAN': 3, \n",
    " 'WHITE - EASTERN EUROPEAN': 3, 'WHITE - OTHER EUROPEAN': 3, 'WHITE - RUSSIAN': 3}\n",
    "\n",
    "B = {'0': 6, 'African American': 1, 'Asian': 2, 'Caucasian': 3, 'Hispanic': 4, 'Native American': 5, 'Other/Unknown': 6}\n",
    "\n",
    "\n",
    "no_event_mimic['ethnicity'] = no_event_mimic['ethnicity'].map(A)\n",
    "no_event_eicu['ethnicity'] = no_event_eicu['ethnicity'].map(B)"
   ]
  },
  {
   "cell_type": "code",
   "execution_count": 303,
   "id": "1ccd6316",
   "metadata": {},
   "outputs": [],
   "source": [
    "no_event_mimic['over_lactic'] = (no_event_mimic['Lactate'] >= 2).astype(int)\n",
    "no_event_eicu['over_lactic'] = (no_event_eicu['Lactate'] >= 2).astype(int)"
   ]
  },
  {
   "cell_type": "code",
   "execution_count": 304,
   "id": "9ec37920",
   "metadata": {},
   "outputs": [],
   "source": [
    "mimic_result_no_event  = pd.DataFrame()\n",
    "\n",
    "for stay in no_event_mimic['stay_id'].unique():\n",
    "    view = no_event_mimic[no_event_mimic['stay_id']==stay]\n",
    "\n",
    "    view.set_index('Time_since_ICU_admission', inplace=True)\n",
    "    view['MAP_3hr_avg'] = view['MAP'].rolling(window=4, min_periods=1).mean().shift(1) \n",
    "\n",
    "    view['MAP_increase'] = (view['MAP'] > view['MAP_3hr_avg']).astype(int)\n",
    "    view['MAP_decrease'] = (view['MAP'] < view['MAP_3hr_avg']).astype(int)\n",
    "    view = view.reset_index()\n",
    "\n",
    "    view = view.fillna(0)\n",
    "    \n",
    "    mimic_result_no_event = pd.concat([mimic_result_no_event, view], axis = 0)"
   ]
  },
  {
   "cell_type": "code",
   "execution_count": 305,
   "id": "137ce1c3",
   "metadata": {},
   "outputs": [],
   "source": [
    "eicu_result_no_event  = pd.DataFrame()\n",
    "\n",
    "for stay in no_event_eicu['patientunitstayid'].unique():\n",
    "    view = no_event_eicu[no_event_eicu['patientunitstayid']==stay]\n",
    "\n",
    "    view.set_index('Time_since_ICU_admission', inplace=True)\n",
    "    view['MAP_3hr_avg'] = view['MAP'].rolling(window=4, min_periods=1).mean().shift(1) \n",
    "\n",
    "    view['MAP_increase'] = (view['MAP'] > view['MAP_3hr_avg']).astype(int)\n",
    "    view['MAP_decrease'] = (view['MAP'] < view['MAP_3hr_avg']).astype(int)\n",
    "    view = view.reset_index()\n",
    "\n",
    "    view = view.fillna(0)\n",
    "    \n",
    "    eicu_result_no_event = pd.concat([eicu_result_no_event, view], axis = 0)"
   ]
  },
  {
   "cell_type": "code",
   "execution_count": 414,
   "id": "03ed0f49",
   "metadata": {},
   "outputs": [
    {
     "name": "stderr",
     "output_type": "stream",
     "text": [
      "100%|██████████| 824/824 [00:02<00:00, 340.76it/s]\n",
      "100%|██████████| 1894/1894 [00:05<00:00, 327.54it/s]\n"
     ]
    }
   ],
   "source": [
    "mimic_result_no_event['progress'] = 0\n",
    "eicu_result_no_event['progress'] = 0\n",
    "\n",
    "m_no_event = Lactate_up(mimic_result_no_event, 'mimic')\n",
    "e_no_event = Lactate_up(eicu_result_no_event, 'eicu')"
   ]
  },
  {
   "cell_type": "code",
   "execution_count": 415,
   "id": "96fefa6e",
   "metadata": {},
   "outputs": [],
   "source": [
    "m_no_event['Case'] = 1\n",
    "e_no_event['Case'] = 1"
   ]
  },
  {
   "cell_type": "code",
   "execution_count": 416,
   "id": "a8fee63e",
   "metadata": {},
   "outputs": [
    {
     "data": {
      "text/plain": [
       "(92698, 236)"
      ]
     },
     "execution_count": 416,
     "metadata": {},
     "output_type": "execute_result"
    }
   ],
   "source": [
    "m_no_event.shape"
   ]
  },
  {
   "cell_type": "code",
   "execution_count": 417,
   "id": "c325f2f2",
   "metadata": {},
   "outputs": [
    {
     "data": {
      "text/plain": [
       "(236163, 235)"
      ]
     },
     "execution_count": 417,
     "metadata": {},
     "output_type": "execute_result"
    }
   ],
   "source": [
    "e_no_event.shape"
   ]
  },
  {
   "cell_type": "code",
   "execution_count": 318,
   "id": "d01a4cad",
   "metadata": {},
   "outputs": [
    {
     "name": "stdout",
     "output_type": "stream",
     "text": [
      "number of subject : 819\n",
      "number of stay : 824\n",
      "number of subject : 1878\n",
      "number of stay : 1894\n"
     ]
    }
   ],
   "source": [
    "number(m_no_event, 'mimic')\n",
    "number(e_no_event, 'eicu')"
   ]
  },
  {
   "cell_type": "code",
   "execution_count": 418,
   "id": "45d8821a",
   "metadata": {},
   "outputs": [],
   "source": [
    "mimic_final = pd.concat([m_no_event[m_modified.columns], m_modified], axis = 0)\n",
    "eicu_final = pd.concat([e_no_event[e_modified.columns], e_modified], axis = 0)"
   ]
  },
  {
   "cell_type": "code",
   "execution_count": 423,
   "id": "2cd94eee",
   "metadata": {},
   "outputs": [
    {
     "data": {
      "text/plain": [
       "1.0    0.497689\n",
       "2.0    0.079414\n",
       "3.0    0.215597\n",
       "4.0    0.207300\n",
       "Name: Case, dtype: float64"
      ]
     },
     "execution_count": 423,
     "metadata": {},
     "output_type": "execute_result"
    }
   ],
   "source": [
    "mimic_final[mimic_final['Case']!='event'].Case.value_counts(normalize=True).sort_index()"
   ]
  },
  {
   "cell_type": "code",
   "execution_count": 424,
   "id": "12a48404",
   "metadata": {},
   "outputs": [
    {
     "data": {
      "text/plain": [
       "1.0    0.769753\n",
       "2.0    0.044460\n",
       "3.0    0.033804\n",
       "4.0    0.151983\n",
       "Name: Case, dtype: float64"
      ]
     },
     "execution_count": 424,
     "metadata": {},
     "output_type": "execute_result"
    }
   ],
   "source": [
    "eicu_final[eicu_final['Case']!='event'].Case.value_counts(normalize=True).sort_index()"
   ]
  },
  {
   "cell_type": "code",
   "execution_count": 430,
   "id": "928727a5",
   "metadata": {},
   "outputs": [
    {
     "data": {
      "text/plain": [
       "0    477500\n",
       "Name: HR_fillna, dtype: int64"
      ]
     },
     "execution_count": 430,
     "metadata": {},
     "output_type": "execute_result"
    }
   ],
   "source": [
    "eicu_final['HR_fillna'].value_counts()"
   ]
  },
  {
   "cell_type": "code",
   "execution_count": 426,
   "id": "0f72c73d",
   "metadata": {},
   "outputs": [],
   "source": [
    "mimic_final.to_csv('mimic_analysis(new_version0313).csv.gz', compression = 'gzip', index=False)\n",
    "eicu_final.to_csv('eicu_analysis(new_version0313).csv.gz', compression = 'gzip', index=False)"
   ]
  },
  {
   "cell_type": "code",
   "execution_count": 1,
   "id": "f03026e6",
   "metadata": {},
   "outputs": [
    {
     "name": "stderr",
     "output_type": "stream",
     "text": [
      "C:\\Users\\DAHS\\AppData\\Local\\Temp\\ipykernel_7492\\2995140185.py:2: DtypeWarning: Columns (226) have mixed types. Specify dtype option on import or set low_memory=False.\n",
      "  mimic_final = pd.read_csv('mimic_analysis(new_version0313).csv.gz', compression = 'gzip')\n"
     ]
    }
   ],
   "source": [
    "import pandas as pd\n",
    "mimic_final = pd.read_csv('mimic_analysis(new_version0313).csv.gz', compression = 'gzip')"
   ]
  },
  {
   "cell_type": "code",
   "execution_count": 2,
   "id": "390a8334",
   "metadata": {},
   "outputs": [
    {
     "data": {
      "text/html": [
       "<div>\n",
       "<style scoped>\n",
       "    .dataframe tbody tr th:only-of-type {\n",
       "        vertical-align: middle;\n",
       "    }\n",
       "\n",
       "    .dataframe tbody tr th {\n",
       "        vertical-align: top;\n",
       "    }\n",
       "\n",
       "    .dataframe thead th {\n",
       "        text-align: right;\n",
       "    }\n",
       "</style>\n",
       "<table border=\"1\" class=\"dataframe\">\n",
       "  <thead>\n",
       "    <tr style=\"text-align: right;\">\n",
       "      <th></th>\n",
       "      <th>Time_since_ICU_admission</th>\n",
       "      <th>Unnamed: 0</th>\n",
       "      <th>ABPd</th>\n",
       "      <th>Cardiac Output_fillna</th>\n",
       "      <th>height_fillna</th>\n",
       "      <th>PEEP</th>\n",
       "      <th>Cardiac Output</th>\n",
       "      <th>PEEP_fillna</th>\n",
       "      <th>Sofa_Liver</th>\n",
       "      <th>Sofa_Cardiovascular</th>\n",
       "      <th>...</th>\n",
       "      <th>Case</th>\n",
       "      <th>lactate_up</th>\n",
       "      <th>progress</th>\n",
       "      <th>after_shock_annotation</th>\n",
       "      <th>INDEX</th>\n",
       "      <th>over_lactic</th>\n",
       "      <th>MAP_3hr_avg</th>\n",
       "      <th>MAP_increase</th>\n",
       "      <th>MAP_decrease</th>\n",
       "      <th>lactate_down</th>\n",
       "    </tr>\n",
       "  </thead>\n",
       "  <tbody>\n",
       "    <tr>\n",
       "      <th>0</th>\n",
       "      <td>0</td>\n",
       "      <td>2999</td>\n",
       "      <td>75.0</td>\n",
       "      <td>1</td>\n",
       "      <td>0</td>\n",
       "      <td>5.0</td>\n",
       "      <td>7.964561</td>\n",
       "      <td>0</td>\n",
       "      <td>2</td>\n",
       "      <td>2</td>\n",
       "      <td>...</td>\n",
       "      <td>1</td>\n",
       "      <td>0</td>\n",
       "      <td>0</td>\n",
       "      <td>before_experience_shock</td>\n",
       "      <td>CASE1_CASE2_DF</td>\n",
       "      <td>0</td>\n",
       "      <td>0.000000</td>\n",
       "      <td>0</td>\n",
       "      <td>0</td>\n",
       "      <td>0.0</td>\n",
       "    </tr>\n",
       "    <tr>\n",
       "      <th>1</th>\n",
       "      <td>1</td>\n",
       "      <td>3000</td>\n",
       "      <td>75.0</td>\n",
       "      <td>1</td>\n",
       "      <td>0</td>\n",
       "      <td>5.0</td>\n",
       "      <td>7.964561</td>\n",
       "      <td>0</td>\n",
       "      <td>2</td>\n",
       "      <td>2</td>\n",
       "      <td>...</td>\n",
       "      <td>1</td>\n",
       "      <td>0</td>\n",
       "      <td>0</td>\n",
       "      <td>before_experience_shock</td>\n",
       "      <td>CASE1_CASE2_DF</td>\n",
       "      <td>0</td>\n",
       "      <td>91.666667</td>\n",
       "      <td>0</td>\n",
       "      <td>0</td>\n",
       "      <td>0.0</td>\n",
       "    </tr>\n",
       "    <tr>\n",
       "      <th>2</th>\n",
       "      <td>2</td>\n",
       "      <td>3001</td>\n",
       "      <td>75.0</td>\n",
       "      <td>1</td>\n",
       "      <td>0</td>\n",
       "      <td>5.0</td>\n",
       "      <td>7.964561</td>\n",
       "      <td>0</td>\n",
       "      <td>2</td>\n",
       "      <td>2</td>\n",
       "      <td>...</td>\n",
       "      <td>1</td>\n",
       "      <td>0</td>\n",
       "      <td>0</td>\n",
       "      <td>before_experience_shock</td>\n",
       "      <td>CASE1_CASE2_DF</td>\n",
       "      <td>0</td>\n",
       "      <td>91.666667</td>\n",
       "      <td>0</td>\n",
       "      <td>0</td>\n",
       "      <td>0.0</td>\n",
       "    </tr>\n",
       "    <tr>\n",
       "      <th>3</th>\n",
       "      <td>3</td>\n",
       "      <td>3002</td>\n",
       "      <td>75.0</td>\n",
       "      <td>1</td>\n",
       "      <td>0</td>\n",
       "      <td>5.0</td>\n",
       "      <td>7.964561</td>\n",
       "      <td>0</td>\n",
       "      <td>2</td>\n",
       "      <td>2</td>\n",
       "      <td>...</td>\n",
       "      <td>1</td>\n",
       "      <td>0</td>\n",
       "      <td>0</td>\n",
       "      <td>before_experience_shock</td>\n",
       "      <td>CASE1_CASE2_DF</td>\n",
       "      <td>0</td>\n",
       "      <td>91.666667</td>\n",
       "      <td>0</td>\n",
       "      <td>0</td>\n",
       "      <td>0.0</td>\n",
       "    </tr>\n",
       "    <tr>\n",
       "      <th>4</th>\n",
       "      <td>4</td>\n",
       "      <td>3003</td>\n",
       "      <td>75.0</td>\n",
       "      <td>1</td>\n",
       "      <td>0</td>\n",
       "      <td>5.0</td>\n",
       "      <td>7.964561</td>\n",
       "      <td>0</td>\n",
       "      <td>2</td>\n",
       "      <td>2</td>\n",
       "      <td>...</td>\n",
       "      <td>1</td>\n",
       "      <td>0</td>\n",
       "      <td>0</td>\n",
       "      <td>before_experience_shock</td>\n",
       "      <td>CASE1_CASE2_DF</td>\n",
       "      <td>0</td>\n",
       "      <td>91.666667</td>\n",
       "      <td>0</td>\n",
       "      <td>0</td>\n",
       "      <td>0.0</td>\n",
       "    </tr>\n",
       "    <tr>\n",
       "      <th>...</th>\n",
       "      <td>...</td>\n",
       "      <td>...</td>\n",
       "      <td>...</td>\n",
       "      <td>...</td>\n",
       "      <td>...</td>\n",
       "      <td>...</td>\n",
       "      <td>...</td>\n",
       "      <td>...</td>\n",
       "      <td>...</td>\n",
       "      <td>...</td>\n",
       "      <td>...</td>\n",
       "      <td>...</td>\n",
       "      <td>...</td>\n",
       "      <td>...</td>\n",
       "      <td>...</td>\n",
       "      <td>...</td>\n",
       "      <td>...</td>\n",
       "      <td>...</td>\n",
       "      <td>...</td>\n",
       "      <td>...</td>\n",
       "      <td>...</td>\n",
       "    </tr>\n",
       "    <tr>\n",
       "      <th>391011</th>\n",
       "      <td>24</td>\n",
       "      <td>172842</td>\n",
       "      <td>52.0</td>\n",
       "      <td>0</td>\n",
       "      <td>0</td>\n",
       "      <td>5.0</td>\n",
       "      <td>6.450000</td>\n",
       "      <td>0</td>\n",
       "      <td>0</td>\n",
       "      <td>2</td>\n",
       "      <td>...</td>\n",
       "      <td>4</td>\n",
       "      <td>0</td>\n",
       "      <td>1</td>\n",
       "      <td>not_recov</td>\n",
       "      <td>CASE3_CASE4_DF</td>\n",
       "      <td>1</td>\n",
       "      <td>74.708333</td>\n",
       "      <td>0</td>\n",
       "      <td>1</td>\n",
       "      <td>0.0</td>\n",
       "    </tr>\n",
       "    <tr>\n",
       "      <th>391012</th>\n",
       "      <td>25</td>\n",
       "      <td>172843</td>\n",
       "      <td>54.0</td>\n",
       "      <td>0</td>\n",
       "      <td>0</td>\n",
       "      <td>5.0</td>\n",
       "      <td>6.450000</td>\n",
       "      <td>0</td>\n",
       "      <td>0</td>\n",
       "      <td>2</td>\n",
       "      <td>...</td>\n",
       "      <td>4</td>\n",
       "      <td>0</td>\n",
       "      <td>1</td>\n",
       "      <td>not_recov</td>\n",
       "      <td>CASE3_CASE4_DF</td>\n",
       "      <td>1</td>\n",
       "      <td>73.291667</td>\n",
       "      <td>0</td>\n",
       "      <td>1</td>\n",
       "      <td>0.0</td>\n",
       "    </tr>\n",
       "    <tr>\n",
       "      <th>391013</th>\n",
       "      <td>26</td>\n",
       "      <td>172844</td>\n",
       "      <td>77.0</td>\n",
       "      <td>0</td>\n",
       "      <td>0</td>\n",
       "      <td>5.0</td>\n",
       "      <td>5.590000</td>\n",
       "      <td>0</td>\n",
       "      <td>0</td>\n",
       "      <td>2</td>\n",
       "      <td>...</td>\n",
       "      <td>4</td>\n",
       "      <td>0</td>\n",
       "      <td>1</td>\n",
       "      <td>not_recov</td>\n",
       "      <td>CASE3_CASE4_DF</td>\n",
       "      <td>1</td>\n",
       "      <td>72.083333</td>\n",
       "      <td>1</td>\n",
       "      <td>0</td>\n",
       "      <td>0.0</td>\n",
       "    </tr>\n",
       "    <tr>\n",
       "      <th>391014</th>\n",
       "      <td>27</td>\n",
       "      <td>172845</td>\n",
       "      <td>78.0</td>\n",
       "      <td>0</td>\n",
       "      <td>0</td>\n",
       "      <td>5.0</td>\n",
       "      <td>5.590000</td>\n",
       "      <td>0</td>\n",
       "      <td>0</td>\n",
       "      <td>2</td>\n",
       "      <td>...</td>\n",
       "      <td>3</td>\n",
       "      <td>0</td>\n",
       "      <td>1</td>\n",
       "      <td>not_recov</td>\n",
       "      <td>CASE3_CASE4_DF</td>\n",
       "      <td>1</td>\n",
       "      <td>74.166667</td>\n",
       "      <td>1</td>\n",
       "      <td>0</td>\n",
       "      <td>0.0</td>\n",
       "    </tr>\n",
       "    <tr>\n",
       "      <th>391015</th>\n",
       "      <td>28</td>\n",
       "      <td>172846</td>\n",
       "      <td>77.0</td>\n",
       "      <td>0</td>\n",
       "      <td>0</td>\n",
       "      <td>5.0</td>\n",
       "      <td>5.590000</td>\n",
       "      <td>0</td>\n",
       "      <td>0</td>\n",
       "      <td>2</td>\n",
       "      <td>...</td>\n",
       "      <td>3</td>\n",
       "      <td>0</td>\n",
       "      <td>1</td>\n",
       "      <td>recov</td>\n",
       "      <td>CASE3_CASE4_DF</td>\n",
       "      <td>0</td>\n",
       "      <td>80.333333</td>\n",
       "      <td>1</td>\n",
       "      <td>0</td>\n",
       "      <td>1.0</td>\n",
       "    </tr>\n",
       "  </tbody>\n",
       "</table>\n",
       "<p>391016 rows × 236 columns</p>\n",
       "</div>"
      ],
      "text/plain": [
       "        Time_since_ICU_admission  Unnamed: 0  ABPd  Cardiac Output_fillna  \\\n",
       "0                              0        2999  75.0                      1   \n",
       "1                              1        3000  75.0                      1   \n",
       "2                              2        3001  75.0                      1   \n",
       "3                              3        3002  75.0                      1   \n",
       "4                              4        3003  75.0                      1   \n",
       "...                          ...         ...   ...                    ...   \n",
       "391011                        24      172842  52.0                      0   \n",
       "391012                        25      172843  54.0                      0   \n",
       "391013                        26      172844  77.0                      0   \n",
       "391014                        27      172845  78.0                      0   \n",
       "391015                        28      172846  77.0                      0   \n",
       "\n",
       "        height_fillna  PEEP  Cardiac Output  PEEP_fillna  Sofa_Liver  \\\n",
       "0                   0   5.0        7.964561            0           2   \n",
       "1                   0   5.0        7.964561            0           2   \n",
       "2                   0   5.0        7.964561            0           2   \n",
       "3                   0   5.0        7.964561            0           2   \n",
       "4                   0   5.0        7.964561            0           2   \n",
       "...               ...   ...             ...          ...         ...   \n",
       "391011              0   5.0        6.450000            0           0   \n",
       "391012              0   5.0        6.450000            0           0   \n",
       "391013              0   5.0        5.590000            0           0   \n",
       "391014              0   5.0        5.590000            0           0   \n",
       "391015              0   5.0        5.590000            0           0   \n",
       "\n",
       "        Sofa_Cardiovascular  ...  Case  lactate_up  progress  \\\n",
       "0                         2  ...     1           0         0   \n",
       "1                         2  ...     1           0         0   \n",
       "2                         2  ...     1           0         0   \n",
       "3                         2  ...     1           0         0   \n",
       "4                         2  ...     1           0         0   \n",
       "...                     ...  ...   ...         ...       ...   \n",
       "391011                    2  ...     4           0         1   \n",
       "391012                    2  ...     4           0         1   \n",
       "391013                    2  ...     4           0         1   \n",
       "391014                    2  ...     3           0         1   \n",
       "391015                    2  ...     3           0         1   \n",
       "\n",
       "         after_shock_annotation           INDEX  over_lactic  MAP_3hr_avg  \\\n",
       "0       before_experience_shock  CASE1_CASE2_DF            0     0.000000   \n",
       "1       before_experience_shock  CASE1_CASE2_DF            0    91.666667   \n",
       "2       before_experience_shock  CASE1_CASE2_DF            0    91.666667   \n",
       "3       before_experience_shock  CASE1_CASE2_DF            0    91.666667   \n",
       "4       before_experience_shock  CASE1_CASE2_DF            0    91.666667   \n",
       "...                         ...             ...          ...          ...   \n",
       "391011                not_recov  CASE3_CASE4_DF            1    74.708333   \n",
       "391012                not_recov  CASE3_CASE4_DF            1    73.291667   \n",
       "391013                not_recov  CASE3_CASE4_DF            1    72.083333   \n",
       "391014                not_recov  CASE3_CASE4_DF            1    74.166667   \n",
       "391015                    recov  CASE3_CASE4_DF            0    80.333333   \n",
       "\n",
       "        MAP_increase  MAP_decrease  lactate_down  \n",
       "0                  0             0           0.0  \n",
       "1                  0             0           0.0  \n",
       "2                  0             0           0.0  \n",
       "3                  0             0           0.0  \n",
       "4                  0             0           0.0  \n",
       "...              ...           ...           ...  \n",
       "391011             0             1           0.0  \n",
       "391012             0             1           0.0  \n",
       "391013             1             0           0.0  \n",
       "391014             1             0           0.0  \n",
       "391015             1             0           1.0  \n",
       "\n",
       "[391016 rows x 236 columns]"
      ]
     },
     "execution_count": 2,
     "metadata": {},
     "output_type": "execute_result"
    }
   ],
   "source": [
    "mimic_final"
   ]
  },
  {
   "cell_type": "code",
   "execution_count": 39,
   "id": "0a8c2073",
   "metadata": {},
   "outputs": [
    {
     "name": "stderr",
     "output_type": "stream",
     "text": [
      "C:\\Users\\DAHS\\AppData\\Local\\Temp\\ipykernel_20588\\1147647001.py:1: DtypeWarning: Columns (225) have mixed types. Specify dtype option on import or set low_memory=False.\n",
      "  eicu_final = pd.read_csv('eicu_analysis(new_version0313).csv.gz', compression = 'gzip')\n"
     ]
    }
   ],
   "source": [
    "\n",
    "eicu_final = pd.read_csv('eicu_analysis(new_version0313).csv.gz', compression = 'gzip')"
   ]
  },
  {
   "cell_type": "code",
   "execution_count": 40,
   "id": "29e346e2",
   "metadata": {},
   "outputs": [
    {
     "data": {
      "text/plain": [
       "ambiguous    0.404932\n",
       "circ         0.178047\n",
       "no_circ      0.417021\n",
       "Name: Annotation, dtype: float64"
      ]
     },
     "execution_count": 40,
     "metadata": {},
     "output_type": "execute_result"
    }
   ],
   "source": [
    "mimic_final[mimic_final['Case']!='event'].Annotation.value_counts(normalize=True).sort_index()"
   ]
  },
  {
   "cell_type": "code",
   "execution_count": 41,
   "id": "37ee1cf6",
   "metadata": {},
   "outputs": [
    {
     "data": {
      "text/plain": [
       "ambiguous    0.291613\n",
       "circ         0.061789\n",
       "no_circ      0.646599\n",
       "Name: Annotation, dtype: float64"
      ]
     },
     "execution_count": 41,
     "metadata": {},
     "output_type": "execute_result"
    }
   ],
   "source": [
    "eicu_final[eicu_final['Case']!='event'].Annotation.value_counts(normalize=True).sort_index()"
   ]
  },
  {
   "cell_type": "code",
   "execution_count": null,
   "id": "a4a7680f",
   "metadata": {},
   "outputs": [],
   "source": []
  }
 ],
 "metadata": {
  "kernelspec": {
   "display_name": "DL",
   "language": "python",
   "name": "python3"
  },
  "language_info": {
   "codemirror_mode": {
    "name": "ipython",
    "version": 3
   },
   "file_extension": ".py",
   "mimetype": "text/x-python",
   "name": "python",
   "nbconvert_exporter": "python",
   "pygments_lexer": "ipython3",
   "version": "3.8.16"
  }
 },
 "nbformat": 4,
 "nbformat_minor": 5
}
