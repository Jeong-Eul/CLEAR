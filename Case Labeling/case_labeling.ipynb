{
 "cells": [
  {
   "cell_type": "code",
   "execution_count": 1,
   "id": "f1886d0c",
   "metadata": {},
   "outputs": [],
   "source": [
    "import time\n",
    "import numpy as np\n",
    "import pandas as pd\n",
    "\n",
    "from Case import *\n",
    "pd.set_option('display.max_columns',None)\n",
    "# mimic = pd.read_csv(\"/Users/DAHS/Desktop/ECP_CONT/ECP_SCL/Make Derived Variable/mimic_df_cp.csv.gz\", compression='gzip')\n",
    "# eicu = pd.read_csv(\"/Users/DAHS/Desktop/ECP_CONT/ECP_SCL/Make Derived Variable/eicu_df_cp.csv.gz\", compression='gzip')\n",
    "\n",
    "\n",
    "# after_annoted_shock_m = annotation(mimic, 'mimic')\n",
    "# mimic_labeled = optimized_shock_labeler(after_annoted_shock_m, 'mimic')\n",
    "\n",
    "# after_annoted_shock_e = annotation(eicu, 'eicu')\n",
    "# eicu_labeled = optimized_shock_labeler(after_annoted_shock_e, 'eicu')\n",
    "\n",
    "# mimic_v1, eicu_v1 = filter_cohort(mimic, eicu) # 코호트의 모든 기록이 no_circ 인 경우 제외\n",
    "\n",
    "# mimic_v2 = define_ambcirc(mimic_v1, 'mimic') # circ - amb - circ -> circ - amb_circ - circ\n",
    "# eicu_v2 = define_ambcirc(eicu_v1, 'eicu')\n",
    "\n",
    "# mimic_v3 = early_event_prediction_label(mimic_v2) # case 1, case 2 정의\n",
    "# eicu_v3 = early_event_prediction_label(eicu_v2)\n",
    "\n",
    "# mimic_v4 = optimized_recovered_labeler(mimic_v3, 'mimic') # case 3, case 4 정의\n",
    "# eicu_v4 = optimized_recovered_labeler(eicu_v3, 'eicu')\n",
    "\n",
    "# mimic_v5 = mimic_v4[~(mimic_v4['classes']=='undefined')]\n",
    "# eicu_v5 = eicu_v4[~(eicu_v4['classes']=='undefined')]"
   ]
  },
  {
   "cell_type": "code",
   "execution_count": 31,
   "id": "43109073",
   "metadata": {},
   "outputs": [],
   "source": [
    "# mimic_labeled.to_csv('check_point_mimic_labeled.csv.gz', compression = 'gzip', index=False)\n",
    "# eicu_labeled.to_csv('check_point_eicu_labeled.csv.gz', compression = 'gzip', index=False)"
   ]
  },
  {
   "cell_type": "code",
   "execution_count": 2,
   "id": "6f644f93",
   "metadata": {},
   "outputs": [],
   "source": [
    "mimic_labeled = pd.read_csv('check_point_mimic_labeled.csv.gz', compression = 'gzip')\n",
    "eicu_labeled = pd.read_csv('check_point_eicu_labeled.csv.gz', compression = 'gzip')"
   ]
  },
  {
   "cell_type": "code",
   "execution_count": 5,
   "id": "2dacbaa6",
   "metadata": {},
   "outputs": [
    {
     "data": {
      "text/plain": [
       "<module 'Case' from 'c:\\\\Users\\\\DAHS\\\\Desktop\\\\ECP_CONT\\\\ECP_SCL\\\\Case Labeling\\\\Case.py'>"
      ]
     },
     "execution_count": 5,
     "metadata": {},
     "output_type": "execute_result"
    }
   ],
   "source": [
    "import Case\n",
    "from imp import reload\n",
    "reload(Case)"
   ]
  },
  {
   "cell_type": "code",
   "execution_count": 7,
   "id": "81362bcf",
   "metadata": {},
   "outputs": [],
   "source": [
    "view_columns = ['Time_since_ICU_admission', 'MAP', 'Lactate', 'vasoactive/inotropic', 'progress', 'Annotation','Case']"
   ]
  },
  {
   "cell_type": "code",
   "execution_count": 6,
   "id": "d0724679",
   "metadata": {},
   "outputs": [
    {
     "name": "stdout",
     "output_type": "stream",
     "text": [
      "|Start eICU-CRD process|\n",
      "Extract Case 1, Case 2\n",
      "--------------\n",
      "Extract Case 3, Case 4\n"
     ]
    },
    {
     "name": "stderr",
     "output_type": "stream",
     "text": [
      "100%|██████████| 7624/7624 [00:13<00:00, 578.36it/s]\n",
      "100%|██████████| 7624/7624 [01:06<00:00, 115.22it/s]\n"
     ]
    },
    {
     "name": "stdout",
     "output_type": "stream",
     "text": [
      "--------------\n",
      "MAKE progress\n",
      "--------------\n",
      "Select target cohort\n",
      "Finish, ....\n",
      "--------------\n"
     ]
    }
   ],
   "source": [
    "mimic_case1_case2, mimic_case3, mimic_case4 = Case.Case_definetion(mimic_labeled, 'mimic')\n",
    "eicu_case1_case2, eicu_case3, eicu_case4 = Case.Case_definetion(eicu_labeled, 'eicu')"
   ]
  },
  {
   "cell_type": "code",
   "execution_count": 19,
   "id": "f7a666e3",
   "metadata": {},
   "outputs": [],
   "source": [
    "any_circ_stay_ids = []\n",
    "for stay_id, group in mimic_case1_case2.groupby('stay_id'):\n",
    "    if any(group['Annotation'] == 'circ'):\n",
    "        any_circ_stay_ids.append(stay_id)\n",
    "\n",
    "m_case1_case2 = mimic_case1_case2[(mimic_case1_case2.stay_id.isin(any_circ_stay_ids))]"
   ]
  },
  {
   "cell_type": "code",
   "execution_count": 24,
   "id": "2133d77d",
   "metadata": {},
   "outputs": [],
   "source": [
    "any_circ_stay_ids = []\n",
    "for stay_id, group in eicu_case1_case2.groupby('patientunitstayid'):\n",
    "    if any(group['Annotation'] == 'circ'):\n",
    "        any_circ_stay_ids.append(stay_id)\n",
    "\n",
    "e_case1_case2 = eicu_case1_case2[(eicu_case1_case2.patientunitstayid.isin(any_circ_stay_ids))]"
   ]
  },
  {
   "cell_type": "code",
   "execution_count": 32,
   "id": "1580ef6d",
   "metadata": {},
   "outputs": [],
   "source": [
    "m_case3 = mimic_case3.copy()\n",
    "for stayid in m_case3['stay_id'].unique():\n",
    "    targ_index = m_case3[m_case3['stay_id']==stayid].index\n",
    "    \n",
    "    if m_case3.loc[targ_index[-1]]['Case'] == 4:\n",
    "        m_case3.drop(index=targ_index[-1], axis = 0, inplace = True)\n",
    "    else:\n",
    "        pass"
   ]
  },
  {
   "cell_type": "code",
   "execution_count": 54,
   "id": "cdb449b4",
   "metadata": {},
   "outputs": [],
   "source": [
    "all4_stay_ids = []\n",
    "for stay_id, group in mimic_case4.groupby('stay_id'):\n",
    "    if all(group['Case'] == 4):\n",
    "        all4_stay_ids.append(stay_id)\n",
    "        \n",
    "m_case4 = mimic_case4[~(mimic_case4['stay_id'].isin(all4_stay_ids))]"
   ]
  },
  {
   "cell_type": "code",
   "execution_count": 33,
   "id": "cebebbb4",
   "metadata": {},
   "outputs": [],
   "source": [
    "e_case3 = eicu_case3.copy()\n",
    "for stayid in e_case3['patientunitstayid'].unique():\n",
    "    targ_index = e_case3[e_case3['patientunitstayid']==stayid].index\n",
    "    \n",
    "    if e_case3.loc[targ_index[-1]]['Case'] == 4:\n",
    "        e_case3.drop(index=targ_index[-1], axis = 0, inplace = True)\n",
    "    else:\n",
    "        pass"
   ]
  },
  {
   "cell_type": "code",
   "execution_count": 56,
   "id": "011848be",
   "metadata": {},
   "outputs": [],
   "source": [
    "all4_stay_ids = []\n",
    "for stay_id, group in eicu_case4.groupby('patientunitstayid'):\n",
    "    if all(group['Case'] == 4):\n",
    "        all4_stay_ids.append(stay_id)\n",
    "        \n",
    "e_case4 = eicu_case4[~(eicu_case4['patientunitstayid'].isin(all4_stay_ids))]"
   ]
  },
  {
   "cell_type": "code",
   "execution_count": 35,
   "id": "239fe919",
   "metadata": {},
   "outputs": [],
   "source": [
    "invalid_columns_mimic, _ = find_invalid_columns(m_case1_case2)\n",
    "invalid_columns_eicu, _ = find_invalid_columns(e_case1_case2)\n",
    "\n",
    "m_case1_case2 = replace_inf_with_previous(m_case1_case2, invalid_columns_mimic)\n",
    "e_case1_case2 = replace_inf_with_previous(e_case1_case2, invalid_columns_eicu)"
   ]
  },
  {
   "cell_type": "code",
   "execution_count": 36,
   "id": "95ea7d21",
   "metadata": {},
   "outputs": [],
   "source": [
    "invalid_columns_mimic, _ = find_invalid_columns(m_case3)\n",
    "invalid_columns_eicu, _ = find_invalid_columns(e_case3)\n",
    "\n",
    "m_case3 = replace_inf_with_previous(m_case3, invalid_columns_mimic)\n",
    "e_case3 = replace_inf_with_previous(e_case3, invalid_columns_eicu)"
   ]
  },
  {
   "cell_type": "code",
   "execution_count": 62,
   "id": "c23f7624",
   "metadata": {},
   "outputs": [],
   "source": [
    "nvalid_columns_mimic, _ = find_invalid_columns(m_case4)\n",
    "invalid_columns_eicu, _ = find_invalid_columns(e_case4)\n",
    "\n",
    "m_case4 = replace_inf_with_previous(m_case4, invalid_columns_mimic)\n",
    "e_case4 = replace_inf_with_previous(e_case4, invalid_columns_eicu)"
   ]
  },
  {
   "cell_type": "code",
   "execution_count": 67,
   "id": "9301a04b",
   "metadata": {},
   "outputs": [],
   "source": [
    "m_case1_case2['INDEX'] = 'CASE1_CASE2_DF'\n",
    "m_case3['INDEX'] = 'CASE3_DF'\n",
    "m_case4['INDEX'] = 'CASE4_DF'\n",
    "\n",
    "e_case1_case2['INDEX'] = 'CASE1_CASE2_DF'\n",
    "e_case3['INDEX'] = 'CASE3_DF'\n",
    "e_case4['INDEX'] = 'CASE4_DF'"
   ]
  },
  {
   "cell_type": "code",
   "execution_count": 76,
   "id": "973fd0db",
   "metadata": {},
   "outputs": [],
   "source": [
    "case3_case4_m = pd.concat([m_case3.drop('Unnamed: 0', axis = 1), m_case4.drop('Unnamed: 0', axis = 1)], axis = 0)\n",
    "mimic_analysis = pd.concat([m_case1_case2.drop('Unnamed: 0', axis = 1), case3_case4_m], axis = 0).reset_index(drop=True)\n",
    "\n",
    "case3_case4_e = pd.concat([e_case3.drop('Unnamed: 0', axis = 1), e_case4.drop('Unnamed: 0', axis = 1)], axis = 0)\n",
    "eicu_analysis = pd.concat([e_case1_case2.drop('Unnamed: 0', axis = 1), case3_case4_e], axis = 0).reset_index(drop=True)"
   ]
  },
  {
   "cell_type": "code",
   "execution_count": 77,
   "id": "ea2ece26",
   "metadata": {},
   "outputs": [
    {
     "name": "stderr",
     "output_type": "stream",
     "text": [
      "100%|██████████| 13616/13616 [00:28<00:00, 475.40it/s]\n",
      "100%|██████████| 10139/10139 [00:20<00:00, 491.73it/s]\n"
     ]
    }
   ],
   "source": [
    "def lactate_up(df, mode):\n",
    "    targ = df.copy()\n",
    "    \n",
    "    if mode == 'mimic':\n",
    "        stay_id_id = 'stay_id'\n",
    "    elif mode == 'eicu':\n",
    "        stay_id_id = 'patientunitstayid'\n",
    "        \n",
    "    targ['lactate_up'] = np.nan\n",
    "        \n",
    "    for stayid in tqdm(targ[stay_id_id].unique()):\n",
    "        \n",
    "        stay_trajectory = targ[targ[stay_id_id]==stayid]\n",
    "\n",
    "        true_measurements_lactate = stay_trajectory['Lactate'].unique()\n",
    "        true_measurements_lactate_index = []\n",
    "        \n",
    "        for value in true_measurements_lactate:\n",
    "            first_occurrence_index = stay_trajectory[stay_trajectory['Lactate'] == value].index[0]\n",
    "            true_measurements_lactate_index.append(first_occurrence_index)\n",
    "        \n",
    "        #init\n",
    "        \n",
    "        anchor_lactate = true_measurements_lactate[0]\n",
    "        count_change = 0\n",
    "        \n",
    "        # true_measurements_lactate_index = [0, 1, 2, 3]\n",
    "        # true_measurements_lactate = [(1.2 masking), 1.2, 2.0, 1.4, 0.7]\n",
    "        \n",
    "        lactate_count_dict = {element: index+1 for index, element in enumerate(true_measurements_lactate)}\n",
    "        \n",
    "        for idx, row in stay_trajectory.iterrows():\n",
    "            #LACTATE COND\n",
    "            current_lactate = row['Lactate']\n",
    "            \n",
    "            if lactate_count_dict[current_lactate] - count_change == 1:\n",
    "                lactate_decrease = current_lactate <= anchor_lactate\n",
    "            \n",
    "            elif current_lactate != anchor_lactate:\n",
    "                count_change += 1\n",
    "                lactate_decrease = current_lactate <= anchor_lactate #바뀌는 순간은 그대로 계산해도 됨\n",
    "                for key, value in lactate_count_dict.items():\n",
    "                    if value == count_change:\n",
    "                        anchor_lactate = key\n",
    "            \n",
    "            # Annotation\n",
    "            \n",
    "            if lactate_decrease:\n",
    "                targ.at[idx, 'lactate_up'] = 0\n",
    "            else :\n",
    "                targ.at[idx, 'lactate_up'] = 1\n",
    "\n",
    "    return targ\n",
    "\n",
    "\n",
    "mimic_analysis_save = lactate_up(mimic_analysis, 'mimic')\n",
    "eicu_analysis_save = lactate_up(eicu_analysis, 'eicu')"
   ]
  },
  {
   "cell_type": "code",
   "execution_count": 163,
   "id": "676f2466",
   "metadata": {},
   "outputs": [],
   "source": [
    "# 차후 그래프 분석과 classification은 amb를 포함한 데이터인 아래 데이터를 그대로 사용\n",
    "# 이어서 진행할 Contrastive learning은 amb 모두 제거\n",
    "\n",
    "mimic_analysis_save.to_csv('mimic_analysis.csv.gz', compression = 'gzip', index=False)\n",
    "eicu_analysis_save.to_csv('eicu_analysis.csv.gz', compression = 'gzip', index=False)"
   ]
  },
  {
   "cell_type": "code",
   "execution_count": 51,
   "id": "b97fece0",
   "metadata": {},
   "outputs": [
    {
     "name": "stdout",
     "output_type": "stream",
     "text": [
      "MIMIC-IV CACE DEFINED\n",
      "\n",
      "전체 샘플의 개수: 553634\n",
      "\n",
      "샘플의 클래스 개수:\n",
      "1.0    123954\n",
      "2.0    129558\n",
      "3.0     59283\n",
      "4.0    240839\n",
      "Name: Case, dtype: int64\n",
      "\n",
      "총 Stay 수: 13626\n",
      "\n",
      "총 환자 수: 12874\n",
      "\n",
      "eICU CACE DEFINED\n",
      "\n",
      "전체 샘플의 개수: 477479\n",
      "\n",
      "샘플의 클래스 개수:\n",
      "1.0    181863\n",
      "2.0    131972\n",
      "3.0     24653\n",
      "4.0    138991\n",
      "Name: Case, dtype: int64\n",
      "\n",
      "총 Stay 수: 10148\n",
      "\n",
      "총 환자 수: 9634\n",
      "\n"
     ]
    }
   ],
   "source": [
    "def print_summary(dataset, dataset_name, stay_id_col, patient_id_col):\n",
    "    print(f'{dataset_name} CACE DEFINED\\n')\n",
    "    print(f'전체 샘플의 개수: {len(dataset)}\\n')\n",
    "    print('샘플의 클래스 개수:')\n",
    "    print(dataset['Case'].value_counts().sort_index())\n",
    "    print(f'\\n총 Stay 수: {len(dataset[stay_id_col].unique())}')\n",
    "    print(f'\\n총 환자 수: {len(dataset[patient_id_col].unique())}\\n')\n",
    "\n",
    "print_summary(mimic_analysis_save, 'MIMIC-IV', 'stay_id', 'subject_id')\n",
    "\n",
    "print_summary(eicu_analysis_save, 'eICU', 'patientunitstayid', 'uniquepid')"
   ]
  },
  {
   "cell_type": "code",
   "execution_count": null,
   "id": "f4c60982",
   "metadata": {},
   "outputs": [],
   "source": [
    "# 이거 한번 해보고 찍어본 다음 샘플 수 확인 -> 너무 짜치면 아래 원하는 코호트만 선택하는거 진행"
   ]
  },
  {
   "cell_type": "code",
   "execution_count": 78,
   "id": "a6e4a357",
   "metadata": {},
   "outputs": [
    {
     "name": "stdout",
     "output_type": "stream",
     "text": [
      "MIMIC-IV CACE DEFINED\n",
      "\n",
      "전체 샘플의 개수: 476488\n",
      "\n",
      "샘플의 클래스 개수:\n",
      "1.0    123954\n",
      "2.0    115949\n",
      "3.0     59283\n",
      "4.0    177302\n",
      "Name: Case, dtype: int64\n",
      "\n",
      "총 Stay 수: 13196\n",
      "\n",
      "총 환자 수: 12496\n",
      "\n",
      "eICU CACE DEFINED\n",
      "\n",
      "전체 샘플의 개수: 386828\n",
      "\n",
      "샘플의 클래스 개수:\n",
      "1.0    181863\n",
      "2.0    121846\n",
      "3.0     24653\n",
      "4.0     58466\n",
      "Name: Case, dtype: int64\n",
      "\n",
      "총 Stay 수: 9690\n",
      "\n",
      "총 환자 수: 9233\n",
      "\n"
     ]
    }
   ],
   "source": [
    "def train_summary(dataset, dataset_name, stay_id_col, patient_id_col):\n",
    "    df = dataset.copy()\n",
    "    \n",
    "    df_raw_case1_case2 = df[(df['INDEX']=='CASE1_CASE2_DF')&~(df['Annotation']=='circ')]\n",
    "    df_raw_case3_case4 = df[~(df['INDEX']=='CASE1_CASE2_DF')]\n",
    "    \n",
    "    df = pd.concat([df_raw_case1_case2, df_raw_case3_case4], axis = 0).reset_index(drop=True)\n",
    "    \n",
    "    # df = df[~(df['Annotation']=='ambiguous')]\n",
    "    print(f'{dataset_name} CACE DEFINED\\n')\n",
    "    print(f'전체 샘플의 개수: {len(df)}\\n')\n",
    "    print('샘플의 클래스 개수:')\n",
    "    print(df['Case'].value_counts().sort_index())\n",
    "    print(f'\\n총 Stay 수: {len(df[stay_id_col].unique())}')\n",
    "    print(f'\\n총 환자 수: {len(df[patient_id_col].unique())}\\n')\n",
    "\n",
    "train_summary(mimic_analysis_save, 'MIMIC-IV', 'stay_id', 'subject_id')\n",
    "train_summary(eicu_analysis_save, 'eICU', 'patientunitstayid', 'uniquepid')"
   ]
  },
  {
   "cell_type": "code",
   "execution_count": 73,
   "id": "e08e2a9d",
   "metadata": {},
   "outputs": [
    {
     "data": {
      "text/plain": [
       "4.0    240839\n",
       "3.0     59283\n",
       "Name: Case, dtype: int64"
      ]
     },
     "execution_count": 73,
     "metadata": {},
     "output_type": "execute_result"
    }
   ],
   "source": [
    "mimic_analysis_save[mimic_analysis_save['INDEX']=='CASE3_DF']"
   ]
  },
  {
   "cell_type": "code",
   "execution_count": 85,
   "id": "09c4bfcd",
   "metadata": {},
   "outputs": [],
   "source": [
    "m_targ_stayid = set(m_case1_case2.stay_id.unique())&(set(m_case3.stay_id.unique()))\n",
    "e_targ_stayid = set(e_case1_case2.patientunitstayid.unique())&(set(e_case3.patientunitstayid.unique()))"
   ]
  },
  {
   "cell_type": "code",
   "execution_count": 90,
   "id": "98087922",
   "metadata": {},
   "outputs": [
    {
     "name": "stdout",
     "output_type": "stream",
     "text": [
      "MIMIC-IV CACE DEFINED\n",
      "\n",
      "전체 샘플의 개수: 280745\n",
      "\n",
      "샘플의 클래스 개수:\n",
      "1.0    123954\n",
      "2.0    115949\n",
      "3.0     19710\n",
      "4.0     21132\n",
      "Name: Case, dtype: int64\n",
      "\n",
      "총 Stay 수: 12894\n",
      "\n",
      "총 환자 수: 12231\n",
      "\n",
      "eICU CACE DEFINED\n",
      "\n",
      "전체 샘플의 개수: 320732\n",
      "\n",
      "샘플의 클래스 개수:\n",
      "1.0    181863\n",
      "2.0    121846\n",
      "3.0      8600\n",
      "4.0      8423\n",
      "Name: Case, dtype: int64\n",
      "\n",
      "총 Stay 수: 9621\n",
      "\n",
      "총 환자 수: 9171\n",
      "\n"
     ]
    }
   ],
   "source": [
    "def train_summary(dataset, dataset_name, stay_id_col, patient_id_col):\n",
    "    df = dataset.copy()\n",
    "    \n",
    "    df_raw_case1_case2 = df[(df['INDEX']=='CASE1_CASE2_DF')&~(df['Annotation']=='circ')]\n",
    "    df_raw_case3_case4 = df[(df['INDEX']=='CASE3_DF')]\n",
    "    \n",
    "    try:\n",
    "        df_raw_case3_case4 = df_raw_case3_case4[df_raw_case3_case4.stay_id.isin(df_raw_case1_case2.stay_id.unique())]\n",
    "    except:\n",
    "        df_raw_case3_case4 = df_raw_case3_case4[df_raw_case3_case4.patientunitstayid.isin(df_raw_case1_case2.patientunitstayid.unique())]\n",
    "    \n",
    "    df = pd.concat([df_raw_case1_case2, df_raw_case3_case4], axis = 0).reset_index(drop=True)\n",
    "    \n",
    "    \n",
    "    # df = df[~(df['Annotation']=='ambiguous')]\n",
    "    print(f'{dataset_name} CACE DEFINED\\n')\n",
    "    print(f'전체 샘플의 개수: {len(df)}\\n')\n",
    "    print('샘플의 클래스 개수:')\n",
    "    print(df['Case'].value_counts().sort_index())\n",
    "    print(f'\\n총 Stay 수: {len(df[stay_id_col].unique())}')\n",
    "    print(f'\\n총 환자 수: {len(df[patient_id_col].unique())}\\n')\n",
    "    \n",
    "    return df\n",
    "\n",
    "mimic_analysis_save_gogo = train_summary(mimic_analysis_save, 'MIMIC-IV', 'stay_id', 'subject_id')\n",
    "eicu_analysis_save_gogo = train_summary(eicu_analysis_save, 'eICU', 'patientunitstayid', 'uniquepid')"
   ]
  },
  {
   "cell_type": "code",
   "execution_count": 93,
   "id": "3d9ebd6e",
   "metadata": {},
   "outputs": [],
   "source": [
    "mimic_analysis_save.to_csv('mimic_analysis_original.csv.gz', compression = 'gzip', index=False)\n",
    "eicu_analysis_save.to_csv('eicu_analysis_original.csv.gz', compression = 'gzip', index=False)"
   ]
  },
  {
   "cell_type": "code",
   "execution_count": 92,
   "id": "3774eace",
   "metadata": {},
   "outputs": [],
   "source": [
    "mimic_analysis_save_gogo.to_csv('mimic_analysis.csv.gz', compression = 'gzip', index=False)\n",
    "eicu_analysis_save_gogo.to_csv('eicu_analysis.csv.gz', compression = 'gzip', index=False)"
   ]
  },
  {
   "cell_type": "code",
   "execution_count": 97,
   "id": "54d7c014",
   "metadata": {},
   "outputs": [],
   "source": [
    "view_columns = ['Time_since_ICU_admission', 'MAP', 'Lactate', 'lactate_up','vasoactive/inotropic', 'progress', 'Annotation','Case']"
   ]
  },
  {
   "cell_type": "code",
   "execution_count": 128,
   "id": "cf25e6ca",
   "metadata": {},
   "outputs": [
    {
     "name": "stdout",
     "output_type": "stream",
     "text": [
      "MIMIC-IV CACE DEFINED\n",
      "\n",
      "전체 샘플의 개수: 152089\n",
      "\n",
      "샘플의 클래스 개수:\n",
      "1.0    53845\n",
      "2.0    58855\n",
      "3.0    19688\n",
      "4.0    19701\n",
      "Name: Case, dtype: int64\n",
      "\n",
      "총 Stay 수: 7789\n",
      "\n",
      "총 환자 수: 7507\n",
      "\n",
      "eICU CACE DEFINED\n",
      "\n",
      "전체 샘플의 개수: 178331\n",
      "\n",
      "샘플의 클래스 개수:\n",
      "1.0    85028\n",
      "2.0    76975\n",
      "3.0     8596\n",
      "4.0     7732\n",
      "Name: Case, dtype: int64\n",
      "\n",
      "총 Stay 수: 7307\n",
      "\n",
      "총 환자 수: 7044\n",
      "\n"
     ]
    }
   ],
   "source": [
    "def train_summary(dataset, dataset_name, stay_id_col, patient_id_col):\n",
    "    df = dataset.copy()\n",
    "    \n",
    "    df_raw_case1_case2 = df[(df['INDEX']=='CASE1_CASE2_DF')&~(df['Annotation']=='circ')]\n",
    "    df_raw_case3_case4 = df[(df['INDEX']=='CASE3_DF')]\n",
    "    \n",
    "    try:\n",
    "        df_raw_case3_case4 = df_raw_case3_case4[df_raw_case3_case4.stay_id.isin(df_raw_case1_case2.stay_id.unique())]\n",
    "    except:\n",
    "        df_raw_case3_case4 = df_raw_case3_case4[df_raw_case3_case4.patientunitstayid.isin(df_raw_case1_case2.patientunitstayid.unique())]\n",
    "    \n",
    "    df = pd.concat([df_raw_case1_case2, df_raw_case3_case4], axis = 0).reset_index(drop=True)\n",
    "    \n",
    "    df = df[~((df['ABPd']==75.00)&(df['ABPs']==125.00))]\n",
    "    \n",
    "    \n",
    "    # df = df[~(df['Annotation']=='ambiguous')]\n",
    "    print(f'{dataset_name} CACE DEFINED\\n')\n",
    "    print(f'전체 샘플의 개수: {len(df)}\\n')\n",
    "    print('샘플의 클래스 개수:')\n",
    "    print(df['Case'].value_counts().sort_index())\n",
    "    print(f'\\n총 Stay 수: {len(df[stay_id_col].unique())}')\n",
    "    print(f'\\n총 환자 수: {len(df[patient_id_col].unique())}\\n')\n",
    "    \n",
    "train_summary(mimic_analysis_save, 'MIMIC-IV', 'stay_id', 'subject_id')\n",
    "train_summary(eicu_analysis_save, 'eICU', 'patientunitstayid', 'uniquepid')"
   ]
  },
  {
   "cell_type": "code",
   "execution_count": 239,
   "id": "93a879a6",
   "metadata": {},
   "outputs": [
    {
     "name": "stdout",
     "output_type": "stream",
     "text": [
      "MIMIC-IV CACE DEFINED\n",
      "\n",
      "전체 샘플의 개수: 91513\n",
      "\n",
      "샘플의 클래스 개수:\n",
      "1.0    53845\n",
      "2.0    19587\n",
      "3.0     7022\n",
      "4.0    11059\n",
      "Name: Case, dtype: int64\n",
      "\n",
      "총 Stay 수: 5055\n",
      "\n",
      "총 환자 수: 4923\n",
      "\n",
      "eICU CACE DEFINED\n",
      "\n",
      "전체 샘플의 개수: 115879\n",
      "\n",
      "샘플의 클래스 개수:\n",
      "1.0    85028\n",
      "2.0    24783\n",
      "3.0     2340\n",
      "4.0     3728\n",
      "Name: Case, dtype: int64\n",
      "\n",
      "총 Stay 수: 5636\n",
      "\n",
      "총 환자 수: 5466\n",
      "\n"
     ]
    }
   ],
   "source": [
    "def train_summary(dataset, dataset_name, stay_id_col, patient_id_col):\n",
    "    df = dataset.copy()\n",
    "    \n",
    "    df_raw_case1_case2 = df[(df['INDEX']=='CASE1_CASE2_DF')&~(df['Annotation']=='circ')]\n",
    "    df_raw_case3_case4 = df[(df['INDEX']=='CASE3_DF')]\n",
    "    \n",
    "    try:\n",
    "        df_raw_case3_case4 = df_raw_case3_case4[df_raw_case3_case4.stay_id.isin(df_raw_case1_case2.stay_id.unique())]\n",
    "    except:\n",
    "        df_raw_case3_case4 = df_raw_case3_case4[df_raw_case3_case4.patientunitstayid.isin(df_raw_case1_case2.patientunitstayid.unique())]\n",
    "    \n",
    "    df = pd.concat([df_raw_case1_case2, df_raw_case3_case4], axis = 0).reset_index(drop=True)\n",
    "    \n",
    "    df = df[~((df['ABPd']==75.00)&(df['ABPs']==125.00))]\n",
    "    df = df[~(df['Annotation']=='ambiguous')]\n",
    "    \n",
    "    # df = df[~(df['Annotation']=='ambiguous')]\n",
    "    print(f'{dataset_name} CACE DEFINED\\n')\n",
    "    print(f'전체 샘플의 개수: {len(df)}\\n')\n",
    "    print('샘플의 클래스 개수:')\n",
    "    print(df['Case'].value_counts().sort_index())\n",
    "    print(f'\\n총 Stay 수: {len(df[stay_id_col].unique())}')\n",
    "    print(f'\\n총 환자 수: {len(df[patient_id_col].unique())}\\n')\n",
    "    \n",
    "train_summary(mimic_analysis_save, 'MIMIC-IV', 'stay_id', 'subject_id')\n",
    "train_summary(eicu_analysis_save, 'eICU', 'patientunitstayid', 'uniquepid')"
   ]
  },
  {
   "cell_type": "code",
   "execution_count": 146,
   "id": "6196f7df",
   "metadata": {},
   "outputs": [],
   "source": [
    "def lactate_up(df, mode):\n",
    "    targ = df.copy().reset_index(drop=True)\n",
    "    \n",
    "    if mode == 'mimic':\n",
    "        stay_id_id = 'stay_id'\n",
    "    elif mode == 'eicu':\n",
    "        stay_id_id = 'patientunitstayid'\n",
    "        \n",
    "    targ['lactate_up'] = np.nan\n",
    "        \n",
    "    for stayid in tqdm(targ[stay_id_id].unique()):\n",
    "        \n",
    "        stay_trajectory = targ[targ[stay_id_id]==stayid]\n",
    "\n",
    "        true_measurements_lactate = stay_trajectory['Lactate'].unique()\n",
    "        true_measurements_lactate_index = []\n",
    "        \n",
    "        for value in true_measurements_lactate:\n",
    "            first_occurrence_index = stay_trajectory[stay_trajectory['Lactate'] == value].index[0]\n",
    "            true_measurements_lactate_index.append(first_occurrence_index)\n",
    "        \n",
    "        #init\n",
    "        \n",
    "        anchor_lactate = true_measurements_lactate[0]\n",
    "        count_change = 0\n",
    "        \n",
    "        # true_measurements_lactate_index = [0, 1, 2, 3]\n",
    "        # true_measurements_lactate = [(1.2 masking), 1.2, 2.0, 1.4, 0.7]\n",
    "        \n",
    "        lactate_count_dict = {element: index+1 for index, element in enumerate(true_measurements_lactate)}\n",
    "        \n",
    "        for idx, row in stay_trajectory.iterrows():\n",
    "            #LACTATE COND\n",
    "            current_lactate = row['Lactate']\n",
    "            \n",
    "            if lactate_count_dict[current_lactate] - count_change == 1:\n",
    "                lactate_decrease = current_lactate <= anchor_lactate\n",
    "            \n",
    "            elif current_lactate != anchor_lactate:\n",
    "                count_change += 1\n",
    "                lactate_decrease = current_lactate <= anchor_lactate #바뀌는 순간은 그대로 계산해도 됨\n",
    "                for key, value in lactate_count_dict.items():\n",
    "                    if value == count_change:\n",
    "                        anchor_lactate = key\n",
    "            \n",
    "            # Annotation\n",
    "            \n",
    "            if lactate_decrease:\n",
    "                targ.at[idx, 'lactate_up'] = 0\n",
    "            else :\n",
    "                targ.at[idx, 'lactate_up'] = 1\n",
    "\n",
    "    return targ"
   ]
  },
  {
   "cell_type": "code",
   "execution_count": 148,
   "id": "8f70ac4e",
   "metadata": {},
   "outputs": [
    {
     "name": "stderr",
     "output_type": "stream",
     "text": [
      "100%|██████████| 7789/7789 [00:09<00:00, 809.98it/s]\n",
      "100%|██████████| 7307/7307 [00:10<00:00, 720.56it/s]\n"
     ]
    }
   ],
   "source": [
    "mimic_analysis_save_please = lactate_up(mimic_analysis_save_gogo, 'mimic')\n",
    "eicu_analysis_save_please = lactate_up(eicu_analysis_save_gogo, 'eicu')"
   ]
  },
  {
   "cell_type": "code",
   "execution_count": 184,
   "id": "f24e4b11",
   "metadata": {},
   "outputs": [],
   "source": [
    "case1_case2_reset = mimic_analysis_save_please[mimic_analysis_save_please['INDEX']=='CASE1_CASE2_DF'].reset_index(drop=True)\n",
    "case3_case4_reset = mimic_analysis_save_please[~(mimic_analysis_save_please['INDEX']=='CASE1_CASE2_DF')].reset_index(drop=True)\n",
    "\n",
    "\n",
    "case1_idx = case1_case2_reset[(case1_case2_reset['Annotation']=='no_circ')&(case1_case2_reset['Shock_next_8h']==0)].index\n",
    "amb_case1_idx = case1_case2_reset[(case1_case2_reset['Annotation']=='ambiguous')&(case1_case2_reset['Shock_next_8h']==0)].index\n",
    "case2_idx = case1_case2_reset[(case1_case2_reset['Annotation']=='no_circ')&(case1_case2_reset['Shock_next_8h']==1)].index\n",
    "amb_case2_idx = case1_case2_reset[(case1_case2_reset['Annotation']=='ambiguous')&(case1_case2_reset['Shock_next_8h']==1)].index\n",
    "\n",
    "case1_case2 = case1_case2_reset.copy()\n",
    "case1_case2['Case'].loc[case1_idx] = 1\n",
    "case1_case2['Case'].loc[amb_case1_idx] = 1\n",
    "case1_case2['Case'].loc[case2_idx] = 2\n",
    "case1_case2['Case'].loc[amb_case2_idx] = 2\n",
    "\n",
    "mimic_please = pd.concat([case1_case2, case3_case4_reset], axis = 0).reset_index(drop=True)"
   ]
  },
  {
   "cell_type": "code",
   "execution_count": 187,
   "id": "3bb0bbbc",
   "metadata": {},
   "outputs": [],
   "source": [
    "case1_case2_reset = eicu_analysis_save_please[eicu_analysis_save_please['INDEX']=='CASE1_CASE2_DF'].reset_index(drop=True)\n",
    "case3_case4_reset = eicu_analysis_save_please[~(eicu_analysis_save_please['INDEX']=='CASE1_CASE2_DF')].reset_index(drop=True)\n",
    "\n",
    "\n",
    "case1_idx = case1_case2_reset[(case1_case2_reset['Annotation']=='no_circ')&(case1_case2_reset['Shock_next_8h']==0)].index\n",
    "amb_case1_idx = case1_case2_reset[(case1_case2_reset['Annotation']=='ambiguous')&(case1_case2_reset['Shock_next_8h']==0)].index\n",
    "case2_idx = case1_case2_reset[(case1_case2_reset['Annotation']=='no_circ')&(case1_case2_reset['Shock_next_8h']==1)].index\n",
    "amb_case2_idx = case1_case2_reset[(case1_case2_reset['Annotation']=='ambiguous')&(case1_case2_reset['Shock_next_8h']==1)].index\n",
    "\n",
    "case1_case2 = case1_case2_reset.copy()\n",
    "case1_case2['Case'].loc[case1_idx] = 1\n",
    "case1_case2['Case'].loc[amb_case1_idx] = 1\n",
    "case1_case2['Case'].loc[case2_idx] = 2\n",
    "case1_case2['Case'].loc[amb_case2_idx] = 2\n",
    "\n",
    "eicu_please = pd.concat([case1_case2, case3_case4_reset], axis = 0).reset_index(drop=True)"
   ]
  },
  {
   "cell_type": "code",
   "execution_count": 188,
   "id": "f3579faf",
   "metadata": {},
   "outputs": [],
   "source": [
    "mimic_please.to_csv('mimic_analysis.csv.gz', compression = 'gzip', index=False)\n",
    "eicu_please.to_csv('eicu_analysis.csv.gz', compression = 'gzip', index=False)"
   ]
  },
  {
   "cell_type": "code",
   "execution_count": 190,
   "id": "4be98331",
   "metadata": {},
   "outputs": [
    {
     "name": "stdout",
     "output_type": "stream",
     "text": [
      "7789\n",
      "7507\n"
     ]
    }
   ],
   "source": [
    "print(mimic_please.stay_id.nunique())\n",
    "print(mimic_please.subject_id.nunique())"
   ]
  },
  {
   "cell_type": "code",
   "execution_count": 191,
   "id": "78405d04",
   "metadata": {},
   "outputs": [
    {
     "name": "stdout",
     "output_type": "stream",
     "text": [
      "7307\n",
      "7044\n"
     ]
    }
   ],
   "source": [
    "print(eicu_please.patientunitstayid.nunique())\n",
    "print(eicu_please.uniquepid.nunique())"
   ]
  },
  {
   "cell_type": "code",
   "execution_count": 194,
   "id": "5e7a62ee",
   "metadata": {},
   "outputs": [
    {
     "name": "stdout",
     "output_type": "stream",
     "text": [
      "<bound method Series.sort_index of 1.0    76110\n",
      "2.0    36590\n",
      "4.0    19701\n",
      "3.0    19688\n",
      "Name: Case, dtype: int64>\n"
     ]
    }
   ],
   "source": [
    "print(mimic_please.Case.value_counts().sort_index)"
   ]
  },
  {
   "cell_type": "code",
   "execution_count": 195,
   "id": "e7753b63",
   "metadata": {},
   "outputs": [
    {
     "name": "stdout",
     "output_type": "stream",
     "text": [
      "<bound method Series.sort_index of 1.0    121515\n",
      "2.0     40488\n",
      "3.0      8596\n",
      "4.0      7732\n",
      "Name: Case, dtype: int64>\n"
     ]
    }
   ],
   "source": [
    "print(eicu_please.Case.value_counts().sort_index)"
   ]
  },
  {
   "cell_type": "code",
   "execution_count": null,
   "id": "e80c0e2e",
   "metadata": {},
   "outputs": [],
   "source": [
    "#지금 하는 것도 잘 안되면 그냥 ambiguous 이면서 Case 2인 애들을 독립적인 label로 보자"
   ]
  },
  {
   "cell_type": "code",
   "execution_count": 207,
   "id": "ab8d5b90",
   "metadata": {},
   "outputs": [
    {
     "data": {
      "text/plain": [
       "<bound method Series.sort_index of 1.0    53845\n",
       "2.0    19587\n",
       "4.0    11059\n",
       "3.0     7022\n",
       "Name: Case, dtype: int64>"
      ]
     },
     "execution_count": 207,
     "metadata": {},
     "output_type": "execute_result"
    }
   ],
   "source": [
    "mimic_please[~(mimic_please['Annotation']=='ambiguous')].Case.value_counts().sort_index"
   ]
  },
  {
   "cell_type": "code",
   "execution_count": 208,
   "id": "2d5f8f03",
   "metadata": {},
   "outputs": [
    {
     "data": {
      "text/plain": [
       "<bound method Series.sort_index of 1.0    85028\n",
       "2.0    24783\n",
       "4.0     3728\n",
       "3.0     2340\n",
       "Name: Case, dtype: int64>"
      ]
     },
     "execution_count": 208,
     "metadata": {},
     "output_type": "execute_result"
    }
   ],
   "source": [
    "eicu_please[~(eicu_please['Annotation']=='ambiguous')].Case.value_counts().sort_index"
   ]
  },
  {
   "cell_type": "code",
   "execution_count": 236,
   "id": "e832dffa",
   "metadata": {},
   "outputs": [
    {
     "data": {
      "text/html": [
       "<div>\n",
       "<style scoped>\n",
       "    .dataframe tbody tr th:only-of-type {\n",
       "        vertical-align: middle;\n",
       "    }\n",
       "\n",
       "    .dataframe tbody tr th {\n",
       "        vertical-align: top;\n",
       "    }\n",
       "\n",
       "    .dataframe thead th {\n",
       "        text-align: right;\n",
       "    }\n",
       "</style>\n",
       "<table border=\"1\" class=\"dataframe\">\n",
       "  <thead>\n",
       "    <tr style=\"text-align: right;\">\n",
       "      <th></th>\n",
       "      <th>Time_since_ICU_admission</th>\n",
       "      <th>MAP</th>\n",
       "      <th>Lactate</th>\n",
       "      <th>lactate_up</th>\n",
       "      <th>vasoactive/inotropic</th>\n",
       "      <th>progress</th>\n",
       "      <th>Annotation</th>\n",
       "      <th>Case</th>\n",
       "      <th>Lactate_fillna</th>\n",
       "      <th>Shock_next_8h</th>\n",
       "    </tr>\n",
       "  </thead>\n",
       "  <tbody>\n",
       "    <tr>\n",
       "      <th>38496</th>\n",
       "      <td>0</td>\n",
       "      <td>74.333333</td>\n",
       "      <td>1.1</td>\n",
       "      <td>0.0</td>\n",
       "      <td>0</td>\n",
       "      <td>0</td>\n",
       "      <td>no_circ</td>\n",
       "      <td>2.0</td>\n",
       "      <td>0</td>\n",
       "      <td>1.0</td>\n",
       "    </tr>\n",
       "    <tr>\n",
       "      <th>38497</th>\n",
       "      <td>1</td>\n",
       "      <td>87.666667</td>\n",
       "      <td>1.1</td>\n",
       "      <td>0.0</td>\n",
       "      <td>0</td>\n",
       "      <td>0</td>\n",
       "      <td>no_circ</td>\n",
       "      <td>2.0</td>\n",
       "      <td>0</td>\n",
       "      <td>1.0</td>\n",
       "    </tr>\n",
       "    <tr>\n",
       "      <th>38498</th>\n",
       "      <td>2</td>\n",
       "      <td>75.000000</td>\n",
       "      <td>1.1</td>\n",
       "      <td>0.0</td>\n",
       "      <td>0</td>\n",
       "      <td>0</td>\n",
       "      <td>no_circ</td>\n",
       "      <td>2.0</td>\n",
       "      <td>0</td>\n",
       "      <td>1.0</td>\n",
       "    </tr>\n",
       "    <tr>\n",
       "      <th>38499</th>\n",
       "      <td>3</td>\n",
       "      <td>73.000000</td>\n",
       "      <td>1.1</td>\n",
       "      <td>0.0</td>\n",
       "      <td>0</td>\n",
       "      <td>0</td>\n",
       "      <td>no_circ</td>\n",
       "      <td>2.0</td>\n",
       "      <td>0</td>\n",
       "      <td>1.0</td>\n",
       "    </tr>\n",
       "    <tr>\n",
       "      <th>38500</th>\n",
       "      <td>4</td>\n",
       "      <td>76.333333</td>\n",
       "      <td>1.1</td>\n",
       "      <td>0.0</td>\n",
       "      <td>0</td>\n",
       "      <td>0</td>\n",
       "      <td>no_circ</td>\n",
       "      <td>2.0</td>\n",
       "      <td>0</td>\n",
       "      <td>1.0</td>\n",
       "    </tr>\n",
       "    <tr>\n",
       "      <th>38501</th>\n",
       "      <td>5</td>\n",
       "      <td>71.666667</td>\n",
       "      <td>1.1</td>\n",
       "      <td>0.0</td>\n",
       "      <td>0</td>\n",
       "      <td>0</td>\n",
       "      <td>no_circ</td>\n",
       "      <td>2.0</td>\n",
       "      <td>0</td>\n",
       "      <td>1.0</td>\n",
       "    </tr>\n",
       "    <tr>\n",
       "      <th>38502</th>\n",
       "      <td>6</td>\n",
       "      <td>71.333333</td>\n",
       "      <td>1.1</td>\n",
       "      <td>0.0</td>\n",
       "      <td>0</td>\n",
       "      <td>0</td>\n",
       "      <td>no_circ</td>\n",
       "      <td>2.0</td>\n",
       "      <td>0</td>\n",
       "      <td>1.0</td>\n",
       "    </tr>\n",
       "  </tbody>\n",
       "</table>\n",
       "</div>"
      ],
      "text/plain": [
       "       Time_since_ICU_admission        MAP  Lactate  lactate_up  \\\n",
       "38496                         0  74.333333      1.1         0.0   \n",
       "38497                         1  87.666667      1.1         0.0   \n",
       "38498                         2  75.000000      1.1         0.0   \n",
       "38499                         3  73.000000      1.1         0.0   \n",
       "38500                         4  76.333333      1.1         0.0   \n",
       "38501                         5  71.666667      1.1         0.0   \n",
       "38502                         6  71.333333      1.1         0.0   \n",
       "\n",
       "       vasoactive/inotropic  progress Annotation  Case  Lactate_fillna  \\\n",
       "38496                     0         0    no_circ   2.0               0   \n",
       "38497                     0         0    no_circ   2.0               0   \n",
       "38498                     0         0    no_circ   2.0               0   \n",
       "38499                     0         0    no_circ   2.0               0   \n",
       "38500                     0         0    no_circ   2.0               0   \n",
       "38501                     0         0    no_circ   2.0               0   \n",
       "38502                     0         0    no_circ   2.0               0   \n",
       "\n",
       "       Shock_next_8h  \n",
       "38496            1.0  \n",
       "38497            1.0  \n",
       "38498            1.0  \n",
       "38499            1.0  \n",
       "38500            1.0  \n",
       "38501            1.0  \n",
       "38502            1.0  "
      ]
     },
     "execution_count": 236,
     "metadata": {},
     "output_type": "execute_result"
    }
   ],
   "source": [
    "target = mimic_please[~(mimic_please['Annotation']=='ambiguous')]\n",
    "sample = target[target['stay_id']==target.stay_id.unique()[1436]]\n",
    "sample[view_columns]"
   ]
  }
 ],
 "metadata": {
  "kernelspec": {
   "display_name": "DL",
   "language": "python",
   "name": "python3"
  },
  "language_info": {
   "codemirror_mode": {
    "name": "ipython",
    "version": 3
   },
   "file_extension": ".py",
   "mimetype": "text/x-python",
   "name": "python",
   "nbconvert_exporter": "python",
   "pygments_lexer": "ipython3",
   "version": "3.8.16"
  }
 },
 "nbformat": 4,
 "nbformat_minor": 5
}
