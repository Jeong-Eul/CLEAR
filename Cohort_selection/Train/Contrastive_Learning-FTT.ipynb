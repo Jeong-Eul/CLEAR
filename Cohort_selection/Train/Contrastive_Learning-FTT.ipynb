{
 "cells": [
  {
   "cell_type": "code",
   "execution_count": 6,
   "id": "f0aa47b1",
   "metadata": {
    "scrolled": true
   },
   "outputs": [
    {
     "name": "stdout",
     "output_type": "stream",
     "text": [
      "Fri Mar  8 16:24:03 2024       \n",
      "+-----------------------------------------------------------------------------+\n",
      "| NVIDIA-SMI 528.24       Driver Version: 528.24       CUDA Version: 12.0     |\n",
      "|-------------------------------+----------------------+----------------------+\n",
      "| GPU  Name            TCC/WDDM | Bus-Id        Disp.A | Volatile Uncorr. ECC |\n",
      "| Fan  Temp  Perf  Pwr:Usage/Cap|         Memory-Usage | GPU-Util  Compute M. |\n",
      "|                               |                      |               MIG M. |\n",
      "|===============================+======================+======================|\n",
      "|   0  NVIDIA GeForce ... WDDM  | 00000000:01:00.0  On |                  N/A |\n",
      "|  0%   36C    P8    23W / 320W |   1711MiB / 16376MiB |      3%      Default |\n",
      "|                               |                      |                  N/A |\n",
      "+-------------------------------+----------------------+----------------------+\n",
      "                                                                               \n",
      "+-----------------------------------------------------------------------------+\n",
      "| Processes:                                                                  |\n",
      "|  GPU   GI   CI        PID   Type   Process name                  GPU Memory |\n",
      "|        ID   ID                                                   Usage      |\n",
      "|=============================================================================|\n",
      "|    0   N/A  N/A      7848    C+G   ...100\\Bin\\HNetCom.Agent.exe    N/A      |\n",
      "|    0   N/A  N/A      9516    C+G   C:\\Windows\\explorer.exe         N/A      |\n",
      "|    0   N/A  N/A     10692    C+G   ...n1h2txyewy\\SearchHost.exe    N/A      |\n",
      "|    0   N/A  N/A     10776    C+G   ...artMenuExperienceHost.exe    N/A      |\n",
      "|    0   N/A  N/A     12708    C+G   ...cw5n1h2txyewy\\LockApp.exe    N/A      |\n",
      "|    0   N/A  N/A     13548    C+G   ...lPanel\\SystemSettings.exe    N/A      |\n",
      "|    0   N/A  N/A     14524    C+G   ...e\\PhoneExperienceHost.exe    N/A      |\n",
      "|    0   N/A  N/A     14704    C+G   ...icrosoft VS Code\\Code.exe    N/A      |\n",
      "|    0   N/A  N/A     17048    C+G   ...2txyewy\\TextInputHost.exe    N/A      |\n",
      "|    0   N/A  N/A     17412    C+G   ...ect\\SafeConnect.Entry.exe    N/A      |\n",
      "|    0   N/A  N/A     18316    C+G   ...n-web\\Notion Calendar.exe    N/A      |\n",
      "|    0   N/A  N/A     19360    C+G   ...ck\\app-4.36.140\\slack.exe    N/A      |\n",
      "|    0   N/A  N/A     20220    C+G   ...batNotificationClient.exe    N/A      |\n",
      "|    0   N/A  N/A     21256    C+G   ...me\\Application\\chrome.exe    N/A      |\n",
      "|    0   N/A  N/A     30256    C+G   ...y\\ShellExperienceHost.exe    N/A      |\n",
      "|    0   N/A  N/A     32832    C+G   ...pingTool\\SnippingTool.exe    N/A      |\n",
      "|    0   N/A  N/A     37068    C+G   ...we\\XboxGameBarWidgets.exe    N/A      |\n",
      "|    0   N/A  N/A     39836    C+G   ...a0\\XboxGameBarSpotify.exe    N/A      |\n",
      "+-----------------------------------------------------------------------------+\n"
     ]
    }
   ],
   "source": [
    "!nvidia-smi"
   ]
  },
  {
   "cell_type": "code",
   "execution_count": 7,
   "id": "caead66d",
   "metadata": {},
   "outputs": [],
   "source": [
    "import os\n",
    "import sys\n",
    "import numpy as np\n",
    "import torch\n",
    "import torch.nn as nn\n",
    "import torch.nn.functional as F\n",
    "from torch.utils.data import DataLoader, Dataset, WeightedRandomSampler\n",
    "import wandb\n",
    "\n",
    "module_path='/Users/DAHS/Desktop/ECP_CONT/ECP_SCL/Cohort_selection/'\n",
    "if module_path not in sys.path:\n",
    "    sys.path.append(module_path)\n",
    "\n",
    "from cohort_loader_new_version0229 import *\n",
    "\n",
    "from model import *\n",
    "from pytorch_metric_learning import losses\n",
    "import torch.optim as optim"
   ]
  },
  {
   "cell_type": "code",
   "execution_count": 8,
   "id": "2379c7db",
   "metadata": {},
   "outputs": [],
   "source": [
    "mimic_data_dir = '/Users/DAHS/Desktop/ECP_CONT/ECP_SCL/Case Labeling/mimic_analysis(new_version0308).csv.gz'\n",
    "eicu_data_dir = '/Users/DAHS/Desktop/ECP_CONT/ECP_SCL/Case Labeling/eicu_analysis(new_version0308).csv.gz'"
   ]
  },
  {
   "cell_type": "code",
   "execution_count": 9,
   "id": "3b37cf26",
   "metadata": {},
   "outputs": [
    {
     "name": "stdout",
     "output_type": "stream",
     "text": [
      "Build Dataset ....\n",
      "========== 데이터셋 분할 정보 ==========\n",
      "데이터셋 비율: 학습 = 0.90, 테스트 = 0.10\n",
      "학습셋 클래스 비율: Case\n",
      "1.0    473941\n",
      "2.0      5128\n",
      "3.0     13766\n",
      "4.0     17961\n",
      "Name: count, dtype: int64\n",
      "테스트셋 클래스 비율: Case\n",
      "1.0    53103\n",
      "2.0      512\n",
      "3.0     1191\n",
      "4.0     1383\n",
      "Name: count, dtype: int64\n",
      "--------------------------------------\n",
      "========== 클래스 비율 ==========\n",
      "학습셋 클래스 비율: 0.93:0.01:0.03:0.04\n",
      "테스트셋 클래스 비율: 0.95:0.01:0.02:0.02\n",
      "--------------------------------------\n",
      "========== 환자 및 체류 정보 ==========\n",
      "학습셋 환자 수: 2907\n",
      "테스트셋 환자 수: 329\n",
      "학습셋 체류 수: 2961\n",
      "테스트셋 체류 수: 330\n",
      "--------------------------------------\n",
      "========== 실험 설정 ==========\n",
      "분할 시드: 9040\n",
      "학습 비율: 0.9\n",
      "임계값: 0.05\n",
      "--------------------------------------\n",
      "========== 실행 결과 ==========\n",
      "총 소요 시간(초): 0.38\n",
      "시도한 시행 횟수: 0\n",
      "========== 데이터셋 분할 정보 ==========\n",
      "데이터셋 비율: 학습 = 0.90, 테스트 = 0.10\n",
      "학습셋 클래스 비율: Case\n",
      "1.0    473941\n",
      "2.0      5128\n",
      "3.0     13766\n",
      "4.0     17961\n",
      "Name: count, dtype: int64\n",
      "테스트셋 클래스 비율: Case\n",
      "1.0    53103\n",
      "2.0      512\n",
      "3.0     1191\n",
      "4.0     1383\n",
      "Name: count, dtype: int64\n",
      "--------------------------------------\n",
      "========== 클래스 비율 ==========\n",
      "학습셋 클래스 비율: 0.93:0.01:0.03:0.04\n",
      "테스트셋 클래스 비율: 0.95:0.01:0.02:0.02\n",
      "--------------------------------------\n",
      "========== 환자 및 체류 정보 ==========\n",
      "학습셋 환자 수: 2907\n",
      "테스트셋 환자 수: 329\n",
      "학습셋 체류 수: 2961\n",
      "테스트셋 체류 수: 330\n",
      "--------------------------------------\n",
      "========== 실험 설정 ==========\n",
      "분할 시드: 9040\n",
      "학습 비율: 0.9\n",
      "임계값: 0.05\n",
      "--------------------------------------\n",
      "========== 실행 결과 ==========\n",
      "총 소요 시간(초): 0.39\n",
      "시도한 시행 횟수: 0\n"
     ]
    }
   ],
   "source": [
    "## Build Dataset \n",
    "print(f'Build Dataset ....')\n",
    "\n",
    "dataset_train = TrainingDataset(data_path=mimic_data_dir, data_type='mimic',mode='train',seed=9040)\n",
    "# loader_train = DataLoader(dataset_train, batch_size=256, shuffle=True, drop_last=True)\n",
    "\n",
    "y_train_indices = dataset_train.df_num.index\n",
    "y_train = [dataset_train.y[i] for i in y_train_indices]\n",
    "class_sample_count = np.array([len(np.where(y_train == t)[0]) for t in np.unique(y_train)])\n",
    "\n",
    "weight = 1. / class_sample_count\n",
    "    \n",
    "samples_weight = np.array([weight[int(t)-1] for t in y_train])\n",
    "samples_weight = torch.from_numpy(samples_weight)\n",
    "sampler = WeightedRandomSampler(samples_weight.type('torch.DoubleTensor'), len(samples_weight))\n",
    "\n",
    "loader_train = DataLoader(dataset_train, batch_size=64, shuffle=False, sampler=sampler, drop_last=True)\n",
    "\n",
    "dataset_val = TrainingDataset(data_path=mimic_data_dir, data_type='mimic',mode='valid',seed=9040)\n",
    "loader_val = DataLoader(dataset_val, batch_size=64, shuffle=False, drop_last=True)\n",
    "\n",
    "# y_valid_indices = dataset_val.df_num.index\n",
    "# y_valid = [dataset_val.y[i] for i in y_valid_indices]\n",
    "# class_sample_count = np.array([len(np.where(y_valid == t)[0]) for t in np.unique(y_valid)])\n",
    "\n",
    "# weight = 1. / class_sample_count\n",
    "    \n",
    "# samples_weight = np.array([weight[int(t)-1] for t in y_valid])\n",
    "# samples_weight = torch.from_numpy(samples_weight)\n",
    "# sampler = WeightedRandomSampler(samples_weight.type('torch.DoubleTensor'), len(samples_weight))\n",
    "\n",
    "# loader_val = DataLoader(dataset_val, batch_size=128, shuffle=False, sampler=sampler, drop_last=True)\n",
    "\n",
    "# Tuple Containing the number of unique values within each category\n",
    "card_categories = []\n",
    "for col in dataset_train.df_cat.columns:\n",
    "    card_categories.append(dataset_train.df_cat[col].nunique())"
   ]
  },
  {
   "cell_type": "code",
   "execution_count": 5,
   "id": "a58d004f",
   "metadata": {},
   "outputs": [],
   "source": [
    "# for inference\n",
    "# eicu_train = TableDataset(data_path=eicu_data_dir, data_type='eicu',mode='valid',seed=9040)\n",
    "# loader_eicu_out = DataLoader(eicu_train, batch_size=32, shuffle=False, drop_last=False)\n",
    "\n",
    "# mimic_train = TableDataset(data_path=mimic_data_dir, data_type='mimic',mode='train',seed=9040)\n",
    "# loader_trn_out = DataLoader(mimic_train, batch_size=32, shuffle=False, drop_last=False)\n",
    "\n",
    "# mimic_valid = TableDataset(data_path=mimic_data_dir, data_type='mimic',mode='valid',seed=9040)\n",
    "# loader_val_out = DataLoader(mimic_valid, batch_size=32, shuffle=False, drop_last=False)"
   ]
  },
  {
   "cell_type": "code",
   "execution_count": 10,
   "id": "f7ffe285",
   "metadata": {},
   "outputs": [],
   "source": [
    "def seed_everything(seed):\n",
    "    random.seed(seed)\n",
    "    os.environ['PYTHONHASHSEED'] = str(seed)\n",
    "    np.random.seed(seed)\n",
    "    torch.manual_seed(seed)\n",
    "    torch.cuda.manual_seed(seed)\n",
    "    torch.cuda.manual_seed_all(seed)\n",
    "    torch.backends.cudnn.deterministic = True\n",
    "\n",
    "SEED = 7759\n",
    "seed_everything(seed = SEED)"
   ]
  },
  {
   "cell_type": "code",
   "execution_count": 11,
   "id": "39144cc8",
   "metadata": {},
   "outputs": [],
   "source": [
    "import math\n",
    "from torch.optim.lr_scheduler import _LRScheduler\n",
    "\n",
    "class CosineAnnealingWarmUpRestarts(_LRScheduler):\n",
    "    def __init__(self, optimizer, T_0, T_mult=1, eta_max=0.1, T_up=0, gamma=1., last_epoch=-1):\n",
    "        if T_0 <= 0 or not isinstance(T_0, int):\n",
    "            raise ValueError(\"Expected positive integer T_0, but got {}\".format(T_0))\n",
    "        if T_mult < 1 or not isinstance(T_mult, int):\n",
    "            raise ValueError(\"Expected integer T_mult >= 1, but got {}\".format(T_mult))\n",
    "        if T_up < 0 or not isinstance(T_up, int):\n",
    "            raise ValueError(\"Expected positive integer T_up, but got {}\".format(T_up))\n",
    "        self.T_0 = T_0\n",
    "        self.T_mult = T_mult\n",
    "        self.base_eta_max = eta_max\n",
    "        self.eta_max = eta_max\n",
    "        self.T_up = T_up\n",
    "        self.T_i = T_0\n",
    "        self.gamma = gamma\n",
    "        self.cycle = 0\n",
    "        self.T_cur = last_epoch\n",
    "        super(CosineAnnealingWarmUpRestarts, self).__init__(optimizer, last_epoch)\n",
    "    \n",
    "    def get_lr(self):\n",
    "        if self.T_cur == -1:\n",
    "            return self.base_lrs\n",
    "        elif self.T_cur < self.T_up:\n",
    "            return [(self.eta_max - base_lr)*self.T_cur / self.T_up + base_lr for base_lr in self.base_lrs]\n",
    "        else:\n",
    "            return [base_lr + (self.eta_max - base_lr) * (1 + math.cos(math.pi * (self.T_cur-self.T_up) / (self.T_i - self.T_up))) / 2\n",
    "                    for base_lr in self.base_lrs]\n",
    "\n",
    "    def step(self, epoch=None):\n",
    "        if epoch is None:\n",
    "            epoch = self.last_epoch + 1\n",
    "            self.T_cur = self.T_cur + 1\n",
    "            if self.T_cur >= self.T_i:\n",
    "                self.cycle += 1\n",
    "                self.T_cur = self.T_cur - self.T_i\n",
    "                self.T_i = (self.T_i - self.T_up) * self.T_mult + self.T_up\n",
    "        else:\n",
    "            if epoch >= self.T_0:\n",
    "                if self.T_mult == 1:\n",
    "                    self.T_cur = epoch % self.T_0\n",
    "                    self.cycle = epoch // self.T_0\n",
    "                else:\n",
    "                    n = int(math.log((epoch / self.T_0 * (self.T_mult - 1) + 1), self.T_mult))\n",
    "                    self.cycle = n\n",
    "                    self.T_cur = epoch - self.T_0 * (self.T_mult ** n - 1) / (self.T_mult - 1)\n",
    "                    self.T_i = self.T_0 * self.T_mult ** (n)\n",
    "            else:\n",
    "                self.T_i = self.T_0\n",
    "                self.T_cur = epoch\n",
    "                \n",
    "        self.eta_max = self.base_eta_max * (self.gamma**self.cycle)\n",
    "        self.last_epoch = math.floor(epoch)\n",
    "        for param_group, lr in zip(self.optimizer.param_groups, self.get_lr()):\n",
    "            param_group['lr'] = lr"
   ]
  },
  {
   "cell_type": "code",
   "execution_count": 14,
   "id": "9ef538f9",
   "metadata": {},
   "outputs": [],
   "source": [
    "import gc\n",
    "gc.collect()\n",
    "import optuna\n",
    "from optuna.trial import TrialState\n",
    "\n",
    "path_model = \"./checkpoint\"\n",
    "if not os.path.exists(path_model):\n",
    "    os.makedirs(os.path.join(path_model))\n",
    "\n",
    "def param():\n",
    "    categories = card_categories\n",
    "    num_continuous = 158\n",
    "    dim = 78                       # Embedding Dimension of Input Data  32\n",
    "    depth = 4                      # Nums of Attention Layer Depth  6\n",
    "    heads = 5                      # Nums of Attention head\n",
    "    dim_head = 52                 # Dimension of Attention(Q,K,V)\n",
    "    attn_dropout = 0.4585             # Ratio of Attention Layer dropout\n",
    "    ff_dropout = 0.5641  # Ratio of FeedForward Layer dropout\n",
    "    temp = 0.2533 \n",
    "    total_epoch = 300\n",
    "    lr =  0.000007485184106420897\n",
    "    num_special_tokens = 2\n",
    "    return categories, num_continuous, dim, depth, heads, dim_head, attn_dropout, ff_dropout, temp, total_epoch, lr, num_special_tokens \n",
    "\n",
    "\n",
    "def train(trial, search = False):\n",
    "    global emb_model, optimizer, train_loss_history  # train_loss_history 추가\n",
    "    # device            = torch.device('cuda:0')\n",
    "    train_loss_history = []  # Epoch별 평균 train loss 저장을 위한 리스트 초기화\n",
    "    patience = 5\n",
    "    early_stop_counter = 0\n",
    "    categories, num_continuous, dim, depth, heads, dim_head, attn_dropout, ff_dropout, temp, total_epoch, lr, num_special_tokens = param()\n",
    "\n",
    "    \n",
    "    \n",
    "    log_file = \"FT-Transformer(0309).txt\" \n",
    "        \n",
    "    def log_message(message):\n",
    "        with open(log_file, \"a\") as file:\n",
    "            file.write(message + \"\\n\")\n",
    "        print(message)\n",
    "    def log_message_not_print(message):\n",
    "        with open(log_file, \"a\") as file:\n",
    "            file.write(message + \"\\n\")\n",
    "        \n",
    "    search_iter = 0\n",
    "    # search parameters\n",
    "    if search == True:\n",
    "        \n",
    "        search_iter += 1\n",
    "        \n",
    "        lr = trial.suggest_uniform('lr', 0.000009, 0.0005)\n",
    "        dim      = trial.suggest_int('emb dim', 60,100)\n",
    "        dim_head      = trial.suggest_int('Dimension of Attention(Q,K,V)', 16,100)\n",
    "        heads = trial.suggest_int('head', 2,6)\n",
    "        depth      = trial.suggest_int('depth', 2,4)\n",
    "        ff_dropout = trial.suggest_uniform('FeedForward Layer dropout', 0.5, 0.79)\n",
    "        temp       = trial.suggest_uniform('temp', 0.1, 0.5)\n",
    "        lambda_weight = trial.suggest_uniform('weight decay', 0.2, 0.9)\n",
    "        \n",
    "    log_message(f'learning_rate : {lr}, \\nepoch :  {total_epoch}, Embedding Dimension of Input Data : {dim}, Dimension of Attention : {dim_head}, Attention Head : {heads}, Nums of Attention Layer Depth : {depth} drop_rate : {ff_dropout:.4f} temperature : {temp:.4f}')\n",
    "    wandb.init(name=f'Ftt-training(0309): {lr}',\n",
    "        project=\"ECP_CONT\", config={\n",
    "        \"learning_rate\": lr,\n",
    "        \"dropout\": ff_dropout,\n",
    "        'categories': categories,\n",
    "        'num_continuous':num_continuous,\n",
    "        'dim': dim,\n",
    "        'depth':depth,\n",
    "        'heads':heads,\n",
    "        'dim_head':dim_head,\n",
    "        'attn_dropout':attn_dropout,\n",
    "        'temp':temp,\n",
    "        # 'weight decay':lambda_weight,\n",
    "        'num_special_tokens':num_special_tokens,\n",
    "        \"architecture\": \"FTT\",\n",
    "        \"dataset\": \"MIMIC-IV\",\n",
    "    })\n",
    "    # 모델 정의\n",
    "    emb_model = FTTransformer(categories=categories,\n",
    "    num_continuous=num_continuous,\n",
    "    dim=dim,\n",
    "    depth=depth,\n",
    "    heads=heads,\n",
    "    dim_head=dim_head,\n",
    "    num_special_tokens = 2,\n",
    "    attn_dropout=attn_dropout,\n",
    "    ff_dropout=ff_dropout).to(device)\n",
    "    \n",
    "    # print(emb_model)\n",
    "\n",
    "    contrastive_loss = losses.SupConLoss(temperature=temp)\n",
    "    # optimizer = optim.RMSprop(emb_model.parameters(), lr= lr)\n",
    "    optimizer = optim.AdamW(emb_model.parameters(), lr = lr)\n",
    "    # scheduler = CosineAnnealingWarmUpRestarts(optimizer, T_0=50, T_mult=2, eta_max=0.1,  T_up=10, gamma=0.5)\n",
    "    \n",
    "    ## Model Train and Eval\n",
    "    Best_valid_loss = 1e9\n",
    "    for epoch in range(1, total_epoch+1):\n",
    "        emb_model.train()\n",
    "        running_loss = 0\n",
    "\n",
    "        # current_lr = optimizer.param_groups[0][\"lr\"]\n",
    "        \n",
    "        for num_iter, batch_data in enumerate(tqdm(loader_train)):\n",
    "            optimizer.zero_grad()\n",
    "            \n",
    "            X_num, X_cat, label = batch_data\n",
    "            X_num, X_cat, label = X_num.to(device), X_cat.to(device), label.to(device)\n",
    "\n",
    "            latent, _ = emb_model(X_cat,X_num,True)\n",
    "            label =  label.type(torch.LongTensor)\n",
    "            \n",
    "            # backward pass\n",
    "            loss = contrastive_loss(latent, label)\n",
    "            # loss = criterion(output, label.unsqueeze(dim = 1))\n",
    "            loss.backward()\n",
    "            optimizer.step()\n",
    "            \n",
    "            running_loss += loss.item()\n",
    "            # scheduler.step()  \n",
    "            \n",
    "        avg_train_loss = running_loss / len(loader_train)\n",
    "        train_loss_history.append(avg_train_loss)  # 평균 train loss 저장\n",
    "        log_message_not_print(f'Epoch {epoch}/{total_epoch} - Train Loss: {avg_train_loss:.4f}')\n",
    "        \n",
    "        \n",
    "        with torch.no_grad():\n",
    "            emb_model.eval()\n",
    "            running_loss = 0\n",
    "            for num_iter, batch_data in enumerate(tqdm(loader_val)):\n",
    "                X_num, X_cat, label = batch_data\n",
    "                X_num, X_cat, label = X_num.to(device), X_cat.to(device), label.to(device)\n",
    "                \n",
    "                latent,_ = emb_model(X_cat,X_num,True)\n",
    "                loss = contrastive_loss(latent, label)                \n",
    "                running_loss += loss.item()\n",
    "                \n",
    "        avg_valid_loss = np.round(running_loss / len(loader_val),4) \n",
    "        log_message_not_print(f'Epoch{epoch} / {total_epoch} Valid Loss : {avg_valid_loss}')\n",
    "        wandb.log({\"train loss\":avg_train_loss, \"valid loss\":avg_valid_loss})\n",
    "\n",
    "        if avg_valid_loss < Best_valid_loss:\n",
    "            # log_message(f'Best Loss {Best_valid_loss:.4f} -> {running_loss / len(loader_val):.4f} Update! & Save Checkpoint')\n",
    "            Best_valid_loss = avg_valid_loss\n",
    "            early_stop_counter = 0\n",
    "            torch.save(emb_model.state_dict(),f'{path_model}/FTTransformer_pattern.pth')\n",
    "            \n",
    "        else:\n",
    "            early_stop_counter += 1\n",
    "\n",
    "        if early_stop_counter >= patience:\n",
    "            log_message(\"Early stopping triggered due to valid loss\")\n",
    "            # trial.set_user_attr(\"early_stopped\", True)\n",
    "            # return TrialState.PRUNED\n",
    "            return emb_model\n",
    "        \n",
    "    # return avg_valid_loss\n",
    "    return emb_model"
   ]
  },
  {
   "cell_type": "code",
   "execution_count": 9,
   "id": "7fba9128",
   "metadata": {
    "scrolled": true
   },
   "outputs": [
    {
     "name": "stderr",
     "output_type": "stream",
     "text": [
      "[I 2024-02-12 06:24:15,343] A new study created in memory with name: no-name-a2e010f9-a968-4af1-af5a-828aab7ab829\n",
      "Failed to detect the name of this notebook, you can set it manually with the WANDB_NOTEBOOK_NAME environment variable to enable code saving.\n"
     ]
    },
    {
     "name": "stdout",
     "output_type": "stream",
     "text": [
      "learning_rate : 0.0002280465309612618, \n",
      "epoch :  30, Embedding Dimension of Input Data : 62, Dimension of Attention : 67, Attention Head : 2, Nums of Attention Layer Depth : 2 drop_rate : 0.5584 temperature : 0.4799 weight decay : 0.8743\n"
     ]
    },
    {
     "name": "stderr",
     "output_type": "stream",
     "text": [
      "\u001b[34m\u001b[1mwandb\u001b[0m: Currently logged in as: \u001b[33mrnjswjddmf\u001b[0m. Use \u001b[1m`wandb login --relogin`\u001b[0m to force relogin\n"
     ]
    },
    {
     "data": {
      "text/html": [
       "Tracking run with wandb version 0.16.3"
      ],
      "text/plain": [
       "<IPython.core.display.HTML object>"
      ]
     },
     "metadata": {},
     "output_type": "display_data"
    },
    {
     "data": {
      "text/html": [
       "Run data is saved locally in <code>c:\\Users\\DAHS\\Desktop\\ECP_CONT\\ECP_SCL\\Cohort_selection\\Train\\wandb\\run-20240212_062416-ienafy8j</code>"
      ],
      "text/plain": [
       "<IPython.core.display.HTML object>"
      ]
     },
     "metadata": {},
     "output_type": "display_data"
    },
    {
     "data": {
      "text/html": [
       "Syncing run <strong><a href='https://wandb.ai/rnjswjddmf/ECP_CONT/runs/ienafy8j' target=\"_blank\">Ftt-training_optuna: 0.0002280465309612618</a></strong> to <a href='https://wandb.ai/rnjswjddmf/ECP_CONT' target=\"_blank\">Weights & Biases</a> (<a href='https://wandb.me/run' target=\"_blank\">docs</a>)<br/>"
      ],
      "text/plain": [
       "<IPython.core.display.HTML object>"
      ]
     },
     "metadata": {},
     "output_type": "display_data"
    },
    {
     "data": {
      "text/html": [
       " View project at <a href='https://wandb.ai/rnjswjddmf/ECP_CONT' target=\"_blank\">https://wandb.ai/rnjswjddmf/ECP_CONT</a>"
      ],
      "text/plain": [
       "<IPython.core.display.HTML object>"
      ]
     },
     "metadata": {},
     "output_type": "display_data"
    },
    {
     "data": {
      "text/html": [
       " View run at <a href='https://wandb.ai/rnjswjddmf/ECP_CONT/runs/ienafy8j' target=\"_blank\">https://wandb.ai/rnjswjddmf/ECP_CONT/runs/ienafy8j</a>"
      ],
      "text/plain": [
       "<IPython.core.display.HTML object>"
      ]
     },
     "metadata": {},
     "output_type": "display_data"
    },
    {
     "name": "stderr",
     "output_type": "stream",
     "text": [
      "100%|██████████| 7966/7966 [03:37<00:00, 36.61it/s]\n",
      "100%|██████████| 876/876 [00:10<00:00, 83.42it/s]\n",
      "100%|██████████| 7966/7966 [03:35<00:00, 37.01it/s]\n",
      "100%|██████████| 876/876 [00:10<00:00, 83.17it/s]\n",
      "100%|██████████| 7966/7966 [03:21<00:00, 39.54it/s]\n",
      "100%|██████████| 876/876 [00:10<00:00, 83.61it/s]\n",
      "100%|██████████| 7966/7966 [03:23<00:00, 39.23it/s]\n",
      "100%|██████████| 876/876 [00:10<00:00, 83.88it/s]\n",
      "100%|██████████| 7966/7966 [03:49<00:00, 34.73it/s]\n",
      "100%|██████████| 876/876 [00:17<00:00, 48.99it/s]\n",
      "[I 2024-02-12 06:43:04,573] Trial 0 finished with value: 2.0 and parameters: {'lr': 0.0002280465309612618, 'emb dim': 62, 'Dimension of Attention(Q,K,V)': 67, 'head': 2, 'depth': 2, 'FeedForward Layer dropout': 0.5583547531108376, 'temp': 0.4799392116118094, 'weight decay': 0.8743086164479266}. Best is trial 0 with value: 2.0.\n"
     ]
    },
    {
     "name": "stdout",
     "output_type": "stream",
     "text": [
      "Early stopping triggered due to valid loss\n",
      "learning_rate : 0.00013026388709019306, \n",
      "epoch :  30, Embedding Dimension of Input Data : 89, Dimension of Attention : 76, Attention Head : 6, Nums of Attention Layer Depth : 2 drop_rate : 0.5983 temperature : 0.3637 weight decay : 0.3085\n"
     ]
    },
    {
     "data": {
      "text/html": [
       "Finishing last run (ID:ienafy8j) before initializing another..."
      ],
      "text/plain": [
       "<IPython.core.display.HTML object>"
      ]
     },
     "metadata": {},
     "output_type": "display_data"
    },
    {
     "data": {
      "text/html": [
       "<style>\n",
       "    table.wandb td:nth-child(1) { padding: 0 10px; text-align: left ; width: auto;} td:nth-child(2) {text-align: left ; width: 100%}\n",
       "    .wandb-row { display: flex; flex-direction: row; flex-wrap: wrap; justify-content: flex-start; width: 100% }\n",
       "    .wandb-col { display: flex; flex-direction: column; flex-basis: 100%; flex: 1; padding: 10px; }\n",
       "    </style>\n",
       "<div class=\"wandb-row\"><div class=\"wandb-col\"><h3>Run history:</h3><br/><table class=\"wandb\"><tr><td>train loss</td><td>█▁▁▁▁</td></tr><tr><td>valid loss</td><td>▁▁█▃█</td></tr></table><br/></div><div class=\"wandb-col\"><h3>Run summary:</h3><br/><table class=\"wandb\"><tr><td>train loss</td><td>3.3687</td></tr><tr><td>valid loss</td><td>0.4869</td></tr></table><br/></div></div>"
      ],
      "text/plain": [
       "<IPython.core.display.HTML object>"
      ]
     },
     "metadata": {},
     "output_type": "display_data"
    },
    {
     "data": {
      "text/html": [
       " View run <strong style=\"color:#cdcd00\">Ftt-training_optuna: 0.0002280465309612618</strong> at: <a href='https://wandb.ai/rnjswjddmf/ECP_CONT/runs/ienafy8j' target=\"_blank\">https://wandb.ai/rnjswjddmf/ECP_CONT/runs/ienafy8j</a><br/>Synced 5 W&B file(s), 0 media file(s), 0 artifact file(s) and 0 other file(s)"
      ],
      "text/plain": [
       "<IPython.core.display.HTML object>"
      ]
     },
     "metadata": {},
     "output_type": "display_data"
    },
    {
     "data": {
      "text/html": [
       "Find logs at: <code>.\\wandb\\run-20240212_062416-ienafy8j\\logs</code>"
      ],
      "text/plain": [
       "<IPython.core.display.HTML object>"
      ]
     },
     "metadata": {},
     "output_type": "display_data"
    },
    {
     "data": {
      "text/html": [
       "Successfully finished last run (ID:ienafy8j). Initializing new run:<br/>"
      ],
      "text/plain": [
       "<IPython.core.display.HTML object>"
      ]
     },
     "metadata": {},
     "output_type": "display_data"
    },
    {
     "data": {
      "text/html": [
       "Tracking run with wandb version 0.16.3"
      ],
      "text/plain": [
       "<IPython.core.display.HTML object>"
      ]
     },
     "metadata": {},
     "output_type": "display_data"
    },
    {
     "data": {
      "text/html": [
       "Run data is saved locally in <code>c:\\Users\\DAHS\\Desktop\\ECP_CONT\\ECP_SCL\\Cohort_selection\\Train\\wandb\\run-20240212_064304-kwlmzei5</code>"
      ],
      "text/plain": [
       "<IPython.core.display.HTML object>"
      ]
     },
     "metadata": {},
     "output_type": "display_data"
    },
    {
     "data": {
      "text/html": [
       "Syncing run <strong><a href='https://wandb.ai/rnjswjddmf/ECP_CONT/runs/kwlmzei5' target=\"_blank\">Ftt-training_optuna: 0.00013026388709019306</a></strong> to <a href='https://wandb.ai/rnjswjddmf/ECP_CONT' target=\"_blank\">Weights & Biases</a> (<a href='https://wandb.me/run' target=\"_blank\">docs</a>)<br/>"
      ],
      "text/plain": [
       "<IPython.core.display.HTML object>"
      ]
     },
     "metadata": {},
     "output_type": "display_data"
    },
    {
     "data": {
      "text/html": [
       " View project at <a href='https://wandb.ai/rnjswjddmf/ECP_CONT' target=\"_blank\">https://wandb.ai/rnjswjddmf/ECP_CONT</a>"
      ],
      "text/plain": [
       "<IPython.core.display.HTML object>"
      ]
     },
     "metadata": {},
     "output_type": "display_data"
    },
    {
     "data": {
      "text/html": [
       " View run at <a href='https://wandb.ai/rnjswjddmf/ECP_CONT/runs/kwlmzei5' target=\"_blank\">https://wandb.ai/rnjswjddmf/ECP_CONT/runs/kwlmzei5</a>"
      ],
      "text/plain": [
       "<IPython.core.display.HTML object>"
      ]
     },
     "metadata": {},
     "output_type": "display_data"
    },
    {
     "name": "stderr",
     "output_type": "stream",
     "text": [
      "100%|██████████| 7966/7966 [04:23<00:00, 30.25it/s]\n",
      "100%|██████████| 876/876 [00:12<00:00, 72.16it/s]\n",
      "100%|██████████| 7966/7966 [04:17<00:00, 30.91it/s]\n",
      "100%|██████████| 876/876 [00:10<00:00, 83.31it/s]\n",
      "100%|██████████| 7966/7966 [03:52<00:00, 34.21it/s]\n",
      "100%|██████████| 876/876 [00:10<00:00, 83.47it/s]\n",
      "100%|██████████| 7966/7966 [03:59<00:00, 33.30it/s]\n",
      "100%|██████████| 876/876 [00:11<00:00, 78.69it/s]\n",
      "100%|██████████| 7966/7966 [04:00<00:00, 33.13it/s]\n",
      "100%|██████████| 876/876 [00:11<00:00, 79.56it/s]\n",
      "100%|██████████| 7966/7966 [04:32<00:00, 29.25it/s]\n",
      "100%|██████████| 876/876 [00:19<00:00, 44.10it/s]\n",
      "100%|██████████| 7966/7966 [05:48<00:00, 22.88it/s]\n",
      "100%|██████████| 876/876 [00:19<00:00, 44.12it/s]\n",
      "100%|██████████| 7966/7966 [05:51<00:00, 22.68it/s]\n",
      "100%|██████████| 876/876 [00:20<00:00, 43.42it/s]\n",
      "100%|██████████| 7966/7966 [05:48<00:00, 22.87it/s]\n",
      "100%|██████████| 876/876 [00:19<00:00, 44.00it/s]\n",
      "100%|██████████| 7966/7966 [05:49<00:00, 22.80it/s]\n",
      "100%|██████████| 876/876 [00:19<00:00, 44.45it/s]\n",
      "100%|██████████| 7966/7966 [05:52<00:00, 22.60it/s]\n",
      "100%|██████████| 876/876 [00:19<00:00, 44.05it/s]\n",
      "100%|██████████| 7966/7966 [05:49<00:00, 22.80it/s]\n",
      "100%|██████████| 876/876 [00:19<00:00, 44.29it/s]\n",
      "100%|██████████| 7966/7966 [05:48<00:00, 22.84it/s]\n",
      "100%|██████████| 876/876 [00:19<00:00, 44.20it/s]\n",
      "100%|██████████| 7966/7966 [05:52<00:00, 22.63it/s]\n",
      "100%|██████████| 876/876 [00:19<00:00, 44.47it/s]\n",
      "[I 2024-02-12 07:58:54,818] Trial 1 finished with value: 2.0 and parameters: {'lr': 0.00013026388709019306, 'emb dim': 89, 'Dimension of Attention(Q,K,V)': 76, 'head': 6, 'depth': 2, 'FeedForward Layer dropout': 0.5982686221692093, 'temp': 0.3636584090108519, 'weight decay': 0.30850699073743293}. Best is trial 0 with value: 2.0.\n"
     ]
    },
    {
     "name": "stdout",
     "output_type": "stream",
     "text": [
      "Early stopping triggered due to valid loss\n",
      "learning_rate : 7.721650085647331e-05, \n",
      "epoch :  30, Embedding Dimension of Input Data : 99, Dimension of Attention : 17, Attention Head : 5, Nums of Attention Layer Depth : 4 drop_rate : 0.5237 temperature : 0.2742 weight decay : 0.4624\n"
     ]
    },
    {
     "data": {
      "text/html": [
       "Finishing last run (ID:kwlmzei5) before initializing another..."
      ],
      "text/plain": [
       "<IPython.core.display.HTML object>"
      ]
     },
     "metadata": {},
     "output_type": "display_data"
    },
    {
     "data": {
      "text/html": [
       "<style>\n",
       "    table.wandb td:nth-child(1) { padding: 0 10px; text-align: left ; width: auto;} td:nth-child(2) {text-align: left ; width: 100%}\n",
       "    .wandb-row { display: flex; flex-direction: row; flex-wrap: wrap; justify-content: flex-start; width: 100% }\n",
       "    .wandb-col { display: flex; flex-direction: column; flex-basis: 100%; flex: 1; padding: 10px; }\n",
       "    </style>\n",
       "<div class=\"wandb-row\"><div class=\"wandb-col\"><h3>Run history:</h3><br/><table class=\"wandb\"><tr><td>train loss</td><td>█▇▆▆▃▃▂▂▂▂▂▁▁▁</td></tr><tr><td>valid loss</td><td>▄▄▄▂▂▂▁▂▂▁▂▄█▃</td></tr></table><br/></div><div class=\"wandb-col\"><h3>Run summary:</h3><br/><table class=\"wandb\"><tr><td>train loss</td><td>3.23511</td></tr><tr><td>valid loss</td><td>0.4859</td></tr></table><br/></div></div>"
      ],
      "text/plain": [
       "<IPython.core.display.HTML object>"
      ]
     },
     "metadata": {},
     "output_type": "display_data"
    },
    {
     "data": {
      "text/html": [
       " View run <strong style=\"color:#cdcd00\">Ftt-training_optuna: 0.00013026388709019306</strong> at: <a href='https://wandb.ai/rnjswjddmf/ECP_CONT/runs/kwlmzei5' target=\"_blank\">https://wandb.ai/rnjswjddmf/ECP_CONT/runs/kwlmzei5</a><br/>Synced 5 W&B file(s), 0 media file(s), 0 artifact file(s) and 0 other file(s)"
      ],
      "text/plain": [
       "<IPython.core.display.HTML object>"
      ]
     },
     "metadata": {},
     "output_type": "display_data"
    },
    {
     "data": {
      "text/html": [
       "Find logs at: <code>.\\wandb\\run-20240212_064304-kwlmzei5\\logs</code>"
      ],
      "text/plain": [
       "<IPython.core.display.HTML object>"
      ]
     },
     "metadata": {},
     "output_type": "display_data"
    },
    {
     "data": {
      "text/html": [
       "Successfully finished last run (ID:kwlmzei5). Initializing new run:<br/>"
      ],
      "text/plain": [
       "<IPython.core.display.HTML object>"
      ]
     },
     "metadata": {},
     "output_type": "display_data"
    },
    {
     "data": {
      "text/html": [
       "Tracking run with wandb version 0.16.3"
      ],
      "text/plain": [
       "<IPython.core.display.HTML object>"
      ]
     },
     "metadata": {},
     "output_type": "display_data"
    },
    {
     "data": {
      "text/html": [
       "Run data is saved locally in <code>c:\\Users\\DAHS\\Desktop\\ECP_CONT\\ECP_SCL\\Cohort_selection\\Train\\wandb\\run-20240212_075854-hvl1i5zb</code>"
      ],
      "text/plain": [
       "<IPython.core.display.HTML object>"
      ]
     },
     "metadata": {},
     "output_type": "display_data"
    },
    {
     "data": {
      "text/html": [
       "Syncing run <strong><a href='https://wandb.ai/rnjswjddmf/ECP_CONT/runs/hvl1i5zb' target=\"_blank\">Ftt-training_optuna: 7.721650085647331e-05</a></strong> to <a href='https://wandb.ai/rnjswjddmf/ECP_CONT' target=\"_blank\">Weights & Biases</a> (<a href='https://wandb.me/run' target=\"_blank\">docs</a>)<br/>"
      ],
      "text/plain": [
       "<IPython.core.display.HTML object>"
      ]
     },
     "metadata": {},
     "output_type": "display_data"
    },
    {
     "data": {
      "text/html": [
       " View project at <a href='https://wandb.ai/rnjswjddmf/ECP_CONT' target=\"_blank\">https://wandb.ai/rnjswjddmf/ECP_CONT</a>"
      ],
      "text/plain": [
       "<IPython.core.display.HTML object>"
      ]
     },
     "metadata": {},
     "output_type": "display_data"
    },
    {
     "data": {
      "text/html": [
       " View run at <a href='https://wandb.ai/rnjswjddmf/ECP_CONT/runs/hvl1i5zb' target=\"_blank\">https://wandb.ai/rnjswjddmf/ECP_CONT/runs/hvl1i5zb</a>"
      ],
      "text/plain": [
       "<IPython.core.display.HTML object>"
      ]
     },
     "metadata": {},
     "output_type": "display_data"
    },
    {
     "name": "stderr",
     "output_type": "stream",
     "text": [
      "100%|██████████| 7966/7966 [08:02<00:00, 16.52it/s]\n",
      "100%|██████████| 876/876 [00:21<00:00, 40.90it/s]\n",
      "100%|██████████| 7966/7966 [08:04<00:00, 16.46it/s]\n",
      "100%|██████████| 876/876 [00:21<00:00, 40.51it/s]\n",
      "100%|██████████| 7966/7966 [08:02<00:00, 16.51it/s]\n",
      "100%|██████████| 876/876 [00:21<00:00, 40.23it/s]\n",
      "100%|██████████| 7966/7966 [07:55<00:00, 16.76it/s]\n",
      "100%|██████████| 876/876 [00:20<00:00, 42.18it/s]\n",
      "100%|██████████| 7966/7966 [07:57<00:00, 16.69it/s]\n",
      "100%|██████████| 876/876 [00:21<00:00, 41.11it/s]\n",
      "100%|██████████| 7966/7966 [07:54<00:00, 16.77it/s]\n",
      "100%|██████████| 876/876 [00:22<00:00, 39.72it/s]\n",
      "100%|██████████| 7966/7966 [07:56<00:00, 16.73it/s]\n",
      "100%|██████████| 876/876 [00:22<00:00, 38.99it/s]\n",
      "100%|██████████| 7966/7966 [07:54<00:00, 16.78it/s]\n",
      "100%|██████████| 876/876 [00:22<00:00, 39.74it/s]\n",
      "100%|██████████| 7966/7966 [07:53<00:00, 16.83it/s]\n",
      "100%|██████████| 876/876 [00:21<00:00, 40.86it/s]\n",
      "100%|██████████| 7966/7966 [08:00<00:00, 16.58it/s]\n",
      "100%|██████████| 876/876 [00:22<00:00, 38.30it/s]\n",
      "100%|██████████| 7966/7966 [07:52<00:00, 16.87it/s]\n",
      "100%|██████████| 876/876 [00:22<00:00, 39.78it/s]\n",
      "[I 2024-02-12 09:30:36,301] Trial 2 finished with value: 2.0 and parameters: {'lr': 7.721650085647331e-05, 'emb dim': 99, 'Dimension of Attention(Q,K,V)': 17, 'head': 5, 'depth': 4, 'FeedForward Layer dropout': 0.523686394434595, 'temp': 0.2742028290691827, 'weight decay': 0.4624407816685228}. Best is trial 0 with value: 2.0.\n"
     ]
    },
    {
     "name": "stdout",
     "output_type": "stream",
     "text": [
      "Early stopping triggered due to valid loss\n",
      "learning_rate : 0.00017321958930626048, \n",
      "epoch :  30, Embedding Dimension of Input Data : 98, Dimension of Attention : 79, Attention Head : 4, Nums of Attention Layer Depth : 2 drop_rate : 0.6468 temperature : 0.1016 weight decay : 0.3668\n"
     ]
    },
    {
     "data": {
      "text/html": [
       "Finishing last run (ID:hvl1i5zb) before initializing another..."
      ],
      "text/plain": [
       "<IPython.core.display.HTML object>"
      ]
     },
     "metadata": {},
     "output_type": "display_data"
    },
    {
     "data": {
      "text/html": [
       "<style>\n",
       "    table.wandb td:nth-child(1) { padding: 0 10px; text-align: left ; width: auto;} td:nth-child(2) {text-align: left ; width: 100%}\n",
       "    .wandb-row { display: flex; flex-direction: row; flex-wrap: wrap; justify-content: flex-start; width: 100% }\n",
       "    .wandb-col { display: flex; flex-direction: column; flex-basis: 100%; flex: 1; padding: 10px; }\n",
       "    </style>\n",
       "<div class=\"wandb-row\"><div class=\"wandb-col\"><h3>Run history:</h3><br/><table class=\"wandb\"><tr><td>train loss</td><td>█▆▅▅▃▂▂▂▂▁▁</td></tr><tr><td>valid loss</td><td>▇▆█▃▆▆▁▆█▃▂</td></tr></table><br/></div><div class=\"wandb-col\"><h3>Run summary:</h3><br/><table class=\"wandb\"><tr><td>train loss</td><td>3.24524</td></tr><tr><td>valid loss</td><td>0.4852</td></tr></table><br/></div></div>"
      ],
      "text/plain": [
       "<IPython.core.display.HTML object>"
      ]
     },
     "metadata": {},
     "output_type": "display_data"
    },
    {
     "data": {
      "text/html": [
       " View run <strong style=\"color:#cdcd00\">Ftt-training_optuna: 7.721650085647331e-05</strong> at: <a href='https://wandb.ai/rnjswjddmf/ECP_CONT/runs/hvl1i5zb' target=\"_blank\">https://wandb.ai/rnjswjddmf/ECP_CONT/runs/hvl1i5zb</a><br/>Synced 5 W&B file(s), 0 media file(s), 0 artifact file(s) and 0 other file(s)"
      ],
      "text/plain": [
       "<IPython.core.display.HTML object>"
      ]
     },
     "metadata": {},
     "output_type": "display_data"
    },
    {
     "data": {
      "text/html": [
       "Find logs at: <code>.\\wandb\\run-20240212_075854-hvl1i5zb\\logs</code>"
      ],
      "text/plain": [
       "<IPython.core.display.HTML object>"
      ]
     },
     "metadata": {},
     "output_type": "display_data"
    },
    {
     "data": {
      "text/html": [
       "Successfully finished last run (ID:hvl1i5zb). Initializing new run:<br/>"
      ],
      "text/plain": [
       "<IPython.core.display.HTML object>"
      ]
     },
     "metadata": {},
     "output_type": "display_data"
    },
    {
     "data": {
      "text/html": [
       "Tracking run with wandb version 0.16.3"
      ],
      "text/plain": [
       "<IPython.core.display.HTML object>"
      ]
     },
     "metadata": {},
     "output_type": "display_data"
    },
    {
     "data": {
      "text/html": [
       "Run data is saved locally in <code>c:\\Users\\DAHS\\Desktop\\ECP_CONT\\ECP_SCL\\Cohort_selection\\Train\\wandb\\run-20240212_093036-3d1z2lo5</code>"
      ],
      "text/plain": [
       "<IPython.core.display.HTML object>"
      ]
     },
     "metadata": {},
     "output_type": "display_data"
    },
    {
     "data": {
      "text/html": [
       "Syncing run <strong><a href='https://wandb.ai/rnjswjddmf/ECP_CONT/runs/3d1z2lo5' target=\"_blank\">Ftt-training_optuna: 0.00017321958930626048</a></strong> to <a href='https://wandb.ai/rnjswjddmf/ECP_CONT' target=\"_blank\">Weights & Biases</a> (<a href='https://wandb.me/run' target=\"_blank\">docs</a>)<br/>"
      ],
      "text/plain": [
       "<IPython.core.display.HTML object>"
      ]
     },
     "metadata": {},
     "output_type": "display_data"
    },
    {
     "data": {
      "text/html": [
       " View project at <a href='https://wandb.ai/rnjswjddmf/ECP_CONT' target=\"_blank\">https://wandb.ai/rnjswjddmf/ECP_CONT</a>"
      ],
      "text/plain": [
       "<IPython.core.display.HTML object>"
      ]
     },
     "metadata": {},
     "output_type": "display_data"
    },
    {
     "data": {
      "text/html": [
       " View run at <a href='https://wandb.ai/rnjswjddmf/ECP_CONT/runs/3d1z2lo5' target=\"_blank\">https://wandb.ai/rnjswjddmf/ECP_CONT/runs/3d1z2lo5</a>"
      ],
      "text/plain": [
       "<IPython.core.display.HTML object>"
      ]
     },
     "metadata": {},
     "output_type": "display_data"
    },
    {
     "name": "stderr",
     "output_type": "stream",
     "text": [
      "100%|██████████| 7966/7966 [05:36<00:00, 23.65it/s]\n",
      "100%|██████████| 876/876 [00:19<00:00, 44.21it/s]\n",
      "100%|██████████| 7966/7966 [05:37<00:00, 23.61it/s]\n",
      "100%|██████████| 876/876 [00:18<00:00, 46.15it/s]\n",
      "100%|██████████| 7966/7966 [05:38<00:00, 23.51it/s]\n",
      "100%|██████████| 876/876 [00:19<00:00, 44.79it/s]\n",
      "100%|██████████| 7966/7966 [05:38<00:00, 23.54it/s]\n",
      "100%|██████████| 876/876 [00:18<00:00, 47.12it/s]\n",
      "100%|██████████| 7966/7966 [05:40<00:00, 23.43it/s]\n",
      "100%|██████████| 876/876 [00:19<00:00, 45.34it/s]\n",
      "100%|██████████| 7966/7966 [05:40<00:00, 23.40it/s]\n",
      "100%|██████████| 876/876 [00:19<00:00, 45.66it/s]\n",
      "100%|██████████| 7966/7966 [05:40<00:00, 23.40it/s]\n",
      "100%|██████████| 876/876 [00:19<00:00, 45.75it/s]\n",
      "100%|██████████| 7966/7966 [05:44<00:00, 23.12it/s]\n",
      "100%|██████████| 876/876 [00:19<00:00, 45.55it/s]\n",
      "100%|██████████| 7966/7966 [05:40<00:00, 23.42it/s]\n",
      "100%|██████████| 876/876 [00:19<00:00, 45.41it/s]\n",
      "100%|██████████| 7966/7966 [05:40<00:00, 23.37it/s]\n",
      "100%|██████████| 876/876 [00:19<00:00, 45.51it/s]\n",
      "[I 2024-02-12 10:30:40,634] Trial 3 finished with value: 2.0 and parameters: {'lr': 0.00017321958930626048, 'emb dim': 98, 'Dimension of Attention(Q,K,V)': 79, 'head': 4, 'depth': 2, 'FeedForward Layer dropout': 0.6468453918745664, 'temp': 0.10162688969162424, 'weight decay': 0.3667765468139009}. Best is trial 0 with value: 2.0.\n"
     ]
    },
    {
     "name": "stdout",
     "output_type": "stream",
     "text": [
      "Early stopping triggered due to valid loss\n",
      "learning_rate : 0.00016082565345561134, \n",
      "epoch :  30, Embedding Dimension of Input Data : 62, Dimension of Attention : 29, Attention Head : 3, Nums of Attention Layer Depth : 2 drop_rate : 0.6675 temperature : 0.1499 weight decay : 0.5528\n"
     ]
    },
    {
     "data": {
      "text/html": [
       "Finishing last run (ID:3d1z2lo5) before initializing another..."
      ],
      "text/plain": [
       "<IPython.core.display.HTML object>"
      ]
     },
     "metadata": {},
     "output_type": "display_data"
    },
    {
     "data": {
      "text/html": [
       "<style>\n",
       "    table.wandb td:nth-child(1) { padding: 0 10px; text-align: left ; width: auto;} td:nth-child(2) {text-align: left ; width: 100%}\n",
       "    .wandb-row { display: flex; flex-direction: row; flex-wrap: wrap; justify-content: flex-start; width: 100% }\n",
       "    .wandb-col { display: flex; flex-direction: column; flex-basis: 100%; flex: 1; padding: 10px; }\n",
       "    </style>\n",
       "<div class=\"wandb-row\"><div class=\"wandb-col\"><h3>Run history:</h3><br/><table class=\"wandb\"><tr><td>train loss</td><td>█▅▃▂▂▂▂▁▁▁</td></tr><tr><td>valid loss</td><td>▃▃▅▅▄▁▅▃█▅</td></tr></table><br/></div><div class=\"wandb-col\"><h3>Run summary:</h3><br/><table class=\"wandb\"><tr><td>train loss</td><td>3.23714</td></tr><tr><td>valid loss</td><td>0.4865</td></tr></table><br/></div></div>"
      ],
      "text/plain": [
       "<IPython.core.display.HTML object>"
      ]
     },
     "metadata": {},
     "output_type": "display_data"
    },
    {
     "data": {
      "text/html": [
       " View run <strong style=\"color:#cdcd00\">Ftt-training_optuna: 0.00017321958930626048</strong> at: <a href='https://wandb.ai/rnjswjddmf/ECP_CONT/runs/3d1z2lo5' target=\"_blank\">https://wandb.ai/rnjswjddmf/ECP_CONT/runs/3d1z2lo5</a><br/>Synced 5 W&B file(s), 0 media file(s), 0 artifact file(s) and 0 other file(s)"
      ],
      "text/plain": [
       "<IPython.core.display.HTML object>"
      ]
     },
     "metadata": {},
     "output_type": "display_data"
    },
    {
     "data": {
      "text/html": [
       "Find logs at: <code>.\\wandb\\run-20240212_093036-3d1z2lo5\\logs</code>"
      ],
      "text/plain": [
       "<IPython.core.display.HTML object>"
      ]
     },
     "metadata": {},
     "output_type": "display_data"
    },
    {
     "data": {
      "text/html": [
       "Successfully finished last run (ID:3d1z2lo5). Initializing new run:<br/>"
      ],
      "text/plain": [
       "<IPython.core.display.HTML object>"
      ]
     },
     "metadata": {},
     "output_type": "display_data"
    },
    {
     "data": {
      "text/html": [
       "Tracking run with wandb version 0.16.3"
      ],
      "text/plain": [
       "<IPython.core.display.HTML object>"
      ]
     },
     "metadata": {},
     "output_type": "display_data"
    },
    {
     "data": {
      "text/html": [
       "Run data is saved locally in <code>c:\\Users\\DAHS\\Desktop\\ECP_CONT\\ECP_SCL\\Cohort_selection\\Train\\wandb\\run-20240212_103040-tmc9l66o</code>"
      ],
      "text/plain": [
       "<IPython.core.display.HTML object>"
      ]
     },
     "metadata": {},
     "output_type": "display_data"
    },
    {
     "data": {
      "text/html": [
       "Syncing run <strong><a href='https://wandb.ai/rnjswjddmf/ECP_CONT/runs/tmc9l66o' target=\"_blank\">Ftt-training_optuna: 0.00016082565345561134</a></strong> to <a href='https://wandb.ai/rnjswjddmf/ECP_CONT' target=\"_blank\">Weights & Biases</a> (<a href='https://wandb.me/run' target=\"_blank\">docs</a>)<br/>"
      ],
      "text/plain": [
       "<IPython.core.display.HTML object>"
      ]
     },
     "metadata": {},
     "output_type": "display_data"
    },
    {
     "data": {
      "text/html": [
       " View project at <a href='https://wandb.ai/rnjswjddmf/ECP_CONT' target=\"_blank\">https://wandb.ai/rnjswjddmf/ECP_CONT</a>"
      ],
      "text/plain": [
       "<IPython.core.display.HTML object>"
      ]
     },
     "metadata": {},
     "output_type": "display_data"
    },
    {
     "data": {
      "text/html": [
       " View run at <a href='https://wandb.ai/rnjswjddmf/ECP_CONT/runs/tmc9l66o' target=\"_blank\">https://wandb.ai/rnjswjddmf/ECP_CONT/runs/tmc9l66o</a>"
      ],
      "text/plain": [
       "<IPython.core.display.HTML object>"
      ]
     },
     "metadata": {},
     "output_type": "display_data"
    },
    {
     "name": "stderr",
     "output_type": "stream",
     "text": [
      "100%|██████████| 7966/7966 [05:47<00:00, 22.91it/s]\n",
      "100%|██████████| 876/876 [00:16<00:00, 52.08it/s]\n",
      "100%|██████████| 7966/7966 [05:47<00:00, 22.91it/s]\n",
      "100%|██████████| 876/876 [00:16<00:00, 51.97it/s]\n",
      "100%|██████████| 7966/7966 [05:47<00:00, 22.90it/s]\n",
      "100%|██████████| 876/876 [00:16<00:00, 51.90it/s]\n",
      "100%|██████████| 7966/7966 [05:47<00:00, 22.94it/s]\n",
      "100%|██████████| 876/876 [00:16<00:00, 51.95it/s]\n",
      "100%|██████████| 7966/7966 [05:45<00:00, 23.06it/s]\n",
      "100%|██████████| 876/876 [00:17<00:00, 50.06it/s]\n",
      "100%|██████████| 7966/7966 [05:46<00:00, 23.01it/s]\n",
      "100%|██████████| 876/876 [00:22<00:00, 38.18it/s]\n",
      "100%|██████████| 7966/7966 [05:45<00:00, 23.07it/s]\n",
      "100%|██████████| 876/876 [00:17<00:00, 50.86it/s]\n",
      "[I 2024-02-12 11:13:21,213] Trial 4 finished with value: 2.0 and parameters: {'lr': 0.00016082565345561134, 'emb dim': 62, 'Dimension of Attention(Q,K,V)': 29, 'head': 3, 'depth': 2, 'FeedForward Layer dropout': 0.6675219408788318, 'temp': 0.1498778098103793, 'weight decay': 0.5527906696667251}. Best is trial 0 with value: 2.0.\n"
     ]
    },
    {
     "name": "stdout",
     "output_type": "stream",
     "text": [
      "Early stopping triggered due to valid loss\n",
      "learning_rate : 0.00035233764198389273, \n",
      "epoch :  30, Embedding Dimension of Input Data : 94, Dimension of Attention : 62, Attention Head : 6, Nums of Attention Layer Depth : 3 drop_rate : 0.5566 temperature : 0.3360 weight decay : 0.8881\n"
     ]
    },
    {
     "data": {
      "text/html": [
       "Finishing last run (ID:tmc9l66o) before initializing another..."
      ],
      "text/plain": [
       "<IPython.core.display.HTML object>"
      ]
     },
     "metadata": {},
     "output_type": "display_data"
    },
    {
     "data": {
      "text/html": [
       "<style>\n",
       "    table.wandb td:nth-child(1) { padding: 0 10px; text-align: left ; width: auto;} td:nth-child(2) {text-align: left ; width: 100%}\n",
       "    .wandb-row { display: flex; flex-direction: row; flex-wrap: wrap; justify-content: flex-start; width: 100% }\n",
       "    .wandb-col { display: flex; flex-direction: column; flex-basis: 100%; flex: 1; padding: 10px; }\n",
       "    </style>\n",
       "<div class=\"wandb-row\"><div class=\"wandb-col\"><h3>Run history:</h3><br/><table class=\"wandb\"><tr><td>train loss</td><td>█▆▄▂▁▁▁</td></tr><tr><td>valid loss</td><td>█▅▁▃▆▂█</td></tr></table><br/></div><div class=\"wandb-col\"><h3>Run summary:</h3><br/><table class=\"wandb\"><tr><td>train loss</td><td>3.24924</td></tr><tr><td>valid loss</td><td>0.4867</td></tr></table><br/></div></div>"
      ],
      "text/plain": [
       "<IPython.core.display.HTML object>"
      ]
     },
     "metadata": {},
     "output_type": "display_data"
    },
    {
     "data": {
      "text/html": [
       " View run <strong style=\"color:#cdcd00\">Ftt-training_optuna: 0.00016082565345561134</strong> at: <a href='https://wandb.ai/rnjswjddmf/ECP_CONT/runs/tmc9l66o' target=\"_blank\">https://wandb.ai/rnjswjddmf/ECP_CONT/runs/tmc9l66o</a><br/>Synced 5 W&B file(s), 0 media file(s), 0 artifact file(s) and 0 other file(s)"
      ],
      "text/plain": [
       "<IPython.core.display.HTML object>"
      ]
     },
     "metadata": {},
     "output_type": "display_data"
    },
    {
     "data": {
      "text/html": [
       "Find logs at: <code>.\\wandb\\run-20240212_103040-tmc9l66o\\logs</code>"
      ],
      "text/plain": [
       "<IPython.core.display.HTML object>"
      ]
     },
     "metadata": {},
     "output_type": "display_data"
    },
    {
     "data": {
      "text/html": [
       "Successfully finished last run (ID:tmc9l66o). Initializing new run:<br/>"
      ],
      "text/plain": [
       "<IPython.core.display.HTML object>"
      ]
     },
     "metadata": {},
     "output_type": "display_data"
    },
    {
     "data": {
      "text/html": [
       "Tracking run with wandb version 0.16.3"
      ],
      "text/plain": [
       "<IPython.core.display.HTML object>"
      ]
     },
     "metadata": {},
     "output_type": "display_data"
    },
    {
     "data": {
      "text/html": [
       "Run data is saved locally in <code>c:\\Users\\DAHS\\Desktop\\ECP_CONT\\ECP_SCL\\Cohort_selection\\Train\\wandb\\run-20240212_111321-ushs3ekh</code>"
      ],
      "text/plain": [
       "<IPython.core.display.HTML object>"
      ]
     },
     "metadata": {},
     "output_type": "display_data"
    },
    {
     "data": {
      "text/html": [
       "Syncing run <strong><a href='https://wandb.ai/rnjswjddmf/ECP_CONT/runs/ushs3ekh' target=\"_blank\">Ftt-training_optuna: 0.00035233764198389273</a></strong> to <a href='https://wandb.ai/rnjswjddmf/ECP_CONT' target=\"_blank\">Weights & Biases</a> (<a href='https://wandb.me/run' target=\"_blank\">docs</a>)<br/>"
      ],
      "text/plain": [
       "<IPython.core.display.HTML object>"
      ]
     },
     "metadata": {},
     "output_type": "display_data"
    },
    {
     "data": {
      "text/html": [
       " View project at <a href='https://wandb.ai/rnjswjddmf/ECP_CONT' target=\"_blank\">https://wandb.ai/rnjswjddmf/ECP_CONT</a>"
      ],
      "text/plain": [
       "<IPython.core.display.HTML object>"
      ]
     },
     "metadata": {},
     "output_type": "display_data"
    },
    {
     "data": {
      "text/html": [
       " View run at <a href='https://wandb.ai/rnjswjddmf/ECP_CONT/runs/ushs3ekh' target=\"_blank\">https://wandb.ai/rnjswjddmf/ECP_CONT/runs/ushs3ekh</a>"
      ],
      "text/plain": [
       "<IPython.core.display.HTML object>"
      ]
     },
     "metadata": {},
     "output_type": "display_data"
    },
    {
     "name": "stderr",
     "output_type": "stream",
     "text": [
      "100%|██████████| 7966/7966 [06:49<00:00, 19.45it/s]\n",
      "100%|██████████| 876/876 [00:19<00:00, 44.01it/s]\n",
      "100%|██████████| 7966/7966 [06:52<00:00, 19.32it/s]\n",
      "100%|██████████| 876/876 [00:19<00:00, 44.04it/s]\n",
      "100%|██████████| 7966/7966 [06:50<00:00, 19.39it/s]\n",
      "100%|██████████| 876/876 [00:19<00:00, 44.73it/s]\n",
      "100%|██████████| 7966/7966 [06:49<00:00, 19.46it/s]\n",
      "100%|██████████| 876/876 [00:20<00:00, 43.72it/s]\n",
      "100%|██████████| 7966/7966 [06:51<00:00, 19.35it/s]\n",
      "100%|██████████| 876/876 [00:20<00:00, 43.11it/s]\n",
      "100%|██████████| 7966/7966 [06:53<00:00, 19.28it/s]\n",
      "100%|██████████| 876/876 [00:19<00:00, 44.32it/s]\n",
      "100%|██████████| 7966/7966 [06:59<00:00, 19.00it/s]\n",
      "100%|██████████| 876/876 [00:19<00:00, 44.33it/s]\n",
      "100%|██████████| 7966/7966 [06:58<00:00, 19.04it/s]\n",
      "100%|██████████| 876/876 [00:19<00:00, 44.59it/s]\n",
      "100%|██████████| 7966/7966 [06:58<00:00, 19.03it/s]\n",
      "100%|██████████| 876/876 [00:19<00:00, 44.40it/s]\n",
      "100%|██████████| 7966/7966 [07:27<00:00, 17.79it/s]\n",
      "100%|██████████| 876/876 [00:25<00:00, 34.96it/s]\n",
      "100%|██████████| 7966/7966 [07:41<00:00, 17.27it/s]\n",
      "100%|██████████| 876/876 [00:26<00:00, 33.63it/s]\n",
      "100%|██████████| 7966/7966 [07:42<00:00, 17.23it/s]\n",
      "100%|██████████| 876/876 [00:25<00:00, 33.90it/s]\n",
      "100%|██████████| 7966/7966 [07:42<00:00, 17.22it/s]\n",
      "100%|██████████| 876/876 [00:25<00:00, 34.38it/s]\n",
      "100%|██████████| 7966/7966 [07:45<00:00, 17.13it/s]\n",
      "100%|██████████| 876/876 [00:28<00:00, 31.02it/s]\n",
      "100%|██████████| 7966/7966 [07:58<00:00, 16.65it/s]\n",
      "100%|██████████| 876/876 [00:28<00:00, 30.65it/s]\n",
      "[I 2024-02-12 13:07:28,904] Trial 5 finished with value: 2.0 and parameters: {'lr': 0.00035233764198389273, 'emb dim': 94, 'Dimension of Attention(Q,K,V)': 62, 'head': 6, 'depth': 3, 'FeedForward Layer dropout': 0.5565892368363285, 'temp': 0.33601427326310773, 'weight decay': 0.8881082223460597}. Best is trial 0 with value: 2.0.\n"
     ]
    },
    {
     "name": "stdout",
     "output_type": "stream",
     "text": [
      "Early stopping triggered due to valid loss\n",
      "learning_rate : 0.00011631895162394367, \n",
      "epoch :  30, Embedding Dimension of Input Data : 98, Dimension of Attention : 20, Attention Head : 2, Nums of Attention Layer Depth : 4 drop_rate : 0.5348 temperature : 0.2763 weight decay : 0.3481\n"
     ]
    },
    {
     "data": {
      "text/html": [
       "Finishing last run (ID:ushs3ekh) before initializing another..."
      ],
      "text/plain": [
       "<IPython.core.display.HTML object>"
      ]
     },
     "metadata": {},
     "output_type": "display_data"
    },
    {
     "data": {
      "text/html": [
       "<style>\n",
       "    table.wandb td:nth-child(1) { padding: 0 10px; text-align: left ; width: auto;} td:nth-child(2) {text-align: left ; width: 100%}\n",
       "    .wandb-row { display: flex; flex-direction: row; flex-wrap: wrap; justify-content: flex-start; width: 100% }\n",
       "    .wandb-col { display: flex; flex-direction: column; flex-basis: 100%; flex: 1; padding: 10px; }\n",
       "    </style>\n",
       "<div class=\"wandb-row\"><div class=\"wandb-col\"><h3>Run history:</h3><br/><table class=\"wandb\"><tr><td>train loss</td><td>█▇▇▇▇▇▇▃▂▂▁▁▁▁▁</td></tr><tr><td>valid loss</td><td>▄▄▅▅▄▄▃▂█▂▁▃▃▂▄</td></tr></table><br/></div><div class=\"wandb-col\"><h3>Run summary:</h3><br/><table class=\"wandb\"><tr><td>train loss</td><td>3.27449</td></tr><tr><td>valid loss</td><td>0.4864</td></tr></table><br/></div></div>"
      ],
      "text/plain": [
       "<IPython.core.display.HTML object>"
      ]
     },
     "metadata": {},
     "output_type": "display_data"
    },
    {
     "data": {
      "text/html": [
       " View run <strong style=\"color:#cdcd00\">Ftt-training_optuna: 0.00035233764198389273</strong> at: <a href='https://wandb.ai/rnjswjddmf/ECP_CONT/runs/ushs3ekh' target=\"_blank\">https://wandb.ai/rnjswjddmf/ECP_CONT/runs/ushs3ekh</a><br/>Synced 5 W&B file(s), 0 media file(s), 0 artifact file(s) and 0 other file(s)"
      ],
      "text/plain": [
       "<IPython.core.display.HTML object>"
      ]
     },
     "metadata": {},
     "output_type": "display_data"
    },
    {
     "data": {
      "text/html": [
       "Find logs at: <code>.\\wandb\\run-20240212_111321-ushs3ekh\\logs</code>"
      ],
      "text/plain": [
       "<IPython.core.display.HTML object>"
      ]
     },
     "metadata": {},
     "output_type": "display_data"
    },
    {
     "data": {
      "text/html": [
       "Successfully finished last run (ID:ushs3ekh). Initializing new run:<br/>"
      ],
      "text/plain": [
       "<IPython.core.display.HTML object>"
      ]
     },
     "metadata": {},
     "output_type": "display_data"
    },
    {
     "data": {
      "text/html": [
       "Tracking run with wandb version 0.16.3"
      ],
      "text/plain": [
       "<IPython.core.display.HTML object>"
      ]
     },
     "metadata": {},
     "output_type": "display_data"
    },
    {
     "data": {
      "text/html": [
       "Run data is saved locally in <code>c:\\Users\\DAHS\\Desktop\\ECP_CONT\\ECP_SCL\\Cohort_selection\\Train\\wandb\\run-20240212_130728-l1l5puv7</code>"
      ],
      "text/plain": [
       "<IPython.core.display.HTML object>"
      ]
     },
     "metadata": {},
     "output_type": "display_data"
    },
    {
     "data": {
      "text/html": [
       "Syncing run <strong><a href='https://wandb.ai/rnjswjddmf/ECP_CONT/runs/l1l5puv7' target=\"_blank\">Ftt-training_optuna: 0.00011631895162394367</a></strong> to <a href='https://wandb.ai/rnjswjddmf/ECP_CONT' target=\"_blank\">Weights & Biases</a> (<a href='https://wandb.me/run' target=\"_blank\">docs</a>)<br/>"
      ],
      "text/plain": [
       "<IPython.core.display.HTML object>"
      ]
     },
     "metadata": {},
     "output_type": "display_data"
    },
    {
     "data": {
      "text/html": [
       " View project at <a href='https://wandb.ai/rnjswjddmf/ECP_CONT' target=\"_blank\">https://wandb.ai/rnjswjddmf/ECP_CONT</a>"
      ],
      "text/plain": [
       "<IPython.core.display.HTML object>"
      ]
     },
     "metadata": {},
     "output_type": "display_data"
    },
    {
     "data": {
      "text/html": [
       " View run at <a href='https://wandb.ai/rnjswjddmf/ECP_CONT/runs/l1l5puv7' target=\"_blank\">https://wandb.ai/rnjswjddmf/ECP_CONT/runs/l1l5puv7</a>"
      ],
      "text/plain": [
       "<IPython.core.display.HTML object>"
      ]
     },
     "metadata": {},
     "output_type": "display_data"
    },
    {
     "name": "stderr",
     "output_type": "stream",
     "text": [
      "  1%|          | 41/7966 [00:02<07:44, 17.06it/s]"
     ]
    }
   ],
   "source": [
    "# warnings.filterwarnings(\"ignore\")\n",
    "# import os\n",
    "# import optuna\n",
    "\n",
    "# # os.environ[\"CUDA_DEVICE_ORDER\"]=\"PCI_BUS_ID\"\n",
    "# os.environ[\"CUDA_VISIBLE_DEVICES\"]= '0'\n",
    "# os.environ['CUDA_LAUNCH_BLOCKING']= '1'\n",
    "# n_gpu             = 1\n",
    "# device            = torch.device('cuda:0')\n",
    "\n",
    "# # Set parameters\n",
    "\n",
    "# study = optuna.create_study(sampler=optuna.samplers.TPESampler(), direction=\"minimize\")\n",
    "# study.optimize(train, n_trials = 30) \n",
    "\n",
    "# pruned_trials = [t for t in study.trials if t.state == optuna.trial.TrialState.PRUNED]\n",
    "# complete_trials = [t for t in study.trials if t.state == optuna.trial.TrialState.COMPLETE]\n",
    "\n",
    "# print(\"Study statistics: \")\n",
    "# print(\"  Number of finished trials: \", len(study.trials))\n",
    "# print(\"  Number of pruned trials: \", len(pruned_trials))\n",
    "# print(\"  Number of complete trials: \", len(complete_trials))\n",
    "\n",
    "# print(\"Best trial:\")\n",
    "# trial = study.best_trial\n",
    "\n",
    "# print(\"  Value: \", trial.value)\n",
    "\n",
    "# print(\"  Params: \")\n",
    "# for key, value in trial.params.items():\n",
    "#     print(\"    {}: {}\".format(key, value))"
   ]
  },
  {
   "cell_type": "code",
   "execution_count": 15,
   "id": "67886bfd",
   "metadata": {},
   "outputs": [
    {
     "name": "stdout",
     "output_type": "stream",
     "text": [
      "learning_rate : 7.485184106420897e-06, \n",
      "epoch :  300, Embedding Dimension of Input Data : 78, Dimension of Attention : 52, Attention Head : 5, Nums of Attention Layer Depth : 4 drop_rate : 0.5641 temperature : 0.2533\n"
     ]
    },
    {
     "data": {
      "text/html": [
       "Finishing last run (ID:uajt73jy) before initializing another..."
      ],
      "text/plain": [
       "<IPython.core.display.HTML object>"
      ]
     },
     "metadata": {},
     "output_type": "display_data"
    },
    {
     "data": {
      "text/html": [
       "<style>\n",
       "    table.wandb td:nth-child(1) { padding: 0 10px; text-align: left ; width: auto;} td:nth-child(2) {text-align: left ; width: 100%}\n",
       "    .wandb-row { display: flex; flex-direction: row; flex-wrap: wrap; justify-content: flex-start; width: 100% }\n",
       "    .wandb-col { display: flex; flex-direction: column; flex-basis: 100%; flex: 1; padding: 10px; }\n",
       "    </style>\n",
       "<div class=\"wandb-row\"><div class=\"wandb-col\"><h3>Run history:</h3><br/><table class=\"wandb\"><tr><td>train loss</td><td>█▅▂▂▁▁▁</td></tr><tr><td>valid loss</td><td>▄▁▅▄▅▄█</td></tr></table><br/></div><div class=\"wandb-col\"><h3>Run summary:</h3><br/><table class=\"wandb\"><tr><td>train loss</td><td>3.26244</td></tr><tr><td>valid loss</td><td>0.4932</td></tr></table><br/></div></div>"
      ],
      "text/plain": [
       "<IPython.core.display.HTML object>"
      ]
     },
     "metadata": {},
     "output_type": "display_data"
    },
    {
     "data": {
      "text/html": [
       " View run <strong style=\"color:#cdcd00\">Ftt-training(0308): 7.485184106420897e-05</strong> at: <a href='https://wandb.ai/rnjswjddmf/ECP_CONT/runs/uajt73jy' target=\"_blank\">https://wandb.ai/rnjswjddmf/ECP_CONT/runs/uajt73jy</a><br/>Synced 5 W&B file(s), 0 media file(s), 0 artifact file(s) and 0 other file(s)"
      ],
      "text/plain": [
       "<IPython.core.display.HTML object>"
      ]
     },
     "metadata": {},
     "output_type": "display_data"
    },
    {
     "data": {
      "text/html": [
       "Find logs at: <code>.\\wandb\\run-20240308_162429-uajt73jy\\logs</code>"
      ],
      "text/plain": [
       "<IPython.core.display.HTML object>"
      ]
     },
     "metadata": {},
     "output_type": "display_data"
    },
    {
     "data": {
      "text/html": [
       "Successfully finished last run (ID:uajt73jy). Initializing new run:<br/>"
      ],
      "text/plain": [
       "<IPython.core.display.HTML object>"
      ]
     },
     "metadata": {},
     "output_type": "display_data"
    },
    {
     "data": {
      "text/html": [
       "wandb version 0.16.4 is available!  To upgrade, please run:\n",
       " $ pip install wandb --upgrade"
      ],
      "text/plain": [
       "<IPython.core.display.HTML object>"
      ]
     },
     "metadata": {},
     "output_type": "display_data"
    },
    {
     "data": {
      "text/html": [
       "Tracking run with wandb version 0.16.3"
      ],
      "text/plain": [
       "<IPython.core.display.HTML object>"
      ]
     },
     "metadata": {},
     "output_type": "display_data"
    },
    {
     "data": {
      "text/html": [
       "Run data is saved locally in <code>c:\\Users\\DAHS\\Desktop\\ECP_CONT\\ECP_SCL\\Cohort_selection\\Train\\wandb\\run-20240309_181539-fwwcszc6</code>"
      ],
      "text/plain": [
       "<IPython.core.display.HTML object>"
      ]
     },
     "metadata": {},
     "output_type": "display_data"
    },
    {
     "data": {
      "text/html": [
       "Syncing run <strong><a href='https://wandb.ai/rnjswjddmf/ECP_CONT/runs/fwwcszc6' target=\"_blank\">Ftt-training(0309): 7.485184106420897e-06</a></strong> to <a href='https://wandb.ai/rnjswjddmf/ECP_CONT' target=\"_blank\">Weights & Biases</a> (<a href='https://wandb.me/run' target=\"_blank\">docs</a>)<br/>"
      ],
      "text/plain": [
       "<IPython.core.display.HTML object>"
      ]
     },
     "metadata": {},
     "output_type": "display_data"
    },
    {
     "data": {
      "text/html": [
       " View project at <a href='https://wandb.ai/rnjswjddmf/ECP_CONT' target=\"_blank\">https://wandb.ai/rnjswjddmf/ECP_CONT</a>"
      ],
      "text/plain": [
       "<IPython.core.display.HTML object>"
      ]
     },
     "metadata": {},
     "output_type": "display_data"
    },
    {
     "data": {
      "text/html": [
       " View run at <a href='https://wandb.ai/rnjswjddmf/ECP_CONT/runs/fwwcszc6' target=\"_blank\">https://wandb.ai/rnjswjddmf/ECP_CONT/runs/fwwcszc6</a>"
      ],
      "text/plain": [
       "<IPython.core.display.HTML object>"
      ]
     },
     "metadata": {},
     "output_type": "display_data"
    },
    {
     "name": "stderr",
     "output_type": "stream",
     "text": [
      "100%|██████████| 4278/4278 [02:58<00:00, 23.96it/s]\n",
      "100%|██████████| 877/877 [00:13<00:00, 65.85it/s]\n",
      "100%|██████████| 4278/4278 [02:51<00:00, 24.98it/s]\n",
      "100%|██████████| 877/877 [00:12<00:00, 67.86it/s]\n",
      "100%|██████████| 4278/4278 [02:52<00:00, 24.80it/s]\n",
      "100%|██████████| 877/877 [00:12<00:00, 68.19it/s]\n",
      "100%|██████████| 4278/4278 [02:50<00:00, 25.04it/s]\n",
      "100%|██████████| 877/877 [00:12<00:00, 67.72it/s]\n",
      "100%|██████████| 4278/4278 [02:52<00:00, 24.74it/s]\n",
      "100%|██████████| 877/877 [00:12<00:00, 69.39it/s]\n",
      "100%|██████████| 4278/4278 [02:50<00:00, 25.02it/s]\n",
      "100%|██████████| 877/877 [00:12<00:00, 68.53it/s]\n",
      "100%|██████████| 4278/4278 [02:52<00:00, 24.86it/s]\n",
      "100%|██████████| 877/877 [00:13<00:00, 66.81it/s]\n",
      "100%|██████████| 4278/4278 [02:52<00:00, 24.85it/s]\n",
      "100%|██████████| 877/877 [00:12<00:00, 68.12it/s]\n",
      "100%|██████████| 4278/4278 [02:51<00:00, 24.90it/s]\n",
      "100%|██████████| 877/877 [00:12<00:00, 68.97it/s]\n",
      "100%|██████████| 4278/4278 [02:52<00:00, 24.86it/s]\n",
      "100%|██████████| 877/877 [00:12<00:00, 68.27it/s]\n",
      "100%|██████████| 4278/4278 [02:52<00:00, 24.81it/s]\n",
      "100%|██████████| 877/877 [00:12<00:00, 68.09it/s]\n",
      "100%|██████████| 4278/4278 [02:52<00:00, 24.83it/s]\n",
      "100%|██████████| 877/877 [00:12<00:00, 67.69it/s]\n",
      "100%|██████████| 4278/4278 [02:52<00:00, 24.82it/s]\n",
      "100%|██████████| 877/877 [00:12<00:00, 68.04it/s]\n",
      "100%|██████████| 4278/4278 [02:52<00:00, 24.75it/s]\n",
      "100%|██████████| 877/877 [00:12<00:00, 68.38it/s]\n",
      "100%|██████████| 4278/4278 [02:51<00:00, 25.00it/s]\n",
      "100%|██████████| 877/877 [00:12<00:00, 67.96it/s]\n",
      "100%|██████████| 4278/4278 [02:52<00:00, 24.77it/s]\n",
      "100%|██████████| 877/877 [00:12<00:00, 68.48it/s]\n",
      "100%|██████████| 4278/4278 [02:50<00:00, 25.05it/s]\n",
      "100%|██████████| 877/877 [00:12<00:00, 68.29it/s]\n",
      "100%|██████████| 4278/4278 [02:52<00:00, 24.86it/s]\n",
      "100%|██████████| 877/877 [00:12<00:00, 68.40it/s]\n",
      "100%|██████████| 4278/4278 [02:50<00:00, 25.03it/s]\n",
      "100%|██████████| 877/877 [00:12<00:00, 68.18it/s]\n",
      "100%|██████████| 4278/4278 [02:52<00:00, 24.80it/s]\n",
      "100%|██████████| 877/877 [00:13<00:00, 65.09it/s]\n",
      "100%|██████████| 4278/4278 [02:52<00:00, 24.80it/s]\n",
      "100%|██████████| 877/877 [00:13<00:00, 66.85it/s]\n",
      "100%|██████████| 4278/4278 [02:57<00:00, 24.12it/s]\n",
      "100%|██████████| 877/877 [00:13<00:00, 65.77it/s]\n",
      "100%|██████████| 4278/4278 [02:55<00:00, 24.38it/s]\n",
      "100%|██████████| 877/877 [00:13<00:00, 66.12it/s]\n",
      "100%|██████████| 4278/4278 [02:55<00:00, 24.36it/s]\n",
      "100%|██████████| 877/877 [00:12<00:00, 68.27it/s]\n",
      "100%|██████████| 4278/4278 [02:50<00:00, 25.02it/s]\n",
      "100%|██████████| 877/877 [00:12<00:00, 67.92it/s]\n",
      "100%|██████████| 4278/4278 [02:51<00:00, 24.87it/s]\n",
      "100%|██████████| 877/877 [00:12<00:00, 68.22it/s]\n",
      "100%|██████████| 4278/4278 [02:51<00:00, 25.01it/s]\n",
      "100%|██████████| 877/877 [00:12<00:00, 69.03it/s]\n",
      "100%|██████████| 4278/4278 [02:51<00:00, 24.89it/s]\n",
      "100%|██████████| 877/877 [00:12<00:00, 67.86it/s]\n",
      "100%|██████████| 4278/4278 [02:50<00:00, 25.14it/s]\n",
      "100%|██████████| 877/877 [00:12<00:00, 69.26it/s]\n",
      "100%|██████████| 4278/4278 [02:52<00:00, 24.80it/s]\n",
      "100%|██████████| 877/877 [00:12<00:00, 67.75it/s]\n",
      "100%|██████████| 4278/4278 [02:50<00:00, 25.15it/s]\n",
      "100%|██████████| 877/877 [00:12<00:00, 68.98it/s]"
     ]
    },
    {
     "name": "stdout",
     "output_type": "stream",
     "text": [
      "Early stopping triggered due to valid loss\n"
     ]
    },
    {
     "name": "stderr",
     "output_type": "stream",
     "text": [
      "\n"
     ]
    }
   ],
   "source": [
    "warnings.filterwarnings(\"ignore\")\n",
    "import os\n",
    "import optuna\n",
    "\n",
    "# os.environ[\"CUDA_DEVICE_ORDER\"]=\"PCI_BUS_ID\"\n",
    "os.environ[\"CUDA_VISIBLE_DEVICES\"]= '0'\n",
    "os.environ['CUDA_LAUNCH_BLOCKING']= '1'\n",
    "n_gpu             = 1\n",
    "device            = torch.device('cuda:0')\n",
    "\n",
    "model = train(trial=1, search = False)"
   ]
  },
  {
   "cell_type": "code",
   "execution_count": 16,
   "id": "a7a8eeb1",
   "metadata": {},
   "outputs": [],
   "source": [
    "torch.save({\"model_state_dict\": model.state_dict(),\n",
    "            },\n",
    "           f\"Contrastive_Embedding_Net_ftt(0310_best_batch=64).pt\")"
   ]
  },
  {
   "cell_type": "code",
   "execution_count": 9,
   "id": "9c49f961",
   "metadata": {},
   "outputs": [
    {
     "data": {
      "image/png": "[encoded data removed]",
      "text/plain": [
       "<Figure size 640x480 with 1 Axes>"
      ]
     },
     "metadata": {},
     "output_type": "display_data"
    }
   ],
   "source": [
    "import matplotlib.pyplot as plt\n",
    "\n",
    "plt.plot(range(27),train_loss_history, color = 'dodgerblue', label = 'Contrastive Loss')\n",
    "\n",
    "plt.xlabel('Epoch')\n",
    "plt.ylabel('Loss')\n",
    "plt.legend()\n",
    "plt.show()"
   ]
  },
  {
   "cell_type": "code",
   "execution_count": null,
   "id": "1cff0342",
   "metadata": {},
   "outputs": [],
   "source": [
    "device            = torch.device('cuda:0')"
   ]
  },
  {
   "cell_type": "code",
   "execution_count": null,
   "id": "f31b8c90",
   "metadata": {},
   "outputs": [],
   "source": [
    "# 모델 정의\n",
    "model = FTTransformer(categories=card_categories,\n",
    "num_continuous=157,\n",
    "dim=78,\n",
    "depth=4,\n",
    "heads=5,\n",
    "dim_head=52,\n",
    "num_special_tokens = 2,\n",
    "attn_dropout=0.4585,\n",
    "ff_dropout=0.5641).to(device)"
   ]
  },
  {
   "cell_type": "code",
   "execution_count": null,
   "metadata": {},
   "outputs": [],
   "source": [
    "# def param():\n",
    "#     categories = card_categories\n",
    "#     num_continuous = 157\n",
    "#     dim = 78                       # Embedding Dimension of Input Data  32\n",
    "#     depth = 4                      # Nums of Attention Layer Depth  6\n",
    "#     heads = 5                      # Nums of Attention head\n",
    "#     dim_head = 52                 # Dimension of Attention(Q,K,V)\n",
    "#     attn_dropout = 0.4585             # Ratio of Attention Layer dropout\n",
    "#     ff_dropout = 0.5641  # Ratio of FeedForward Layer dropout\n",
    "#     temp = 0.2533 \n",
    "#     total_epoch = 300\n",
    "#     lr =  0.00007485184106420897\n",
    "#     num_special_tokens = 2\n",
    "#     return categories, num_continuous, dim, depth, heads, dim_head, attn_dropout, ff_dropout, temp, total_epoch, lr, num_special_tokens "
   ]
  },
  {
   "cell_type": "code",
   "execution_count": null,
   "id": "85dd10be",
   "metadata": {},
   "outputs": [
    {
     "data": {
      "text/plain": [
       "<All keys matched successfully>"
      ]
     },
     "execution_count": 10,
     "metadata": {},
     "output_type": "execute_result"
    }
   ],
   "source": [
    "checkpoint = torch.load(\"Contrastive_Embedding_Net_ftt(0203-45epoch).pt\")\n",
    "model.load_state_dict(checkpoint[\"model_state_dict\"])"
   ]
  }
 ],
 "metadata": {
  "kernelspec": {
   "display_name": "DL",
   "language": "python",
   "name": "python3"
  },
  "language_info": {
   "codemirror_mode": {
    "name": "ipython",
    "version": 3
   },
   "file_extension": ".py",
   "mimetype": "text/x-python",
   "name": "python",
   "nbconvert_exporter": "python",
   "pygments_lexer": "ipython3",
   "version": "3.9.16"
  }
 },
 "nbformat": 4,
 "nbformat_minor": 5
}
