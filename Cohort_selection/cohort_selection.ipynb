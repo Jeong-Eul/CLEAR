{
 "cells": [
  {
   "cell_type": "code",
   "execution_count": 1,
   "metadata": {},
   "outputs": [],
   "source": [
    "import os\n",
    "import numpy as np\n",
    "import pandas as pd\n",
    "import torch\n",
    "from torch.utils.data import Dataset, DataLoader\n",
    "from sklearn.preprocessing import MinMaxScaler, RobustScaler\n",
    "from sklearn.model_selection import train_test_split, StratifiedKFold\n",
    "import warnings\n",
    "from tqdm import tqdm\n",
    "import random\n",
    "from sklearn.utils import resample\n",
    "import time\n",
    "import gc\n",
    "\n",
    "warnings.filterwarnings('ignore')"
   ]
  },
  {
   "cell_type": "code",
   "execution_count": 65,
   "metadata": {},
   "outputs": [],
   "source": [
    "mimic_data_dir = '/Users/DAHS/Desktop/ECP_CONT/ECP_SCL/Case Labeling/MIMIC-IV.csv.gz'\n",
    "mimic = pd.read_csv(mimic_data_dir, compression='gzip')\n",
    "\n",
    "eicu_data_dir = '/Users/DAHS/Desktop/ECP_CONT/ECP_SCL/Case Labeling/eICU.csv.gz'\n",
    "eicu = pd.read_csv(eicu_data_dir, compression='gzip')"
   ]
  },
  {
   "cell_type": "code",
   "execution_count": 66,
   "metadata": {},
   "outputs": [],
   "source": [
    "def sampling_target_cohort(target, event='circ', mode = 'mimic'):\n",
    "    \n",
    "    data = target.copy()\n",
    "    data['Annotation'] = data['Annotation'].replace({'amb_circ':'circ'})\n",
    "    \n",
    "    split_data = []\n",
    "    current_part = []\n",
    "    event_occurred = False\n",
    "    \n",
    "    if mode == 'mimic':\n",
    "        stay_id = 'stay_id'\n",
    "    else:\n",
    "        stay_id = 'patientunitstayid'\n",
    "    \n",
    "    for stayid in data[stay_id].unique():\n",
    "        dataset = data[data[stay_id]==stayid]\n",
    "        \n",
    "        for index, row in dataset.iterrows():\n",
    "            \n",
    "            if event_occurred:\n",
    "                event_occurred = False\n",
    "                break\n",
    "                        \n",
    "            else:\n",
    "                current_part.append(row)\n",
    "                if row['Annotation']==event:\n",
    "                    split_data.append(pd.DataFrame(current_part))\n",
    "                    event_occurred = True\n",
    "                    current_part = []\n",
    "            \n",
    "        if current_part:\n",
    "            split_data.append(pd.DataFrame(current_part))\n",
    "            current_part = []\n",
    "\n",
    "    return split_data"
   ]
  },
  {
   "cell_type": "code",
   "execution_count": 67,
   "metadata": {},
   "outputs": [],
   "source": [
    "part_mimic = sampling_target_cohort(mimic, event='circ', mode = 'mimic')\n",
    "part_eicu = sampling_target_cohort(eicu, event='circ', mode = 'eicu')\n",
    "\n",
    "new_mimic = pd.concat(part_mimic).reset_index(drop=True)\n",
    "new_eicu = pd.concat(part_eicu).reset_index(drop=True)"
   ]
  },
  {
   "cell_type": "code",
   "execution_count": 81,
   "metadata": {},
   "outputs": [],
   "source": [
    "new_mimic['classes'] =new_mimic['classes'].replace({5:4, 6:4})\n",
    "new_eicu['classes'] =new_eicu['classes'].replace({5:4, 6:4})"
   ]
  },
  {
   "cell_type": "code",
   "execution_count": 97,
   "metadata": {},
   "outputs": [],
   "source": [
    "new_mimic.to_csv('MIMIC-IV-COHORT.csv.gz', compression='gzip')\n",
    "new_eicu.to_csv('eICU-COHORT.csv.gz', compression='gzip')"
   ]
  }
 ],
 "metadata": {
  "kernelspec": {
   "display_name": "DL",
   "language": "python",
   "name": "python3"
  },
  "language_info": {
   "codemirror_mode": {
    "name": "ipython",
    "version": 3
   },
   "file_extension": ".py",
   "mimetype": "text/x-python",
   "name": "python",
   "nbconvert_exporter": "python",
   "pygments_lexer": "ipython3",
   "version": "3.9.16"
  }
 },
 "nbformat": 4,
 "nbformat_minor": 2
}
