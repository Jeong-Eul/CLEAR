{
 "cells": [
  {
   "cell_type": "code",
   "execution_count": 1,
   "metadata": {},
   "outputs": [],
   "source": [
    "from Derived_Variable import return_result_df\n",
    "import pandas as pd\n",
    "pd.set_option('display.max_columns', None)"
   ]
  },
  {
   "cell_type": "code",
   "execution_count": 2,
   "metadata": {},
   "outputs": [
    {
     "name": "stdout",
     "output_type": "stream",
     "text": [
      "---Complete Integration---\n",
      "Complete Lactate Clearance\n",
      "Complete cumulative use of vasoactive\n",
      "Complete Rate of change in measurement\n",
      "---Complete make derived variable for MIMIC-IV---\n",
      "Complete Lactate Clearance\n",
      "Complete cumulative use of vasoactive\n",
      "Complete Rate of change in measurement\n",
      "---Complete make derived variable for eICU---\n"
     ]
    }
   ],
   "source": [
    "#Time consume : 4 min\n",
    "mimic, eicu = return_result_df()"
   ]
  },
  {
   "cell_type": "code",
   "execution_count": 3,
   "metadata": {},
   "outputs": [],
   "source": [
    "sample = mimic[mimic['stay_id']==mimic.stay_id.unique()[13]]\n",
    "view = sample[['Time_since_ICU_admission','Lactate', 'Lactate_clearance_1h', 'Lactate_clearance_3h', 'Lactate_clearance_5h', 'Lactate_clearance_7h', 'Lactate_clearance_9h', 'Lactate_clearance_11h']]"
   ]
  },
  {
   "cell_type": "code",
   "execution_count": 10,
   "metadata": {},
   "outputs": [],
   "source": [
    "sample = mimic[mimic['stay_id']==mimic.stay_id.unique()[17]]\n",
    "view_2 = sample[['Time_since_ICU_admission','vasoactive/inotropic', 'cum_use_vaso']]"
   ]
  },
  {
   "cell_type": "code",
   "execution_count": 11,
   "metadata": {},
   "outputs": [],
   "source": [
    "sample = mimic[mimic['stay_id']==mimic.stay_id.unique()[17]]\n",
    "view_3 = sample[['Time_since_ICU_admission','Respiratory Rate', 'Respiratory Rate_change_1h', 'Respiratory Rate_change_3h', 'Respiratory Rate_change_5h', 'Respiratory Rate_change_7h', 'Respiratory Rate_change_9h', 'Respiratory Rate_change_11h']]"
   ]
  },
  {
   "cell_type": "code",
   "execution_count": 12,
   "metadata": {},
   "outputs": [],
   "source": [
    "# mimic = mimic.drop('spinal_cord_injury', axis = 1)\n",
    "# eicu = eicu.drop('spinal_cord_injury', axis = 1)"
   ]
  },
  {
   "cell_type": "code",
   "execution_count": null,
   "metadata": {},
   "outputs": [
    {
     "data": {
      "text/plain": [
       "(2426151, 223)"
      ]
     },
     "execution_count": 4,
     "metadata": {},
     "output_type": "execute_result"
    }
   ],
   "source": [
    "mimic.shape"
   ]
  },
  {
   "cell_type": "code",
   "execution_count": null,
   "metadata": {},
   "outputs": [
    {
     "data": {
      "text/plain": [
       "(2506969, 222)"
      ]
     },
     "execution_count": 5,
     "metadata": {},
     "output_type": "execute_result"
    }
   ],
   "source": [
    "eicu.shape"
   ]
  },
  {
   "cell_type": "code",
   "execution_count": 3,
   "metadata": {},
   "outputs": [],
   "source": [
    "mimic.to_csv('mimic_df_cp.csv.gz', compression='gzip')\n",
    "eicu.to_csv('eicu_df_cp.csv.gz', compression='gzip')"
   ]
  },
  {
   "cell_type": "code",
   "execution_count": null,
   "metadata": {},
   "outputs": [],
   "source": []
  }
 ],
 "metadata": {
  "kernelspec": {
   "display_name": "MIMIC",
   "language": "python",
   "name": "python3"
  },
  "language_info": {
   "codemirror_mode": {
    "name": "ipython",
    "version": 3
   },
   "file_extension": ".py",
   "mimetype": "text/x-python",
   "name": "python",
   "nbconvert_exporter": "python",
   "pygments_lexer": "ipython3",
   "version": "3.9.16"
  }
 },
 "nbformat": 4,
 "nbformat_minor": 2
}
