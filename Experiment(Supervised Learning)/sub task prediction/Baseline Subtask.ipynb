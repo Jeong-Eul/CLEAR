{
 "cells": [
  {
   "cell_type": "code",
   "execution_count": 1,
   "metadata": {},
   "outputs": [
    {
     "name": "stderr",
     "output_type": "stream",
     "text": [
      "c:\\Users\\DAHS\\anaconda3\\envs\\DL\\lib\\site-packages\\tqdm\\auto.py:21: TqdmWarning: IProgress not found. Please update jupyter and ipywidgets. See https://ipywidgets.readthedocs.io/en/stable/user_install.html\n",
      "  from .autonotebook import tqdm as notebook_tqdm\n"
     ]
    },
    {
     "data": {
      "text/plain": [
       "<module 'Multiclass_evaluation' from 'c:\\\\Users/DAHS/Desktop/ECP_CONT/ECP_SCL/Experiment(Supervised Learning)/evaluation\\\\Multiclass_evaluation.py'>"
      ]
     },
     "execution_count": 1,
     "metadata": {},
     "output_type": "execute_result"
    }
   ],
   "source": [
    "import pandas as pd\n",
    "import numpy as np\n",
    "import time\n",
    "import sys\n",
    "\n",
    "from sklearn.metrics import accuracy_score\n",
    "from sklearn.metrics import precision_score\n",
    "from sklearn.metrics import recall_score\n",
    "\n",
    "from lightgbm import LGBMClassifier\n",
    "from sklearn.linear_model import LogisticRegression  \n",
    "from sklearn import svm\n",
    "\n",
    "module_path='/Users/DAHS/Desktop/ECP_CONT/ECP_SCL/Cohort_selection/'\n",
    "if module_path not in sys.path:\n",
    "    sys.path.append(module_path)\n",
    "\n",
    "from cohort_loader import *\n",
    "import eicu_year_process\n",
    "\n",
    "module_path='/Users/DAHS/Desktop/ECP_CONT/ECP_SCL/Experiment(Supervised Learning)/evaluation/'\n",
    "if module_path not in sys.path:\n",
    "    sys.path.append(module_path)\n",
    "\n",
    "import get_hospital_eicu\n",
    "\n",
    "import split\n",
    "from imp import reload\n",
    "reload(split)\n",
    "\n",
    "import Multiclass_evaluation\n",
    "reload(Multiclass_evaluation)"
   ]
  },
  {
   "cell_type": "code",
   "execution_count": 2,
   "metadata": {},
   "outputs": [
    {
     "name": "stdout",
     "output_type": "stream",
     "text": [
      "========== 데이터셋 분할 정보 ==========\n",
      "데이터셋 비율: 학습 = 0.90, 테스트 = 0.10\n",
      "학습셋 클래스 비율: Case\n",
      "1.0    473941\n",
      "2.0      5128\n",
      "3.0     11145\n",
      "4.0     19613\n",
      "Name: count, dtype: int64\n",
      "테스트셋 클래스 비율: Case\n",
      "1.0    53103\n",
      "2.0      512\n",
      "3.0      873\n",
      "4.0     1590\n",
      "Name: count, dtype: int64\n",
      "--------------------------------------\n",
      "========== 클래스 비율 ==========\n",
      "학습셋 클래스 비율: 0.93:0.01:0.02:0.04\n",
      "테스트셋 클래스 비율: 0.95:0.01:0.02:0.03\n",
      "--------------------------------------\n",
      "========== 환자 및 체류 정보 ==========\n",
      "학습셋 환자 수: 2907\n",
      "테스트셋 환자 수: 329\n",
      "학습셋 체류 수: 2961\n",
      "테스트셋 체류 수: 330\n",
      "--------------------------------------\n",
      "========== 실험 설정 ==========\n",
      "분할 시드: 9040\n",
      "학습 비율: 0.9\n",
      "임계값: 0.05\n",
      "--------------------------------------\n",
      "========== 실행 결과 ==========\n",
      "총 소요 시간(초): 0.38\n",
      "시도한 시행 횟수: 0\n"
     ]
    }
   ],
   "source": [
    "mimic_path = '/Users/DAHS/Desktop/ECP_CONT/ECP_SCL/Case Labeling/mimic_analysis.csv.gz'\n",
    "eicu_path = '/Users/DAHS/Desktop/ECP_CONT/ECP_SCL/Case Labeling/eicu_analysis.csv.gz'\n",
    "\n",
    "mimic = pd.read_csv(mimic_path, compression = 'gzip')\n",
    "mimic = mimic.drop('Shock_next_12h', axis = 1)\n",
    "\n",
    "eicu = pd.read_csv(eicu_path, compression = 'gzip')\n",
    "eicu = eicu.drop('Shock_next_12h', axis = 1)\n",
    "\n",
    "dataset_mimic = mimic[~(mimic['gender']==2)].reset_index(drop=True)\n",
    "\n",
    "dataset_mimic.replace([np.inf, -np.inf], np.nan, inplace=True)\n",
    "dataset_mimic.fillna(0, inplace=True) \n",
    "dataset_mimic = dataset_mimic[~(dataset_mimic['Case']=='event')]\n",
    "\n",
    "eventset = mimic[(mimic['Case']=='event')].reset_index(drop=True)\n",
    "dataset_mimic['Case'] = pd.to_numeric(dataset_mimic['Case'], errors='coerce')\n",
    "\n",
    "mimic_train, mimic_valid = data_split(dataset_mimic, 9040, 0.9, Threshold=0.05, n_trial=1, mode = 'mimic')\n",
    "\n",
    "eicu_t = eicu_year_process.matching_patient(eicu)\n",
    "dataset_eicu = eicu_t[~(eicu_t['gender']==2)].reset_index(drop=True)\n",
    "dataset_eicu.replace([np.inf, -np.inf], np.nan, inplace=True)\n",
    "dataset_eicu.fillna(0, inplace=True) \n",
    "\n",
    "eicu_test = dataset_eicu[~(dataset_eicu['Case']=='event')]\n",
    "event_eicu = dataset_eicu[(dataset_eicu['Case']=='event')]\n",
    "eicu_test['Case'] = pd.to_numeric(eicu_test['Case'], errors='coerce')\n",
    "hosp_id, eicu_test = get_hospital_eicu.hospital(eicu_test)\n",
    "\n",
    "eicu_type = get_hospital_eicu.eicu_subgroup(eicu_test)\n",
    "unitadmitsource, unittype, unitstaytype = get_hospital_eicu.make_eicu_dataset(eicu_type)"
   ]
  },
  {
   "cell_type": "code",
   "execution_count": 242,
   "metadata": {},
   "outputs": [
    {
     "data": {
      "text/plain": [
       "<module 'incorperate_subtask_label' from 'c:\\\\Users\\\\DAHS\\\\Desktop\\\\ECP_CONT\\\\ECP_SCL\\\\Experiment(Supervised Learning)\\\\sub task prediction\\\\incorperate_subtask_label.py'>"
      ]
     },
     "execution_count": 242,
     "metadata": {},
     "output_type": "execute_result"
    }
   ],
   "source": [
    "module_path='/Users/DAHS/Desktop/ECP_CONT/ECP_SCL/Experiment(Supervised Learning)/sub task prediction/'\n",
    "\n",
    "if module_path not in sys.path:\n",
    "    sys.path.append(module_path)\n",
    "\n",
    "import incorperate_subtask_label\n",
    "reload(incorperate_subtask_label)"
   ]
  },
  {
   "cell_type": "code",
   "execution_count": 181,
   "metadata": {},
   "outputs": [],
   "source": [
    "mort_mimic_train, mort_mimic_valid, mort_eicu_test = incorperate_subtask_label.mortality_prediction_DATA(mimic_train, mimic_valid, eicu_test)"
   ]
  },
  {
   "cell_type": "code",
   "execution_count": 43,
   "metadata": {},
   "outputs": [],
   "source": [
    "los_mimic_train, los_mimic_valid, los_eicu_test = incorperate_subtask_label.LOS_prediction_DATA(mimic_train, mimic_valid, eicu_test)"
   ]
  },
  {
   "cell_type": "code",
   "execution_count": 204,
   "metadata": {},
   "outputs": [],
   "source": [
    "ards4h_mimic_train, ards4h_mimic_valid, ards4h_eicu_test = incorperate_subtask_label.ARDS4_prediction_DATA(mimic_train, mimic_valid, eicu_test)"
   ]
  },
  {
   "cell_type": "code",
   "execution_count": 225,
   "metadata": {},
   "outputs": [],
   "source": [
    "ARDS4h_event_train = ards4h_mimic_train[ards4h_mimic_train['Annotation_ARDS']=='ARDS']\n",
    "ARDS4h_event_train['ARDS_next_4h']='event'\n",
    "ARDS4h_event_valid = ards4h_mimic_valid[ards4h_mimic_valid['Annotation_ARDS']=='ARDS']\n",
    "ARDS4h_event_valid['ARDS_next_4h']='event'\n",
    "ARDS4h_event_test = ards4h_eicu_test[ards4h_eicu_test['Annotation_ARDS']=='ARDS']\n",
    "ARDS4h_event_test['ARDS_next_4h']='event'"
   ]
  },
  {
   "cell_type": "code",
   "execution_count": 207,
   "metadata": {},
   "outputs": [],
   "source": [
    "ards8h_mimic_train, ards8h_mimic_valid, ards8h_eicu_test = incorperate_subtask_label.ARDS8_prediction_DATA(mimic_train, mimic_valid, eicu_test)"
   ]
  },
  {
   "cell_type": "code",
   "execution_count": 235,
   "metadata": {},
   "outputs": [],
   "source": [
    "ARDS8h_event_train = ards8h_mimic_train[ards8h_mimic_train['Annotation_ARDS']=='ARDS']\n",
    "ARDS8h_event_train['ARDS_next_8h']='event'\n",
    "ARDS8h_event_valid = ards8h_mimic_valid[ards8h_mimic_valid['Annotation_ARDS']=='ARDS']\n",
    "ARDS8h_event_valid['ARDS_next_8h']='event'\n",
    "ARDS8h_event_test = ards8h_eicu_test[ards8h_eicu_test['Annotation_ARDS']=='ARDS']\n",
    "ARDS8h_event_test['ARDS_next_8h']='event'"
   ]
  },
  {
   "cell_type": "code",
   "execution_count": 243,
   "metadata": {},
   "outputs": [],
   "source": [
    "sic4h_mimic_train, sic4h_mimic_valid, sic4h_eicu_test = incorperate_subtask_label.SIC4_prediction_DATA(mimic_train, mimic_valid, eicu_test)"
   ]
  },
  {
   "cell_type": "code",
   "execution_count": 245,
   "metadata": {},
   "outputs": [],
   "source": [
    "SIC4h_event_train = sic4h_mimic_train[sic4h_mimic_train['Annotation_SIC']=='SIC']\n",
    "SIC4h_event_train['SIC_next_4h']='event'\n",
    "SIC4h_event_valid = sic4h_mimic_valid[sic4h_mimic_valid['Annotation_SIC']=='SIC']\n",
    "SIC4h_event_valid['SIC_next_4h']='event'\n",
    "SIC4h_event_test = sic4h_eicu_test[sic4h_eicu_test['Annotation_SIC']=='SIC']\n",
    "SIC4h_event_test['SIC_next_4h']='event'"
   ]
  },
  {
   "cell_type": "code",
   "execution_count": 246,
   "metadata": {},
   "outputs": [],
   "source": [
    "sic8h_mimic_train, sic8h_mimic_valid, sic8h_eicu_test = incorperate_subtask_label.SIC8_prediction_DATA(mimic_train, mimic_valid, eicu_test)"
   ]
  },
  {
   "cell_type": "code",
   "execution_count": 247,
   "metadata": {},
   "outputs": [],
   "source": [
    "SIC8h_event_train = sic8h_mimic_train[sic8h_mimic_train['Annotation_SIC']=='SIC']\n",
    "SIC8h_event_train['SIC_next_8h']='event'\n",
    "SIC8h_event_valid = sic8h_mimic_valid[sic8h_mimic_valid['Annotation_SIC']=='SIC']\n",
    "SIC8h_event_valid['SIC_next_8h']='event'\n",
    "SIC8h_event_test = sic8h_eicu_test[sic8h_eicu_test['Annotation_SIC']=='SIC']\n",
    "SIC8h_event_test['SIC_next_8h']='event'"
   ]
  },
  {
   "cell_type": "code",
   "execution_count": 212,
   "metadata": {},
   "outputs": [
    {
     "data": {
      "text/plain": [
       "<module 'split' from 'c:\\\\Users/DAHS/Desktop/ECP_CONT/ECP_SCL/Experiment(Supervised Learning)/evaluation\\\\split.py'>"
      ]
     },
     "execution_count": 212,
     "metadata": {},
     "output_type": "execute_result"
    }
   ],
   "source": [
    "reload(split)"
   ]
  },
  {
   "cell_type": "code",
   "execution_count": 199,
   "metadata": {},
   "outputs": [
    {
     "data": {
      "text/plain": [
       "ARDS_next_4h\n",
       "0.0    0.931524\n",
       "1.0    0.068476\n",
       "Name: proportion, dtype: float64"
      ]
     },
     "execution_count": 199,
     "metadata": {},
     "output_type": "execute_result"
    }
   ],
   "source": [
    "ards4h_mimic_train[ards4h_mimic_train['Annotation_ARDS']=='no_ARDS'].ARDS_next_4h.value_counts(normalize=True)"
   ]
  },
  {
   "cell_type": "code",
   "execution_count": 250,
   "metadata": {},
   "outputs": [],
   "source": [
    "X_train_mort, y_train_mort, _ = split.split_X_Y_MORT(mort_mimic_train[~(mort_mimic_train['death']=='event')], mode = 'mimic')\n",
    "X_valid_mort, y_valid_mort, valid_output_mort = split.split_X_Y_MORT(mort_mimic_valid[~(mort_mimic_valid['death']=='event')], mode = 'mimic')\n",
    "\n",
    "X_train_los, y_train_los, _ = split.split_X_Y_LOS(los_mimic_train, mode = 'mimic')\n",
    "X_valid_los, y_valid_los, valid_output_los = split.split_X_Y_LOS(los_mimic_valid, mode = 'mimic')\n",
    "\n",
    "X_train_ards4h, y_train_ards4h, _ = split.split_X_Y_ARDS4h(ards4h_mimic_train[ards4h_mimic_train['Annotation_ARDS']=='no_ARDS'], mode = 'mimic')\n",
    "X_valid_ards4h, y_valid_ards4h, valid_output_ards4h = split.split_X_Y_ARDS4h(ards4h_mimic_valid[ards4h_mimic_valid['Annotation_ARDS']=='no_ARDS'], mode = 'mimic')\n",
    "\n",
    "X_train_ards8h, y_train_ards8h, _ = split.split_X_Y_ARDS8h(ards8h_mimic_train[ards8h_mimic_train['Annotation_ARDS']=='no_ARDS'], mode = 'mimic')\n",
    "X_valid_ards8h, y_valid_ards8h, valid_output_ards8h = split.split_X_Y_ARDS8h(ards8h_mimic_valid[ards8h_mimic_valid['Annotation_ARDS']=='no_ARDS'], mode = 'mimic')\n",
    "\n",
    "X_train_sic4h, y_train_sic4h, _ = split.split_X_Y_SIC4h(sic4h_mimic_train[sic4h_mimic_train['Annotation_SIC']=='no_SIC'], mode = 'mimic')\n",
    "X_valid_sic4h, y_valid_sic4h, valid_output_sic4h = split.split_X_Y_SIC4h(sic4h_mimic_valid[sic4h_mimic_valid['Annotation_SIC']=='no_SIC'], mode = 'mimic')\n",
    "\n",
    "X_train_sic8h, y_train_sic8h, _ = split.split_X_Y_SIC8h(sic8h_mimic_train[sic8h_mimic_train['Annotation_SIC']=='no_SIC'], mode = 'mimic')\n",
    "X_valid_sic8h, y_valid_sic8h, valid_output_sic8h = split.split_X_Y_SIC8h(sic8h_mimic_valid[sic8h_mimic_valid['Annotation_SIC']=='no_SIC'], mode = 'mimic')"
   ]
  },
  {
   "cell_type": "code",
   "execution_count": 253,
   "metadata": {},
   "outputs": [
    {
     "data": {
      "text/plain": [
       "<module 'Multiclass_evaluation' from 'c:\\\\Users/DAHS/Desktop/ECP_CONT/ECP_SCL/Experiment(Supervised Learning)/evaluation\\\\Multiclass_evaluation.py'>"
      ]
     },
     "execution_count": 253,
     "metadata": {},
     "output_type": "execute_result"
    }
   ],
   "source": [
    "reload(Multiclass_evaluation) "
   ]
  },
  {
   "cell_type": "code",
   "execution_count": 239,
   "metadata": {},
   "outputs": [
    {
     "name": "stdout",
     "output_type": "stream",
     "text": [
      "|MIMIC-Validation|====================================================\n"
     ]
    },
    {
     "data": {
      "text/html": [
       "<div>\n",
       "<style scoped>\n",
       "    .dataframe tbody tr th:only-of-type {\n",
       "        vertical-align: middle;\n",
       "    }\n",
       "\n",
       "    .dataframe tbody tr th {\n",
       "        vertical-align: top;\n",
       "    }\n",
       "\n",
       "    .dataframe thead th {\n",
       "        text-align: right;\n",
       "    }\n",
       "</style>\n",
       "<table border=\"1\" class=\"dataframe\">\n",
       "  <thead>\n",
       "    <tr style=\"text-align: right;\">\n",
       "      <th></th>\n",
       "      <th>Model</th>\n",
       "      <th>Accuracy</th>\n",
       "      <th>AUPRC</th>\n",
       "      <th>F1 Score</th>\n",
       "      <th>Recall</th>\n",
       "      <th>Precision</th>\n",
       "    </tr>\n",
       "  </thead>\n",
       "  <tbody>\n",
       "    <tr>\n",
       "      <th>0</th>\n",
       "      <td>lgbm</td>\n",
       "      <td>0.881533</td>\n",
       "      <td>0.410500</td>\n",
       "      <td>0.146840</td>\n",
       "      <td>0.082723</td>\n",
       "      <td>0.652893</td>\n",
       "    </tr>\n",
       "    <tr>\n",
       "      <th>1</th>\n",
       "      <td>rf</td>\n",
       "      <td>0.883985</td>\n",
       "      <td>0.310726</td>\n",
       "      <td>0.214847</td>\n",
       "      <td>0.128796</td>\n",
       "      <td>0.647368</td>\n",
       "    </tr>\n",
       "    <tr>\n",
       "      <th>2</th>\n",
       "      <td>dt</td>\n",
       "      <td>0.775455</td>\n",
       "      <td>0.166703</td>\n",
       "      <td>0.292107</td>\n",
       "      <td>0.375916</td>\n",
       "      <td>0.238856</td>\n",
       "    </tr>\n",
       "    <tr>\n",
       "      <th>3</th>\n",
       "      <td>lr</td>\n",
       "      <td>0.876758</td>\n",
       "      <td>0.197429</td>\n",
       "      <td>0.000000</td>\n",
       "      <td>0.000000</td>\n",
       "      <td>0.000000</td>\n",
       "    </tr>\n",
       "  </tbody>\n",
       "</table>\n",
       "</div>"
      ],
      "text/plain": [
       "  Model  Accuracy     AUPRC  F1 Score    Recall  Precision\n",
       "0  lgbm  0.881533  0.410500  0.146840  0.082723   0.652893\n",
       "1    rf  0.883985  0.310726  0.214847  0.128796   0.647368\n",
       "2    dt  0.775455  0.166703  0.292107  0.375916   0.238856\n",
       "3    lr  0.876758  0.197429  0.000000  0.000000   0.000000"
      ]
     },
     "metadata": {},
     "output_type": "display_data"
    },
    {
     "name": "stdout",
     "output_type": "stream",
     "text": [
      "----------------------------------------------------------------------\n"
     ]
    }
   ],
   "source": [
    "mort_models, result_mort = Multiclass_evaluation.create_subtask(X_train_mort, y_train_mort, X_valid_mort, valid_output_mort, _,mode = 'mimic', type = 'binary', event_task = False)"
   ]
  },
  {
   "cell_type": "code",
   "execution_count": 196,
   "metadata": {},
   "outputs": [
    {
     "name": "stdout",
     "output_type": "stream",
     "text": [
      "|MIMIC-Validation|====================================================\n"
     ]
    },
    {
     "data": {
      "text/html": [
       "<div>\n",
       "<style scoped>\n",
       "    .dataframe tbody tr th:only-of-type {\n",
       "        vertical-align: middle;\n",
       "    }\n",
       "\n",
       "    .dataframe tbody tr th {\n",
       "        vertical-align: top;\n",
       "    }\n",
       "\n",
       "    .dataframe thead th {\n",
       "        text-align: right;\n",
       "    }\n",
       "</style>\n",
       "<table border=\"1\" class=\"dataframe\">\n",
       "  <thead>\n",
       "    <tr style=\"text-align: right;\">\n",
       "      <th></th>\n",
       "      <th>Model</th>\n",
       "      <th>Accuracy</th>\n",
       "      <th>Macro AUPRC</th>\n",
       "      <th>F1 Score</th>\n",
       "      <th>Macro averaged precision</th>\n",
       "      <th>Macro averaged Recall</th>\n",
       "    </tr>\n",
       "  </thead>\n",
       "  <tbody>\n",
       "    <tr>\n",
       "      <th>0</th>\n",
       "      <td>lgbm</td>\n",
       "      <td>0.5259</td>\n",
       "      <td>0.583333</td>\n",
       "      <td>0.1940</td>\n",
       "      <td>0.2873</td>\n",
       "      <td>0.2299</td>\n",
       "    </tr>\n",
       "    <tr>\n",
       "      <th>1</th>\n",
       "      <td>rf</td>\n",
       "      <td>0.4796</td>\n",
       "      <td>0.483088</td>\n",
       "      <td>0.2404</td>\n",
       "      <td>0.2483</td>\n",
       "      <td>0.2611</td>\n",
       "    </tr>\n",
       "    <tr>\n",
       "      <th>2</th>\n",
       "      <td>dt</td>\n",
       "      <td>0.3531</td>\n",
       "      <td>0.511390</td>\n",
       "      <td>0.2312</td>\n",
       "      <td>0.2316</td>\n",
       "      <td>0.2337</td>\n",
       "    </tr>\n",
       "    <tr>\n",
       "      <th>3</th>\n",
       "      <td>lr</td>\n",
       "      <td>0.4809</td>\n",
       "      <td>0.583451</td>\n",
       "      <td>0.1098</td>\n",
       "      <td>0.4135</td>\n",
       "      <td>0.1675</td>\n",
       "    </tr>\n",
       "  </tbody>\n",
       "</table>\n",
       "</div>"
      ],
      "text/plain": [
       "  Model  Accuracy  Macro AUPRC  F1 Score  Macro averaged precision  \\\n",
       "0  lgbm    0.5259     0.583333    0.1940                    0.2873   \n",
       "1    rf    0.4796     0.483088    0.2404                    0.2483   \n",
       "2    dt    0.3531     0.511390    0.2312                    0.2316   \n",
       "3    lr    0.4809     0.583451    0.1098                    0.4135   \n",
       "\n",
       "   Macro averaged Recall  \n",
       "0                 0.2299  \n",
       "1                 0.2611  \n",
       "2                 0.2337  \n",
       "3                 0.1675  "
      ]
     },
     "metadata": {},
     "output_type": "display_data"
    },
    {
     "name": "stdout",
     "output_type": "stream",
     "text": [
      "----------------------------------------------------------------------\n"
     ]
    }
   ],
   "source": [
    "los_models, result_los = Multiclass_evaluation.create_subtask(X_train_los, y_train_los, X_valid_los, valid_output_los, _, mode = 'mimic', type = 'multi', event_task = False)"
   ]
  },
  {
   "cell_type": "code",
   "execution_count": 232,
   "metadata": {},
   "outputs": [
    {
     "name": "stdout",
     "output_type": "stream",
     "text": [
      "|MIMIC-Validation|====================================================\n"
     ]
    },
    {
     "data": {
      "text/html": [
       "<div>\n",
       "<style scoped>\n",
       "    .dataframe tbody tr th:only-of-type {\n",
       "        vertical-align: middle;\n",
       "    }\n",
       "\n",
       "    .dataframe tbody tr th {\n",
       "        vertical-align: top;\n",
       "    }\n",
       "\n",
       "    .dataframe thead th {\n",
       "        text-align: right;\n",
       "    }\n",
       "</style>\n",
       "<table border=\"1\" class=\"dataframe\">\n",
       "  <thead>\n",
       "    <tr style=\"text-align: right;\">\n",
       "      <th></th>\n",
       "      <th>Model</th>\n",
       "      <th>Accuracy</th>\n",
       "      <th>AUPRC</th>\n",
       "      <th>Recall</th>\n",
       "      <th>Precision</th>\n",
       "    </tr>\n",
       "  </thead>\n",
       "  <tbody>\n",
       "    <tr>\n",
       "      <th>0</th>\n",
       "      <td>lgbm</td>\n",
       "      <td>0.889317</td>\n",
       "      <td>0.504842</td>\n",
       "      <td>0.2105</td>\n",
       "      <td>0.916667</td>\n",
       "    </tr>\n",
       "    <tr>\n",
       "      <th>1</th>\n",
       "      <td>rf</td>\n",
       "      <td>0.883888</td>\n",
       "      <td>0.401885</td>\n",
       "      <td>0.4354</td>\n",
       "      <td>0.579805</td>\n",
       "    </tr>\n",
       "    <tr>\n",
       "      <th>2</th>\n",
       "      <td>dt</td>\n",
       "      <td>0.810333</td>\n",
       "      <td>0.193515</td>\n",
       "      <td>0.5742</td>\n",
       "      <td>0.300323</td>\n",
       "    </tr>\n",
       "    <tr>\n",
       "      <th>3</th>\n",
       "      <td>lr</td>\n",
       "      <td>0.874431</td>\n",
       "      <td>0.181386</td>\n",
       "      <td>0.0287</td>\n",
       "      <td>0.424242</td>\n",
       "    </tr>\n",
       "  </tbody>\n",
       "</table>\n",
       "</div>"
      ],
      "text/plain": [
       "  Model  Accuracy     AUPRC  Recall  Precision\n",
       "0  lgbm  0.889317  0.504842  0.2105   0.916667\n",
       "1    rf  0.883888  0.401885  0.4354   0.579805\n",
       "2    dt  0.810333  0.193515  0.5742   0.300323\n",
       "3    lr  0.874431  0.181386  0.0287   0.424242"
      ]
     },
     "metadata": {},
     "output_type": "display_data"
    },
    {
     "name": "stdout",
     "output_type": "stream",
     "text": [
      "----------------------------------------------------------------------\n"
     ]
    }
   ],
   "source": [
    "ards4h_models, result_ards4h = Multiclass_evaluation.create_subtask(X_train_ards4h, y_train_ards4h, X_valid_ards4h, valid_output_ards4h, ARDS4h_event_valid, mode = 'mimic', type = 'binary', event_task='ARDS 4h')"
   ]
  },
  {
   "cell_type": "code",
   "execution_count": 236,
   "metadata": {},
   "outputs": [
    {
     "name": "stdout",
     "output_type": "stream",
     "text": [
      "|MIMIC-Validation|====================================================\n"
     ]
    },
    {
     "data": {
      "text/html": [
       "<div>\n",
       "<style scoped>\n",
       "    .dataframe tbody tr th:only-of-type {\n",
       "        vertical-align: middle;\n",
       "    }\n",
       "\n",
       "    .dataframe tbody tr th {\n",
       "        vertical-align: top;\n",
       "    }\n",
       "\n",
       "    .dataframe thead th {\n",
       "        text-align: right;\n",
       "    }\n",
       "</style>\n",
       "<table border=\"1\" class=\"dataframe\">\n",
       "  <thead>\n",
       "    <tr style=\"text-align: right;\">\n",
       "      <th></th>\n",
       "      <th>Model</th>\n",
       "      <th>Accuracy</th>\n",
       "      <th>AUPRC</th>\n",
       "      <th>Recall</th>\n",
       "      <th>Precision</th>\n",
       "    </tr>\n",
       "  </thead>\n",
       "  <tbody>\n",
       "    <tr>\n",
       "      <th>0</th>\n",
       "      <td>lgbm</td>\n",
       "      <td>0.822242</td>\n",
       "      <td>0.524101</td>\n",
       "      <td>0.3636</td>\n",
       "      <td>0.873418</td>\n",
       "    </tr>\n",
       "    <tr>\n",
       "      <th>1</th>\n",
       "      <td>rf</td>\n",
       "      <td>0.798949</td>\n",
       "      <td>0.460599</td>\n",
       "      <td>0.6746</td>\n",
       "      <td>0.529024</td>\n",
       "    </tr>\n",
       "    <tr>\n",
       "      <th>2</th>\n",
       "      <td>dt</td>\n",
       "      <td>0.620490</td>\n",
       "      <td>0.228960</td>\n",
       "      <td>0.7847</td>\n",
       "      <td>0.255884</td>\n",
       "    </tr>\n",
       "    <tr>\n",
       "      <th>3</th>\n",
       "      <td>lr</td>\n",
       "      <td>0.789142</td>\n",
       "      <td>0.270022</td>\n",
       "      <td>0.0478</td>\n",
       "      <td>0.411765</td>\n",
       "    </tr>\n",
       "  </tbody>\n",
       "</table>\n",
       "</div>"
      ],
      "text/plain": [
       "  Model  Accuracy     AUPRC  Recall  Precision\n",
       "0  lgbm  0.822242  0.524101  0.3636   0.873418\n",
       "1    rf  0.798949  0.460599  0.6746   0.529024\n",
       "2    dt  0.620490  0.228960  0.7847   0.255884\n",
       "3    lr  0.789142  0.270022  0.0478   0.411765"
      ]
     },
     "metadata": {},
     "output_type": "display_data"
    },
    {
     "name": "stdout",
     "output_type": "stream",
     "text": [
      "----------------------------------------------------------------------\n"
     ]
    }
   ],
   "source": [
    "ards8h_models, result_ards8h = Multiclass_evaluation.create_subtask(X_train_ards8h, y_train_ards8h, X_valid_ards8h, valid_output_ards8h, ARDS8h_event_valid, mode = 'mimic', type = 'binary', event_task='ARDS 8h')"
   ]
  },
  {
   "cell_type": "code",
   "execution_count": 254,
   "metadata": {},
   "outputs": [
    {
     "name": "stdout",
     "output_type": "stream",
     "text": [
      "|MIMIC-Validation|====================================================\n"
     ]
    },
    {
     "data": {
      "text/html": [
       "<div>\n",
       "<style scoped>\n",
       "    .dataframe tbody tr th:only-of-type {\n",
       "        vertical-align: middle;\n",
       "    }\n",
       "\n",
       "    .dataframe tbody tr th {\n",
       "        vertical-align: top;\n",
       "    }\n",
       "\n",
       "    .dataframe thead th {\n",
       "        text-align: right;\n",
       "    }\n",
       "</style>\n",
       "<table border=\"1\" class=\"dataframe\">\n",
       "  <thead>\n",
       "    <tr style=\"text-align: right;\">\n",
       "      <th></th>\n",
       "      <th>Model</th>\n",
       "      <th>Accuracy</th>\n",
       "      <th>AUPRC</th>\n",
       "      <th>Recall</th>\n",
       "      <th>Precision</th>\n",
       "    </tr>\n",
       "  </thead>\n",
       "  <tbody>\n",
       "    <tr>\n",
       "      <th>0</th>\n",
       "      <td>lgbm</td>\n",
       "      <td>0.927870</td>\n",
       "      <td>0.322420</td>\n",
       "      <td>0.0247</td>\n",
       "      <td>0.750000</td>\n",
       "    </tr>\n",
       "    <tr>\n",
       "      <th>1</th>\n",
       "      <td>rf</td>\n",
       "      <td>0.923660</td>\n",
       "      <td>0.171342</td>\n",
       "      <td>0.1235</td>\n",
       "      <td>0.392157</td>\n",
       "    </tr>\n",
       "    <tr>\n",
       "      <th>2</th>\n",
       "      <td>dt</td>\n",
       "      <td>0.824586</td>\n",
       "      <td>0.090225</td>\n",
       "      <td>0.4074</td>\n",
       "      <td>0.137450</td>\n",
       "    </tr>\n",
       "    <tr>\n",
       "      <th>3</th>\n",
       "      <td>lr</td>\n",
       "      <td>0.927589</td>\n",
       "      <td>0.317256</td>\n",
       "      <td>0.0247</td>\n",
       "      <td>0.800000</td>\n",
       "    </tr>\n",
       "  </tbody>\n",
       "</table>\n",
       "</div>"
      ],
      "text/plain": [
       "  Model  Accuracy     AUPRC  Recall  Precision\n",
       "0  lgbm  0.927870  0.322420  0.0247   0.750000\n",
       "1    rf  0.923660  0.171342  0.1235   0.392157\n",
       "2    dt  0.824586  0.090225  0.4074   0.137450\n",
       "3    lr  0.927589  0.317256  0.0247   0.800000"
      ]
     },
     "metadata": {},
     "output_type": "display_data"
    },
    {
     "name": "stdout",
     "output_type": "stream",
     "text": [
      "----------------------------------------------------------------------\n"
     ]
    }
   ],
   "source": [
    "sic4h_models, result_sic4h = Multiclass_evaluation.create_subtask(X_train_sic4h, y_train_sic4h, X_valid_sic4h, valid_output_sic4h, SIC4h_event_valid, mode = 'mimic', type = 'binary', event_task='SIC 4h')"
   ]
  },
  {
   "cell_type": "code",
   "execution_count": 255,
   "metadata": {},
   "outputs": [
    {
     "name": "stdout",
     "output_type": "stream",
     "text": [
      "|MIMIC-Validation|====================================================\n"
     ]
    },
    {
     "data": {
      "text/html": [
       "<div>\n",
       "<style scoped>\n",
       "    .dataframe tbody tr th:only-of-type {\n",
       "        vertical-align: middle;\n",
       "    }\n",
       "\n",
       "    .dataframe tbody tr th {\n",
       "        vertical-align: top;\n",
       "    }\n",
       "\n",
       "    .dataframe thead th {\n",
       "        text-align: right;\n",
       "    }\n",
       "</style>\n",
       "<table border=\"1\" class=\"dataframe\">\n",
       "  <thead>\n",
       "    <tr style=\"text-align: right;\">\n",
       "      <th></th>\n",
       "      <th>Model</th>\n",
       "      <th>Accuracy</th>\n",
       "      <th>AUPRC</th>\n",
       "      <th>Recall</th>\n",
       "      <th>Precision</th>\n",
       "    </tr>\n",
       "  </thead>\n",
       "  <tbody>\n",
       "    <tr>\n",
       "      <th>0</th>\n",
       "      <td>lgbm</td>\n",
       "      <td>0.874544</td>\n",
       "      <td>0.443275</td>\n",
       "      <td>0.0247</td>\n",
       "      <td>0.400000</td>\n",
       "    </tr>\n",
       "    <tr>\n",
       "      <th>1</th>\n",
       "      <td>rf</td>\n",
       "      <td>0.858546</td>\n",
       "      <td>0.232822</td>\n",
       "      <td>0.3827</td>\n",
       "      <td>0.340659</td>\n",
       "    </tr>\n",
       "    <tr>\n",
       "      <th>2</th>\n",
       "      <td>dt</td>\n",
       "      <td>0.791468</td>\n",
       "      <td>0.171564</td>\n",
       "      <td>0.5432</td>\n",
       "      <td>0.256956</td>\n",
       "    </tr>\n",
       "    <tr>\n",
       "      <th>3</th>\n",
       "      <td>lr</td>\n",
       "      <td>0.877631</td>\n",
       "      <td>0.420684</td>\n",
       "      <td>0.0370</td>\n",
       "      <td>1.000000</td>\n",
       "    </tr>\n",
       "  </tbody>\n",
       "</table>\n",
       "</div>"
      ],
      "text/plain": [
       "  Model  Accuracy     AUPRC  Recall  Precision\n",
       "0  lgbm  0.874544  0.443275  0.0247   0.400000\n",
       "1    rf  0.858546  0.232822  0.3827   0.340659\n",
       "2    dt  0.791468  0.171564  0.5432   0.256956\n",
       "3    lr  0.877631  0.420684  0.0370   1.000000"
      ]
     },
     "metadata": {},
     "output_type": "display_data"
    },
    {
     "name": "stdout",
     "output_type": "stream",
     "text": [
      "----------------------------------------------------------------------\n"
     ]
    }
   ],
   "source": [
    "sic8h_models, result_sic8h = Multiclass_evaluation.create_subtask(X_train_sic8h, y_train_sic8h, X_valid_sic8h, valid_output_sic8h, SIC8h_event_valid, mode = 'mimic', type = 'binary', event_task='SIC 8h')"
   ]
  }
 ],
 "metadata": {
  "kernelspec": {
   "display_name": "DL",
   "language": "python",
   "name": "python3"
  },
  "language_info": {
   "codemirror_mode": {
    "name": "ipython",
    "version": 3
   },
   "file_extension": ".py",
   "mimetype": "text/x-python",
   "name": "python",
   "nbconvert_exporter": "python",
   "pygments_lexer": "ipython3",
   "version": "3.9.16"
  }
 },
 "nbformat": 4,
 "nbformat_minor": 2
}
