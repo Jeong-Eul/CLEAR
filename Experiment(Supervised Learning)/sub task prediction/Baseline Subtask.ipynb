{
 "cells": [
  {
   "cell_type": "code",
   "execution_count": 1,
   "metadata": {},
   "outputs": [
    {
     "data": {
      "text/plain": [
       "<module 'Multiclass_evaluation' from '/Users/gwonjeong-eul/Desktop/ecp-scl-macbook/ECP_SCL/Experiment(Supervised Learning)/evaluation/Multiclass_evaluation.py'>"
      ]
     },
     "execution_count": 1,
     "metadata": {},
     "output_type": "execute_result"
    }
   ],
   "source": [
    "import pandas as pd\n",
    "import numpy as np\n",
    "import time\n",
    "import sys\n",
    "\n",
    "from sklearn.metrics import accuracy_score\n",
    "from sklearn.metrics import precision_score\n",
    "from sklearn.metrics import recall_score\n",
    "\n",
    "from lightgbm import LGBMClassifier\n",
    "from sklearn.linear_model import LogisticRegression  \n",
    "from sklearn import svm\n",
    "\n",
    "os_env = 'mac'\n",
    "\n",
    "if os_env == 'window':\n",
    "    module_path='/Users/DAHS/Desktop/ECP_CONT/ECP_SCL/Cohort_selection/'\n",
    "else:\n",
    "    module_path = '/Users/gwonjeong-eul/Desktop/ecp-scl-macbook/ECP_SCL/Cohort_selection/'\n",
    "\n",
    "if module_path not in sys.path:\n",
    "    sys.path.append(module_path)\n",
    "\n",
    "from cohort_loader_new_version0229 import *\n",
    "import eicu_year_process\n",
    "\n",
    "if os_env == 'window':\n",
    "    module_path='/Users/DAHS/Desktop/ECP_CONT/ECP_SCL/Experiment(Supervised Learning)/evaluation/'\n",
    "else:\n",
    "    module_path = '/Users/gwonjeong-eul/Desktop/ecp-scl-macbook/ECP_SCL/Experiment(Supervised Learning)/evaluation/'\n",
    "\n",
    "if module_path not in sys.path:\n",
    "    sys.path.append(module_path)\n",
    "\n",
    "import get_hospital_eicu\n",
    "\n",
    "import split\n",
    "from imp import reload\n",
    "reload(split)\n",
    "\n",
    "import Multiclass_evaluation\n",
    "reload(Multiclass_evaluation)"
   ]
  },
  {
   "cell_type": "code",
   "execution_count": 2,
   "metadata": {},
   "outputs": [],
   "source": [
    "if os_env == 'window':\n",
    "    mimic_path = '/Users/DAHS/Desktop/ECP_CONT/ECP_SCL/Case Labeling/mimic_analysis(new_version0313).csv.gz'\n",
    "    eicu_path = '/Users/DAHS/Desktop/ECP_CONT/ECP_SCL/Case Labeling/eicu_analysis(new_version0313).csv.gz'\n",
    "\n",
    "else:\n",
    "    mimic_path = '/Users/gwonjeong-eul/Desktop/ecp-scl-macbook/ECP_SCL/Case Labeling/mimic_analysis(new_version0313).csv.gz'\n",
    "    eicu_path = '/Users/gwonjeong-eul/Desktop/ecp-scl-macbook/ECP_SCL/Case Labeling/eicu_analysis(new_version0313).csv.gz'"
   ]
  },
  {
   "cell_type": "code",
   "execution_count": 82,
   "metadata": {},
   "outputs": [
    {
     "name": "stdout",
     "output_type": "stream",
     "text": [
      "Trial:  0\n",
      "Threshold 조정 + 0.05, 현재 한계값: 0.1\n",
      "========== 데이터셋 분할 정보 ==========\n",
      "데이터셋 비율: 학습 = 0.90, 테스트 = 0.10\n",
      "학습셋 클래스 비율: Case\n",
      "1.0    174346\n",
      "2.0     27608\n",
      "3.0     70171\n",
      "4.0     71699\n",
      "Name: count, dtype: int64\n",
      "테스트셋 클래스 비율: Case\n",
      "1.0    17664\n",
      "2.0     3030\n",
      "3.0     9456\n",
      "4.0     8278\n",
      "Name: count, dtype: int64\n",
      "--------------------------------------\n",
      "========== 클래스 비율 ==========\n",
      "학습셋 클래스 비율: 0.51:0.08:0.20:0.21\n",
      "테스트셋 클래스 비율: 0.46:0.08:0.25:0.22\n",
      "--------------------------------------\n",
      "========== 환자 및 체류 정보 ==========\n",
      "학습셋 환자 수: 5323\n",
      "테스트셋 환자 수: 601\n",
      "학습셋 체류 수: 5433\n",
      "테스트셋 체류 수: 604\n",
      "--------------------------------------\n",
      "========== 실험 설정 ==========\n",
      "분할 시드: 9040\n",
      "학습 비율: 0.9\n",
      "임계값: 0.1\n",
      "--------------------------------------\n",
      "========== 실행 결과 ==========\n",
      "총 소요 시간(초): 0.47\n",
      "시도한 시행 횟수: 0\n"
     ]
    }
   ],
   "source": [
    "mimic = pd.read_csv(mimic_path, compression = 'gzip')\n",
    "mimic = mimic.drop('Shock_next_12h', axis = 1)\n",
    "\n",
    "eicu = pd.read_csv(eicu_path, compression = 'gzip')\n",
    "eicu = eicu.drop('Shock_next_12h', axis = 1)\n",
    "\n",
    "dataset_mimic = mimic[~(mimic['gender']==2)].reset_index(drop=True)\n",
    "\n",
    "dataset_mimic.replace([np.inf, -np.inf], np.nan, inplace=True)\n",
    "dataset_mimic.fillna(0, inplace=True) \n",
    "dataset_mimic = dataset_mimic[~(dataset_mimic['Case']=='event')]\n",
    "dataset_mimic = dataset_mimic[~((dataset_mimic['INDEX']=='CASE3_CASE4_DF')&(dataset_mimic['Annotation']=='no_circ'))]\n",
    "\n",
    "eventset = mimic[(mimic['Case']=='event')].reset_index(drop=True)\n",
    "dataset_mimic['Case'] = pd.to_numeric(dataset_mimic['Case'], errors='coerce')\n",
    "\n",
    "mimic_train, mimic_valid = data_split(dataset_mimic, 9040, 0.9, Threshold=0.05, n_trial=1, mode = 'mimic')\n",
    "\n",
    "mimic_train = mimic_train[mimic_train['INDEX']=='CASE3_CASE4_DF'].reset_index(drop=True)\n",
    "mimic_valid = mimic_valid[mimic_valid['INDEX']=='CASE3_CASE4_DF'].reset_index(drop=True)\n",
    "\n",
    "eicu_t = eicu_year_process.matching_patient(eicu)\n",
    "dataset_eicu = eicu_t[~(eicu_t['gender']==2)].reset_index(drop=True)\n",
    "dataset_eicu.replace([np.inf, -np.inf], np.nan, inplace=True)\n",
    "dataset_eicu.fillna(0, inplace=True) \n",
    "\n",
    "eicu_test = dataset_eicu[~(dataset_eicu['Case']=='event')]\n",
    "event_eicu = dataset_eicu[(dataset_eicu['Case']=='event')]\n",
    "eicu_test = eicu_test[~((eicu_test['INDEX']=='CASE3_CASE4_DF')&(eicu_test['Annotation']=='no_circ'))]\n",
    "eicu_test = eicu_test[eicu_test['INDEX']=='CASE3_CASE4_DF'].reset_index(drop=True)\n",
    "eicu_test['Case'] = pd.to_numeric(eicu_test['Case'], errors='coerce')"
   ]
  },
  {
   "cell_type": "code",
   "execution_count": 84,
   "metadata": {},
   "outputs": [
    {
     "data": {
      "text/plain": [
       "<module 'incorperate_subtask_label' from '/Users/gwonjeong-eul/Desktop/ecp-scl-macbook/ECP_SCL/Experiment(Supervised Learning)/sub task prediction/incorperate_subtask_label.py'>"
      ]
     },
     "execution_count": 84,
     "metadata": {},
     "output_type": "execute_result"
    }
   ],
   "source": [
    "if os_env == 'window':\n",
    "    module_path='/Users/DAHS/Desktop/ECP_CONT/ECP_SCL/Experiment(Supervised Learning)/sub task prediction/'\n",
    "else:\n",
    "    module_path = '/Users/gwonjeong-eul/Desktop/ecp-scl-macbook/ECP_SCL/Experiment(Supervised Learning)/sub task prediction'\n",
    "\n",
    "if module_path not in sys.path:\n",
    "    sys.path.append(module_path)\n",
    "\n",
    "import incorperate_subtask_label\n",
    "reload(incorperate_subtask_label)"
   ]
  },
  {
   "cell_type": "code",
   "execution_count": 110,
   "metadata": {},
   "outputs": [],
   "source": [
    "# train, val -> Trainset (underfitting 방지)\n",
    "\n",
    "mort_mimic_train, mort_mimic_valid, mort_eicu_test = incorperate_subtask_label.mortality_prediction_DATA(mimic_train, mimic_valid, eicu_test, os_env='mac')\n",
    "mimic_mort_trainset = pd.concat([mort_mimic_train, mort_mimic_valid], axis = 0)\n",
    "\n",
    "los_mimic_train, los_mimic_valid, los_eicu_test = incorperate_subtask_label.LOS_prediction_DATA(mimic_train, mimic_valid, eicu_test, os_env='mac')\n",
    "mimic_los_trainset = pd.concat([los_mimic_train, los_mimic_valid], axis = 0)\n",
    "\n",
    "ards8h_mimic_train, ards8h_mimic_valid, ards8h_eicu_test = incorperate_subtask_label.ARDS8_prediction_DATA(mimic_train, mimic_valid, eicu_test, os_env='mac')\n",
    "mimic_ards8h_trainset = pd.concat([ards8h_mimic_train, ards8h_mimic_valid], axis = 0)\n",
    "\n",
    "sic8h_mimic_train, sic8h_mimic_valid, sic8h_eicu_test = incorperate_subtask_label.SIC8_prediction_DATA(mimic_train, mimic_valid, eicu_test, os_env='mac')\n",
    "mimic_sic8h__trainset = pd.concat([sic8h_mimic_train, sic8h_mimic_valid], axis = 0)"
   ]
  },
  {
   "cell_type": "code",
   "execution_count": 111,
   "metadata": {},
   "outputs": [],
   "source": [
    "ARDS8h_event_train = ards8h_mimic_train[ards8h_mimic_train['Annotation_ARDS']=='ARDS']\n",
    "ARDS8h_event_train['ARDS_next_8h']='event'\n",
    "ARDS8h_event_valid = ards8h_mimic_valid[ards8h_mimic_valid['Annotation_ARDS']=='ARDS']\n",
    "ARDS8h_event_valid['ARDS_next_8h']='event'\n",
    "ARDS8h_event_test = ards8h_eicu_test[ards8h_eicu_test['Annotation_ARDS']=='ARDS']\n",
    "ARDS8h_event_test['ARDS_next_8h']='event'\n",
    "\n",
    "SIC8h_event_train = sic8h_mimic_train[sic8h_mimic_train['Annotation_SIC']=='SIC']\n",
    "SIC8h_event_train['SIC_next_8h']='event'\n",
    "SIC8h_event_valid = sic8h_mimic_valid[sic8h_mimic_valid['Annotation_SIC']=='SIC']\n",
    "SIC8h_event_valid['SIC_next_8h']='event'\n",
    "SIC8h_event_test = sic8h_eicu_test[sic8h_eicu_test['Annotation_SIC']=='SIC']\n",
    "SIC8h_event_test['SIC_next_8h']='event'"
   ]
  },
  {
   "cell_type": "code",
   "execution_count": 112,
   "metadata": {},
   "outputs": [],
   "source": [
    "X_train_mort, y_train_mort, _ = split.split_X_Y_MORT(mimic_mort_trainset[~(mimic_mort_trainset['death']=='event')], mode = 'mimic')\n",
    "X_train_los, y_train_los, _ = split.split_X_Y_LOS(mimic_los_trainset, mode = 'mimic')\n",
    "X_train_ards8h, y_train_ards8h, _ = split.split_X_Y_ARDS8h(mimic_ards8h_trainset, mode = 'mimic')\n",
    "X_train_sic8h, y_train_sic8h, _ = split.split_X_Y_SIC8h(mimic_sic8h__trainset, mode = 'mimic')"
   ]
  },
  {
   "cell_type": "code",
   "execution_count": 113,
   "metadata": {},
   "outputs": [
    {
     "data": {
      "text/plain": [
       "<module 'Multiclass_evaluation' from '/Users/gwonjeong-eul/Desktop/ecp-scl-macbook/ECP_SCL/Experiment(Supervised Learning)/evaluation/Multiclass_evaluation.py'>"
      ]
     },
     "execution_count": 113,
     "metadata": {},
     "output_type": "execute_result"
    }
   ],
   "source": [
    "reload(Multiclass_evaluation) "
   ]
  },
  {
   "cell_type": "code",
   "execution_count": 114,
   "metadata": {},
   "outputs": [
    {
     "data": {
      "text/html": [
       "<div>\n",
       "<style scoped>\n",
       "    .dataframe tbody tr th:only-of-type {\n",
       "        vertical-align: middle;\n",
       "    }\n",
       "\n",
       "    .dataframe tbody tr th {\n",
       "        vertical-align: top;\n",
       "    }\n",
       "\n",
       "    .dataframe thead th {\n",
       "        text-align: right;\n",
       "    }\n",
       "</style>\n",
       "<table border=\"1\" class=\"dataframe\">\n",
       "  <thead>\n",
       "    <tr style=\"text-align: right;\">\n",
       "      <th></th>\n",
       "      <th>Model</th>\n",
       "      <th>Accuracy</th>\n",
       "      <th>AUPRC</th>\n",
       "      <th>F1 Score</th>\n",
       "      <th>Recall</th>\n",
       "      <th>Precision</th>\n",
       "    </tr>\n",
       "  </thead>\n",
       "  <tbody>\n",
       "    <tr>\n",
       "      <th>0</th>\n",
       "      <td>xgb</td>\n",
       "      <td>0.465397</td>\n",
       "      <td>0.31228</td>\n",
       "      <td>0.415239</td>\n",
       "      <td>0.564418</td>\n",
       "      <td>0.328433</td>\n",
       "    </tr>\n",
       "  </tbody>\n",
       "</table>\n",
       "</div>"
      ],
      "text/plain": [
       "  Model  Accuracy    AUPRC  F1 Score    Recall  Precision\n",
       "0   xgb  0.465397  0.31228  0.415239  0.564418   0.328433"
      ]
     },
     "metadata": {},
     "output_type": "display_data"
    }
   ],
   "source": [
    "#mortality\n",
    "\n",
    "lgbm_wrapper = LGBMClassifier(random_state = 42, verbose=-1)\n",
    "lgbm_wrapper.fit(X_train_mort, y_train_mort)\n",
    "\n",
    "X_test_mort, y_test_mort, test_output_mort = split.split_X_Y_MORT(mort_eicu_test[~(mort_eicu_test['death']=='event')], mode = 'eicu')\n",
    "\n",
    "X_test_mort = X_test_mort.drop(['hospitalid', 'hospitaldischargeyear'], axis = 1)\n",
    "\n",
    "test_preds_mort = lgbm_wrapper.predict(X_test_mort)\n",
    "test_output_mort['prediction_label'] = test_preds_mort\n",
    "test_output_mort['prediction_prob'] = lgbm_wrapper.predict_proba(X_test_mort)[:, 1]\n",
    "\n",
    "test_eval = Multiclass_evaluation.ST_binary_evaluation(_, test_output_mort, 'xgb', mode = 'eicu', event_task = False)\n",
    "display(test_eval)"
   ]
  },
  {
   "cell_type": "code",
   "execution_count": 116,
   "metadata": {},
   "outputs": [
    {
     "data": {
      "text/html": [
       "<div>\n",
       "<style scoped>\n",
       "    .dataframe tbody tr th:only-of-type {\n",
       "        vertical-align: middle;\n",
       "    }\n",
       "\n",
       "    .dataframe tbody tr th {\n",
       "        vertical-align: top;\n",
       "    }\n",
       "\n",
       "    .dataframe thead th {\n",
       "        text-align: right;\n",
       "    }\n",
       "</style>\n",
       "<table border=\"1\" class=\"dataframe\">\n",
       "  <thead>\n",
       "    <tr style=\"text-align: right;\">\n",
       "      <th></th>\n",
       "      <th>Model</th>\n",
       "      <th>Accuracy</th>\n",
       "      <th>Macro AUPRC</th>\n",
       "      <th>F1 Score</th>\n",
       "      <th>Macro averaged precision</th>\n",
       "      <th>Macro averaged Recall</th>\n",
       "    </tr>\n",
       "  </thead>\n",
       "  <tbody>\n",
       "    <tr>\n",
       "      <th>0</th>\n",
       "      <td>xgb</td>\n",
       "      <td>0.6804</td>\n",
       "      <td>0.666667</td>\n",
       "      <td>0.5009</td>\n",
       "      <td>0.572</td>\n",
       "      <td>0.5187</td>\n",
       "    </tr>\n",
       "  </tbody>\n",
       "</table>\n",
       "</div>"
      ],
      "text/plain": [
       "  Model  Accuracy  Macro AUPRC  F1 Score  Macro averaged precision  \\\n",
       "0   xgb    0.6804     0.666667    0.5009                     0.572   \n",
       "\n",
       "   Macro averaged Recall  \n",
       "0                 0.5187  "
      ]
     },
     "metadata": {},
     "output_type": "display_data"
    }
   ],
   "source": [
    "lgbm_wrapper = LGBMClassifier(random_state = 42, verbose=-1)\n",
    "lgbm_wrapper.fit(X_train_los, y_train_los)\n",
    "\n",
    "X_test_los, y_test_los, test_output_los = split.split_X_Y_LOS(los_eicu_test, mode = 'eicu')\n",
    "\n",
    "X_test_los = X_test_los.drop(['hospitalid', 'hospitaldischargeyear'], axis = 1)\n",
    "\n",
    "test_preds_los = lgbm_wrapper.predict(X_test_los)\n",
    "test_output_los['prediction_label'] = test_preds_los\n",
    "test_output_los['prediction_prob'] = lgbm_wrapper.predict_proba(X_test_los)[:, 1]\n",
    "\n",
    "test_eval_los = Multiclass_evaluation.ST_multi_evaluation(_, test_output_los, 'xgb')\n",
    "display(test_eval_los)"
   ]
  },
  {
   "cell_type": "code",
   "execution_count": 121,
   "metadata": {},
   "outputs": [
    {
     "data": {
      "text/html": [
       "<div>\n",
       "<style scoped>\n",
       "    .dataframe tbody tr th:only-of-type {\n",
       "        vertical-align: middle;\n",
       "    }\n",
       "\n",
       "    .dataframe tbody tr th {\n",
       "        vertical-align: top;\n",
       "    }\n",
       "\n",
       "    .dataframe thead th {\n",
       "        text-align: right;\n",
       "    }\n",
       "</style>\n",
       "<table border=\"1\" class=\"dataframe\">\n",
       "  <thead>\n",
       "    <tr style=\"text-align: right;\">\n",
       "      <th></th>\n",
       "      <th>Model</th>\n",
       "      <th>AUPRC</th>\n",
       "      <th>ARDS score</th>\n",
       "      <th>Recall</th>\n",
       "      <th>Precision</th>\n",
       "      <th>Grecall</th>\n",
       "    </tr>\n",
       "  </thead>\n",
       "  <tbody>\n",
       "    <tr>\n",
       "      <th>0</th>\n",
       "      <td>lgbm</td>\n",
       "      <td>0.161247</td>\n",
       "      <td>0.172566</td>\n",
       "      <td>0.1769</td>\n",
       "      <td>0.245247</td>\n",
       "      <td>0.152482</td>\n",
       "    </tr>\n",
       "  </tbody>\n",
       "</table>\n",
       "</div>"
      ],
      "text/plain": [
       "  Model     AUPRC  ARDS score  Recall  Precision   Grecall\n",
       "0  lgbm  0.161247    0.172566  0.1769   0.245247  0.152482"
      ]
     },
     "metadata": {},
     "output_type": "display_data"
    }
   ],
   "source": [
    "lgbm_wrapper = LGBMClassifier(random_state = 42, verbose=-1)\n",
    "lgbm_wrapper.fit(X_train_ards8h, y_train_ards8h)\n",
    "\n",
    "X_test_ards8h, y_test_ards8h, test_output_ards8h = split.split_X_Y_ARDS8h(ards8h_eicu_test, mode = 'eicu')\n",
    "\n",
    "X_test_ards8h = X_test_ards8h.drop(['hospitalid', 'hospitaldischargeyear'], axis = 1)\n",
    "\n",
    "test_preds_ards8h = lgbm_wrapper.predict(X_test_ards8h)\n",
    "test_output_ards8h['prediction_label'] = test_preds_ards8h\n",
    "test_output_ards8h['prediction_prob'] = lgbm_wrapper.predict_proba(X_test_ards8h)[:, 1]\n",
    "\n",
    "test_eval_ards8h = Multiclass_evaluation.ST_binary_evaluation(ARDS8h_event_test, test_output_ards8h, 'lgbm', mode='eicu', event_task='ARDS 8h')\n",
    "display(test_eval_ards8h)"
   ]
  },
  {
   "cell_type": "code",
   "execution_count": 119,
   "metadata": {},
   "outputs": [
    {
     "data": {
      "text/html": [
       "<div>\n",
       "<style scoped>\n",
       "    .dataframe tbody tr th:only-of-type {\n",
       "        vertical-align: middle;\n",
       "    }\n",
       "\n",
       "    .dataframe tbody tr th {\n",
       "        vertical-align: top;\n",
       "    }\n",
       "\n",
       "    .dataframe thead th {\n",
       "        text-align: right;\n",
       "    }\n",
       "</style>\n",
       "<table border=\"1\" class=\"dataframe\">\n",
       "  <thead>\n",
       "    <tr style=\"text-align: right;\">\n",
       "      <th></th>\n",
       "      <th>Model</th>\n",
       "      <th>AUPRC</th>\n",
       "      <th>SIC score</th>\n",
       "      <th>Recall</th>\n",
       "      <th>Precision</th>\n",
       "      <th>Grecall</th>\n",
       "    </tr>\n",
       "  </thead>\n",
       "  <tbody>\n",
       "    <tr>\n",
       "      <th>0</th>\n",
       "      <td>lgbm</td>\n",
       "      <td>0.36675</td>\n",
       "      <td>0.279232</td>\n",
       "      <td>0.233333</td>\n",
       "      <td>0.450068</td>\n",
       "      <td>0.238925</td>\n",
       "    </tr>\n",
       "  </tbody>\n",
       "</table>\n",
       "</div>"
      ],
      "text/plain": [
       "  Model    AUPRC  SIC score    Recall  Precision   Grecall\n",
       "0  lgbm  0.36675   0.279232  0.233333   0.450068  0.238925"
      ]
     },
     "metadata": {},
     "output_type": "display_data"
    }
   ],
   "source": [
    "reload(Multiclass_evaluation) \n",
    "\n",
    "eicu_2014 = sic8h_eicu_test[sic8h_eicu_test['hospitaldischargeyear']==2014].drop(['hospitalid', 'hospitaldischargeyear'], axis = 1)\n",
    "eicu_2015 = sic8h_eicu_test[sic8h_eicu_test['hospitaldischargeyear']==2015].drop(['hospitalid', 'hospitaldischargeyear'], axis = 1)\n",
    "\n",
    "\n",
    "X_test_sic8h_2014, y_test_sic8h_2014, _ = split.split_X_Y_SIC8h(eicu_2014, mode = 'eicu')\n",
    "X_test_sic8h_2015, y_test_sic8h_2015, test_output_sic8h = split.split_X_Y_SIC8h(eicu_2015, mode = 'eicu')\n",
    "\n",
    "\n",
    "X = pd.concat([X_train_sic8h, X_test_sic8h_2014], axis = 0)\n",
    "Y = np.concatenate((y_train_sic8h, y_test_sic8h_2014))\n",
    "\n",
    "\n",
    "sic_models, result_sic = Multiclass_evaluation.create_subtask(X, Y, X_test_sic8h_2015, test_output_sic8h, SIC8h_event_test, mode='eicu', type='binary', event_task='SIC 8h')"
   ]
  },
  {
   "cell_type": "code",
   "execution_count": null,
   "metadata": {},
   "outputs": [],
   "source": []
  }
 ],
 "metadata": {
  "kernelspec": {
   "display_name": "DL",
   "language": "python",
   "name": "python3"
  },
  "language_info": {
   "codemirror_mode": {
    "name": "ipython",
    "version": 3
   },
   "file_extension": ".py",
   "mimetype": "text/x-python",
   "name": "python",
   "nbconvert_exporter": "python",
   "pygments_lexer": "ipython3",
   "version": "3.11.5"
  }
 },
 "nbformat": 4,
 "nbformat_minor": 2
}
