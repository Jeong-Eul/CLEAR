{
 "cells": [
  {
   "cell_type": "code",
   "execution_count": 1,
   "metadata": {},
   "outputs": [
    {
     "data": {
      "text/plain": [
       "<module 'Multiclass_evaluation' from '/Users/gwonjeong-eul/Desktop/ecp-scl-macbook/ECP_SCL/Experiment(Supervised Learning)/evaluation/Multiclass_evaluation.py'>"
      ]
     },
     "execution_count": 1,
     "metadata": {},
     "output_type": "execute_result"
    }
   ],
   "source": [
    "import pandas as pd\n",
    "import numpy as np\n",
    "import time\n",
    "import sys\n",
    "\n",
    "from sklearn.metrics import accuracy_score\n",
    "from sklearn.metrics import precision_score\n",
    "from sklearn.metrics import recall_score\n",
    "\n",
    "from lightgbm import LGBMClassifier\n",
    "from sklearn.linear_model import LogisticRegression  \n",
    "from sklearn import svm\n",
    "\n",
    "os_env = 'mac'\n",
    "\n",
    "if os_env == 'window':\n",
    "    module_path='/Users/DAHS/Desktop/ECP_CONT/ECP_SCL/Cohort_selection/'\n",
    "else:\n",
    "    module_path = '/Users/gwonjeong-eul/Desktop/ecp-scl-macbook/ECP_SCL/Cohort_selection/'\n",
    "\n",
    "if module_path not in sys.path:\n",
    "    sys.path.append(module_path)\n",
    "\n",
    "from cohort_loader_new_version0229 import *\n",
    "import eicu_year_process\n",
    "\n",
    "if os_env == 'window':\n",
    "    module_path='/Users/DAHS/Desktop/ECP_CONT/ECP_SCL/Experiment(Supervised Learning)/evaluation/'\n",
    "else:\n",
    "    module_path = '/Users/gwonjeong-eul/Desktop/ecp-scl-macbook/ECP_SCL/Experiment(Supervised Learning)/evaluation/'\n",
    "\n",
    "if module_path not in sys.path:\n",
    "    sys.path.append(module_path)\n",
    "\n",
    "import get_hospital_eicu\n",
    "\n",
    "import split\n",
    "from imp import reload\n",
    "reload(split)\n",
    "\n",
    "import Multiclass_evaluation\n",
    "reload(Multiclass_evaluation)"
   ]
  },
  {
   "cell_type": "code",
   "execution_count": 2,
   "metadata": {},
   "outputs": [],
   "source": [
    "if os_env == 'window':\n",
    "    mimic_path = '/Users/DAHS/Desktop/ECP_CONT/ECP_SCL/Case Labeling/mimic_analysis(new_version0313).csv.gz'\n",
    "    eicu_path = '/Users/DAHS/Desktop/ECP_CONT/ECP_SCL/Case Labeling/eicu_analysis(new_version0313).csv.gz'\n",
    "\n",
    "else:\n",
    "    mimic_path = '/Users/gwonjeong-eul/Desktop/ecp-scl-macbook/ECP_SCL/Case Labeling/mimic_analysis(new_version0313).csv.gz'\n",
    "    eicu_path = '/Users/gwonjeong-eul/Desktop/ecp-scl-macbook/ECP_SCL/Case Labeling/eicu_analysis(new_version0313).csv.gz'"
   ]
  },
  {
   "cell_type": "code",
   "execution_count": 3,
   "metadata": {},
   "outputs": [
    {
     "name": "stdout",
     "output_type": "stream",
     "text": [
      "Trial:  0\n",
      "Threshold 조정 + 0.05, 현재 한계값: 0.1\n",
      "========== 데이터셋 분할 정보 ==========\n",
      "데이터셋 비율: 학습 = 0.90, 테스트 = 0.10\n",
      "학습셋 클래스 비율: Case\n",
      "1.0    174346\n",
      "2.0     27608\n",
      "3.0     70171\n",
      "4.0     71699\n",
      "Name: count, dtype: int64\n",
      "테스트셋 클래스 비율: Case\n",
      "1.0    17664\n",
      "2.0     3030\n",
      "3.0     9456\n",
      "4.0     8278\n",
      "Name: count, dtype: int64\n",
      "--------------------------------------\n",
      "========== 클래스 비율 ==========\n",
      "학습셋 클래스 비율: 0.51:0.08:0.20:0.21\n",
      "테스트셋 클래스 비율: 0.46:0.08:0.25:0.22\n",
      "--------------------------------------\n",
      "========== 환자 및 체류 정보 ==========\n",
      "학습셋 환자 수: 5323\n",
      "테스트셋 환자 수: 601\n",
      "학습셋 체류 수: 5433\n",
      "테스트셋 체류 수: 604\n",
      "--------------------------------------\n",
      "========== 실험 설정 ==========\n",
      "분할 시드: 9040\n",
      "학습 비율: 0.9\n",
      "임계값: 0.1\n",
      "--------------------------------------\n",
      "========== 실행 결과 ==========\n",
      "총 소요 시간(초): 0.30\n",
      "시도한 시행 횟수: 0\n"
     ]
    }
   ],
   "source": [
    "mimic = pd.read_csv(mimic_path, compression = 'gzip')\n",
    "mimic = mimic.drop('Shock_next_12h', axis = 1)\n",
    "\n",
    "eicu = pd.read_csv(eicu_path, compression = 'gzip')\n",
    "eicu = eicu.drop('Shock_next_12h', axis = 1)\n",
    "\n",
    "dataset_mimic = mimic[~(mimic['gender']==2)].reset_index(drop=True)\n",
    "\n",
    "dataset_mimic.replace([np.inf, -np.inf], np.nan, inplace=True)\n",
    "dataset_mimic.fillna(0, inplace=True) \n",
    "dataset_mimic = dataset_mimic[~(dataset_mimic['Case']=='event')]\n",
    "dataset_mimic = dataset_mimic[~((dataset_mimic['INDEX']=='CASE3_CASE4_DF')&(dataset_mimic['Annotation']=='no_circ'))]\n",
    "\n",
    "eventset = mimic[(mimic['Case']=='event')].reset_index(drop=True)\n",
    "dataset_mimic['Case'] = pd.to_numeric(dataset_mimic['Case'], errors='coerce')\n",
    "\n",
    "mimic_train, mimic_valid = data_split(dataset_mimic, 9040, 0.9, Threshold=0.05, n_trial=1, mode = 'mimic')\n",
    "\n",
    "eicu_t = eicu_year_process.matching_patient(eicu)\n",
    "dataset_eicu = eicu_t[~(eicu_t['gender']==2)].reset_index(drop=True)\n",
    "dataset_eicu.replace([np.inf, -np.inf], np.nan, inplace=True)\n",
    "dataset_eicu.fillna(0, inplace=True) \n",
    "\n",
    "eicu_test = dataset_eicu[~(dataset_eicu['Case']=='event')]\n",
    "event_eicu = dataset_eicu[(dataset_eicu['Case']=='event')]\n",
    "eicu_test = eicu_test[~((eicu_test['INDEX']=='CASE3_CASE4_DF')&(eicu_test['Annotation']=='no_circ'))]\n",
    "eicu_test['Case'] = pd.to_numeric(eicu_test['Case'], errors='coerce')\n",
    "hosp_id, eicu_test = get_hospital_eicu.hospital(eicu_test)\n",
    "\n",
    "eicu_type = get_hospital_eicu.eicu_subgroup(eicu_test)\n",
    "unitadmitsource, unittype, unitstaytype = get_hospital_eicu.make_eicu_dataset(eicu_type)"
   ]
  },
  {
   "cell_type": "code",
   "execution_count": 5,
   "metadata": {},
   "outputs": [
    {
     "data": {
      "text/plain": [
       "<module 'incorperate_subtask_label' from '/Users/gwonjeong-eul/Desktop/ecp-scl-macbook/ECP_SCL/Experiment(Supervised Learning)/sub task prediction/incorperate_subtask_label.py'>"
      ]
     },
     "execution_count": 5,
     "metadata": {},
     "output_type": "execute_result"
    }
   ],
   "source": [
    "if os_env == 'window':\n",
    "    module_path='/Users/DAHS/Desktop/ECP_CONT/ECP_SCL/Experiment(Supervised Learning)/sub task prediction/'\n",
    "else:\n",
    "    module_path = '/Users/gwonjeong-eul/Desktop/ecp-scl-macbook/ECP_SCL/Experiment(Supervised Learning)/sub task prediction'\n",
    "\n",
    "if module_path not in sys.path:\n",
    "    sys.path.append(module_path)\n",
    "\n",
    "import incorperate_subtask_label\n",
    "reload(incorperate_subtask_label)"
   ]
  },
  {
   "cell_type": "code",
   "execution_count": 6,
   "metadata": {},
   "outputs": [],
   "source": [
    "mort_mimic_train, mort_mimic_valid, mort_eicu_test = incorperate_subtask_label.mortality_prediction_DATA(mimic_train, mimic_valid, eicu_test, os_env='mac')"
   ]
  },
  {
   "cell_type": "code",
   "execution_count": 8,
   "metadata": {},
   "outputs": [],
   "source": [
    "los_mimic_train, los_mimic_valid, los_eicu_test = incorperate_subtask_label.LOS_prediction_DATA(mimic_train, mimic_valid, eicu_test, os_env='mac')"
   ]
  },
  {
   "cell_type": "code",
   "execution_count": 10,
   "metadata": {},
   "outputs": [],
   "source": [
    "ards8h_mimic_train, ards8h_mimic_valid, ards8h_eicu_test = incorperate_subtask_label.ARDS8_prediction_DATA(mimic_train, mimic_valid, eicu_test, os_env='mac')"
   ]
  },
  {
   "cell_type": "code",
   "execution_count": 11,
   "metadata": {},
   "outputs": [],
   "source": [
    "ARDS8h_event_train = ards8h_mimic_train[ards8h_mimic_train['Annotation_ARDS']=='ARDS']\n",
    "ARDS8h_event_train['ARDS_next_8h']='event'\n",
    "ARDS8h_event_valid = ards8h_mimic_valid[ards8h_mimic_valid['Annotation_ARDS']=='ARDS']\n",
    "ARDS8h_event_valid['ARDS_next_8h']='event'\n",
    "ARDS8h_event_test = ards8h_eicu_test[ards8h_eicu_test['Annotation_ARDS']=='ARDS']\n",
    "ARDS8h_event_test['ARDS_next_8h']='event'"
   ]
  },
  {
   "cell_type": "code",
   "execution_count": 12,
   "metadata": {},
   "outputs": [],
   "source": [
    "sic8h_mimic_train, sic8h_mimic_valid, sic8h_eicu_test = incorperate_subtask_label.SIC8_prediction_DATA(mimic_train, mimic_valid, eicu_test, os_env='mac')"
   ]
  },
  {
   "cell_type": "code",
   "execution_count": 13,
   "metadata": {},
   "outputs": [],
   "source": [
    "SIC8h_event_train = sic8h_mimic_train[sic8h_mimic_train['Annotation_SIC']=='SIC']\n",
    "SIC8h_event_train['SIC_next_8h']='event'\n",
    "SIC8h_event_valid = sic8h_mimic_valid[sic8h_mimic_valid['Annotation_SIC']=='SIC']\n",
    "SIC8h_event_valid['SIC_next_8h']='event'\n",
    "SIC8h_event_test = sic8h_eicu_test[sic8h_eicu_test['Annotation_SIC']=='SIC']\n",
    "SIC8h_event_test['SIC_next_8h']='event'"
   ]
  },
  {
   "cell_type": "code",
   "execution_count": 14,
   "metadata": {},
   "outputs": [
    {
     "data": {
      "text/plain": [
       "<module 'split' from '/Users/gwonjeong-eul/Desktop/ecp-scl-macbook/ECP_SCL/Experiment(Supervised Learning)/evaluation/split.py'>"
      ]
     },
     "execution_count": 14,
     "metadata": {},
     "output_type": "execute_result"
    }
   ],
   "source": [
    "reload(split)"
   ]
  },
  {
   "cell_type": "code",
   "execution_count": 15,
   "metadata": {},
   "outputs": [],
   "source": [
    "X_train_mort, y_train_mort, _ = split.split_X_Y_MORT(mort_mimic_train[~(mort_mimic_train['death']=='event')], mode = 'mimic')\n",
    "X_valid_mort, y_valid_mort, valid_output_mort = split.split_X_Y_MORT(mort_mimic_valid[~(mort_mimic_valid['death']=='event')], mode = 'mimic')\n",
    "\n",
    "X_train_los, y_train_los, _ = split.split_X_Y_LOS(los_mimic_train, mode = 'mimic')\n",
    "X_valid_los, y_valid_los, valid_output_los = split.split_X_Y_LOS(los_mimic_valid, mode = 'mimic')\n",
    "\n",
    "X_train_ards8h, y_train_ards8h, _ = split.split_X_Y_ARDS8h(ards8h_mimic_train[ards8h_mimic_train['Annotation_ARDS']=='no_ARDS'], mode = 'mimic')\n",
    "X_valid_ards8h, y_valid_ards8h, valid_output_ards8h = split.split_X_Y_ARDS8h(ards8h_mimic_valid[ards8h_mimic_valid['Annotation_ARDS']=='no_ARDS'], mode = 'mimic')\n",
    "\n",
    "X_train_sic8h, y_train_sic8h, _ = split.split_X_Y_SIC8h(sic8h_mimic_train[sic8h_mimic_train['Annotation_SIC']=='no_SIC'], mode = 'mimic')\n",
    "X_valid_sic8h, y_valid_sic8h, valid_output_sic8h = split.split_X_Y_SIC8h(sic8h_mimic_valid[sic8h_mimic_valid['Annotation_SIC']=='no_SIC'], mode = 'mimic')"
   ]
  },
  {
   "cell_type": "code",
   "execution_count": 17,
   "metadata": {},
   "outputs": [
    {
     "data": {
      "text/plain": [
       "<module 'Multiclass_evaluation' from '/Users/gwonjeong-eul/Desktop/ecp-scl-macbook/ECP_SCL/Experiment(Supervised Learning)/evaluation/Multiclass_evaluation.py'>"
      ]
     },
     "execution_count": 17,
     "metadata": {},
     "output_type": "execute_result"
    }
   ],
   "source": [
    "reload(Multiclass_evaluation) "
   ]
  },
  {
   "cell_type": "code",
   "execution_count": 18,
   "metadata": {},
   "outputs": [
    {
     "name": "stdout",
     "output_type": "stream",
     "text": [
      "|MIMIC-Validation|====================================================\n"
     ]
    },
    {
     "data": {
      "text/html": [
       "<div>\n",
       "<style scoped>\n",
       "    .dataframe tbody tr th:only-of-type {\n",
       "        vertical-align: middle;\n",
       "    }\n",
       "\n",
       "    .dataframe tbody tr th {\n",
       "        vertical-align: top;\n",
       "    }\n",
       "\n",
       "    .dataframe thead th {\n",
       "        text-align: right;\n",
       "    }\n",
       "</style>\n",
       "<table border=\"1\" class=\"dataframe\">\n",
       "  <thead>\n",
       "    <tr style=\"text-align: right;\">\n",
       "      <th></th>\n",
       "      <th>Model</th>\n",
       "      <th>Accuracy</th>\n",
       "      <th>AUPRC</th>\n",
       "      <th>F1 Score</th>\n",
       "      <th>Recall</th>\n",
       "      <th>Precision</th>\n",
       "    </tr>\n",
       "  </thead>\n",
       "  <tbody>\n",
       "    <tr>\n",
       "      <th>0</th>\n",
       "      <td>xgb</td>\n",
       "      <td>0.650746</td>\n",
       "      <td>0.450126</td>\n",
       "      <td>0.448113</td>\n",
       "      <td>0.446359</td>\n",
       "      <td>0.449882</td>\n",
       "    </tr>\n",
       "    <tr>\n",
       "      <th>1</th>\n",
       "      <td>lgbm</td>\n",
       "      <td>0.681841</td>\n",
       "      <td>0.524490</td>\n",
       "      <td>0.465077</td>\n",
       "      <td>0.435395</td>\n",
       "      <td>0.499102</td>\n",
       "    </tr>\n",
       "    <tr>\n",
       "      <th>2</th>\n",
       "      <td>catboost</td>\n",
       "      <td>0.667413</td>\n",
       "      <td>0.475899</td>\n",
       "      <td>0.481180</td>\n",
       "      <td>0.485513</td>\n",
       "      <td>0.476923</td>\n",
       "    </tr>\n",
       "    <tr>\n",
       "      <th>3</th>\n",
       "      <td>rf</td>\n",
       "      <td>0.667164</td>\n",
       "      <td>0.442447</td>\n",
       "      <td>0.300209</td>\n",
       "      <td>0.224745</td>\n",
       "      <td>0.451969</td>\n",
       "    </tr>\n",
       "    <tr>\n",
       "      <th>4</th>\n",
       "      <td>dt</td>\n",
       "      <td>0.528856</td>\n",
       "      <td>0.321532</td>\n",
       "      <td>0.379423</td>\n",
       "      <td>0.453406</td>\n",
       "      <td>0.326197</td>\n",
       "    </tr>\n",
       "    <tr>\n",
       "      <th>5</th>\n",
       "      <td>svm-ovr</td>\n",
       "      <td>0.679104</td>\n",
       "      <td>0.394377</td>\n",
       "      <td>0.077253</td>\n",
       "      <td>0.042287</td>\n",
       "      <td>0.446281</td>\n",
       "    </tr>\n",
       "    <tr>\n",
       "      <th>6</th>\n",
       "      <td>lr</td>\n",
       "      <td>0.656219</td>\n",
       "      <td>0.390922</td>\n",
       "      <td>0.273396</td>\n",
       "      <td>0.203602</td>\n",
       "      <td>0.416000</td>\n",
       "    </tr>\n",
       "    <tr>\n",
       "      <th>7</th>\n",
       "      <td>naivebayes</td>\n",
       "      <td>0.317662</td>\n",
       "      <td>0.401766</td>\n",
       "      <td>0.482160</td>\n",
       "      <td>1.000000</td>\n",
       "      <td>0.317662</td>\n",
       "    </tr>\n",
       "    <tr>\n",
       "      <th>8</th>\n",
       "      <td>knn</td>\n",
       "      <td>0.589552</td>\n",
       "      <td>0.322881</td>\n",
       "      <td>0.327628</td>\n",
       "      <td>0.314800</td>\n",
       "      <td>0.341546</td>\n",
       "    </tr>\n",
       "  </tbody>\n",
       "</table>\n",
       "</div>"
      ],
      "text/plain": [
       "        Model  Accuracy     AUPRC  F1 Score    Recall  Precision\n",
       "0         xgb  0.650746  0.450126  0.448113  0.446359   0.449882\n",
       "1        lgbm  0.681841  0.524490  0.465077  0.435395   0.499102\n",
       "2    catboost  0.667413  0.475899  0.481180  0.485513   0.476923\n",
       "3          rf  0.667164  0.442447  0.300209  0.224745   0.451969\n",
       "4          dt  0.528856  0.321532  0.379423  0.453406   0.326197\n",
       "5     svm-ovr  0.679104  0.394377  0.077253  0.042287   0.446281\n",
       "6          lr  0.656219  0.390922  0.273396  0.203602   0.416000\n",
       "7  naivebayes  0.317662  0.401766  0.482160  1.000000   0.317662\n",
       "8         knn  0.589552  0.322881  0.327628  0.314800   0.341546"
      ]
     },
     "metadata": {},
     "output_type": "display_data"
    },
    {
     "name": "stdout",
     "output_type": "stream",
     "text": [
      "----------------------------------------------------------------------\n"
     ]
    }
   ],
   "source": [
    "mort_models, result_mort = Multiclass_evaluation.create_subtask(X_train_mort, y_train_mort, X_valid_mort, valid_output_mort, _,mode = 'mimic', type = 'binary', event_task = False)"
   ]
  },
  {
   "cell_type": "code",
   "execution_count": 129,
   "metadata": {},
   "outputs": [],
   "source": [
    "result_mort.to_excel(excel_writer='mort_baseline_method.xlsx')"
   ]
  },
  {
   "cell_type": "code",
   "execution_count": 42,
   "metadata": {},
   "outputs": [],
   "source": [
    "los_models, result_los = Multiclass_evaluation.create_subtask(X_train_los, y_train_los, X_valid_los, valid_output_los, _, mode = 'mimic', type = 'multi', event_task = False)"
   ]
  },
  {
   "cell_type": "code",
   "execution_count": 128,
   "metadata": {},
   "outputs": [],
   "source": [
    "result_los.to_excel(excel_writer='los_baseline_method.xlsx')"
   ]
  },
  {
   "cell_type": "code",
   "execution_count": 174,
   "metadata": {},
   "outputs": [
    {
     "name": "stdout",
     "output_type": "stream",
     "text": [
      "ZeroDivisionError\n",
      "|MIMIC-Validation|====================================================\n"
     ]
    },
    {
     "data": {
      "text/html": [
       "<div>\n",
       "<style scoped>\n",
       "    .dataframe tbody tr th:only-of-type {\n",
       "        vertical-align: middle;\n",
       "    }\n",
       "\n",
       "    .dataframe tbody tr th {\n",
       "        vertical-align: top;\n",
       "    }\n",
       "\n",
       "    .dataframe thead th {\n",
       "        text-align: right;\n",
       "    }\n",
       "</style>\n",
       "<table border=\"1\" class=\"dataframe\">\n",
       "  <thead>\n",
       "    <tr style=\"text-align: right;\">\n",
       "      <th></th>\n",
       "      <th>Model</th>\n",
       "      <th>AUPRC</th>\n",
       "      <th>ARDS score</th>\n",
       "      <th>Recall</th>\n",
       "      <th>Precision</th>\n",
       "      <th>Grecall</th>\n",
       "    </tr>\n",
       "  </thead>\n",
       "  <tbody>\n",
       "    <tr>\n",
       "      <th>0</th>\n",
       "      <td>xgb</td>\n",
       "      <td>0.346432</td>\n",
       "      <td>0.263076</td>\n",
       "      <td>0.4355</td>\n",
       "      <td>0.419355</td>\n",
       "      <td>0.225694</td>\n",
       "    </tr>\n",
       "    <tr>\n",
       "      <th>1</th>\n",
       "      <td>lgbm</td>\n",
       "      <td>0.374790</td>\n",
       "      <td>0.241211</td>\n",
       "      <td>0.3387</td>\n",
       "      <td>0.475000</td>\n",
       "      <td>0.197917</td>\n",
       "    </tr>\n",
       "    <tr>\n",
       "      <th>2</th>\n",
       "      <td>catboost</td>\n",
       "      <td>0.368421</td>\n",
       "      <td>0.250000</td>\n",
       "      <td>0.3226</td>\n",
       "      <td>0.420690</td>\n",
       "      <td>0.211806</td>\n",
       "    </tr>\n",
       "    <tr>\n",
       "      <th>3</th>\n",
       "      <td>rf</td>\n",
       "      <td>0.437831</td>\n",
       "      <td>0.132075</td>\n",
       "      <td>0.2258</td>\n",
       "      <td>0.682927</td>\n",
       "      <td>0.097222</td>\n",
       "    </tr>\n",
       "    <tr>\n",
       "      <th>4</th>\n",
       "      <td>dt</td>\n",
       "      <td>0.340699</td>\n",
       "      <td>0.294487</td>\n",
       "      <td>0.4839</td>\n",
       "      <td>0.309701</td>\n",
       "      <td>0.288194</td>\n",
       "    </tr>\n",
       "    <tr>\n",
       "      <th>5</th>\n",
       "      <td>svm-ovr</td>\n",
       "      <td>0.371860</td>\n",
       "      <td>0.178521</td>\n",
       "      <td>0.2903</td>\n",
       "      <td>0.629032</td>\n",
       "      <td>0.135417</td>\n",
       "    </tr>\n",
       "    <tr>\n",
       "      <th>6</th>\n",
       "      <td>lr</td>\n",
       "      <td>0.412100</td>\n",
       "      <td>0.275424</td>\n",
       "      <td>0.4194</td>\n",
       "      <td>0.546218</td>\n",
       "      <td>0.225694</td>\n",
       "    </tr>\n",
       "    <tr>\n",
       "      <th>7</th>\n",
       "      <td>naivebayes</td>\n",
       "      <td>0.124763</td>\n",
       "      <td>0.000000</td>\n",
       "      <td>0.0000</td>\n",
       "      <td>0.000000</td>\n",
       "      <td>0.000000</td>\n",
       "    </tr>\n",
       "    <tr>\n",
       "      <th>8</th>\n",
       "      <td>knn</td>\n",
       "      <td>0.176442</td>\n",
       "      <td>0.133041</td>\n",
       "      <td>0.2581</td>\n",
       "      <td>0.169082</td>\n",
       "      <td>0.121528</td>\n",
       "    </tr>\n",
       "  </tbody>\n",
       "</table>\n",
       "</div>"
      ],
      "text/plain": [
       "        Model     AUPRC  ARDS score  Recall  Precision   Grecall\n",
       "0         xgb  0.346432    0.263076  0.4355   0.419355  0.225694\n",
       "1        lgbm  0.374790    0.241211  0.3387   0.475000  0.197917\n",
       "2    catboost  0.368421    0.250000  0.3226   0.420690  0.211806\n",
       "3          rf  0.437831    0.132075  0.2258   0.682927  0.097222\n",
       "4          dt  0.340699    0.294487  0.4839   0.309701  0.288194\n",
       "5     svm-ovr  0.371860    0.178521  0.2903   0.629032  0.135417\n",
       "6          lr  0.412100    0.275424  0.4194   0.546218  0.225694\n",
       "7  naivebayes  0.124763    0.000000  0.0000   0.000000  0.000000\n",
       "8         knn  0.176442    0.133041  0.2581   0.169082  0.121528"
      ]
     },
     "metadata": {},
     "output_type": "display_data"
    },
    {
     "name": "stdout",
     "output_type": "stream",
     "text": [
      "----------------------------------------------------------------------\n"
     ]
    }
   ],
   "source": [
    "ards8h_models, result_ards8h = Multiclass_evaluation.create_subtask(X_train_ards8h, y_train_ards8h, X_valid_ards8h, valid_output_ards8h, ARDS8h_event_valid, mode = 'mimic', type = 'binary', event_task='ARDS 8h')"
   ]
  },
  {
   "cell_type": "code",
   "execution_count": 250,
   "metadata": {},
   "outputs": [],
   "source": [
    "result_ards8h.to_excel(excel_writer='ards8h_baseline_method.xlsx')"
   ]
  },
  {
   "cell_type": "code",
   "execution_count": 251,
   "metadata": {},
   "outputs": [],
   "source": [
    "X_train_sic8h, y_train_sic8h, _ = split.split_X_Y_SIC8h(sic8h_mimic_train, mode = 'mimic')\n",
    "X_valid_sic8h, y_valid_sic8h, valid_output_sic8h = split.split_X_Y_SIC8h(sic8h_mimic_valid[sic8h_mimic_valid['Annotation_SIC']=='no_SIC'], mode = 'mimic')"
   ]
  },
  {
   "cell_type": "code",
   "execution_count": 176,
   "metadata": {},
   "outputs": [
    {
     "name": "stdout",
     "output_type": "stream",
     "text": [
      "|MIMIC-Validation|====================================================\n"
     ]
    },
    {
     "data": {
      "text/html": [
       "<div>\n",
       "<style scoped>\n",
       "    .dataframe tbody tr th:only-of-type {\n",
       "        vertical-align: middle;\n",
       "    }\n",
       "\n",
       "    .dataframe tbody tr th {\n",
       "        vertical-align: top;\n",
       "    }\n",
       "\n",
       "    .dataframe thead th {\n",
       "        text-align: right;\n",
       "    }\n",
       "</style>\n",
       "<table border=\"1\" class=\"dataframe\">\n",
       "  <thead>\n",
       "    <tr style=\"text-align: right;\">\n",
       "      <th></th>\n",
       "      <th>Model</th>\n",
       "      <th>AUPRC</th>\n",
       "      <th>SIC score</th>\n",
       "      <th>Recall</th>\n",
       "      <th>Precision</th>\n",
       "      <th>Grecall</th>\n",
       "    </tr>\n",
       "  </thead>\n",
       "  <tbody>\n",
       "    <tr>\n",
       "      <th>0</th>\n",
       "      <td>xgb</td>\n",
       "      <td>0.287631</td>\n",
       "      <td>0.165114</td>\n",
       "      <td>0.255814</td>\n",
       "      <td>0.319149</td>\n",
       "      <td>0.135952</td>\n",
       "    </tr>\n",
       "    <tr>\n",
       "      <th>1</th>\n",
       "      <td>lgbm</td>\n",
       "      <td>0.338607</td>\n",
       "      <td>0.139493</td>\n",
       "      <td>0.279070</td>\n",
       "      <td>0.382979</td>\n",
       "      <td>0.108761</td>\n",
       "    </tr>\n",
       "    <tr>\n",
       "      <th>2</th>\n",
       "      <td>catboost</td>\n",
       "      <td>0.392337</td>\n",
       "      <td>0.131797</td>\n",
       "      <td>0.186047</td>\n",
       "      <td>0.478261</td>\n",
       "      <td>0.099698</td>\n",
       "    </tr>\n",
       "    <tr>\n",
       "      <th>3</th>\n",
       "      <td>rf</td>\n",
       "      <td>0.316597</td>\n",
       "      <td>0.025974</td>\n",
       "      <td>0.046512</td>\n",
       "      <td>1.000000</td>\n",
       "      <td>0.018127</td>\n",
       "    </tr>\n",
       "    <tr>\n",
       "      <th>4</th>\n",
       "      <td>dt</td>\n",
       "      <td>0.338436</td>\n",
       "      <td>0.305717</td>\n",
       "      <td>0.511628</td>\n",
       "      <td>0.263285</td>\n",
       "      <td>0.329305</td>\n",
       "    </tr>\n",
       "    <tr>\n",
       "      <th>5</th>\n",
       "      <td>svm-ovr</td>\n",
       "      <td>0.283125</td>\n",
       "      <td>0.000000</td>\n",
       "      <td>0.000000</td>\n",
       "      <td>0.000000</td>\n",
       "      <td>0.000000</td>\n",
       "    </tr>\n",
       "    <tr>\n",
       "      <th>6</th>\n",
       "      <td>lr</td>\n",
       "      <td>0.267753</td>\n",
       "      <td>0.114913</td>\n",
       "      <td>0.162791</td>\n",
       "      <td>0.234848</td>\n",
       "      <td>0.093656</td>\n",
       "    </tr>\n",
       "    <tr>\n",
       "      <th>7</th>\n",
       "      <td>naivebayes</td>\n",
       "      <td>0.126672</td>\n",
       "      <td>0.318387</td>\n",
       "      <td>1.000000</td>\n",
       "      <td>0.125664</td>\n",
       "      <td>1.000000</td>\n",
       "    </tr>\n",
       "    <tr>\n",
       "      <th>8</th>\n",
       "      <td>knn</td>\n",
       "      <td>0.192156</td>\n",
       "      <td>0.126466</td>\n",
       "      <td>0.232558</td>\n",
       "      <td>0.263566</td>\n",
       "      <td>0.102719</td>\n",
       "    </tr>\n",
       "  </tbody>\n",
       "</table>\n",
       "</div>"
      ],
      "text/plain": [
       "        Model     AUPRC  SIC score    Recall  Precision   Grecall\n",
       "0         xgb  0.287631   0.165114  0.255814   0.319149  0.135952\n",
       "1        lgbm  0.338607   0.139493  0.279070   0.382979  0.108761\n",
       "2    catboost  0.392337   0.131797  0.186047   0.478261  0.099698\n",
       "3          rf  0.316597   0.025974  0.046512   1.000000  0.018127\n",
       "4          dt  0.338436   0.305717  0.511628   0.263285  0.329305\n",
       "5     svm-ovr  0.283125   0.000000  0.000000   0.000000  0.000000\n",
       "6          lr  0.267753   0.114913  0.162791   0.234848  0.093656\n",
       "7  naivebayes  0.126672   0.318387  1.000000   0.125664  1.000000\n",
       "8         knn  0.192156   0.126466  0.232558   0.263566  0.102719"
      ]
     },
     "metadata": {},
     "output_type": "display_data"
    },
    {
     "name": "stdout",
     "output_type": "stream",
     "text": [
      "----------------------------------------------------------------------\n"
     ]
    }
   ],
   "source": [
    "sic8h_models, result_sic8h = Multiclass_evaluation.create_subtask(X_train_sic8h, y_train_sic8h, X_valid_sic8h, valid_output_sic8h, SIC8h_event_valid, mode = 'mimic', type = 'binary', event_task='SIC 8h')"
   ]
  },
  {
   "cell_type": "code",
   "execution_count": 253,
   "metadata": {},
   "outputs": [],
   "source": [
    "result_sic8h.to_excel(excel_writer='sic8h_baseline_method.xlsx')"
   ]
  }
 ],
 "metadata": {
  "kernelspec": {
   "display_name": "DL",
   "language": "python",
   "name": "python3"
  },
  "language_info": {
   "codemirror_mode": {
    "name": "ipython",
    "version": 3
   },
   "file_extension": ".py",
   "mimetype": "text/x-python",
   "name": "python",
   "nbconvert_exporter": "python",
   "pygments_lexer": "ipython3",
   "version": "3.11.5"
  }
 },
 "nbformat": 4,
 "nbformat_minor": 2
}
