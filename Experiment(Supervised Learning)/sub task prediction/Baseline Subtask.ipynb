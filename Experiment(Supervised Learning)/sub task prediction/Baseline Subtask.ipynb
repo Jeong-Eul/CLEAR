{
 "cells": [
  {
   "cell_type": "code",
   "execution_count": 5,
   "metadata": {},
   "outputs": [
    {
     "data": {
      "text/plain": [
       "<module 'Multiclass_evaluation' from '/Users/gwonjeong-eul/Desktop/ecp-scl-macbook/ECP_SCL/Experiment(Supervised Learning)/evaluation/Multiclass_evaluation.py'>"
      ]
     },
     "execution_count": 5,
     "metadata": {},
     "output_type": "execute_result"
    }
   ],
   "source": [
    "import pandas as pd\n",
    "import numpy as np\n",
    "import time\n",
    "import sys\n",
    "\n",
    "from sklearn.metrics import accuracy_score\n",
    "from sklearn.metrics import precision_score\n",
    "from sklearn.metrics import recall_score\n",
    "\n",
    "from lightgbm import LGBMClassifier\n",
    "from sklearn.linear_model import LogisticRegression  \n",
    "from sklearn import svm\n",
    "\n",
    "os_env = 'mac'\n",
    "\n",
    "if os_env == 'window':\n",
    "    module_path='/Users/DAHS/Desktop/ECP_CONT/ECP_SCL/Cohort_selection/'\n",
    "else:\n",
    "    module_path = '/Users/gwonjeong-eul/Desktop/ecp-scl-macbook/ECP_SCL/Cohort_selection/'\n",
    "\n",
    "if module_path not in sys.path:\n",
    "    sys.path.append(module_path)\n",
    "\n",
    "from cohort_loader_new_version0229 import *\n",
    "import eicu_year_process\n",
    "\n",
    "if os_env == 'window':\n",
    "    module_path='/Users/DAHS/Desktop/ECP_CONT/ECP_SCL/Experiment(Supervised Learning)/evaluation/'\n",
    "else:\n",
    "    module_path = '/Users/gwonjeong-eul/Desktop/ecp-scl-macbook/ECP_SCL/Experiment(Supervised Learning)/evaluation/'\n",
    "\n",
    "if module_path not in sys.path:\n",
    "    sys.path.append(module_path)\n",
    "\n",
    "import get_hospital_eicu\n",
    "\n",
    "import split\n",
    "from imp import reload\n",
    "reload(split)\n",
    "\n",
    "import Multiclass_evaluation\n",
    "reload(Multiclass_evaluation)"
   ]
  },
  {
   "cell_type": "code",
   "execution_count": 6,
   "metadata": {},
   "outputs": [],
   "source": [
    "if os_env == 'window':\n",
    "    mimic_path = '/Users/DAHS/Desktop/ECP_CONT/ECP_SCL/Case Labeling/mimic_analysis(new_version0313).csv.gz'\n",
    "    eicu_path = '/Users/DAHS/Desktop/ECP_CONT/ECP_SCL/Case Labeling/eicu_analysis(new_version0313).csv.gz'\n",
    "\n",
    "else:\n",
    "    mimic_path = '/Users/gwonjeong-eul/Desktop/ecp-scl-macbook/ECP_SCL/Case Labeling/mimic_analysis(new_version0313).csv.gz'\n",
    "    eicu_path = '/Users/gwonjeong-eul/Desktop/ecp-scl-macbook/ECP_SCL/Case Labeling/eicu_analysis(new_version0313).csv.gz'"
   ]
  },
  {
   "cell_type": "code",
   "execution_count": 7,
   "metadata": {},
   "outputs": [
    {
     "name": "stdout",
     "output_type": "stream",
     "text": [
      "Trial:  0\n",
      "Threshold 조정 + 0.05, 현재 한계값: 0.1\n",
      "========== 데이터셋 분할 정보 ==========\n",
      "데이터셋 비율: 학습 = 0.90, 테스트 = 0.10\n",
      "학습셋 클래스 비율: Case\n",
      "1.0    174346\n",
      "2.0     27608\n",
      "3.0     73356\n",
      "4.0     71699\n",
      "Name: count, dtype: int64\n",
      "테스트셋 클래스 비율: Case\n",
      "1.0    17664\n",
      "2.0     3030\n",
      "3.0     9822\n",
      "4.0     8278\n",
      "Name: count, dtype: int64\n",
      "--------------------------------------\n",
      "========== 클래스 비율 ==========\n",
      "학습셋 클래스 비율: 0.50:0.08:0.21:0.21\n",
      "테스트셋 클래스 비율: 0.46:0.08:0.25:0.21\n",
      "--------------------------------------\n",
      "========== 환자 및 체류 정보 ==========\n",
      "학습셋 환자 수: 5323\n",
      "테스트셋 환자 수: 601\n",
      "학습셋 체류 수: 5433\n",
      "테스트셋 체류 수: 604\n",
      "--------------------------------------\n",
      "========== 실험 설정 ==========\n",
      "분할 시드: 9040\n",
      "학습 비율: 0.9\n",
      "임계값: 0.1\n",
      "--------------------------------------\n",
      "========== 실행 결과 ==========\n",
      "총 소요 시간(초): 0.30\n",
      "시도한 시행 횟수: 0\n"
     ]
    }
   ],
   "source": [
    "mimic = pd.read_csv(mimic_path, compression = 'gzip')\n",
    "mimic = mimic.drop('Shock_next_12h', axis = 1)\n",
    "\n",
    "eicu = pd.read_csv(eicu_path, compression = 'gzip')\n",
    "eicu = eicu.drop('Shock_next_12h', axis = 1)\n",
    "\n",
    "dataset_mimic = mimic[~(mimic['gender']==2)].reset_index(drop=True)\n",
    "\n",
    "dataset_mimic.replace([np.inf, -np.inf], np.nan, inplace=True)\n",
    "dataset_mimic.fillna(0, inplace=True) \n",
    "dataset_mimic = dataset_mimic[~(dataset_mimic['Case']=='event')]\n",
    "# dataset_mimic = dataset_mimic[~((dataset_mimic['INDEX']=='CASE3_CASE4_DF')&(dataset_mimic['Annotation']=='no_circ'))]\n",
    "\n",
    "eventset = mimic[(mimic['Case']=='event')].reset_index(drop=True)\n",
    "dataset_mimic['Case'] = pd.to_numeric(dataset_mimic['Case'], errors='coerce')\n",
    "\n",
    "mimic_train, mimic_valid = data_split(dataset_mimic, 9040, 0.9, Threshold=0.05, n_trial=1, mode = 'mimic')\n",
    "\n",
    "eicu_t = eicu_year_process.matching_patient(eicu)\n",
    "dataset_eicu = eicu_t[~(eicu_t['gender']==2)].reset_index(drop=True)\n",
    "dataset_eicu.replace([np.inf, -np.inf], np.nan, inplace=True)\n",
    "dataset_eicu.fillna(0, inplace=True) \n",
    "\n",
    "eicu_test = dataset_eicu[~(dataset_eicu['Case']=='event')]\n",
    "event_eicu = dataset_eicu[(dataset_eicu['Case']=='event')]\n",
    "# eicu_test = eicu_test[~((eicu_test['INDEX']=='CASE3_CASE4_DF')&(eicu_test['Annotation']=='no_circ'))]\n",
    "eicu_test['Case'] = pd.to_numeric(eicu_test['Case'], errors='coerce')\n",
    "hosp_id, eicu_test = get_hospital_eicu.hospital(eicu_test)\n",
    "\n",
    "eicu_type = get_hospital_eicu.eicu_subgroup(eicu_test)\n",
    "unitadmitsource, unittype, unitstaytype = get_hospital_eicu.make_eicu_dataset(eicu_type)"
   ]
  },
  {
   "cell_type": "code",
   "execution_count": 134,
   "metadata": {},
   "outputs": [
    {
     "data": {
      "text/plain": [
       "<module 'incorperate_subtask_label' from '/Users/gwonjeong-eul/Desktop/ecp-scl-macbook/ECP_SCL/Experiment(Supervised Learning)/sub task prediction/incorperate_subtask_label.py'>"
      ]
     },
     "execution_count": 134,
     "metadata": {},
     "output_type": "execute_result"
    }
   ],
   "source": [
    "if os_env == 'window':\n",
    "    module_path='/Users/DAHS/Desktop/ECP_CONT/ECP_SCL/Experiment(Supervised Learning)/sub task prediction/'\n",
    "else:\n",
    "    module_path = '/Users/gwonjeong-eul/Desktop/ecp-scl-macbook/ECP_SCL/Experiment(Supervised Learning)/sub task prediction'\n",
    "\n",
    "if module_path not in sys.path:\n",
    "    sys.path.append(module_path)\n",
    "\n",
    "import incorperate_subtask_label\n",
    "reload(incorperate_subtask_label)"
   ]
  },
  {
   "cell_type": "code",
   "execution_count": 135,
   "metadata": {},
   "outputs": [],
   "source": [
    "mort_mimic_train, mort_mimic_valid, mort_eicu_test = incorperate_subtask_label.mortality_prediction_DATA(mimic_train, mimic_valid, eicu_test, os_env='mac')"
   ]
  },
  {
   "cell_type": "code",
   "execution_count": 136,
   "metadata": {},
   "outputs": [],
   "source": [
    "los_mimic_train, los_mimic_valid, los_eicu_test = incorperate_subtask_label.LOS_prediction_DATA(mimic_train, mimic_valid, eicu_test, os_env='mac')"
   ]
  },
  {
   "cell_type": "code",
   "execution_count": 137,
   "metadata": {},
   "outputs": [],
   "source": [
    "ards4h_mimic_train, ards4h_mimic_valid, ards4h_eicu_test = incorperate_subtask_label.ARDS4_prediction_DATA(mimic_train, mimic_valid, eicu_test, os_env='mac')"
   ]
  },
  {
   "cell_type": "code",
   "execution_count": 138,
   "metadata": {},
   "outputs": [],
   "source": [
    "ARDS4h_event_train = ards4h_mimic_train[ards4h_mimic_train['Annotation_ARDS']=='ARDS']\n",
    "ARDS4h_event_train['ARDS_next_4h']='event'\n",
    "ARDS4h_event_valid = ards4h_mimic_valid[ards4h_mimic_valid['Annotation_ARDS']=='ARDS']\n",
    "ARDS4h_event_valid['ARDS_next_4h']='event'\n",
    "ARDS4h_event_test = ards4h_eicu_test[ards4h_eicu_test['Annotation_ARDS']=='ARDS']\n",
    "ARDS4h_event_test['ARDS_next_4h']='event'"
   ]
  },
  {
   "cell_type": "code",
   "execution_count": 139,
   "metadata": {},
   "outputs": [],
   "source": [
    "ards8h_mimic_train, ards8h_mimic_valid, ards8h_eicu_test = incorperate_subtask_label.ARDS8_prediction_DATA(mimic_train, mimic_valid, eicu_test, os_env='mac')"
   ]
  },
  {
   "cell_type": "code",
   "execution_count": 140,
   "metadata": {},
   "outputs": [],
   "source": [
    "ARDS8h_event_train = ards8h_mimic_train[ards8h_mimic_train['Annotation_ARDS']=='ARDS']\n",
    "ARDS8h_event_train['ARDS_next_8h']='event'\n",
    "ARDS8h_event_valid = ards8h_mimic_valid[ards8h_mimic_valid['Annotation_ARDS']=='ARDS']\n",
    "ARDS8h_event_valid['ARDS_next_8h']='event'\n",
    "ARDS8h_event_test = ards8h_eicu_test[ards8h_eicu_test['Annotation_ARDS']=='ARDS']\n",
    "ARDS8h_event_test['ARDS_next_8h']='event'"
   ]
  },
  {
   "cell_type": "code",
   "execution_count": 141,
   "metadata": {},
   "outputs": [],
   "source": [
    "sic4h_mimic_train, sic4h_mimic_valid, sic4h_eicu_test = incorperate_subtask_label.SIC4_prediction_DATA(mimic_train, mimic_valid, eicu_test, os_env='mac')"
   ]
  },
  {
   "cell_type": "code",
   "execution_count": 142,
   "metadata": {},
   "outputs": [],
   "source": [
    "SIC4h_event_train = sic4h_mimic_train[sic4h_mimic_train['Annotation_SIC']=='SIC']\n",
    "SIC4h_event_train['SIC_next_4h']='event'\n",
    "SIC4h_event_valid = sic4h_mimic_valid[sic4h_mimic_valid['Annotation_SIC']=='SIC']\n",
    "SIC4h_event_valid['SIC_next_4h']='event'\n",
    "SIC4h_event_test = sic4h_eicu_test[sic4h_eicu_test['Annotation_SIC']=='SIC']\n",
    "SIC4h_event_test['SIC_next_4h']='event'"
   ]
  },
  {
   "cell_type": "code",
   "execution_count": 143,
   "metadata": {},
   "outputs": [],
   "source": [
    "sic8h_mimic_train, sic8h_mimic_valid, sic8h_eicu_test = incorperate_subtask_label.SIC8_prediction_DATA(mimic_train, mimic_valid, eicu_test, os_env='mac')"
   ]
  },
  {
   "cell_type": "code",
   "execution_count": 144,
   "metadata": {},
   "outputs": [],
   "source": [
    "SIC8h_event_train = sic8h_mimic_train[sic8h_mimic_train['Annotation_SIC']=='SIC']\n",
    "SIC8h_event_train['SIC_next_8h']='event'\n",
    "SIC8h_event_valid = sic8h_mimic_valid[sic8h_mimic_valid['Annotation_SIC']=='SIC']\n",
    "SIC8h_event_valid['SIC_next_8h']='event'\n",
    "SIC8h_event_test = sic8h_eicu_test[sic8h_eicu_test['Annotation_SIC']=='SIC']\n",
    "SIC8h_event_test['SIC_next_8h']='event'"
   ]
  },
  {
   "cell_type": "code",
   "execution_count": 157,
   "metadata": {},
   "outputs": [
    {
     "data": {
      "text/plain": [
       "<module 'split' from '/Users/gwonjeong-eul/Desktop/ecp-scl-macbook/ECP_SCL/Experiment(Supervised Learning)/evaluation/split.py'>"
      ]
     },
     "execution_count": 157,
     "metadata": {},
     "output_type": "execute_result"
    }
   ],
   "source": [
    "reload(split)"
   ]
  },
  {
   "cell_type": "code",
   "execution_count": 158,
   "metadata": {},
   "outputs": [],
   "source": [
    "X_train_mort, y_train_mort, _ = split.split_X_Y_MORT(mort_mimic_train[~(mort_mimic_train['death']=='event')], mode = 'mimic')\n",
    "X_valid_mort, y_valid_mort, valid_output_mort = split.split_X_Y_MORT(mort_mimic_valid[~(mort_mimic_valid['death']=='event')], mode = 'mimic')\n",
    "\n",
    "X_train_los, y_train_los, _ = split.split_X_Y_LOS(los_mimic_train, mode = 'mimic')\n",
    "X_valid_los, y_valid_los, valid_output_los = split.split_X_Y_LOS(los_mimic_valid, mode = 'mimic')\n",
    "\n",
    "X_train_ards4h, y_train_ards4h, _ = split.split_X_Y_ARDS4h(ards4h_mimic_train[ards4h_mimic_train['Annotation_ARDS']=='no_ARDS'], mode = 'mimic')\n",
    "X_valid_ards4h, y_valid_ards4h, valid_output_ards4h = split.split_X_Y_ARDS4h(ards4h_mimic_valid[ards4h_mimic_valid['Annotation_ARDS']=='no_ARDS'], mode = 'mimic')\n",
    "\n",
    "X_train_ards8h, y_train_ards8h, _ = split.split_X_Y_ARDS8h(ards8h_mimic_train[ards8h_mimic_train['Annotation_ARDS']=='no_ARDS'], mode = 'mimic')\n",
    "X_valid_ards8h, y_valid_ards8h, valid_output_ards8h = split.split_X_Y_ARDS8h(ards8h_mimic_valid[ards8h_mimic_valid['Annotation_ARDS']=='no_ARDS'], mode = 'mimic')\n",
    "\n",
    "X_train_sic4h, y_train_sic4h, _ = split.split_X_Y_SIC4h(sic4h_mimic_train[sic4h_mimic_train['Annotation_SIC']=='no_SIC'], mode = 'mimic')\n",
    "X_valid_sic4h, y_valid_sic4h, valid_output_sic4h = split.split_X_Y_SIC4h(sic4h_mimic_valid[sic4h_mimic_valid['Annotation_SIC']=='no_SIC'], mode = 'mimic')\n",
    "\n",
    "X_train_sic8h, y_train_sic8h, _ = split.split_X_Y_SIC8h(sic8h_mimic_train[sic8h_mimic_train['Annotation_SIC']=='no_SIC'], mode = 'mimic')\n",
    "X_valid_sic8h, y_valid_sic8h, valid_output_sic8h = split.split_X_Y_SIC8h(sic8h_mimic_valid[sic8h_mimic_valid['Annotation_SIC']=='no_SIC'], mode = 'mimic')"
   ]
  },
  {
   "cell_type": "code",
   "execution_count": 164,
   "metadata": {},
   "outputs": [
    {
     "data": {
      "text/plain": [
       "<module 'Multiclass_evaluation' from '/Users/gwonjeong-eul/Desktop/ecp-scl-macbook/ECP_SCL/Experiment(Supervised Learning)/evaluation/Multiclass_evaluation.py'>"
      ]
     },
     "execution_count": 164,
     "metadata": {},
     "output_type": "execute_result"
    }
   ],
   "source": [
    "reload(Multiclass_evaluation) "
   ]
  },
  {
   "cell_type": "code",
   "execution_count": 165,
   "metadata": {},
   "outputs": [
    {
     "name": "stdout",
     "output_type": "stream",
     "text": [
      "|MIMIC-Validation|====================================================\n"
     ]
    },
    {
     "data": {
      "text/html": [
       "<div>\n",
       "<style scoped>\n",
       "    .dataframe tbody tr th:only-of-type {\n",
       "        vertical-align: middle;\n",
       "    }\n",
       "\n",
       "    .dataframe tbody tr th {\n",
       "        vertical-align: top;\n",
       "    }\n",
       "\n",
       "    .dataframe thead th {\n",
       "        text-align: right;\n",
       "    }\n",
       "</style>\n",
       "<table border=\"1\" class=\"dataframe\">\n",
       "  <thead>\n",
       "    <tr style=\"text-align: right;\">\n",
       "      <th></th>\n",
       "      <th>Model</th>\n",
       "      <th>Accuracy</th>\n",
       "      <th>AUPRC</th>\n",
       "      <th>F1 Score</th>\n",
       "      <th>Recall</th>\n",
       "      <th>Precision</th>\n",
       "    </tr>\n",
       "  </thead>\n",
       "  <tbody>\n",
       "    <tr>\n",
       "      <th>0</th>\n",
       "      <td>xgb</td>\n",
       "      <td>0.669375</td>\n",
       "      <td>0.520665</td>\n",
       "      <td>0.470217</td>\n",
       "      <td>0.462374</td>\n",
       "      <td>0.478331</td>\n",
       "    </tr>\n",
       "    <tr>\n",
       "      <th>1</th>\n",
       "      <td>lgbm</td>\n",
       "      <td>0.667159</td>\n",
       "      <td>0.498034</td>\n",
       "      <td>0.451744</td>\n",
       "      <td>0.432118</td>\n",
       "      <td>0.473237</td>\n",
       "    </tr>\n",
       "    <tr>\n",
       "      <th>2</th>\n",
       "      <td>catboost</td>\n",
       "      <td>0.690300</td>\n",
       "      <td>0.524256</td>\n",
       "      <td>0.495994</td>\n",
       "      <td>0.480217</td>\n",
       "      <td>0.512842</td>\n",
       "    </tr>\n",
       "    <tr>\n",
       "      <th>3</th>\n",
       "      <td>rf</td>\n",
       "      <td>0.685623</td>\n",
       "      <td>0.470319</td>\n",
       "      <td>0.331063</td>\n",
       "      <td>0.245151</td>\n",
       "      <td>0.509677</td>\n",
       "    </tr>\n",
       "    <tr>\n",
       "      <th>4</th>\n",
       "      <td>dt</td>\n",
       "      <td>0.559330</td>\n",
       "      <td>0.332412</td>\n",
       "      <td>0.396086</td>\n",
       "      <td>0.455392</td>\n",
       "      <td>0.350448</td>\n",
       "    </tr>\n",
       "    <tr>\n",
       "      <th>5</th>\n",
       "      <td>svm-ovr</td>\n",
       "      <td>0.680207</td>\n",
       "      <td>0.399480</td>\n",
       "      <td>0.081979</td>\n",
       "      <td>0.044996</td>\n",
       "      <td>0.460317</td>\n",
       "    </tr>\n",
       "    <tr>\n",
       "      <th>6</th>\n",
       "      <td>lr</td>\n",
       "      <td>0.656819</td>\n",
       "      <td>0.402474</td>\n",
       "      <td>0.272443</td>\n",
       "      <td>0.202483</td>\n",
       "      <td>0.416268</td>\n",
       "    </tr>\n",
       "    <tr>\n",
       "      <th>7</th>\n",
       "      <td>naivebayes</td>\n",
       "      <td>0.317331</td>\n",
       "      <td>0.403747</td>\n",
       "      <td>0.481779</td>\n",
       "      <td>1.000000</td>\n",
       "      <td>0.317331</td>\n",
       "    </tr>\n",
       "    <tr>\n",
       "      <th>8</th>\n",
       "      <td>knn</td>\n",
       "      <td>0.590103</td>\n",
       "      <td>0.321307</td>\n",
       "      <td>0.325091</td>\n",
       "      <td>0.311094</td>\n",
       "      <td>0.340407</td>\n",
       "    </tr>\n",
       "  </tbody>\n",
       "</table>\n",
       "</div>"
      ],
      "text/plain": [
       "        Model  Accuracy     AUPRC  F1 Score    Recall  Precision\n",
       "0         xgb  0.669375  0.520665  0.470217  0.462374   0.478331\n",
       "1        lgbm  0.667159  0.498034  0.451744  0.432118   0.473237\n",
       "2    catboost  0.690300  0.524256  0.495994  0.480217   0.512842\n",
       "3          rf  0.685623  0.470319  0.331063  0.245151   0.509677\n",
       "4          dt  0.559330  0.332412  0.396086  0.455392   0.350448\n",
       "5     svm-ovr  0.680207  0.399480  0.081979  0.044996   0.460317\n",
       "6          lr  0.656819  0.402474  0.272443  0.202483   0.416268\n",
       "7  naivebayes  0.317331  0.403747  0.481779  1.000000   0.317331\n",
       "8         knn  0.590103  0.321307  0.325091  0.311094   0.340407"
      ]
     },
     "metadata": {},
     "output_type": "display_data"
    },
    {
     "name": "stdout",
     "output_type": "stream",
     "text": [
      "----------------------------------------------------------------------\n"
     ]
    }
   ],
   "source": [
    "mort_models, result_mort = Multiclass_evaluation.create_subtask(X_train_mort, y_train_mort, X_valid_mort, valid_output_mort, _,mode = 'mimic', type = 'binary', event_task = False)"
   ]
  },
  {
   "cell_type": "code",
   "execution_count": 129,
   "metadata": {},
   "outputs": [],
   "source": [
    "result_mort.to_excel(excel_writer='mort_baseline_method.xlsx')"
   ]
  },
  {
   "cell_type": "code",
   "execution_count": 166,
   "metadata": {},
   "outputs": [],
   "source": [
    "los_models, result_los = Multiclass_evaluation.create_subtask(X_train_los, y_train_los, X_valid_los, valid_output_los, _, mode = 'mimic', type = 'multi', event_task = False)"
   ]
  },
  {
   "cell_type": "code",
   "execution_count": 128,
   "metadata": {},
   "outputs": [],
   "source": [
    "result_los.to_excel(excel_writer='los_baseline_method.xlsx')"
   ]
  },
  {
   "cell_type": "code",
   "execution_count": null,
   "metadata": {},
   "outputs": [],
   "source": [
    "ards4h_models, result_ards4h = Multiclass_evaluation.create_subtask(X_train_ards4h, y_train_ards4h, X_valid_ards4h, valid_output_ards4h, ARDS4h_event_valid, mode = 'mimic', type = 'binary', event_task='ARDS 4h')"
   ]
  },
  {
   "cell_type": "code",
   "execution_count": 248,
   "metadata": {},
   "outputs": [
    {
     "name": "stdout",
     "output_type": "stream",
     "text": [
      "|MIMIC-Validation|====================================================\n"
     ]
    },
    {
     "data": {
      "text/html": [
       "<div>\n",
       "<style scoped>\n",
       "    .dataframe tbody tr th:only-of-type {\n",
       "        vertical-align: middle;\n",
       "    }\n",
       "\n",
       "    .dataframe tbody tr th {\n",
       "        vertical-align: top;\n",
       "    }\n",
       "\n",
       "    .dataframe thead th {\n",
       "        text-align: right;\n",
       "    }\n",
       "</style>\n",
       "<table border=\"1\" class=\"dataframe\">\n",
       "  <thead>\n",
       "    <tr style=\"text-align: right;\">\n",
       "      <th></th>\n",
       "      <th>Model</th>\n",
       "      <th>AUPRC</th>\n",
       "      <th>ARDS score</th>\n",
       "      <th>Recall</th>\n",
       "      <th>Precision</th>\n",
       "      <th>Grecall</th>\n",
       "    </tr>\n",
       "  </thead>\n",
       "  <tbody>\n",
       "    <tr>\n",
       "      <th>0</th>\n",
       "      <td>lgbm</td>\n",
       "      <td>0.382292</td>\n",
       "      <td>0.492114</td>\n",
       "      <td>0.6667</td>\n",
       "      <td>0.375000</td>\n",
       "      <td>0.571429</td>\n",
       "    </tr>\n",
       "    <tr>\n",
       "      <th>1</th>\n",
       "      <td>rf</td>\n",
       "      <td>0.490242</td>\n",
       "      <td>0.633238</td>\n",
       "      <td>0.8333</td>\n",
       "      <td>0.425000</td>\n",
       "      <td>0.809524</td>\n",
       "    </tr>\n",
       "    <tr>\n",
       "      <th>2</th>\n",
       "      <td>dt</td>\n",
       "      <td>0.678448</td>\n",
       "      <td>0.655786</td>\n",
       "      <td>1.0000</td>\n",
       "      <td>0.459459</td>\n",
       "      <td>0.809524</td>\n",
       "    </tr>\n",
       "    <tr>\n",
       "      <th>3</th>\n",
       "      <td>lr</td>\n",
       "      <td>0.631152</td>\n",
       "      <td>0.750704</td>\n",
       "      <td>1.0000</td>\n",
       "      <td>0.493976</td>\n",
       "      <td>0.976190</td>\n",
       "    </tr>\n",
       "  </tbody>\n",
       "</table>\n",
       "</div>"
      ],
      "text/plain": [
       "  Model     AUPRC  ARDS score  Recall  Precision   Grecall\n",
       "0  lgbm  0.382292    0.492114  0.6667   0.375000  0.571429\n",
       "1    rf  0.490242    0.633238  0.8333   0.425000  0.809524\n",
       "2    dt  0.678448    0.655786  1.0000   0.459459  0.809524\n",
       "3    lr  0.631152    0.750704  1.0000   0.493976  0.976190"
      ]
     },
     "metadata": {},
     "output_type": "display_data"
    },
    {
     "name": "stdout",
     "output_type": "stream",
     "text": [
      "----------------------------------------------------------------------\n"
     ]
    }
   ],
   "source": [
    "ards8h_models, result_ards8h = Multiclass_evaluation.create_subtask(X_train_ards8h, y_train_ards8h, X_valid_ards8h, valid_output_ards8h, ARDS8h_event_valid, mode = 'mimic', type = 'binary', event_task='ARDS 8h')"
   ]
  },
  {
   "cell_type": "code",
   "execution_count": 250,
   "metadata": {},
   "outputs": [],
   "source": [
    "result_ards8h.to_excel(excel_writer='ards8h_baseline_method.xlsx')"
   ]
  },
  {
   "cell_type": "code",
   "execution_count": 251,
   "metadata": {},
   "outputs": [],
   "source": [
    "X_train_sic8h, y_train_sic8h, _ = split.split_X_Y_SIC8h(sic8h_mimic_train, mode = 'mimic')\n",
    "X_valid_sic8h, y_valid_sic8h, valid_output_sic8h = split.split_X_Y_SIC8h(sic8h_mimic_valid[sic8h_mimic_valid['Annotation_SIC']=='no_SIC'], mode = 'mimic')"
   ]
  },
  {
   "cell_type": "code",
   "execution_count": 252,
   "metadata": {},
   "outputs": [
    {
     "name": "stdout",
     "output_type": "stream",
     "text": [
      "|MIMIC-Validation|====================================================\n"
     ]
    },
    {
     "data": {
      "text/html": [
       "<div>\n",
       "<style scoped>\n",
       "    .dataframe tbody tr th:only-of-type {\n",
       "        vertical-align: middle;\n",
       "    }\n",
       "\n",
       "    .dataframe tbody tr th {\n",
       "        vertical-align: top;\n",
       "    }\n",
       "\n",
       "    .dataframe thead th {\n",
       "        text-align: right;\n",
       "    }\n",
       "</style>\n",
       "<table border=\"1\" class=\"dataframe\">\n",
       "  <thead>\n",
       "    <tr style=\"text-align: right;\">\n",
       "      <th></th>\n",
       "      <th>Model</th>\n",
       "      <th>AUPRC</th>\n",
       "      <th>SIC score</th>\n",
       "      <th>Recall</th>\n",
       "      <th>Precision</th>\n",
       "      <th>Grecall</th>\n",
       "    </tr>\n",
       "  </thead>\n",
       "  <tbody>\n",
       "    <tr>\n",
       "      <th>0</th>\n",
       "      <td>lgbm</td>\n",
       "      <td>0.368339</td>\n",
       "      <td>0.240370</td>\n",
       "      <td>0.222222</td>\n",
       "      <td>0.279070</td>\n",
       "      <td>0.226415</td>\n",
       "    </tr>\n",
       "    <tr>\n",
       "      <th>1</th>\n",
       "      <td>rf</td>\n",
       "      <td>0.416353</td>\n",
       "      <td>0.234811</td>\n",
       "      <td>0.333333</td>\n",
       "      <td>0.333333</td>\n",
       "      <td>0.207547</td>\n",
       "    </tr>\n",
       "    <tr>\n",
       "      <th>2</th>\n",
       "      <td>dt</td>\n",
       "      <td>0.580979</td>\n",
       "      <td>0.415525</td>\n",
       "      <td>0.444444</td>\n",
       "      <td>0.466667</td>\n",
       "      <td>0.396226</td>\n",
       "    </tr>\n",
       "    <tr>\n",
       "      <th>3</th>\n",
       "      <td>lr</td>\n",
       "      <td>0.370824</td>\n",
       "      <td>0.487710</td>\n",
       "      <td>0.555556</td>\n",
       "      <td>0.391892</td>\n",
       "      <td>0.547170</td>\n",
       "    </tr>\n",
       "  </tbody>\n",
       "</table>\n",
       "</div>"
      ],
      "text/plain": [
       "  Model     AUPRC  SIC score    Recall  Precision   Grecall\n",
       "0  lgbm  0.368339   0.240370  0.222222   0.279070  0.226415\n",
       "1    rf  0.416353   0.234811  0.333333   0.333333  0.207547\n",
       "2    dt  0.580979   0.415525  0.444444   0.466667  0.396226\n",
       "3    lr  0.370824   0.487710  0.555556   0.391892  0.547170"
      ]
     },
     "metadata": {},
     "output_type": "display_data"
    },
    {
     "name": "stdout",
     "output_type": "stream",
     "text": [
      "----------------------------------------------------------------------\n"
     ]
    }
   ],
   "source": [
    "sic8h_models, result_sic8h = Multiclass_evaluation.create_subtask(X_train_sic8h, y_train_sic8h, X_valid_sic8h, valid_output_sic8h, SIC8h_event_valid, mode = 'mimic', type = 'binary', event_task='SIC 8h')"
   ]
  },
  {
   "cell_type": "code",
   "execution_count": 253,
   "metadata": {},
   "outputs": [],
   "source": [
    "result_sic8h.to_excel(excel_writer='sic8h_baseline_method.xlsx')"
   ]
  }
 ],
 "metadata": {
  "kernelspec": {
   "display_name": "DL",
   "language": "python",
   "name": "python3"
  },
  "language_info": {
   "codemirror_mode": {
    "name": "ipython",
    "version": 3
   },
   "file_extension": ".py",
   "mimetype": "text/x-python",
   "name": "python",
   "nbconvert_exporter": "python",
   "pygments_lexer": "ipython3",
   "version": "3.11.5"
  }
 },
 "nbformat": 4,
 "nbformat_minor": 2
}
