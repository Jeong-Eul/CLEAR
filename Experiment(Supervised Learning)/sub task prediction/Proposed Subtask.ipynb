{
 "cells": [
  {
   "cell_type": "code",
   "execution_count": 2,
   "metadata": {},
   "outputs": [],
   "source": [
    "import pandas as pd\n",
    "import numpy as np\n",
    "import time\n",
    "import sys\n",
    "\n",
    "from sklearn.metrics import accuracy_score\n",
    "from sklearn.metrics import precision_score\n",
    "from sklearn.metrics import recall_score\n",
    "\n",
    "from lightgbm import LGBMClassifier\n",
    "from sklearn.linear_model import LogisticRegression  \n",
    "from sklearn import svm\n",
    "\n",
    "os_env = 'mac'\n",
    "\n",
    "\n",
    "if os_env == 'window':\n",
    "\n",
    "    emb_path_trn_mimic = '/Users/DAHS/Desktop/ECP_CONT/ECP_SCL/Cohort_selection/Train/result/emb_train_new_version(0313).npy'\n",
    "    emb_path_vld_mimic = '/Users/DAHS/Desktop/ECP_CONT/ECP_SCL/Cohort_selection/Train/result/emb_valid_new_version(0313).npy'\n",
    "\n",
    "    emb_path_trn_eicu = '/Users/DAHS/Desktop/ECP_CONT/ECP_SCL/Cohort_selection/Train/result/emb_eicu_new_version(0313).npy'\n",
    "\n",
    "    mimic_path = '/Users/DAHS/Desktop/ECP_CONT/ECP_SCL/Case Labeling/mimic_analysis(new_version0313).csv.gz'\n",
    "    eicu_path = '/Users/DAHS/Desktop/ECP_CONT/ECP_SCL/Case Labeling/eicu_analysis(new_version0313).csv.gz'\n",
    "\n",
    "    module_path='/Users/DAHS/Desktop/ECP_CONT/ECP_SCL/Experiment(Supervised Learning)/evaluation/'\n",
    "    if module_path not in sys.path:\n",
    "        sys.path.append(module_path)\n",
    "\n",
    "    module_path='/Users/DAHS/Desktop/ECP_CONT/ECP_SCL/Cohort_selection/'\n",
    "    if module_path not in sys.path:\n",
    "        sys.path.append(module_path)\n",
    "\n",
    "else:\n",
    "    emb_path_trn_mimic = '/Users/gwonjeong-eul/Desktop/ecp-scl-macbook/ECP_SCL/Cohort_selection/Train/result/emb_train_new_version(0313).npy'\n",
    "    emb_path_vld_mimic = '/Users/gwonjeong-eul/Desktop/ecp-scl-macbook/ECP_SCL/Cohort_selection/Train/result/emb_valid_new_version(0313).npy'\n",
    "\n",
    "    emb_path_trn_eicu = '/Users/gwonjeong-eul/Desktop/ecp-scl-macbook/ECP_SCL/Cohort_selection/Train/result/emb_eicu_new_version(0313).npy'\n",
    "\n",
    "    mimic_path = '/Users/gwonjeong-eul/Desktop/ecp-scl-macbook/ECP_SCL/Case Labeling/mimic_analysis(new_version0313).csv.gz'\n",
    "    eicu_path = '/Users/gwonjeong-eul/Desktop/ecp-scl-macbook/ECP_SCL/Case Labeling/eicu_analysis(new_version0313).csv.gz'\n",
    "\n",
    "    module_path = '/Users/gwonjeong-eul/Desktop/ecp-scl-macbook/ECP_SCL/Cohort_selection/'\n",
    "\n",
    "    if module_path not in sys.path:\n",
    "        sys.path.append(module_path)\n",
    "\n",
    "    module_path = '/Users/gwonjeong-eul/Desktop/ecp-scl-macbook/ECP_SCL/Experiment(Supervised Learning)/evaluation/'\n",
    "    if module_path not in sys.path:\n",
    "        sys.path.append(module_path)\n",
    "\n",
    "from cohort_loader_new_version0229 import *\n",
    "import eicu_year_process\n",
    "\n",
    "import integrating_embedding\n",
    "import get_hospital_eicu\n",
    "\n",
    "\n",
    "mimic_train_emb, mimic_valid_emb, event = integrating_embedding.integrating_for_subtask(mimic_path, emb_path_trn_mimic, emb_path_vld_mimic, _,'mimic')\n",
    "eicu_test_emb, event_eicu = integrating_embedding.integrating_for_subtask(eicu_path, emb_path_trn_eicu, _,_, 'eicu')"
   ]
  },
  {
   "cell_type": "code",
   "execution_count": 5,
   "metadata": {},
   "outputs": [],
   "source": [
    "eicu_test_emb = eicu_test_emb[eicu_test_emb['INDEX']=='CASE3_CASE4_DF'].reset_index(drop=True)"
   ]
  },
  {
   "cell_type": "code",
   "execution_count": 6,
   "metadata": {},
   "outputs": [
    {
     "data": {
      "text/plain": [
       "<module 'incorperate_subtask_label' from '/Users/gwonjeong-eul/Desktop/ecp-scl-macbook/ECP_SCL/Experiment(Supervised Learning)/sub task prediction/incorperate_subtask_label.py'>"
      ]
     },
     "execution_count": 6,
     "metadata": {},
     "output_type": "execute_result"
    }
   ],
   "source": [
    "module_path='/Users/DAHS/Desktop/ECP_CONT/ECP_SCL/Experiment(Supervised Learning)/sub task prediction/'\n",
    "\n",
    "if module_path not in sys.path:\n",
    "    sys.path.append(module_path)\n",
    "\n",
    "import incorperate_subtask_label\n",
    "from imp import reload\n",
    "reload(incorperate_subtask_label)"
   ]
  },
  {
   "cell_type": "code",
   "execution_count": 43,
   "metadata": {},
   "outputs": [],
   "source": [
    "# train, val -> Trainset (underfitting 방지)\n",
    "\n",
    "mort_mimic_train, mort_mimic_valid, mort_eicu_test = incorperate_subtask_label.mortality_prediction_DATA(mimic_train_emb, mimic_valid_emb, eicu_test_emb, os_env='mac')\n",
    "mimic_mort_trainset = pd.concat([mort_mimic_train, mort_mimic_valid], axis = 0)\n",
    "\n",
    "los_mimic_train, los_mimic_valid, los_eicu_test = incorperate_subtask_label.LOS_prediction_DATA(mimic_train_emb, mimic_valid_emb, eicu_test_emb, os_env='mac')\n",
    "mimic_los_trainset = pd.concat([los_mimic_train, los_mimic_valid], axis = 0)\n",
    "\n",
    "ards8h_mimic_train, ards8h_mimic_valid, ards8h_eicu_test = incorperate_subtask_label.ARDS8_prediction_DATA(mimic_train_emb, mimic_valid_emb, eicu_test_emb, os_env='mac')\n",
    "mimic_ards8h_trainset = pd.concat([ards8h_mimic_train, ards8h_mimic_valid], axis = 0)\n",
    "\n",
    "sic8h_mimic_train, sic8h_mimic_valid, sic8h_eicu_test = incorperate_subtask_label.SIC8_prediction_DATA(mimic_train_emb, mimic_valid_emb, eicu_test_emb, os_env='mac')\n",
    "mimic_sic8h__trainset = pd.concat([sic8h_mimic_train, sic8h_mimic_valid], axis = 0)"
   ]
  },
  {
   "cell_type": "code",
   "execution_count": 44,
   "metadata": {},
   "outputs": [],
   "source": [
    "ARDS8h_event_train = ards8h_mimic_train[ards8h_mimic_train['Annotation_ARDS']=='ARDS']\n",
    "ARDS8h_event_train['ARDS_next_8h']='event'\n",
    "ARDS8h_event_valid = ards8h_mimic_valid[ards8h_mimic_valid['Annotation_ARDS']=='ARDS']\n",
    "ARDS8h_event_valid['ARDS_next_8h']='event'\n",
    "ARDS8h_event_test = ards8h_eicu_test[ards8h_eicu_test['Annotation_ARDS']=='ARDS']\n",
    "ARDS8h_event_test['ARDS_next_8h']='event'\n",
    "\n",
    "SIC8h_event_train = sic8h_mimic_train[sic8h_mimic_train['Annotation_SIC']=='SIC']\n",
    "SIC8h_event_train['SIC_next_8h']='event'\n",
    "SIC8h_event_valid = sic8h_mimic_valid[sic8h_mimic_valid['Annotation_SIC']=='SIC']\n",
    "SIC8h_event_valid['SIC_next_8h']='event'\n",
    "SIC8h_event_test = sic8h_eicu_test[sic8h_eicu_test['Annotation_SIC']=='SIC']\n",
    "SIC8h_event_test['SIC_next_8h']='event'"
   ]
  },
  {
   "cell_type": "code",
   "execution_count": 45,
   "metadata": {},
   "outputs": [
    {
     "data": {
      "text/plain": [
       "<module 'split' from '/Users/gwonjeong-eul/Desktop/ecp-scl-macbook/ECP_SCL/Experiment(Supervised Learning)/evaluation/split.py'>"
      ]
     },
     "execution_count": 45,
     "metadata": {},
     "output_type": "execute_result"
    }
   ],
   "source": [
    "import split\n",
    "from imp import reload\n",
    "reload(split)"
   ]
  },
  {
   "cell_type": "code",
   "execution_count": 46,
   "metadata": {},
   "outputs": [],
   "source": [
    "X_train_mort, y_train_mort, _ = split.split_X_Y_MORT(mimic_mort_trainset[~(mimic_mort_trainset['death']=='event')], mode = 'mimic')\n",
    "X_train_los, y_train_los, _ = split.split_X_Y_LOS(mimic_los_trainset, mode = 'mimic')\n",
    "X_train_ards8h, y_train_ards8h, _ = split.split_X_Y_ARDS8h(mimic_ards8h_trainset, mode = 'mimic')\n",
    "X_train_sic8h, y_train_sic8h, _ = split.split_X_Y_SIC8h(mimic_sic8h__trainset, mode = 'mimic')"
   ]
  },
  {
   "cell_type": "code",
   "execution_count": 47,
   "metadata": {},
   "outputs": [
    {
     "data": {
      "text/plain": [
       "<module 'Multiclass_evaluation' from '/Users/gwonjeong-eul/Desktop/ecp-scl-macbook/ECP_SCL/Experiment(Supervised Learning)/evaluation/Multiclass_evaluation.py'>"
      ]
     },
     "execution_count": 47,
     "metadata": {},
     "output_type": "execute_result"
    }
   ],
   "source": [
    "import Multiclass_evaluation\n",
    "reload(Multiclass_evaluation)"
   ]
  },
  {
   "cell_type": "code",
   "execution_count": 48,
   "metadata": {},
   "outputs": [
    {
     "data": {
      "text/html": [
       "<div>\n",
       "<style scoped>\n",
       "    .dataframe tbody tr th:only-of-type {\n",
       "        vertical-align: middle;\n",
       "    }\n",
       "\n",
       "    .dataframe tbody tr th {\n",
       "        vertical-align: top;\n",
       "    }\n",
       "\n",
       "    .dataframe thead th {\n",
       "        text-align: right;\n",
       "    }\n",
       "</style>\n",
       "<table border=\"1\" class=\"dataframe\">\n",
       "  <thead>\n",
       "    <tr style=\"text-align: right;\">\n",
       "      <th></th>\n",
       "      <th>Model</th>\n",
       "      <th>Accuracy</th>\n",
       "      <th>AUPRC</th>\n",
       "      <th>F1 Score</th>\n",
       "      <th>Recall</th>\n",
       "      <th>Precision</th>\n",
       "    </tr>\n",
       "  </thead>\n",
       "  <tbody>\n",
       "    <tr>\n",
       "      <th>0</th>\n",
       "      <td>xgb</td>\n",
       "      <td>0.463053</td>\n",
       "      <td>0.349561</td>\n",
       "      <td>0.438926</td>\n",
       "      <td>0.624528</td>\n",
       "      <td>0.338368</td>\n",
       "    </tr>\n",
       "  </tbody>\n",
       "</table>\n",
       "</div>"
      ],
      "text/plain": [
       "  Model  Accuracy     AUPRC  F1 Score    Recall  Precision\n",
       "0   xgb  0.463053  0.349561  0.438926  0.624528   0.338368"
      ]
     },
     "metadata": {},
     "output_type": "display_data"
    }
   ],
   "source": [
    "#mortality\n",
    "\n",
    "lgbm_wrapper = LGBMClassifier(random_state = 42, verbose=-1)\n",
    "lgbm_wrapper.fit(X_train_mort, y_train_mort)\n",
    "\n",
    "X_test_mort, y_test_mort, test_output_mort = split.split_X_Y_MORT(mort_eicu_test[~(mort_eicu_test['death']=='event')], mode = 'eicu')\n",
    "\n",
    "X_test_mort = X_test_mort.drop(['hospitalid', 'hospitaldischargeyear'], axis = 1)\n",
    "\n",
    "test_preds_mort = lgbm_wrapper.predict(X_test_mort)\n",
    "test_output_mort['prediction_label'] = test_preds_mort\n",
    "test_output_mort['prediction_prob'] = lgbm_wrapper.predict_proba(X_test_mort)[:, 1]\n",
    "\n",
    "test_eval = Multiclass_evaluation.ST_binary_evaluation(_, test_output_mort, 'xgb', mode = 'eicu', event_task = False)\n",
    "display(test_eval)"
   ]
  },
  {
   "cell_type": "code",
   "execution_count": 52,
   "metadata": {},
   "outputs": [
    {
     "data": {
      "text/html": [
       "<div>\n",
       "<style scoped>\n",
       "    .dataframe tbody tr th:only-of-type {\n",
       "        vertical-align: middle;\n",
       "    }\n",
       "\n",
       "    .dataframe tbody tr th {\n",
       "        vertical-align: top;\n",
       "    }\n",
       "\n",
       "    .dataframe thead th {\n",
       "        text-align: right;\n",
       "    }\n",
       "</style>\n",
       "<table border=\"1\" class=\"dataframe\">\n",
       "  <thead>\n",
       "    <tr style=\"text-align: right;\">\n",
       "      <th></th>\n",
       "      <th>Model</th>\n",
       "      <th>Accuracy</th>\n",
       "      <th>Macro AUPRC</th>\n",
       "      <th>F1 Score</th>\n",
       "      <th>Macro averaged precision</th>\n",
       "      <th>Macro averaged Recall</th>\n",
       "    </tr>\n",
       "  </thead>\n",
       "  <tbody>\n",
       "    <tr>\n",
       "      <th>0</th>\n",
       "      <td>xgb</td>\n",
       "      <td>0.6835</td>\n",
       "      <td>0.666667</td>\n",
       "      <td>0.5117</td>\n",
       "      <td>0.5729</td>\n",
       "      <td>0.5265</td>\n",
       "    </tr>\n",
       "  </tbody>\n",
       "</table>\n",
       "</div>"
      ],
      "text/plain": [
       "  Model  Accuracy  Macro AUPRC  F1 Score  Macro averaged precision  \\\n",
       "0   xgb    0.6835     0.666667    0.5117                    0.5729   \n",
       "\n",
       "   Macro averaged Recall  \n",
       "0                 0.5265  "
      ]
     },
     "metadata": {},
     "output_type": "display_data"
    }
   ],
   "source": [
    "lgbm_wrapper = LGBMClassifier(random_state = 42, verbose=-1)\n",
    "lgbm_wrapper.fit(X_train_los, y_train_los)\n",
    "\n",
    "X_test_los, y_test_los, test_output_los = split.split_X_Y_LOS(los_eicu_test, mode = 'eicu')\n",
    "\n",
    "X_test_los = X_test_los.drop(['hospitalid', 'hospitaldischargeyear'], axis = 1)\n",
    "\n",
    "test_preds_los = lgbm_wrapper.predict(X_test_los)\n",
    "test_output_los['prediction_label'] = test_preds_los\n",
    "test_output_los['prediction_prob'] = lgbm_wrapper.predict_proba(X_test_los)[:, 1]\n",
    "\n",
    "test_eval_los = Multiclass_evaluation.ST_multi_evaluation(_, test_output_los, 'xgb')\n",
    "display(test_eval_los)"
   ]
  },
  {
   "cell_type": "code",
   "execution_count": 8,
   "metadata": {},
   "outputs": [
    {
     "data": {
      "text/plain": [
       "<module 'Multiclass_evaluation' from '/Users/gwonjeong-eul/Desktop/ecp-scl-macbook/ECP_SCL/Experiment(Supervised Learning)/evaluation/Multiclass_evaluation.py'>"
      ]
     },
     "execution_count": 8,
     "metadata": {},
     "output_type": "execute_result"
    }
   ],
   "source": [
    "reload(Multiclass_evaluation) "
   ]
  },
  {
   "cell_type": "code",
   "execution_count": 63,
   "metadata": {},
   "outputs": [
    {
     "data": {
      "text/html": [
       "<div>\n",
       "<style scoped>\n",
       "    .dataframe tbody tr th:only-of-type {\n",
       "        vertical-align: middle;\n",
       "    }\n",
       "\n",
       "    .dataframe tbody tr th {\n",
       "        vertical-align: top;\n",
       "    }\n",
       "\n",
       "    .dataframe thead th {\n",
       "        text-align: right;\n",
       "    }\n",
       "</style>\n",
       "<table border=\"1\" class=\"dataframe\">\n",
       "  <thead>\n",
       "    <tr style=\"text-align: right;\">\n",
       "      <th></th>\n",
       "      <th>Model</th>\n",
       "      <th>AUPRC</th>\n",
       "      <th>ARDS score</th>\n",
       "      <th>Recall</th>\n",
       "      <th>Precision</th>\n",
       "      <th>Grecall</th>\n",
       "    </tr>\n",
       "  </thead>\n",
       "  <tbody>\n",
       "    <tr>\n",
       "      <th>0</th>\n",
       "      <td>lgbm</td>\n",
       "      <td>0.167527</td>\n",
       "      <td>0.179515</td>\n",
       "      <td>0.1769</td>\n",
       "      <td>0.226754</td>\n",
       "      <td>0.164303</td>\n",
       "    </tr>\n",
       "  </tbody>\n",
       "</table>\n",
       "</div>"
      ],
      "text/plain": [
       "  Model     AUPRC  ARDS score  Recall  Precision   Grecall\n",
       "0  lgbm  0.167527    0.179515  0.1769   0.226754  0.164303"
      ]
     },
     "metadata": {},
     "output_type": "display_data"
    }
   ],
   "source": [
    "lgbm_wrapper = LGBMClassifier(random_state = 42, verbose=-1)\n",
    "lgbm_wrapper.fit(X_train_ards8h, y_train_ards8h)\n",
    "\n",
    "X_test_ards8h, y_test_ards8h, test_output_ards8h = split.split_X_Y_ARDS8h(ards8h_eicu_test, mode = 'eicu')\n",
    "\n",
    "X_test_ards8h = X_test_ards8h.drop(['hospitalid', 'hospitaldischargeyear'], axis = 1)\n",
    "\n",
    "test_preds_ards8h = lgbm_wrapper.predict(X_test_ards8h)\n",
    "test_output_ards8h['prediction_label'] = test_preds_ards8h\n",
    "test_output_ards8h['prediction_prob'] = lgbm_wrapper.predict_proba(X_test_ards8h)[:, 1]\n",
    "\n",
    "test_eval_ards8h = Multiclass_evaluation.ST_binary_evaluation(ARDS8h_event_test, test_output_ards8h, 'lgbm', mode='eicu', event_task='ARDS 8h')\n",
    "display(test_eval_ards8h)"
   ]
  },
  {
   "cell_type": "code",
   "execution_count": 73,
   "metadata": {},
   "outputs": [
    {
     "data": {
      "text/plain": [
       "24653"
      ]
     },
     "execution_count": 73,
     "metadata": {},
     "output_type": "execute_result"
    }
   ],
   "source": [
    "len(X_train_ards8h)"
   ]
  },
  {
   "cell_type": "code",
   "execution_count": 74,
   "metadata": {},
   "outputs": [
    {
     "data": {
      "text/plain": [
       "18059"
      ]
     },
     "execution_count": 74,
     "metadata": {},
     "output_type": "execute_result"
    }
   ],
   "source": [
    "len(X_test_ards8h)"
   ]
  },
  {
   "cell_type": "code",
   "execution_count": 62,
   "metadata": {},
   "outputs": [
    {
     "data": {
      "text/html": [
       "<div>\n",
       "<style scoped>\n",
       "    .dataframe tbody tr th:only-of-type {\n",
       "        vertical-align: middle;\n",
       "    }\n",
       "\n",
       "    .dataframe tbody tr th {\n",
       "        vertical-align: top;\n",
       "    }\n",
       "\n",
       "    .dataframe thead th {\n",
       "        text-align: right;\n",
       "    }\n",
       "</style>\n",
       "<table border=\"1\" class=\"dataframe\">\n",
       "  <thead>\n",
       "    <tr style=\"text-align: right;\">\n",
       "      <th></th>\n",
       "      <th>Model</th>\n",
       "      <th>AUPRC</th>\n",
       "      <th>SIC score</th>\n",
       "      <th>Recall</th>\n",
       "      <th>Precision</th>\n",
       "      <th>Grecall</th>\n",
       "    </tr>\n",
       "  </thead>\n",
       "  <tbody>\n",
       "    <tr>\n",
       "      <th>0</th>\n",
       "      <td>lgbm</td>\n",
       "      <td>0.363518</td>\n",
       "      <td>0.284738</td>\n",
       "      <td>0.255556</td>\n",
       "      <td>0.40658</td>\n",
       "      <td>0.251271</td>\n",
       "    </tr>\n",
       "  </tbody>\n",
       "</table>\n",
       "</div>"
      ],
      "text/plain": [
       "  Model     AUPRC  SIC score    Recall  Precision   Grecall\n",
       "0  lgbm  0.363518   0.284738  0.255556    0.40658  0.251271"
      ]
     },
     "metadata": {},
     "output_type": "display_data"
    }
   ],
   "source": [
    "lgbm_wrapper = LGBMClassifier(random_state = 42, verbose=-1)\n",
    "lgbm_wrapper.fit(X_train_sic8h, y_train_sic8h)\n",
    "\n",
    "X_test_sic8h, y_test_sic8h, test_output_sic8h = split.split_X_Y_SIC8h(sic8h_eicu_test, mode = 'eicu')\n",
    "\n",
    "X_test_sic8h = X_test_sic8h.drop(['hospitalid', 'hospitaldischargeyear'], axis = 1)\n",
    "\n",
    "test_preds_sic8h = lgbm_wrapper.predict(X_test_sic8h)\n",
    "test_output_sic8h['prediction_label'] = test_preds_sic8h\n",
    "test_output_sic8h['prediction_prob'] = lgbm_wrapper.predict_proba(X_test_sic8h)[:, 1]\n",
    "\n",
    "test_eval_sic8h = Multiclass_evaluation.ST_binary_evaluation(SIC8h_event_test, test_output_sic8h, 'lgbm', mode='eicu', event_task='SIC 8h')\n",
    "display(test_eval_sic8h)"
   ]
  },
  {
   "cell_type": "code",
   "execution_count": 103,
   "metadata": {},
   "outputs": [
    {
     "name": "stdout",
     "output_type": "stream",
     "text": [
      "|MIMIC-Test|====================================================\n"
     ]
    },
    {
     "data": {
      "text/html": [
       "<div>\n",
       "<style scoped>\n",
       "    .dataframe tbody tr th:only-of-type {\n",
       "        vertical-align: middle;\n",
       "    }\n",
       "\n",
       "    .dataframe tbody tr th {\n",
       "        vertical-align: top;\n",
       "    }\n",
       "\n",
       "    .dataframe thead th {\n",
       "        text-align: right;\n",
       "    }\n",
       "</style>\n",
       "<table border=\"1\" class=\"dataframe\">\n",
       "  <thead>\n",
       "    <tr style=\"text-align: right;\">\n",
       "      <th></th>\n",
       "      <th>Model</th>\n",
       "      <th>AUPRC</th>\n",
       "      <th>SIC score</th>\n",
       "      <th>Recall</th>\n",
       "      <th>Precision</th>\n",
       "      <th>Grecall</th>\n",
       "    </tr>\n",
       "  </thead>\n",
       "  <tbody>\n",
       "    <tr>\n",
       "      <th>0</th>\n",
       "      <td>xgb</td>\n",
       "      <td>0.344747</td>\n",
       "      <td>0.284512</td>\n",
       "      <td>0.230769</td>\n",
       "      <td>0.467320</td>\n",
       "      <td>0.242373</td>\n",
       "    </tr>\n",
       "    <tr>\n",
       "      <th>1</th>\n",
       "      <td>lgbm</td>\n",
       "      <td>0.336351</td>\n",
       "      <td>0.235242</td>\n",
       "      <td>0.179487</td>\n",
       "      <td>0.340782</td>\n",
       "      <td>0.206780</td>\n",
       "    </tr>\n",
       "    <tr>\n",
       "      <th>2</th>\n",
       "      <td>catboost</td>\n",
       "      <td>0.339995</td>\n",
       "      <td>0.262081</td>\n",
       "      <td>0.192308</td>\n",
       "      <td>0.441077</td>\n",
       "      <td>0.222034</td>\n",
       "    </tr>\n",
       "    <tr>\n",
       "      <th>3</th>\n",
       "      <td>rf</td>\n",
       "      <td>0.326580</td>\n",
       "      <td>0.170157</td>\n",
       "      <td>0.051282</td>\n",
       "      <td>0.714286</td>\n",
       "      <td>0.127119</td>\n",
       "    </tr>\n",
       "    <tr>\n",
       "      <th>4</th>\n",
       "      <td>dt</td>\n",
       "      <td>0.309458</td>\n",
       "      <td>0.283462</td>\n",
       "      <td>0.410256</td>\n",
       "      <td>0.174868</td>\n",
       "      <td>0.391525</td>\n",
       "    </tr>\n",
       "    <tr>\n",
       "      <th>5</th>\n",
       "      <td>svm-ovr</td>\n",
       "      <td>0.260795</td>\n",
       "      <td>0.148771</td>\n",
       "      <td>0.089744</td>\n",
       "      <td>0.430380</td>\n",
       "      <td>0.115254</td>\n",
       "    </tr>\n",
       "    <tr>\n",
       "      <th>6</th>\n",
       "      <td>lr</td>\n",
       "      <td>0.211300</td>\n",
       "      <td>0.149954</td>\n",
       "      <td>0.141026</td>\n",
       "      <td>0.251678</td>\n",
       "      <td>0.127119</td>\n",
       "    </tr>\n",
       "    <tr>\n",
       "      <th>7</th>\n",
       "      <td>naivebayes</td>\n",
       "      <td>0.118577</td>\n",
       "      <td>0.234916</td>\n",
       "      <td>1.000000</td>\n",
       "      <td>0.086320</td>\n",
       "      <td>1.000000</td>\n",
       "    </tr>\n",
       "    <tr>\n",
       "      <th>8</th>\n",
       "      <td>knn</td>\n",
       "      <td>0.139003</td>\n",
       "      <td>0.159735</td>\n",
       "      <td>0.256410</td>\n",
       "      <td>0.173664</td>\n",
       "      <td>0.154237</td>\n",
       "    </tr>\n",
       "  </tbody>\n",
       "</table>\n",
       "</div>"
      ],
      "text/plain": [
       "        Model     AUPRC  SIC score    Recall  Precision   Grecall\n",
       "0         xgb  0.344747   0.284512  0.230769   0.467320  0.242373\n",
       "1        lgbm  0.336351   0.235242  0.179487   0.340782  0.206780\n",
       "2    catboost  0.339995   0.262081  0.192308   0.441077  0.222034\n",
       "3          rf  0.326580   0.170157  0.051282   0.714286  0.127119\n",
       "4          dt  0.309458   0.283462  0.410256   0.174868  0.391525\n",
       "5     svm-ovr  0.260795   0.148771  0.089744   0.430380  0.115254\n",
       "6          lr  0.211300   0.149954  0.141026   0.251678  0.127119\n",
       "7  naivebayes  0.118577   0.234916  1.000000   0.086320  1.000000\n",
       "8         knn  0.139003   0.159735  0.256410   0.173664  0.154237"
      ]
     },
     "metadata": {},
     "output_type": "display_data"
    },
    {
     "name": "stdout",
     "output_type": "stream",
     "text": [
      "----------------------------------------------------------------------\n"
     ]
    }
   ],
   "source": [
    "reload(Multiclass_evaluation) \n",
    "\n",
    "eicu_2014 = sic8h_eicu_test[sic8h_eicu_test['hospitaldischargeyear']==2014].drop(['hospitalid', 'hospitaldischargeyear'], axis = 1)\n",
    "eicu_2015 = sic8h_eicu_test[sic8h_eicu_test['hospitaldischargeyear']==2015].drop(['hospitalid', 'hospitaldischargeyear'], axis = 1)\n",
    "\n",
    "\n",
    "X_test_sic8h_2014, y_test_sic8h_2014, _ = split.split_X_Y_SIC8h(eicu_2014, mode = 'eicu')\n",
    "X_test_sic8h_2015, y_test_sic8h_2015, test_output_sic8h = split.split_X_Y_SIC8h(eicu_2015, mode = 'eicu')\n",
    "\n",
    "\n",
    "X = pd.concat([X_train_sic8h, X_test_sic8h_2014], axis = 0)\n",
    "Y = np.concatenate((y_train_sic8h, y_test_sic8h_2014))\n",
    "\n",
    "\n",
    "sic_models, result_sic = Multiclass_evaluation.create_subtask(X, Y, X_test_sic8h_2015, test_output_sic8h, SIC8h_event_test, mode='eicu', type='binary', event_task='SIC 8h')"
   ]
  }
 ],
 "metadata": {
  "kernelspec": {
   "display_name": "DL",
   "language": "python",
   "name": "python3"
  },
  "language_info": {
   "codemirror_mode": {
    "name": "ipython",
    "version": 3
   },
   "file_extension": ".py",
   "mimetype": "text/x-python",
   "name": "python",
   "nbconvert_exporter": "python",
   "pygments_lexer": "ipython3",
   "version": "3.11.5"
  }
 },
 "nbformat": 4,
 "nbformat_minor": 2
}
