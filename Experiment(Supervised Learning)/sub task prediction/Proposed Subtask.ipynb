{
 "cells": [
  {
   "cell_type": "code",
   "execution_count": 23,
   "metadata": {},
   "outputs": [
    {
     "name": "stdout",
     "output_type": "stream",
     "text": [
      "========== 데이터셋 분할 정보 ==========\n",
      "데이터셋 비율: 학습 = 0.90, 테스트 = 0.10\n",
      "학습셋 클래스 비율: Case\n",
      "1.0    473941\n",
      "2.0      5128\n",
      "3.0     15571\n",
      "4.0     15705\n",
      "Name: count, dtype: int64\n",
      "테스트셋 클래스 비율: Case\n",
      "1.0    53103\n",
      "2.0      512\n",
      "3.0     1253\n",
      "4.0     1271\n",
      "Name: count, dtype: int64\n",
      "--------------------------------------\n",
      "========== 클래스 비율 ==========\n",
      "학습셋 클래스 비율: 0.93:0.01:0.03:0.03\n",
      "테스트셋 클래스 비율: 0.95:0.01:0.02:0.02\n",
      "--------------------------------------\n",
      "========== 환자 및 체류 정보 ==========\n",
      "학습셋 환자 수: 2907\n",
      "테스트셋 환자 수: 329\n",
      "학습셋 체류 수: 2961\n",
      "테스트셋 체류 수: 330\n",
      "--------------------------------------\n",
      "========== 실험 설정 ==========\n",
      "분할 시드: 9040\n",
      "학습 비율: 0.9\n",
      "임계값: 0.05\n",
      "--------------------------------------\n",
      "========== 실행 결과 ==========\n",
      "총 소요 시간(초): 0.38\n",
      "시도한 시행 횟수: 0\n"
     ]
    }
   ],
   "source": [
    "import pandas as pd\n",
    "import numpy as np\n",
    "import time\n",
    "import sys\n",
    "\n",
    "from sklearn.metrics import accuracy_score\n",
    "from sklearn.metrics import precision_score\n",
    "from sklearn.metrics import recall_score\n",
    "\n",
    "from lightgbm import LGBMClassifier\n",
    "from sklearn.linear_model import LogisticRegression  \n",
    "from sklearn import svm\n",
    "\n",
    "module_path='/Users/DAHS/Desktop/ECP_CONT/ECP_SCL/Experiment(Supervised Learning)/evaluation/'\n",
    "if module_path not in sys.path:\n",
    "    sys.path.append(module_path)\n",
    "    \n",
    "from integrating_embedding import *\n",
    "\n",
    "import integrating_embedding\n",
    "from imp import reload\n",
    "reload(integrating_embedding)\n",
    "\n",
    "module_path='/Users/DAHS/Desktop/ECP_CONT/ECP_SCL/Experiment(Supervised Learning)/evaluation/'\n",
    "if module_path not in sys.path:\n",
    "    sys.path.append(module_path)\n",
    "\n",
    "import get_hospital_eicu\n",
    "\n",
    "\n",
    "emb_path_trn_mimic = '/Users/DAHS/Desktop/ECP_CONT/ECP_SCL/Cohort_selection/Train/result/emb_train_new_version(0303).npy'\n",
    "emb_path_vld_mimic = '/Users/DAHS/Desktop/ECP_CONT/ECP_SCL/Cohort_selection/Train/result/emb_valid_new_version(0303).npy'\n",
    "# emb_path_event_mimic = '/Users/DAHS/Desktop/ECP_CONT/ECP_SCL/Cohort_selection/Train/result/emb_event_new_version(0303).npy'\n",
    "\n",
    "emb_path_trn_eicu = '/Users/DAHS/Desktop/ECP_CONT/ECP_SCL/Cohort_selection/Train/result/emb_eicu_new_version(0303).npy'\n",
    "\n",
    "mimic_path = '/Users/DAHS/Desktop/ECP_CONT/ECP_SCL/Case Labeling/mimic_analysis(new_version0229).csv.gz'\n",
    "eicu_path = '/Users/DAHS/Desktop/ECP_CONT/ECP_SCL/Case Labeling/eicu_analysis(new_version0229).csv.gz'\n",
    "\n",
    "mimic_train_emb, mimic_valid_emb, event = integrating_embedding.integrating(mimic_path, emb_path_trn_mimic, emb_path_vld_mimic, _, 'mimic')\n",
    "mimic_train_emb = mimic_train_emb[mimic_train_emb['INDEX']=='CASE3_CASE4_DF'].reset_index(drop=True)\n",
    "mimic_valid_emb = mimic_valid_emb[mimic_valid_emb['INDEX']=='CASE3_CASE4_DF'].reset_index(drop=True)\n",
    "eicu_test_emb, event_eicu, hosp_id = integrating_embedding.integrating(eicu_path, emb_path_trn_eicu, _, _, 'eicu')\n",
    "eicu_type = get_hospital_eicu.eicu_subgroup(eicu_test_emb)\n",
    "unitadmitsource, unittype, unitstaytype = get_hospital_eicu.make_eicu_dataset(eicu_type[eicu_type['INDEX']=='CASE3_CASE4_DF'].reset_index(drop=True))"
   ]
  },
  {
   "cell_type": "code",
   "execution_count": 109,
   "metadata": {},
   "outputs": [
    {
     "data": {
      "text/plain": [
       "<module 'incorperate_subtask_label' from 'c:\\\\Users\\\\DAHS\\\\Desktop\\\\ECP_CONT\\\\ECP_SCL\\\\Experiment(Supervised Learning)\\\\sub task prediction\\\\incorperate_subtask_label.py'>"
      ]
     },
     "execution_count": 109,
     "metadata": {},
     "output_type": "execute_result"
    }
   ],
   "source": [
    "module_path='/Users/DAHS/Desktop/ECP_CONT/ECP_SCL/Experiment(Supervised Learning)/sub task prediction/'\n",
    "\n",
    "if module_path not in sys.path:\n",
    "    sys.path.append(module_path)\n",
    "\n",
    "import incorperate_subtask_label\n",
    "reload(incorperate_subtask_label)"
   ]
  },
  {
   "cell_type": "code",
   "execution_count": 110,
   "metadata": {},
   "outputs": [],
   "source": [
    "mort_mimic_train, mort_mimic_valid, mort_eicu_test = incorperate_subtask_label.mortality_prediction_DATA(mimic_train_emb, mimic_valid_emb, eicu_test_emb)\n",
    "los_mimic_train, los_mimic_valid, los_eicu_test = incorperate_subtask_label.LOS_prediction_DATA(mimic_train_emb, mimic_valid_emb, eicu_test_emb)\n",
    "ards8h_mimic_train, ards8h_mimic_valid, ards8h_eicu_test = incorperate_subtask_label.ARDS8_prediction_DATA(mimic_train_emb, mimic_valid_emb, eicu_test_emb)\n",
    "sic8h_mimic_train, sic8h_mimic_valid, sic8h_eicu_test = incorperate_subtask_label.SIC8_prediction_DATA(mimic_train_emb, mimic_valid_emb, eicu_test_emb)"
   ]
  },
  {
   "cell_type": "code",
   "execution_count": 111,
   "metadata": {},
   "outputs": [],
   "source": [
    "drop_stayid = []\n",
    "retain_stay_id = []\n",
    "for stay_id, group in ards8h_mimic_train.groupby('stay_id'):\n",
    "    if any(group['Annotation_ARDS'] == 'ARDS'):\n",
    "        if all(group['Annotation_ARDS'] == 'ARDS'):\n",
    "            drop_stayid.append(stay_id)\n",
    "        else:\n",
    "            retain_stay_id.append(stay_id)\n",
    "            \n",
    "\n",
    "for stay_id, group in ards8h_mimic_valid.groupby('stay_id'):\n",
    "    if any(group['Annotation_ARDS'] == 'ARDS'):\n",
    "        if all(group['Annotation_ARDS'] == 'ARDS'):\n",
    "            drop_stayid.append(stay_id)\n",
    "        else:\n",
    "            retain_stay_id.append(stay_id)\n",
    "            \n",
    "for stay_id, group in ards8h_eicu_test.groupby('patientunitstayid'):\n",
    "    if any(group['Annotation_ARDS'] == 'ARDS'):\n",
    "        if all(group['Annotation_ARDS'] == 'ARDS'):\n",
    "            drop_stayid.append(stay_id)\n",
    "        else:\n",
    "            retain_stay_id.append(stay_id)\n",
    "            \n",
    "ards8h_mimic_train = ards8h_mimic_train[(ards8h_mimic_train['stay_id'].isin(retain_stay_id))].reset_index(drop=True)\n",
    "ards8h_mimic_valid = ards8h_mimic_valid[(ards8h_mimic_valid['stay_id'].isin(retain_stay_id))].reset_index(drop=True)\n",
    "ards8h_eicu_test = ards8h_eicu_test[(ards8h_eicu_test['patientunitstayid'].isin(retain_stay_id))].reset_index(drop=True)\n",
    "\n",
    "ARDS8h_event_train = ards8h_mimic_train[ards8h_mimic_train['Annotation_ARDS']=='ARDS']\n",
    "ARDS8h_event_train['ARDS_next_8h']='event'\n",
    "ARDS8h_event_valid = ards8h_mimic_valid[ards8h_mimic_valid['Annotation_ARDS']=='ARDS']\n",
    "ARDS8h_event_valid['ARDS_next_8h']='event'\n",
    "ARDS8h_event_test = ards8h_eicu_test[ards8h_eicu_test['Annotation_ARDS']=='ARDS']\n",
    "ARDS8h_event_test['ARDS_next_8h']='event'\n",
    "\n",
    "\n",
    "retain_stay_id = []\n",
    "drop_stayid = []\n",
    "for stay_id, group in sic8h_mimic_train.groupby('stay_id'):\n",
    "    if any(group['Annotation_SIC'] == 'SIC'):\n",
    "        if all(group['Annotation_SIC'] == 'SIC'):\n",
    "            drop_stayid.append(stay_id)\n",
    "        else:\n",
    "            retain_stay_id.append(stay_id)\n",
    "            \n",
    "for stay_id, group in sic8h_mimic_valid.groupby('stay_id'):\n",
    "    if any(group['Annotation_SIC'] == 'SIC'):\n",
    "        if all(group['Annotation_SIC'] == 'SIC'):\n",
    "            drop_stayid.append(stay_id)\n",
    "        else:\n",
    "            retain_stay_id.append(stay_id)\n",
    "            \n",
    "sic8h_mimic_train = sic8h_mimic_train[(sic8h_mimic_train['stay_id'].isin(retain_stay_id))].reset_index(drop=True)\n",
    "sic8h_mimic_valid = sic8h_mimic_valid[(sic8h_mimic_valid['stay_id'].isin(retain_stay_id))].reset_index(drop=True)\n",
    "\n",
    "\n",
    "SIC8h_event_train = sic8h_mimic_train[sic8h_mimic_train['Annotation_SIC']=='SIC']\n",
    "SIC8h_event_train['SIC_next_8h']='event'\n",
    "SIC8h_event_valid = sic8h_mimic_valid[sic8h_mimic_valid['Annotation_SIC']=='SIC']\n",
    "SIC8h_event_valid['SIC_next_8h']='event'\n",
    "SIC8h_event_test = sic8h_eicu_test[sic8h_eicu_test['Annotation_SIC']=='SIC']\n",
    "SIC8h_event_test['SIC_next_8h']='event'"
   ]
  },
  {
   "cell_type": "code",
   "execution_count": 112,
   "metadata": {},
   "outputs": [
    {
     "data": {
      "text/plain": [
       "<module 'split' from 'c:\\\\Users/DAHS/Desktop/ECP_CONT/ECP_SCL/Experiment(Supervised Learning)/evaluation\\\\split.py'>"
      ]
     },
     "execution_count": 112,
     "metadata": {},
     "output_type": "execute_result"
    }
   ],
   "source": [
    "import split\n",
    "from imp import reload\n",
    "reload(split)"
   ]
  },
  {
   "cell_type": "code",
   "execution_count": 113,
   "metadata": {},
   "outputs": [],
   "source": [
    "X_train_mort, y_train_mort, _ = split.split_X_Y_MORT(mort_mimic_train[~(mort_mimic_train['death']=='event')], mode = 'mimic')\n",
    "X_valid_mort, y_valid_mort, valid_output_mort = split.split_X_Y_MORT(mort_mimic_valid[~(mort_mimic_valid['death']=='event')], mode = 'mimic')\n",
    "\n",
    "X_train_los, y_train_los, _ = split.split_X_Y_LOS(los_mimic_train, mode = 'mimic')\n",
    "X_valid_los, y_valid_los, valid_output_los = split.split_X_Y_LOS(los_mimic_valid, mode = 'mimic')\n",
    "\n",
    "X_train_ards8h, y_train_ards8h, _ = split.split_X_Y_ARDS8h(ards8h_mimic_train[ards8h_mimic_train['Annotation_ARDS']=='no_ARDS'], mode = 'mimic')\n",
    "X_valid_ards8h, y_valid_ards8h, valid_output_ards8h = split.split_X_Y_ARDS8h(ards8h_mimic_valid[ards8h_mimic_valid['Annotation_ARDS']=='no_ARDS'], mode = 'mimic')\n",
    "\n",
    "X_train_sic8h, y_train_sic8h, _ = split.split_X_Y_SIC8h(sic8h_mimic_train[sic8h_mimic_train['Annotation_SIC']=='no_SIC'], mode = 'mimic')\n",
    "X_valid_sic8h, y_valid_sic8h, valid_output_sic8h = split.split_X_Y_SIC8h(sic8h_mimic_valid[sic8h_mimic_valid['Annotation_SIC']=='no_SIC'], mode = 'mimic')"
   ]
  },
  {
   "cell_type": "code",
   "execution_count": 37,
   "metadata": {},
   "outputs": [
    {
     "data": {
      "text/plain": [
       "<module 'Multiclass_evaluation' from 'c:\\\\Users/DAHS/Desktop/ECP_CONT/ECP_SCL/Experiment(Supervised Learning)/evaluation\\\\Multiclass_evaluation.py'>"
      ]
     },
     "execution_count": 37,
     "metadata": {},
     "output_type": "execute_result"
    }
   ],
   "source": [
    "import Multiclass_evaluation\n",
    "reload(Multiclass_evaluation)"
   ]
  },
  {
   "cell_type": "code",
   "execution_count": 38,
   "metadata": {},
   "outputs": [
    {
     "name": "stdout",
     "output_type": "stream",
     "text": [
      "|MIMIC-Validation|====================================================\n"
     ]
    },
    {
     "data": {
      "text/html": [
       "<div>\n",
       "<style scoped>\n",
       "    .dataframe tbody tr th:only-of-type {\n",
       "        vertical-align: middle;\n",
       "    }\n",
       "\n",
       "    .dataframe tbody tr th {\n",
       "        vertical-align: top;\n",
       "    }\n",
       "\n",
       "    .dataframe thead th {\n",
       "        text-align: right;\n",
       "    }\n",
       "</style>\n",
       "<table border=\"1\" class=\"dataframe\">\n",
       "  <thead>\n",
       "    <tr style=\"text-align: right;\">\n",
       "      <th></th>\n",
       "      <th>Model</th>\n",
       "      <th>Accuracy</th>\n",
       "      <th>AUPRC</th>\n",
       "      <th>F1 Score</th>\n",
       "      <th>Recall</th>\n",
       "      <th>Precision</th>\n",
       "    </tr>\n",
       "  </thead>\n",
       "  <tbody>\n",
       "    <tr>\n",
       "      <th>0</th>\n",
       "      <td>lgbm</td>\n",
       "      <td>0.628429</td>\n",
       "      <td>0.614556</td>\n",
       "      <td>0.406375</td>\n",
       "      <td>0.294798</td>\n",
       "      <td>0.653846</td>\n",
       "    </tr>\n",
       "    <tr>\n",
       "      <th>1</th>\n",
       "      <td>rf</td>\n",
       "      <td>0.660848</td>\n",
       "      <td>0.593045</td>\n",
       "      <td>0.488722</td>\n",
       "      <td>0.375723</td>\n",
       "      <td>0.698925</td>\n",
       "    </tr>\n",
       "    <tr>\n",
       "      <th>2</th>\n",
       "      <td>dt</td>\n",
       "      <td>0.603491</td>\n",
       "      <td>0.478109</td>\n",
       "      <td>0.430108</td>\n",
       "      <td>0.346821</td>\n",
       "      <td>0.566038</td>\n",
       "    </tr>\n",
       "    <tr>\n",
       "      <th>3</th>\n",
       "      <td>lr</td>\n",
       "      <td>0.680798</td>\n",
       "      <td>0.644475</td>\n",
       "      <td>0.573333</td>\n",
       "      <td>0.497110</td>\n",
       "      <td>0.677165</td>\n",
       "    </tr>\n",
       "  </tbody>\n",
       "</table>\n",
       "</div>"
      ],
      "text/plain": [
       "  Model  Accuracy     AUPRC  F1 Score    Recall  Precision\n",
       "0  lgbm  0.628429  0.614556  0.406375  0.294798   0.653846\n",
       "1    rf  0.660848  0.593045  0.488722  0.375723   0.698925\n",
       "2    dt  0.603491  0.478109  0.430108  0.346821   0.566038\n",
       "3    lr  0.680798  0.644475  0.573333  0.497110   0.677165"
      ]
     },
     "metadata": {},
     "output_type": "display_data"
    },
    {
     "name": "stdout",
     "output_type": "stream",
     "text": [
      "----------------------------------------------------------------------\n"
     ]
    }
   ],
   "source": [
    "mort_models, result_mort = Multiclass_evaluation.create_subtask(X_train_mort, y_train_mort, X_valid_mort, valid_output_mort, _,mode = 'mimic', type = 'binary', event_task = False)"
   ]
  },
  {
   "cell_type": "code",
   "execution_count": 94,
   "metadata": {},
   "outputs": [],
   "source": [
    "result_mort.to_excel(excel_writer='mort_proposed_method.xlsx')"
   ]
  },
  {
   "cell_type": "code",
   "execution_count": 71,
   "metadata": {},
   "outputs": [
    {
     "name": "stdout",
     "output_type": "stream",
     "text": [
      "|MIMIC-Validation|====================================================\n"
     ]
    },
    {
     "data": {
      "text/html": [
       "<div>\n",
       "<style scoped>\n",
       "    .dataframe tbody tr th:only-of-type {\n",
       "        vertical-align: middle;\n",
       "    }\n",
       "\n",
       "    .dataframe tbody tr th {\n",
       "        vertical-align: top;\n",
       "    }\n",
       "\n",
       "    .dataframe thead th {\n",
       "        text-align: right;\n",
       "    }\n",
       "</style>\n",
       "<table border=\"1\" class=\"dataframe\">\n",
       "  <thead>\n",
       "    <tr style=\"text-align: right;\">\n",
       "      <th></th>\n",
       "      <th>Model</th>\n",
       "      <th>Accuracy</th>\n",
       "      <th>Macro AUPRC</th>\n",
       "      <th>F1 Score</th>\n",
       "      <th>Macro averaged precision</th>\n",
       "      <th>Macro averaged Recall</th>\n",
       "    </tr>\n",
       "  </thead>\n",
       "  <tbody>\n",
       "    <tr>\n",
       "      <th>0</th>\n",
       "      <td>lgbm</td>\n",
       "      <td>0.5729</td>\n",
       "      <td>0.666667</td>\n",
       "      <td>0.5239</td>\n",
       "      <td>0.6018</td>\n",
       "      <td>0.5109</td>\n",
       "    </tr>\n",
       "    <tr>\n",
       "      <th>1</th>\n",
       "      <td>rf</td>\n",
       "      <td>0.5305</td>\n",
       "      <td>0.632524</td>\n",
       "      <td>0.4002</td>\n",
       "      <td>0.4327</td>\n",
       "      <td>0.4043</td>\n",
       "    </tr>\n",
       "    <tr>\n",
       "      <th>2</th>\n",
       "      <td>dt</td>\n",
       "      <td>0.4671</td>\n",
       "      <td>0.583828</td>\n",
       "      <td>0.3663</td>\n",
       "      <td>0.3667</td>\n",
       "      <td>0.3757</td>\n",
       "    </tr>\n",
       "    <tr>\n",
       "      <th>3</th>\n",
       "      <td>lr</td>\n",
       "      <td>0.5765</td>\n",
       "      <td>0.666667</td>\n",
       "      <td>0.5518</td>\n",
       "      <td>0.5366</td>\n",
       "      <td>0.5837</td>\n",
       "    </tr>\n",
       "  </tbody>\n",
       "</table>\n",
       "</div>"
      ],
      "text/plain": [
       "  Model  Accuracy  Macro AUPRC  F1 Score  Macro averaged precision  \\\n",
       "0  lgbm    0.5729     0.666667    0.5239                    0.6018   \n",
       "1    rf    0.5305     0.632524    0.4002                    0.4327   \n",
       "2    dt    0.4671     0.583828    0.3663                    0.3667   \n",
       "3    lr    0.5765     0.666667    0.5518                    0.5366   \n",
       "\n",
       "   Macro averaged Recall  \n",
       "0                 0.5109  \n",
       "1                 0.4043  \n",
       "2                 0.3757  \n",
       "3                 0.5837  "
      ]
     },
     "metadata": {},
     "output_type": "display_data"
    },
    {
     "name": "stdout",
     "output_type": "stream",
     "text": [
      "----------------------------------------------------------------------\n"
     ]
    }
   ],
   "source": [
    "los_models, result_los = Multiclass_evaluation.create_subtask(X_train_los, y_train_los, X_valid_los, valid_output_los, _, mode = 'mimic', type = 'multi', event_task = False)"
   ]
  },
  {
   "cell_type": "code",
   "execution_count": 96,
   "metadata": {},
   "outputs": [],
   "source": [
    "result_los.to_excel(excel_writer='los_proposed_method.xlsx')"
   ]
  },
  {
   "cell_type": "code",
   "execution_count": 129,
   "metadata": {},
   "outputs": [
    {
     "data": {
      "text/plain": [
       "<module 'Multiclass_evaluation' from 'c:\\\\Users/DAHS/Desktop/ECP_CONT/ECP_SCL/Experiment(Supervised Learning)/evaluation\\\\Multiclass_evaluation.py'>"
      ]
     },
     "execution_count": 129,
     "metadata": {},
     "output_type": "execute_result"
    }
   ],
   "source": [
    "reload(Multiclass_evaluation) "
   ]
  },
  {
   "cell_type": "code",
   "execution_count": 139,
   "metadata": {},
   "outputs": [
    {
     "name": "stdout",
     "output_type": "stream",
     "text": [
      "|MIMIC-Validation|====================================================\n"
     ]
    },
    {
     "data": {
      "text/html": [
       "<div>\n",
       "<style scoped>\n",
       "    .dataframe tbody tr th:only-of-type {\n",
       "        vertical-align: middle;\n",
       "    }\n",
       "\n",
       "    .dataframe tbody tr th {\n",
       "        vertical-align: top;\n",
       "    }\n",
       "\n",
       "    .dataframe thead th {\n",
       "        text-align: right;\n",
       "    }\n",
       "</style>\n",
       "<table border=\"1\" class=\"dataframe\">\n",
       "  <thead>\n",
       "    <tr style=\"text-align: right;\">\n",
       "      <th></th>\n",
       "      <th>Model</th>\n",
       "      <th>AUPRC</th>\n",
       "      <th>ARDS score</th>\n",
       "      <th>Recall</th>\n",
       "      <th>Precision</th>\n",
       "      <th>Grecall</th>\n",
       "    </tr>\n",
       "  </thead>\n",
       "  <tbody>\n",
       "    <tr>\n",
       "      <th>0</th>\n",
       "      <td>lgbm</td>\n",
       "      <td>0.428676</td>\n",
       "      <td>0.629032</td>\n",
       "      <td>0.8333</td>\n",
       "      <td>0.434211</td>\n",
       "      <td>0.785714</td>\n",
       "    </tr>\n",
       "    <tr>\n",
       "      <th>1</th>\n",
       "      <td>rf</td>\n",
       "      <td>0.485749</td>\n",
       "      <td>0.623839</td>\n",
       "      <td>1.0000</td>\n",
       "      <td>0.462687</td>\n",
       "      <td>0.738095</td>\n",
       "    </tr>\n",
       "    <tr>\n",
       "      <th>2</th>\n",
       "      <td>dt</td>\n",
       "      <td>0.691615</td>\n",
       "      <td>0.675074</td>\n",
       "      <td>1.0000</td>\n",
       "      <td>0.472973</td>\n",
       "      <td>0.833333</td>\n",
       "    </tr>\n",
       "    <tr>\n",
       "      <th>3</th>\n",
       "      <td>lr</td>\n",
       "      <td>0.657576</td>\n",
       "      <td>0.736544</td>\n",
       "      <td>1.0000</td>\n",
       "      <td>0.487805</td>\n",
       "      <td>0.952381</td>\n",
       "    </tr>\n",
       "  </tbody>\n",
       "</table>\n",
       "</div>"
      ],
      "text/plain": [
       "  Model     AUPRC  ARDS score  Recall  Precision   Grecall\n",
       "0  lgbm  0.428676    0.629032  0.8333   0.434211  0.785714\n",
       "1    rf  0.485749    0.623839  1.0000   0.462687  0.738095\n",
       "2    dt  0.691615    0.675074  1.0000   0.472973  0.833333\n",
       "3    lr  0.657576    0.736544  1.0000   0.487805  0.952381"
      ]
     },
     "metadata": {},
     "output_type": "display_data"
    },
    {
     "name": "stdout",
     "output_type": "stream",
     "text": [
      "----------------------------------------------------------------------\n"
     ]
    }
   ],
   "source": [
    "ards8h_models, result_ards8h = Multiclass_evaluation.create_subtask(X_train_ards8h, y_train_ards8h, X_valid_ards8h, valid_output_ards8h, ARDS8h_event_valid, mode = 'mimic', type = 'binary', event_task='ARDS 8h')"
   ]
  },
  {
   "cell_type": "code",
   "execution_count": 141,
   "metadata": {},
   "outputs": [],
   "source": [
    "result_ards8h.to_excel(excel_writer='ards8h_proposed_method.xlsx')"
   ]
  },
  {
   "cell_type": "code",
   "execution_count": 142,
   "metadata": {},
   "outputs": [],
   "source": [
    "X_train_sic8h, y_train_sic8h, _ = split.split_X_Y_SIC8h(sic8h_mimic_train, mode = 'mimic')\n",
    "X_valid_sic8h, y_valid_sic8h, valid_output_sic8h = split.split_X_Y_SIC8h(sic8h_mimic_valid[sic8h_mimic_valid['Annotation_SIC']=='no_SIC'], mode = 'mimic')"
   ]
  },
  {
   "cell_type": "code",
   "execution_count": 143,
   "metadata": {},
   "outputs": [
    {
     "name": "stdout",
     "output_type": "stream",
     "text": [
      "|MIMIC-Validation|====================================================\n"
     ]
    },
    {
     "data": {
      "text/html": [
       "<div>\n",
       "<style scoped>\n",
       "    .dataframe tbody tr th:only-of-type {\n",
       "        vertical-align: middle;\n",
       "    }\n",
       "\n",
       "    .dataframe tbody tr th {\n",
       "        vertical-align: top;\n",
       "    }\n",
       "\n",
       "    .dataframe thead th {\n",
       "        text-align: right;\n",
       "    }\n",
       "</style>\n",
       "<table border=\"1\" class=\"dataframe\">\n",
       "  <thead>\n",
       "    <tr style=\"text-align: right;\">\n",
       "      <th></th>\n",
       "      <th>Model</th>\n",
       "      <th>AUPRC</th>\n",
       "      <th>SIC score</th>\n",
       "      <th>Recall</th>\n",
       "      <th>Precision</th>\n",
       "      <th>Grecall</th>\n",
       "    </tr>\n",
       "  </thead>\n",
       "  <tbody>\n",
       "    <tr>\n",
       "      <th>0</th>\n",
       "      <td>lgbm</td>\n",
       "      <td>0.480215</td>\n",
       "      <td>0.311111</td>\n",
       "      <td>0.333333</td>\n",
       "      <td>0.518519</td>\n",
       "      <td>0.264151</td>\n",
       "    </tr>\n",
       "    <tr>\n",
       "      <th>1</th>\n",
       "      <td>rf</td>\n",
       "      <td>0.714513</td>\n",
       "      <td>0.447504</td>\n",
       "      <td>0.888889</td>\n",
       "      <td>0.769231</td>\n",
       "      <td>0.377358</td>\n",
       "    </tr>\n",
       "    <tr>\n",
       "      <th>2</th>\n",
       "      <td>dt</td>\n",
       "      <td>0.586450</td>\n",
       "      <td>0.430075</td>\n",
       "      <td>0.444444</td>\n",
       "      <td>0.468085</td>\n",
       "      <td>0.415094</td>\n",
       "    </tr>\n",
       "    <tr>\n",
       "      <th>3</th>\n",
       "      <td>lr</td>\n",
       "      <td>0.366403</td>\n",
       "      <td>0.468625</td>\n",
       "      <td>0.444444</td>\n",
       "      <td>0.397059</td>\n",
       "      <td>0.509434</td>\n",
       "    </tr>\n",
       "  </tbody>\n",
       "</table>\n",
       "</div>"
      ],
      "text/plain": [
       "  Model     AUPRC  SIC score    Recall  Precision   Grecall\n",
       "0  lgbm  0.480215   0.311111  0.333333   0.518519  0.264151\n",
       "1    rf  0.714513   0.447504  0.888889   0.769231  0.377358\n",
       "2    dt  0.586450   0.430075  0.444444   0.468085  0.415094\n",
       "3    lr  0.366403   0.468625  0.444444   0.397059  0.509434"
      ]
     },
     "metadata": {},
     "output_type": "display_data"
    },
    {
     "name": "stdout",
     "output_type": "stream",
     "text": [
      "----------------------------------------------------------------------\n"
     ]
    }
   ],
   "source": [
    "sic8h_models, result_sic8h = Multiclass_evaluation.create_subtask(X_train_sic8h, y_train_sic8h, X_valid_sic8h, valid_output_sic8h, SIC8h_event_valid, mode = 'mimic', type = 'binary', event_task='SIC 8h')"
   ]
  },
  {
   "cell_type": "code",
   "execution_count": 144,
   "metadata": {},
   "outputs": [],
   "source": [
    "result_sic8h.to_excel(excel_writer='sic8h_proposed_method.xlsx')"
   ]
  },
  {
   "cell_type": "code",
   "execution_count": null,
   "metadata": {},
   "outputs": [],
   "source": []
  }
 ],
 "metadata": {
  "kernelspec": {
   "display_name": "DL",
   "language": "python",
   "name": "python3"
  },
  "language_info": {
   "codemirror_mode": {
    "name": "ipython",
    "version": 3
   },
   "file_extension": ".py",
   "mimetype": "text/x-python",
   "name": "python",
   "nbconvert_exporter": "python",
   "pygments_lexer": "ipython3",
   "version": "3.9.16"
  }
 },
 "nbformat": 4,
 "nbformat_minor": 2
}
