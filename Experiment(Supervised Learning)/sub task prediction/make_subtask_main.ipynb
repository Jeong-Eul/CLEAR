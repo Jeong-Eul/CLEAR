{
 "cells": [
  {
   "cell_type": "code",
   "execution_count": 1,
   "metadata": {},
   "outputs": [
    {
     "name": "stderr",
     "output_type": "stream",
     "text": [
      "/Users/gwonjeong-eul/Desktop/ecp-scl-macbook/ECP_SCL/Experiment(Supervised Learning)/sub task prediction/sub_task_labeling.py:29: DtypeWarning: Columns (226) have mixed types. Specify dtype option on import or set low_memory=False.\n",
      "  mimic = pd.read_csv(mimic_path, compression = 'gzip')\n",
      "/Users/gwonjeong-eul/Desktop/ecp-scl-macbook/ECP_SCL/Experiment(Supervised Learning)/sub task prediction/sub_task_labeling.py:31: DtypeWarning: Columns (225) have mixed types. Specify dtype option on import or set low_memory=False.\n",
      "  eicu = pd.read_csv(eicu_path, compression = 'gzip')\n"
     ]
    },
    {
     "name": "stdout",
     "output_type": "stream",
     "text": [
      "Creating Mortality next 24h Task...\n",
      "Finish!\n",
      "--------------------------------------\n",
      "Creating Remain Length of stay Task...\n",
      "Finish!\n",
      "--------------------------------------\n",
      "Creating ARDS next 4, 8h Task...\n"
     ]
    },
    {
     "name": "stderr",
     "output_type": "stream",
     "text": [
      "100%|██████████| 3927/3927 [00:01<00:00, 2310.59it/s]\n",
      "100%|██████████| 3941/3941 [00:01<00:00, 2239.69it/s]\n",
      "100%|██████████| 3927/3927 [00:35<00:00, 112.14it/s]\n",
      "100%|██████████| 3941/3941 [01:03<00:00, 61.68it/s] \n",
      "100%|██████████| 3927/3927 [00:32<00:00, 122.11it/s]\n",
      "100%|██████████| 3941/3941 [01:03<00:00, 62.27it/s] \n"
     ]
    },
    {
     "name": "stdout",
     "output_type": "stream",
     "text": [
      "Finish!\n",
      "--------------------------------------\n",
      "Creating SIC next 4, 8h Task...\n"
     ]
    },
    {
     "name": "stderr",
     "output_type": "stream",
     "text": [
      "100%|██████████| 1964/1964 [00:14<00:00, 138.03it/s]\n",
      "100%|██████████| 1697/1697 [00:16<00:00, 106.04it/s]\n",
      "100%|██████████| 1964/1964 [00:21<00:00, 91.62it/s] \n",
      "100%|██████████| 1697/1697 [00:26<00:00, 64.50it/s] \n",
      "100%|██████████| 1964/1964 [00:21<00:00, 91.81it/s] \n",
      "100%|██████████| 1697/1697 [00:25<00:00, 66.04it/s] \n"
     ]
    },
    {
     "name": "stdout",
     "output_type": "stream",
     "text": [
      "Finish!\n",
      "--------------------------------------\n"
     ]
    }
   ],
   "source": [
    "import pandas as pd\n",
    "import numpy as np\n",
    "\n",
    "import sub_task_labeling\n",
    "\n",
    "sub_task_labeling.main(os='mac')"
   ]
  },
  {
   "cell_type": "code",
   "execution_count": null,
   "metadata": {},
   "outputs": [],
   "source": []
  }
 ],
 "metadata": {
  "kernelspec": {
   "display_name": "DL",
   "language": "python",
   "name": "python3"
  },
  "language_info": {
   "codemirror_mode": {
    "name": "ipython",
    "version": 3
   },
   "file_extension": ".py",
   "mimetype": "text/x-python",
   "name": "python",
   "nbconvert_exporter": "python",
   "pygments_lexer": "ipython3",
   "version": "3.11.5"
  }
 },
 "nbformat": 4,
 "nbformat_minor": 2
}
