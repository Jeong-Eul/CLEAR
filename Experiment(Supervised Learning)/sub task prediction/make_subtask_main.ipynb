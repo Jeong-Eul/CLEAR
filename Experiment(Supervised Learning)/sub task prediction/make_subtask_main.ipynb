{
 "cells": [
  {
   "cell_type": "code",
   "execution_count": 1,
   "metadata": {},
   "outputs": [
    {
     "name": "stderr",
     "output_type": "stream",
     "text": [
      "c:\\Users\\DAHS\\Desktop\\ECP_CONT\\ECP_SCL\\Experiment(Supervised Learning)\\sub task prediction\\sub_task_labeling.py:11: DtypeWarning: Columns (225) have mixed types. Specify dtype option on import or set low_memory=False.\n",
      "  mimic = pd.read_csv(mimic_path, compression = 'gzip')\n",
      "c:\\Users\\DAHS\\Desktop\\ECP_CONT\\ECP_SCL\\Experiment(Supervised Learning)\\sub task prediction\\sub_task_labeling.py:13: DtypeWarning: Columns (224) have mixed types. Specify dtype option on import or set low_memory=False.\n",
      "  eicu = pd.read_csv(eicu_path, compression = 'gzip')\n"
     ]
    },
    {
     "name": "stdout",
     "output_type": "stream",
     "text": [
      "Creating Mortality next 24h Task...\n",
      "Finish!\n",
      "--------------------------------------\n",
      "Creating Remain Length of stay Task...\n",
      "Finish!\n",
      "--------------------------------------\n",
      "Creating ARDS next 4, 8h Task...\n"
     ]
    },
    {
     "name": "stderr",
     "output_type": "stream",
     "text": [
      "100%|██████████| 639/639 [00:00<00:00, 1702.08it/s]\n",
      "100%|██████████| 708/708 [00:00<00:00, 1707.42it/s]\n",
      "100%|██████████| 639/639 [00:14<00:00, 43.34it/s]\n",
      "100%|██████████| 708/708 [00:14<00:00, 49.57it/s] \n",
      "100%|██████████| 639/639 [00:09<00:00, 66.20it/s]\n",
      "100%|██████████| 708/708 [00:08<00:00, 84.22it/s] \n"
     ]
    },
    {
     "name": "stdout",
     "output_type": "stream",
     "text": [
      "Finish!\n",
      "--------------------------------------\n",
      "Creating SIC next 4, 8h Task...\n"
     ]
    },
    {
     "name": "stderr",
     "output_type": "stream",
     "text": [
      "100%|██████████| 477/477 [00:05<00:00, 84.55it/s] \n",
      "100%|██████████| 341/341 [00:03<00:00, 101.77it/s]\n",
      "100%|██████████| 477/477 [00:08<00:00, 58.42it/s]\n",
      "100%|██████████| 341/341 [00:04<00:00, 72.13it/s] \n",
      "100%|██████████| 477/477 [00:07<00:00, 59.95it/s]\n",
      "100%|██████████| 341/341 [00:04<00:00, 70.68it/s] \n"
     ]
    },
    {
     "name": "stdout",
     "output_type": "stream",
     "text": [
      "Finish!\n",
      "--------------------------------------\n"
     ]
    },
    {
     "ename": "",
     "evalue": "",
     "output_type": "error",
     "traceback": [
      "\u001b[1;31mThe Kernel crashed while executing code in the current cell or a previous cell. \n",
      "\u001b[1;31mPlease review the code in the cell(s) to identify a possible cause of the failure. \n",
      "\u001b[1;31mClick <a href='https://aka.ms/vscodeJupyterKernelCrash'>here</a> for more info. \n",
      "\u001b[1;31mView Jupyter <a href='command:jupyter.viewOutput'>log</a> for further details."
     ]
    }
   ],
   "source": [
    "import pandas as pd\n",
    "import numpy as np\n",
    "\n",
    "import sub_task_labeling\n",
    "\n",
    "sub_task_labeling.main()"
   ]
  }
 ],
 "metadata": {
  "kernelspec": {
   "display_name": "DL",
   "language": "python",
   "name": "python3"
  },
  "language_info": {
   "codemirror_mode": {
    "name": "ipython",
    "version": 3
   },
   "file_extension": ".py",
   "mimetype": "text/x-python",
   "name": "python",
   "nbconvert_exporter": "python",
   "pygments_lexer": "ipython3",
   "version": "3.9.16"
  }
 },
 "nbformat": 4,
 "nbformat_minor": 2
}
