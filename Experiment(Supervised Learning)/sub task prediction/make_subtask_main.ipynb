{
 "cells": [
  {
   "cell_type": "code",
   "execution_count": 1,
   "metadata": {},
   "outputs": [
    {
     "name": "stderr",
     "output_type": "stream",
     "text": [
      "/Users/gwonjeong-eul/Desktop/ecp-scl-macbook/ECP_SCL/Experiment(Supervised Learning)/sub task prediction/sub_task_labeling.py:29: DtypeWarning: Columns (226) have mixed types. Specify dtype option on import or set low_memory=False.\n",
      "  mimic = pd.read_csv(mimic_path, compression = 'gzip')\n",
      "/Users/gwonjeong-eul/Desktop/ecp-scl-macbook/ECP_SCL/Experiment(Supervised Learning)/sub task prediction/sub_task_labeling.py:32: DtypeWarning: Columns (225) have mixed types. Specify dtype option on import or set low_memory=False.\n",
      "  eicu = pd.read_csv(eicu_path, compression = 'gzip')\n"
     ]
    },
    {
     "name": "stdout",
     "output_type": "stream",
     "text": [
      "Creating Mortality next 24h Task...\n",
      "Finish!\n",
      "--------------------------------------\n",
      "Creating Remain Length of stay Task...\n",
      "Finish!\n",
      "--------------------------------------\n",
      "Creating ARDS next 4, 8h Task...\n"
     ]
    },
    {
     "name": "stderr",
     "output_type": "stream",
     "text": [
      "100%|██████████| 3640/3640 [00:01<00:00, 2396.33it/s]\n",
      "100%|██████████| 1598/1598 [00:00<00:00, 2754.16it/s]\n",
      "100%|██████████| 3640/3640 [00:31<00:00, 114.65it/s]\n",
      "100%|██████████| 1598/1598 [00:17<00:00, 91.17it/s] \n",
      "100%|██████████| 3640/3640 [00:32<00:00, 111.34it/s]\n",
      "100%|██████████| 1598/1598 [00:17<00:00, 91.29it/s] \n"
     ]
    },
    {
     "name": "stdout",
     "output_type": "stream",
     "text": [
      "Finish!\n",
      "--------------------------------------\n",
      "Creating SIC next 4, 8h Task...\n"
     ]
    },
    {
     "name": "stderr",
     "output_type": "stream",
     "text": [
      "100%|██████████| 1861/1861 [00:15<00:00, 120.72it/s]\n",
      "100%|██████████| 930/930 [00:07<00:00, 117.83it/s]\n",
      "100%|██████████| 1861/1861 [00:21<00:00, 85.72it/s] \n",
      "100%|██████████| 930/930 [00:11<00:00, 83.68it/s] \n",
      "100%|██████████| 1861/1861 [00:21<00:00, 88.04it/s] \n",
      "100%|██████████| 930/930 [00:11<00:00, 83.14it/s] \n"
     ]
    },
    {
     "name": "stdout",
     "output_type": "stream",
     "text": [
      "Finish!\n",
      "--------------------------------------\n"
     ]
    }
   ],
   "source": [
    "import pandas as pd\n",
    "import numpy as np\n",
    "\n",
    "import sub_task_labeling\n",
    "\n",
    "sub_task_labeling.main(os='mac')"
   ]
  },
  {
   "cell_type": "code",
   "execution_count": null,
   "metadata": {},
   "outputs": [],
   "source": []
  }
 ],
 "metadata": {
  "kernelspec": {
   "display_name": "DL",
   "language": "python",
   "name": "python3"
  },
  "language_info": {
   "codemirror_mode": {
    "name": "ipython",
    "version": 3
   },
   "file_extension": ".py",
   "mimetype": "text/x-python",
   "name": "python",
   "nbconvert_exporter": "python",
   "pygments_lexer": "ipython3",
   "version": "3.11.5"
  }
 },
 "nbformat": 4,
 "nbformat_minor": 2
}
