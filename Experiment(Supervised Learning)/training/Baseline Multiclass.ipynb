{
 "cells": [
  {
   "cell_type": "code",
   "execution_count": 24,
   "metadata": {},
   "outputs": [
    {
     "data": {
      "text/plain": [
       "<module 'Multiclass_evaluation' from 'c:\\\\Users/DAHS/Desktop/ECP_CONT/ECP_SCL/Experiment(Supervised Learning)/evaluation\\\\Multiclass_evaluation.py'>"
      ]
     },
     "execution_count": 24,
     "metadata": {},
     "output_type": "execute_result"
    }
   ],
   "source": [
    "import pandas as pd\n",
    "import numpy as np\n",
    "import time\n",
    "import sys\n",
    "\n",
    "from sklearn.metrics import accuracy_score\n",
    "from sklearn.metrics import precision_score\n",
    "from sklearn.metrics import recall_score\n",
    "\n",
    "from lightgbm import LGBMClassifier\n",
    "from sklearn.linear_model import LogisticRegression  \n",
    "from sklearn import svm\n",
    "\n",
    "module_path='/Users/DAHS/Desktop/ECP_CONT/ECP_SCL/Cohort_selection/'\n",
    "if module_path not in sys.path:\n",
    "    sys.path.append(module_path)\n",
    "\n",
    "from cohort_loader import *\n",
    "\n",
    "module_path='/Users/DAHS/Desktop/ECP_CONT/ECP_SCL/Experiment(Supervised Learning)/evaluation/'\n",
    "if module_path not in sys.path:\n",
    "    sys.path.append(module_path)\n",
    "    \n",
    "import split\n",
    "from imp import reload\n",
    "reload(split)\n",
    "\n",
    "import Multiclass_evaluation\n",
    "reload(Multiclass_evaluation)"
   ]
  },
  {
   "cell_type": "code",
   "execution_count": 2,
   "metadata": {},
   "outputs": [
    {
     "name": "stdout",
     "output_type": "stream",
     "text": [
      "========== 데이터셋 분할 정보 ==========\n",
      "데이터셋 비율: 학습 = 0.90, 테스트 = 0.10\n",
      "학습셋 클래스 비율: 1.0    473941\n",
      "2.0      5128\n",
      "3.0     11145\n",
      "4.0     19613\n",
      "Name: Case, dtype: int64\n",
      "테스트셋 클래스 비율: 1.0    53103\n",
      "2.0      512\n",
      "3.0      873\n",
      "4.0     1590\n",
      "Name: Case, dtype: int64\n",
      "--------------------------------------\n",
      "========== 클래스 비율 ==========\n",
      "학습셋 클래스 비율: 0.93:0.01:0.02:0.04\n",
      "테스트셋 클래스 비율: 0.95:0.01:0.02:0.03\n",
      "--------------------------------------\n",
      "========== 환자 및 체류 정보 ==========\n",
      "학습셋 환자 수: 2907\n",
      "테스트셋 환자 수: 329\n",
      "학습셋 체류 수: 2961\n",
      "테스트셋 체류 수: 330\n",
      "--------------------------------------\n",
      "========== 실험 설정 ==========\n",
      "분할 시드: 9040\n",
      "학습 비율: 0.9\n",
      "임계값: 0.05\n",
      "--------------------------------------\n",
      "========== 실행 결과 ==========\n",
      "총 소요 시간(초): 0.38\n",
      "시도한 시행 횟수: 0\n"
     ]
    }
   ],
   "source": [
    "mimic_path = '/Users/DAHS/Desktop/ECP_CONT/ECP_SCL/Case Labeling/mimic_analysis.csv.gz'\n",
    "eicu_path = '/Users/DAHS/Desktop/ECP_CONT/ECP_SCL/Case Labeling/eicu_analysis.csv.gz'\n",
    "\n",
    "mimic = pd.read_csv(mimic_path, compression = 'gzip')\n",
    "mimic = mimic.drop('Shock_next_12h', axis = 1)\n",
    "\n",
    "eicu = pd.read_csv(eicu_path, compression = 'gzip')\n",
    "eicu = eicu.drop('Shock_next_12h', axis = 1)\n",
    "\n",
    "\n",
    "dataset_mimic = mimic[~(mimic['gender']==2)].reset_index(drop=True)\n",
    "\n",
    "dataset_mimic.replace([np.inf, -np.inf], np.nan, inplace=True)\n",
    "dataset_mimic.fillna(0, inplace=True) \n",
    "dataset_mimic = dataset_mimic[~(dataset_mimic['Case']=='event')]\n",
    "\n",
    "eventset = mimic[(mimic['Case']=='event')].reset_index(drop=True)\n",
    "dataset_mimic['Case'] = pd.to_numeric(dataset_mimic['Case'], errors='coerce')\n",
    "\n",
    "mimic_train, mimic_valid = data_split(dataset_mimic, 9040, 0.9, Threshold=0.05, n_trial=1, mode = 'mimic')\n",
    "\n",
    "\n",
    "dataset_eicu = eicu[~(eicu['gender']==2)].reset_index(drop=True)\n",
    "dataset_eicu.replace([np.inf, -np.inf], np.nan, inplace=True)\n",
    "dataset_eicu.fillna(0, inplace=True) \n",
    "\n",
    "eicu_test = dataset_eicu[~(dataset_eicu['Case']=='event')]\n",
    "event_eicu = dataset_eicu[(dataset_eicu['Case']=='event')]\n",
    "eicu_test['Case'] = pd.to_numeric(eicu_test['Case'], errors='coerce')"
   ]
  },
  {
   "cell_type": "code",
   "execution_count": 18,
   "metadata": {},
   "outputs": [],
   "source": [
    "X_train, y_train, _ = split.split_X_Y(mimic_train, mode = 'mimic')\n",
    "X_valid, y_valid, valid_output = split.split_X_Y(mimic_valid, mode = 'mimic')\n",
    "X_test, y_test, test_output = split.split_X_Y(eicu_test, mode = 'eicu')"
   ]
  },
  {
   "cell_type": "code",
   "execution_count": 183,
   "metadata": {},
   "outputs": [],
   "source": [
    "# from sklearn.preprocessing import MinMaxScaler\n",
    "\n",
    "# scaler = MinMaxScaler()\n",
    "# X_num_scaled = scaler.fit_transform(X_train_case1_2)\n",
    "# X_train_case1_2_scaled = pd.DataFrame(X_num_scaled,columns = X_train_case1_2.columns)\n",
    "\n",
    "# X_valid_case1_2_scaled = scaler.transform(X_valid_case1_2)\n",
    "# X_valid_case1_2_scaled = pd.DataFrame(X_valid_case1_2_scaled,columns = X_valid_case1_2.columns)\n",
    "\n",
    "# X_test_case1_2_scaled = scaler.transform(X_test_case1_2)\n",
    "# X_test_case1_2_scaled = pd.DataFrame(X_test_case1_2_scaled,columns = X_test_case1_2.columns)"
   ]
  },
  {
   "cell_type": "code",
   "execution_count": 25,
   "metadata": {},
   "outputs": [
    {
     "name": "stdout",
     "output_type": "stream",
     "text": [
      "======================================================================\n",
      "|MIMIC-Validation|\n"
     ]
    },
    {
     "data": {
      "text/html": [
       "<div>\n",
       "<style scoped>\n",
       "    .dataframe tbody tr th:only-of-type {\n",
       "        vertical-align: middle;\n",
       "    }\n",
       "\n",
       "    .dataframe tbody tr th {\n",
       "        vertical-align: top;\n",
       "    }\n",
       "\n",
       "    .dataframe thead th {\n",
       "        text-align: right;\n",
       "    }\n",
       "</style>\n",
       "<table border=\"1\" class=\"dataframe\">\n",
       "  <thead>\n",
       "    <tr style=\"text-align: right;\">\n",
       "      <th></th>\n",
       "      <th>Model</th>\n",
       "      <th>Accuracy</th>\n",
       "      <th>Case 1 Score</th>\n",
       "      <th>Case 2 Score</th>\n",
       "      <th>Case 3 Score</th>\n",
       "      <th>Case 4 Score</th>\n",
       "    </tr>\n",
       "  </thead>\n",
       "  <tbody>\n",
       "    <tr>\n",
       "      <th>0</th>\n",
       "      <td>xgb</td>\n",
       "      <td>0.986572</td>\n",
       "      <td>0.9980</td>\n",
       "      <td>0.7436</td>\n",
       "      <td>0.8695</td>\n",
       "      <td>0.9292</td>\n",
       "    </tr>\n",
       "    <tr>\n",
       "      <th>1</th>\n",
       "      <td>lgbm</td>\n",
       "      <td>0.979493</td>\n",
       "      <td>0.9980</td>\n",
       "      <td>0.6162</td>\n",
       "      <td>0.6086</td>\n",
       "      <td>0.8184</td>\n",
       "    </tr>\n",
       "    <tr>\n",
       "      <th>2</th>\n",
       "      <td>rf</td>\n",
       "      <td>0.984504</td>\n",
       "      <td>0.9998</td>\n",
       "      <td>0.4710</td>\n",
       "      <td>0.7447</td>\n",
       "      <td>0.8820</td>\n",
       "    </tr>\n",
       "    <tr>\n",
       "      <th>3</th>\n",
       "      <td>dt</td>\n",
       "      <td>0.955455</td>\n",
       "      <td>0.9680</td>\n",
       "      <td>0.4785</td>\n",
       "      <td>0.7698</td>\n",
       "      <td>0.8706</td>\n",
       "    </tr>\n",
       "  </tbody>\n",
       "</table>\n",
       "</div>"
      ],
      "text/plain": [
       "  Model  Accuracy  Case 1 Score  Case 2 Score  Case 3 Score  Case 4 Score\n",
       "0   xgb  0.986572        0.9980        0.7436        0.8695        0.9292\n",
       "1  lgbm  0.979493        0.9980        0.6162        0.6086        0.8184\n",
       "2    rf  0.984504        0.9998        0.4710        0.7447        0.8820\n",
       "3    dt  0.955455        0.9680        0.4785        0.7698        0.8706"
      ]
     },
     "metadata": {},
     "output_type": "display_data"
    },
    {
     "name": "stdout",
     "output_type": "stream",
     "text": [
      "----------------------------------------------------------------------\n",
      "|eICU-test|\n"
     ]
    },
    {
     "data": {
      "text/html": [
       "<div>\n",
       "<style scoped>\n",
       "    .dataframe tbody tr th:only-of-type {\n",
       "        vertical-align: middle;\n",
       "    }\n",
       "\n",
       "    .dataframe tbody tr th {\n",
       "        vertical-align: top;\n",
       "    }\n",
       "\n",
       "    .dataframe thead th {\n",
       "        text-align: right;\n",
       "    }\n",
       "</style>\n",
       "<table border=\"1\" class=\"dataframe\">\n",
       "  <thead>\n",
       "    <tr style=\"text-align: right;\">\n",
       "      <th></th>\n",
       "      <th>Model</th>\n",
       "      <th>Accuracy</th>\n",
       "      <th>Case 1 Score</th>\n",
       "      <th>Case 2 Score</th>\n",
       "      <th>Case 3 Score</th>\n",
       "      <th>Case 4 Score</th>\n",
       "    </tr>\n",
       "  </thead>\n",
       "  <tbody>\n",
       "    <tr>\n",
       "      <th>0</th>\n",
       "      <td>xgb</td>\n",
       "      <td>0.989205</td>\n",
       "      <td>0.9974</td>\n",
       "      <td>0.5265</td>\n",
       "      <td>0.7750</td>\n",
       "      <td>0.9466</td>\n",
       "    </tr>\n",
       "    <tr>\n",
       "      <th>1</th>\n",
       "      <td>lgbm</td>\n",
       "      <td>0.983159</td>\n",
       "      <td>0.9940</td>\n",
       "      <td>0.4481</td>\n",
       "      <td>0.5161</td>\n",
       "      <td>0.8927</td>\n",
       "    </tr>\n",
       "    <tr>\n",
       "      <th>2</th>\n",
       "      <td>rf</td>\n",
       "      <td>0.988475</td>\n",
       "      <td>0.9995</td>\n",
       "      <td>0.2535</td>\n",
       "      <td>0.4948</td>\n",
       "      <td>0.9096</td>\n",
       "    </tr>\n",
       "    <tr>\n",
       "      <th>3</th>\n",
       "      <td>dt</td>\n",
       "      <td>0.890815</td>\n",
       "      <td>0.8975</td>\n",
       "      <td>0.3936</td>\n",
       "      <td>0.5744</td>\n",
       "      <td>0.8745</td>\n",
       "    </tr>\n",
       "  </tbody>\n",
       "</table>\n",
       "</div>"
      ],
      "text/plain": [
       "  Model  Accuracy  Case 1 Score  Case 2 Score  Case 3 Score  Case 4 Score\n",
       "0   xgb  0.989205        0.9974        0.5265        0.7750        0.9466\n",
       "1  lgbm  0.983159        0.9940        0.4481        0.5161        0.8927\n",
       "2    rf  0.988475        0.9995        0.2535        0.4948        0.9096\n",
       "3    dt  0.890815        0.8975        0.3936        0.5744        0.8745"
      ]
     },
     "metadata": {},
     "output_type": "display_data"
    },
    {
     "name": "stdout",
     "output_type": "stream",
     "text": [
      "======================================================================\n"
     ]
    }
   ],
   "source": [
    "Multiclass_evaluation.create_analysis(eventset, event_eicu, X_train, y_train, X_valid, X_test, valid_output, test_output)"
   ]
  },
  {
   "cell_type": "code",
   "execution_count": 26,
   "metadata": {},
   "outputs": [
    {
     "name": "stdout",
     "output_type": "stream",
     "text": [
      "sooho\n"
     ]
    }
   ],
   "source": [
    "print('sooho')"
   ]
  },
  {
   "cell_type": "code",
   "execution_count": null,
   "metadata": {},
   "outputs": [],
   "source": [
    "dasdasdadas"
   ]
  }
 ],
 "metadata": {
  "kernelspec": {
   "display_name": "pycaret",
   "language": "python",
   "name": "python3"
  },
  "language_info": {
   "codemirror_mode": {
    "name": "ipython",
    "version": 3
   },
   "file_extension": ".py",
   "mimetype": "text/x-python",
   "name": "python",
   "nbconvert_exporter": "python",
   "pygments_lexer": "ipython3",
   "version": "3.8.18"
  }
 },
 "nbformat": 4,
 "nbformat_minor": 2
}
