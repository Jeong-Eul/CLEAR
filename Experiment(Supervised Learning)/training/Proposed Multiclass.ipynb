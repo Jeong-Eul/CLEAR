{
 "cells": [
  {
   "cell_type": "code",
   "execution_count": 1,
   "metadata": {},
   "outputs": [
    {
     "name": "stderr",
     "output_type": "stream",
     "text": [
      "c:\\Users\\DAHS\\anaconda3\\envs\\DL\\lib\\site-packages\\tqdm\\auto.py:21: TqdmWarning: IProgress not found. Please update jupyter and ipywidgets. See https://ipywidgets.readthedocs.io/en/stable/user_install.html\n",
      "  from .autonotebook import tqdm as notebook_tqdm\n"
     ]
    },
    {
     "name": "stdout",
     "output_type": "stream",
     "text": [
      "========== 데이터셋 분할 정보 ==========\n",
      "데이터셋 비율: 학습 = 0.90, 테스트 = 0.10\n",
      "학습셋 클래스 비율: Case\n",
      "1.0    473941\n",
      "2.0      5128\n",
      "3.0     11145\n",
      "4.0     19613\n",
      "Name: count, dtype: int64\n",
      "테스트셋 클래스 비율: Case\n",
      "1.0    53103\n",
      "2.0      512\n",
      "3.0      873\n",
      "4.0     1590\n",
      "Name: count, dtype: int64\n",
      "--------------------------------------\n",
      "========== 클래스 비율 ==========\n",
      "학습셋 클래스 비율: 0.93:0.01:0.02:0.04\n",
      "테스트셋 클래스 비율: 0.95:0.01:0.02:0.03\n",
      "--------------------------------------\n",
      "========== 환자 및 체류 정보 ==========\n",
      "학습셋 환자 수: 2907\n",
      "테스트셋 환자 수: 329\n",
      "학습셋 체류 수: 2961\n",
      "테스트셋 체류 수: 330\n",
      "--------------------------------------\n",
      "========== 실험 설정 ==========\n",
      "분할 시드: 9040\n",
      "학습 비율: 0.9\n",
      "임계값: 0.05\n",
      "--------------------------------------\n",
      "========== 실행 결과 ==========\n",
      "총 소요 시간(초): 0.39\n",
      "시도한 시행 횟수: 0\n"
     ]
    }
   ],
   "source": [
    "import pandas as pd\n",
    "import numpy as np\n",
    "import time\n",
    "import sys\n",
    "\n",
    "from sklearn.metrics import accuracy_score\n",
    "from sklearn.metrics import precision_score\n",
    "from sklearn.metrics import recall_score\n",
    "\n",
    "from lightgbm import LGBMClassifier\n",
    "from sklearn.linear_model import LogisticRegression  \n",
    "from sklearn import svm\n",
    "\n",
    "module_path='/Users/DAHS/Desktop/ECP_CONT/ECP_SCL/Experiment(Supervised Learning)/evaluation/'\n",
    "if module_path not in sys.path:\n",
    "    sys.path.append(module_path)\n",
    "    \n",
    "from integrating_embedding import *\n",
    "\n",
    "import integrating_embedding\n",
    "from imp import reload\n",
    "reload(integrating_embedding)\n",
    "\n",
    "from analysis_cohort import *\n",
    "\n",
    "import analysis_cohort\n",
    "from imp import reload\n",
    "reload(analysis_cohort)\n",
    "\n",
    "emb_path_trn_mimic = '/Users/DAHS/Desktop/ECP_CONT/ECP_SCL/Cohort_selection/Train/result/emb_train_new_version.npy'\n",
    "emb_path_vld_mimic = '/Users/DAHS/Desktop/ECP_CONT/ECP_SCL/Cohort_selection/Train/result/emb_valid_new_version.npy'\n",
    "emb_path_event_mimic = '/Users/DAHS/Desktop/ECP_CONT/ECP_SCL/Cohort_selection/Train/result/emb_event_new_version.npy'\n",
    "\n",
    "emb_path_trn_eicu = '/Users/DAHS/Desktop/ECP_CONT/ECP_SCL/Cohort_selection/Train/result/emb_eicu_new_version.npy'\n",
    "\n",
    "mimic_path = '/Users/DAHS/Desktop/ECP_CONT/ECP_SCL/Case Labeling/mimic_analysis.csv.gz'\n",
    "eicu_path = '/Users/DAHS/Desktop/ECP_CONT/ECP_SCL/Case Labeling/eicu_analysis.csv.gz'\n",
    "\n",
    "mimic_train_emb, mimic_valid_emb, event, event_emb = integrating_embedding.integrating(mimic_path, emb_path_trn_mimic, emb_path_vld_mimic, emb_path_event_mimic, 'mimic')\n",
    "eicu_test_emb, event_eicu = integrating_embedding.integrating(eicu_path, emb_path_trn_eicu, _, _, 'eicu')"
   ]
  },
  {
   "cell_type": "code",
   "execution_count": 108,
   "metadata": {},
   "outputs": [
    {
     "data": {
      "text/plain": [
       "<module 'Multiclass_evaluation' from 'c:\\\\Users/DAHS/Desktop/ECP_CONT/ECP_SCL/Experiment(Supervised Learning)/evaluation\\\\Multiclass_evaluation.py'>"
      ]
     },
     "execution_count": 108,
     "metadata": {},
     "output_type": "execute_result"
    }
   ],
   "source": [
    "module_path='/Users/DAHS/Desktop/ECP_CONT/ECP_SCL/Experiment(Supervised Learning)/evaluation/'\n",
    "if module_path not in sys.path:\n",
    "    sys.path.append(module_path)\n",
    "\n",
    "import split\n",
    "from imp import reload\n",
    "reload(split)\n",
    "\n",
    "import Multiclass_evaluation\n",
    "reload(Multiclass_evaluation)"
   ]
  },
  {
   "cell_type": "code",
   "execution_count": 104,
   "metadata": {},
   "outputs": [],
   "source": [
    "X_train, y_train, _ = split.split_X_Y(mimic_train_emb, mode = 'mimic')\n",
    "X_valid, y_valid, valid_output = split.split_X_Y(mimic_valid_emb, mode = 'mimic')\n",
    "X_test, y_test, test_output = split.split_X_Y(eicu_test_emb, mode = 'eicu')"
   ]
  },
  {
   "cell_type": "code",
   "execution_count": 109,
   "metadata": {},
   "outputs": [
    {
     "name": "stdout",
     "output_type": "stream",
     "text": [
      "======================================================================\n",
      "|MIMIC-Validation|\n"
     ]
    },
    {
     "data": {
      "text/html": [
       "<div>\n",
       "<style scoped>\n",
       "    .dataframe tbody tr th:only-of-type {\n",
       "        vertical-align: middle;\n",
       "    }\n",
       "\n",
       "    .dataframe tbody tr th {\n",
       "        vertical-align: top;\n",
       "    }\n",
       "\n",
       "    .dataframe thead th {\n",
       "        text-align: right;\n",
       "    }\n",
       "</style>\n",
       "<table border=\"1\" class=\"dataframe\">\n",
       "  <thead>\n",
       "    <tr style=\"text-align: right;\">\n",
       "      <th></th>\n",
       "      <th>Model</th>\n",
       "      <th>Accuracy</th>\n",
       "      <th>Case 1 Score</th>\n",
       "      <th>Case 2 Score</th>\n",
       "      <th>Case 3 Score</th>\n",
       "      <th>Case 4 Score</th>\n",
       "    </tr>\n",
       "  </thead>\n",
       "  <tbody>\n",
       "    <tr>\n",
       "      <th>0</th>\n",
       "      <td>xgb</td>\n",
       "      <td>0.984575</td>\n",
       "      <td>0.9955</td>\n",
       "      <td>0.8699</td>\n",
       "      <td>0.8504</td>\n",
       "      <td>0.9180</td>\n",
       "    </tr>\n",
       "    <tr>\n",
       "      <th>1</th>\n",
       "      <td>lgbm</td>\n",
       "      <td>0.980117</td>\n",
       "      <td>0.9943</td>\n",
       "      <td>0.7682</td>\n",
       "      <td>0.7844</td>\n",
       "      <td>0.8514</td>\n",
       "    </tr>\n",
       "    <tr>\n",
       "      <th>2</th>\n",
       "      <td>rf</td>\n",
       "      <td>0.985057</td>\n",
       "      <td>0.9963</td>\n",
       "      <td>0.8291</td>\n",
       "      <td>0.8457</td>\n",
       "      <td>0.9150</td>\n",
       "    </tr>\n",
       "    <tr>\n",
       "      <th>3</th>\n",
       "      <td>dt</td>\n",
       "      <td>0.974072</td>\n",
       "      <td>0.9885</td>\n",
       "      <td>0.7430</td>\n",
       "      <td>0.7167</td>\n",
       "      <td>0.8519</td>\n",
       "    </tr>\n",
       "  </tbody>\n",
       "</table>\n",
       "</div>"
      ],
      "text/plain": [
       "  Model  Accuracy  Case 1 Score  Case 2 Score  Case 3 Score  Case 4 Score\n",
       "0   xgb  0.984575        0.9955        0.8699        0.8504        0.9180\n",
       "1  lgbm  0.980117        0.9943        0.7682        0.7844        0.8514\n",
       "2    rf  0.985057        0.9963        0.8291        0.8457        0.9150\n",
       "3    dt  0.974072        0.9885        0.7430        0.7167        0.8519"
      ]
     },
     "metadata": {},
     "output_type": "display_data"
    },
    {
     "name": "stdout",
     "output_type": "stream",
     "text": [
      "----------------------------------------------------------------------\n",
      "|eICU-test|\n"
     ]
    },
    {
     "data": {
      "text/html": [
       "<div>\n",
       "<style scoped>\n",
       "    .dataframe tbody tr th:only-of-type {\n",
       "        vertical-align: middle;\n",
       "    }\n",
       "\n",
       "    .dataframe tbody tr th {\n",
       "        vertical-align: top;\n",
       "    }\n",
       "\n",
       "    .dataframe thead th {\n",
       "        text-align: right;\n",
       "    }\n",
       "</style>\n",
       "<table border=\"1\" class=\"dataframe\">\n",
       "  <thead>\n",
       "    <tr style=\"text-align: right;\">\n",
       "      <th></th>\n",
       "      <th>Model</th>\n",
       "      <th>Accuracy</th>\n",
       "      <th>Case 1 Score</th>\n",
       "      <th>Case 2 Score</th>\n",
       "      <th>Case 3 Score</th>\n",
       "      <th>Case 4 Score</th>\n",
       "    </tr>\n",
       "  </thead>\n",
       "  <tbody>\n",
       "    <tr>\n",
       "      <th>0</th>\n",
       "      <td>xgb</td>\n",
       "      <td>0.989507</td>\n",
       "      <td>0.9971</td>\n",
       "      <td>0.3182</td>\n",
       "      <td>0.8686</td>\n",
       "      <td>0.9644</td>\n",
       "    </tr>\n",
       "    <tr>\n",
       "      <th>1</th>\n",
       "      <td>lgbm</td>\n",
       "      <td>0.973362</td>\n",
       "      <td>0.9921</td>\n",
       "      <td>0.3916</td>\n",
       "      <td>0.4863</td>\n",
       "      <td>0.6024</td>\n",
       "    </tr>\n",
       "    <tr>\n",
       "      <th>2</th>\n",
       "      <td>rf</td>\n",
       "      <td>0.991242</td>\n",
       "      <td>0.9989</td>\n",
       "      <td>0.1952</td>\n",
       "      <td>0.8989</td>\n",
       "      <td>0.9716</td>\n",
       "    </tr>\n",
       "    <tr>\n",
       "      <th>3</th>\n",
       "      <td>dt</td>\n",
       "      <td>0.895800</td>\n",
       "      <td>0.9036</td>\n",
       "      <td>0.2842</td>\n",
       "      <td>0.5776</td>\n",
       "      <td>0.8656</td>\n",
       "    </tr>\n",
       "  </tbody>\n",
       "</table>\n",
       "</div>"
      ],
      "text/plain": [
       "  Model  Accuracy  Case 1 Score  Case 2 Score  Case 3 Score  Case 4 Score\n",
       "0   xgb  0.989507        0.9971        0.3182        0.8686        0.9644\n",
       "1  lgbm  0.973362        0.9921        0.3916        0.4863        0.6024\n",
       "2    rf  0.991242        0.9989        0.1952        0.8989        0.9716\n",
       "3    dt  0.895800        0.9036        0.2842        0.5776        0.8656"
      ]
     },
     "metadata": {},
     "output_type": "display_data"
    },
    {
     "name": "stdout",
     "output_type": "stream",
     "text": [
      "======================================================================\n"
     ]
    }
   ],
   "source": [
    "Multiclass_evaluation.create_analysis(event, event_eicu, X_train, y_train, X_valid, X_test, valid_output, test_output)"
   ]
  },
  {
   "cell_type": "code",
   "execution_count": null,
   "metadata": {},
   "outputs": [],
   "source": [
    "#class 갯수가 많은 애들은 contrastive 쓰나 마나 똑같음 -> 원본데이터로도 충분히 정보가 있음\n",
    "#하지만 contrastive 를 씀으로써 맞추기 힘든 case 2를 잘 맞출 수 있게 됨 -> 모든 모델에서 모두 상승함\n",
    "# contastive learning이 데이터 불균형 상황이더라도, 소수 클래스에 대해서 적합을 잘할 수 있음\n",
    "\n",
    "# 이를 바탕으로 쇼크 모니터링 시스템을 개발함\n",
    "# 베스 이스라엘 뿐 아니라, 다른 다양한 병원에서도 잘 적합하는 시스템을 개발하기 위해 본 연구에서는 eicu 데이터를 활용\n",
    "# 따라서 eicu 2014를 이용해 시스템을 개발하고, 성능 평가를 위해 2015 데이터를 활용\n",
    "# 가장 성능이 좋았던 xgbm 을 기반으로 시스템을 개발"
   ]
  }
 ],
 "metadata": {
  "kernelspec": {
   "display_name": "pycaret",
   "language": "python",
   "name": "python3"
  },
  "language_info": {
   "codemirror_mode": {
    "name": "ipython",
    "version": 3
   },
   "file_extension": ".py",
   "mimetype": "text/x-python",
   "name": "python",
   "nbconvert_exporter": "python",
   "pygments_lexer": "ipython3",
   "version": "3.9.16"
  }
 },
 "nbformat": 4,
 "nbformat_minor": 2
}
