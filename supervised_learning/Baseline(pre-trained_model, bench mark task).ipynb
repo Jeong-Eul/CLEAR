{
 "cells": [
  {
   "cell_type": "code",
   "execution_count": 1,
   "metadata": {},
   "outputs": [],
   "source": [
    "import pandas as pd\n",
    "import numpy as np\n",
    "import time\n",
    "from pycaret.classification import *"
   ]
  },
  {
   "cell_type": "code",
   "execution_count": 2,
   "metadata": {},
   "outputs": [],
   "source": [
    "def check_class_ratio(dataset):\n",
    "    class_ratio = round(np.mean(dataset.label), 2)\n",
    "    return class_ratio\n",
    "\n",
    "def random_split_stay(df, train_ratio, Threshold, n_trial):\n",
    "    data = df.copy()\n",
    "    \n",
    "    search_time = time.time()\n",
    "    \n",
    "    for T in range(n_trial):\n",
    "        array = data.subject_id.unique()\n",
    "        \n",
    "        # seed = np.random.randint(0, 10000, 1)\n",
    "        seed = 3582\n",
    "        np.random.seed(seed) \n",
    "        np.random.shuffle(array)\n",
    "\n",
    "\n",
    "        split_point = int(train_ratio * len(array))\n",
    "        stay_for_train, stay_for_test = np.split(array, [split_point])\n",
    "\n",
    "        \n",
    "\n",
    "        condition_train = data.subject_id.isin(stay_for_train)\n",
    "        holdout_train = data[condition_train]\n",
    "\n",
    "        condition_test = data.subject_id.isin(stay_for_test)\n",
    "        holdout_test = data[condition_test]\n",
    "        \n",
    "        # holdout_test = holdout_test.sort_values(by=['subject_id',  'stay_id', 'Time_since_ICU_admission']) \n",
    "        # holdout_train = holdout_train.sort_values(by=['subject_id',  'stay_id', 'Time_since_ICU_admission']) \n",
    "\n",
    "        train_class_ratio  = check_class_ratio(holdout_train)\n",
    "        test_class_ratio  = check_class_ratio(holdout_test)\n",
    "                \n",
    "            \n",
    "        if (train_class_ratio - test_class_ratio) >= Threshold:\n",
    "            \n",
    "            break  # 클래스 비율이 모두 threshold 이상일 경우 반복문 종료\n",
    "        \n",
    "        if T % 100 == 0:\n",
    "            print('Trial: ', T)\n",
    "            \n",
    "        if T % 10000 == 0:\n",
    "        \n",
    "            Threshold = Threshold + 0.05\n",
    "            print('Threshold 조정 + 0.05, 현재 한계값: {}'.format(Threshold))\n",
    "        \n",
    "        if T == 9999:\n",
    "            print('최대 Trial 달성, 분할 불가')\n",
    "        \n",
    "    train = holdout_train.copy()\n",
    "    test = holdout_test.copy()\n",
    "    search_time_end = time.time()\n",
    "    \n",
    "    trn_class1 = train.label.value_counts()[0]\n",
    "    trn_class2 = train.label.value_counts()[1]\n",
    "    \n",
    "    tes_class1 = test.label.value_counts()[0]\n",
    "    tes_class2 = test.label.value_counts()[1]\n",
    "\n",
    "    \n",
    "    \n",
    "    print('train set : test set = {} : {}'.format(train_ratio, 1-train_ratio))\n",
    "    print('Train set class: ', train.label.value_counts().sort_index())\n",
    "    print('Test set class: ', test.label.value_counts().sort_index())\n",
    "    print('-'*20)\n",
    "    print('Train class ratio: {}:{}'.format((trn_class1)/(trn_class1+trn_class2), (trn_class2)/(trn_class1+trn_class2)))\n",
    "    print('Test class ratio: {}:{}'.format((tes_class1)/(tes_class1+tes_class2), (tes_class2)/(tes_class1+tes_class2)))\n",
    "    print('-'*20)\n",
    "    print('Number of trainset patient:', len(train.subject_id.unique()))\n",
    "    print('Number of testset patient:', len(test.subject_id.unique()))\n",
    "    print('Number of trainset stay:', len(train.stay_id.unique()))\n",
    "    print('Number of testset stay:', len(test.stay_id.unique()))\n",
    "    print('-'*20)\n",
    "    print('Split seed: ',seed)\n",
    "    print('train ratio:', train_ratio)\n",
    "    print('Threshold:', Threshold)\n",
    "    print('-'*20)\n",
    "    print('총 소요 시간(초):{}'.format(search_time_end - search_time))\n",
    "    print('시도한 trial 수: ', T)\n",
    "    \n",
    "    return train, test, stay_for_train, stay_for_test"
   ]
  },
  {
   "cell_type": "code",
   "execution_count": 3,
   "metadata": {},
   "outputs": [],
   "source": [
    "dataset = pd.read_csv('/Users/DAHS/MIMIC-IV-Data-Pipeline/MIMIC_pipeline/Case Labeling/mimic_df.csv.gz', index_col = 0, compression='gzip')"
   ]
  },
  {
   "cell_type": "code",
   "execution_count": 4,
   "metadata": {},
   "outputs": [
    {
     "data": {
      "text/plain": [
       "20"
      ]
     },
     "execution_count": 4,
     "metadata": {},
     "output_type": "execute_result"
    }
   ],
   "source": [
    "import gc\n",
    "gc.collect()"
   ]
  },
  {
   "cell_type": "markdown",
   "metadata": {},
   "source": [
    "## Mortality"
   ]
  },
  {
   "cell_type": "code",
   "execution_count": 5,
   "metadata": {},
   "outputs": [],
   "source": [
    "mortality = pd.read_csv('/Users/DAHS/Desktop/circ_mimic_preprocessing_1day/data/cohort/cohort_icu_mortality_0_.csv.gz', index_col = 0, compression='gzip')"
   ]
  },
  {
   "cell_type": "code",
   "execution_count": 6,
   "metadata": {},
   "outputs": [],
   "source": [
    "mort_dict = dict(zip(mortality[['stay_id', 'label']].stay_id, mortality[['stay_id', 'label']].label))\n",
    "dataset['label'] = dataset['stay_id'].copy()\n",
    "dataset['label'] = dataset['label'].map(mort_dict)"
   ]
  },
  {
   "cell_type": "code",
   "execution_count": 7,
   "metadata": {},
   "outputs": [
    {
     "data": {
      "text/plain": [
       "0    1741624\n",
       "1     298419\n",
       "Name: label, dtype: int64"
      ]
     },
     "execution_count": 7,
     "metadata": {},
     "output_type": "execute_result"
    }
   ],
   "source": [
    "dataset.label.value_counts()"
   ]
  },
  {
   "cell_type": "code",
   "execution_count": 8,
   "metadata": {},
   "outputs": [
    {
     "name": "stdout",
     "output_type": "stream",
     "text": [
      "Trial:  0\n",
      "Threshold 조정 + 0.05, 현재 한계값: 0.1\n",
      "train set : test set = 0.7 : 0.30000000000000004\n",
      "Train set class:  0    1209558\n",
      "1     204287\n",
      "Name: label, dtype: int64\n",
      "Test set class:  0    532066\n",
      "1     94132\n",
      "Name: label, dtype: int64\n",
      "--------------------\n",
      "Train class ratio: 0.8555096209273294:0.14449037907267062\n",
      "Test class ratio: 0.8496769392428593:0.15032306075714072\n",
      "--------------------\n",
      "Number of trainset patient: 12918\n",
      "Number of testset patient: 5537\n",
      "Number of trainset stay: 14337\n",
      "Number of testset stay: 6212\n",
      "--------------------\n",
      "Split seed:  3582\n",
      "train ratio: 0.7\n",
      "Threshold: 0.1\n",
      "--------------------\n",
      "총 소요 시간(초):1.3889904022216797\n",
      "시도한 trial 수:  0\n"
     ]
    }
   ],
   "source": [
    "mimic_train_ori, mimic_valid_ori, trn_patient, val_patient = random_split_stay(dataset, 0.7, Threshold=0.05, n_trial=1) "
   ]
  },
  {
   "cell_type": "code",
   "execution_count": 9,
   "metadata": {},
   "outputs": [
    {
     "data": {
      "text/html": [
       "<style type=\"text/css\">\n",
       "#T_30e4b_row8_col1, #T_30e4b_row12_col1 {\n",
       "  background-color: lightgreen;\n",
       "}\n",
       "</style>\n",
       "<table id=\"T_30e4b\">\n",
       "  <thead>\n",
       "    <tr>\n",
       "      <th class=\"blank level0\" >&nbsp;</th>\n",
       "      <th id=\"T_30e4b_level0_col0\" class=\"col_heading level0 col0\" >Description</th>\n",
       "      <th id=\"T_30e4b_level0_col1\" class=\"col_heading level0 col1\" >Value</th>\n",
       "    </tr>\n",
       "  </thead>\n",
       "  <tbody>\n",
       "    <tr>\n",
       "      <th id=\"T_30e4b_level0_row0\" class=\"row_heading level0 row0\" >0</th>\n",
       "      <td id=\"T_30e4b_row0_col0\" class=\"data row0 col0\" >Session id</td>\n",
       "      <td id=\"T_30e4b_row0_col1\" class=\"data row0 col1\" >123</td>\n",
       "    </tr>\n",
       "    <tr>\n",
       "      <th id=\"T_30e4b_level0_row1\" class=\"row_heading level0 row1\" >1</th>\n",
       "      <td id=\"T_30e4b_row1_col0\" class=\"data row1 col0\" >Target</td>\n",
       "      <td id=\"T_30e4b_row1_col1\" class=\"data row1 col1\" >label</td>\n",
       "    </tr>\n",
       "    <tr>\n",
       "      <th id=\"T_30e4b_level0_row2\" class=\"row_heading level0 row2\" >2</th>\n",
       "      <td id=\"T_30e4b_row2_col0\" class=\"data row2 col0\" >Target type</td>\n",
       "      <td id=\"T_30e4b_row2_col1\" class=\"data row2 col1\" >Binary</td>\n",
       "    </tr>\n",
       "    <tr>\n",
       "      <th id=\"T_30e4b_level0_row3\" class=\"row_heading level0 row3\" >3</th>\n",
       "      <td id=\"T_30e4b_row3_col0\" class=\"data row3 col0\" >Original data shape</td>\n",
       "      <td id=\"T_30e4b_row3_col1\" class=\"data row3 col1\" >(2040043, 215)</td>\n",
       "    </tr>\n",
       "    <tr>\n",
       "      <th id=\"T_30e4b_level0_row4\" class=\"row_heading level0 row4\" >4</th>\n",
       "      <td id=\"T_30e4b_row4_col0\" class=\"data row4 col0\" >Transformed data shape</td>\n",
       "      <td id=\"T_30e4b_row4_col1\" class=\"data row4 col1\" >(2040043, 215)</td>\n",
       "    </tr>\n",
       "    <tr>\n",
       "      <th id=\"T_30e4b_level0_row5\" class=\"row_heading level0 row5\" >5</th>\n",
       "      <td id=\"T_30e4b_row5_col0\" class=\"data row5 col0\" >Transformed train set shape</td>\n",
       "      <td id=\"T_30e4b_row5_col1\" class=\"data row5 col1\" >(1413845, 215)</td>\n",
       "    </tr>\n",
       "    <tr>\n",
       "      <th id=\"T_30e4b_level0_row6\" class=\"row_heading level0 row6\" >6</th>\n",
       "      <td id=\"T_30e4b_row6_col0\" class=\"data row6 col0\" >Transformed test set shape</td>\n",
       "      <td id=\"T_30e4b_row6_col1\" class=\"data row6 col1\" >(626198, 215)</td>\n",
       "    </tr>\n",
       "    <tr>\n",
       "      <th id=\"T_30e4b_level0_row7\" class=\"row_heading level0 row7\" >7</th>\n",
       "      <td id=\"T_30e4b_row7_col0\" class=\"data row7 col0\" >Numeric features</td>\n",
       "      <td id=\"T_30e4b_row7_col1\" class=\"data row7 col1\" >214</td>\n",
       "    </tr>\n",
       "    <tr>\n",
       "      <th id=\"T_30e4b_level0_row8\" class=\"row_heading level0 row8\" >8</th>\n",
       "      <td id=\"T_30e4b_row8_col0\" class=\"data row8 col0\" >Preprocess</td>\n",
       "      <td id=\"T_30e4b_row8_col1\" class=\"data row8 col1\" >True</td>\n",
       "    </tr>\n",
       "    <tr>\n",
       "      <th id=\"T_30e4b_level0_row9\" class=\"row_heading level0 row9\" >9</th>\n",
       "      <td id=\"T_30e4b_row9_col0\" class=\"data row9 col0\" >Imputation type</td>\n",
       "      <td id=\"T_30e4b_row9_col1\" class=\"data row9 col1\" >simple</td>\n",
       "    </tr>\n",
       "    <tr>\n",
       "      <th id=\"T_30e4b_level0_row10\" class=\"row_heading level0 row10\" >10</th>\n",
       "      <td id=\"T_30e4b_row10_col0\" class=\"data row10 col0\" >Numeric imputation</td>\n",
       "      <td id=\"T_30e4b_row10_col1\" class=\"data row10 col1\" >mean</td>\n",
       "    </tr>\n",
       "    <tr>\n",
       "      <th id=\"T_30e4b_level0_row11\" class=\"row_heading level0 row11\" >11</th>\n",
       "      <td id=\"T_30e4b_row11_col0\" class=\"data row11 col0\" >Categorical imputation</td>\n",
       "      <td id=\"T_30e4b_row11_col1\" class=\"data row11 col1\" >mode</td>\n",
       "    </tr>\n",
       "    <tr>\n",
       "      <th id=\"T_30e4b_level0_row12\" class=\"row_heading level0 row12\" >12</th>\n",
       "      <td id=\"T_30e4b_row12_col0\" class=\"data row12 col0\" >Normalize</td>\n",
       "      <td id=\"T_30e4b_row12_col1\" class=\"data row12 col1\" >True</td>\n",
       "    </tr>\n",
       "    <tr>\n",
       "      <th id=\"T_30e4b_level0_row13\" class=\"row_heading level0 row13\" >13</th>\n",
       "      <td id=\"T_30e4b_row13_col0\" class=\"data row13 col0\" >Normalize method</td>\n",
       "      <td id=\"T_30e4b_row13_col1\" class=\"data row13 col1\" >zscore</td>\n",
       "    </tr>\n",
       "    <tr>\n",
       "      <th id=\"T_30e4b_level0_row14\" class=\"row_heading level0 row14\" >14</th>\n",
       "      <td id=\"T_30e4b_row14_col0\" class=\"data row14 col0\" >Fold Generator</td>\n",
       "      <td id=\"T_30e4b_row14_col1\" class=\"data row14 col1\" >StratifiedKFold</td>\n",
       "    </tr>\n",
       "    <tr>\n",
       "      <th id=\"T_30e4b_level0_row15\" class=\"row_heading level0 row15\" >15</th>\n",
       "      <td id=\"T_30e4b_row15_col0\" class=\"data row15 col0\" >Fold Number</td>\n",
       "      <td id=\"T_30e4b_row15_col1\" class=\"data row15 col1\" >10</td>\n",
       "    </tr>\n",
       "    <tr>\n",
       "      <th id=\"T_30e4b_level0_row16\" class=\"row_heading level0 row16\" >16</th>\n",
       "      <td id=\"T_30e4b_row16_col0\" class=\"data row16 col0\" >CPU Jobs</td>\n",
       "      <td id=\"T_30e4b_row16_col1\" class=\"data row16 col1\" >-1</td>\n",
       "    </tr>\n",
       "    <tr>\n",
       "      <th id=\"T_30e4b_level0_row17\" class=\"row_heading level0 row17\" >17</th>\n",
       "      <td id=\"T_30e4b_row17_col0\" class=\"data row17 col0\" >Use GPU</td>\n",
       "      <td id=\"T_30e4b_row17_col1\" class=\"data row17 col1\" >False</td>\n",
       "    </tr>\n",
       "    <tr>\n",
       "      <th id=\"T_30e4b_level0_row18\" class=\"row_heading level0 row18\" >18</th>\n",
       "      <td id=\"T_30e4b_row18_col0\" class=\"data row18 col0\" >Log Experiment</td>\n",
       "      <td id=\"T_30e4b_row18_col1\" class=\"data row18 col1\" >False</td>\n",
       "    </tr>\n",
       "    <tr>\n",
       "      <th id=\"T_30e4b_level0_row19\" class=\"row_heading level0 row19\" >19</th>\n",
       "      <td id=\"T_30e4b_row19_col0\" class=\"data row19 col0\" >Experiment Name</td>\n",
       "      <td id=\"T_30e4b_row19_col1\" class=\"data row19 col1\" >clf-default-name</td>\n",
       "    </tr>\n",
       "    <tr>\n",
       "      <th id=\"T_30e4b_level0_row20\" class=\"row_heading level0 row20\" >20</th>\n",
       "      <td id=\"T_30e4b_row20_col0\" class=\"data row20 col0\" >USI</td>\n",
       "      <td id=\"T_30e4b_row20_col1\" class=\"data row20 col1\" >bf6e</td>\n",
       "    </tr>\n",
       "  </tbody>\n",
       "</table>\n"
      ],
      "text/plain": [
       "<pandas.io.formats.style.Styler at 0x2408c872a60>"
      ]
     },
     "metadata": {},
     "output_type": "display_data"
    }
   ],
   "source": [
    "# original space, circulatory prediction\n",
    "\n",
    "input_space_clf_setting = setup(data = mimic_train_ori.drop(['Unnamed: 0', 'subject_id', 'stay_id', 'hadm_id','Annotation','classes', 'CIRC_next_12h'], axis = 1), target = 'label',\n",
    "                                test_data = mimic_valid_ori.drop(['Unnamed: 0', 'subject_id', 'stay_id', 'hadm_id','Annotation','classes', 'CIRC_next_12h'], axis = 1), normalize=True,\n",
    "                                index=False, session_id = 123)"
   ]
  },
  {
   "cell_type": "code",
   "execution_count": 10,
   "metadata": {},
   "outputs": [
    {
     "data": {
      "text/plain": [
       "Name                                                             AUPRC\n",
       "Display Name                                                     AUPRC\n",
       "Score Function       <pycaret.internal.metrics.EncodedDecodedLabels...\n",
       "Scorer               make_scorer(average_precision_score, needs_pro...\n",
       "Target                                                      pred_proba\n",
       "Args                                                                {}\n",
       "Greater is Better                                                 True\n",
       "Multiclass                                                        True\n",
       "Custom                                                            True\n",
       "Name: auprc, dtype: object"
      ]
     },
     "execution_count": 10,
     "metadata": {},
     "output_type": "execute_result"
    }
   ],
   "source": [
    "from sklearn.metrics import average_precision_score\n",
    "add_metric('auprc', 'AUPRC', average_precision_score, target = 'pred_proba')"
   ]
  },
  {
   "cell_type": "code",
   "execution_count": 11,
   "metadata": {},
   "outputs": [
    {
     "data": {
      "text/html": [],
      "text/plain": [
       "<IPython.core.display.HTML object>"
      ]
     },
     "metadata": {},
     "output_type": "display_data"
    },
    {
     "data": {
      "text/html": [
       "<style type=\"text/css\">\n",
       "#T_8b43f th {\n",
       "  text-align: left;\n",
       "}\n",
       "#T_8b43f_row0_col0, #T_8b43f_row0_col3, #T_8b43f_row0_col5, #T_8b43f_row1_col0, #T_8b43f_row1_col1, #T_8b43f_row1_col2, #T_8b43f_row1_col3, #T_8b43f_row1_col4, #T_8b43f_row1_col5, #T_8b43f_row1_col6, #T_8b43f_row1_col7, #T_8b43f_row1_col8, #T_8b43f_row2_col0, #T_8b43f_row2_col1, #T_8b43f_row2_col2, #T_8b43f_row2_col3, #T_8b43f_row2_col4, #T_8b43f_row2_col6, #T_8b43f_row2_col7, #T_8b43f_row2_col8, #T_8b43f_row3_col0, #T_8b43f_row3_col1, #T_8b43f_row3_col2, #T_8b43f_row3_col4, #T_8b43f_row3_col5, #T_8b43f_row3_col6, #T_8b43f_row3_col7, #T_8b43f_row3_col8 {\n",
       "  text-align: left;\n",
       "}\n",
       "#T_8b43f_row0_col1, #T_8b43f_row0_col2, #T_8b43f_row0_col4, #T_8b43f_row0_col6, #T_8b43f_row0_col7, #T_8b43f_row0_col8, #T_8b43f_row2_col5, #T_8b43f_row3_col3 {\n",
       "  text-align: left;\n",
       "  background-color: yellow;\n",
       "}\n",
       "#T_8b43f_row0_col9, #T_8b43f_row1_col9, #T_8b43f_row2_col9 {\n",
       "  text-align: left;\n",
       "  background-color: lightgrey;\n",
       "}\n",
       "#T_8b43f_row3_col9 {\n",
       "  text-align: left;\n",
       "  background-color: yellow;\n",
       "  background-color: lightgrey;\n",
       "}\n",
       "</style>\n",
       "<table id=\"T_8b43f\">\n",
       "  <thead>\n",
       "    <tr>\n",
       "      <th class=\"blank level0\" >&nbsp;</th>\n",
       "      <th id=\"T_8b43f_level0_col0\" class=\"col_heading level0 col0\" >Model</th>\n",
       "      <th id=\"T_8b43f_level0_col1\" class=\"col_heading level0 col1\" >Accuracy</th>\n",
       "      <th id=\"T_8b43f_level0_col2\" class=\"col_heading level0 col2\" >AUC</th>\n",
       "      <th id=\"T_8b43f_level0_col3\" class=\"col_heading level0 col3\" >Recall</th>\n",
       "      <th id=\"T_8b43f_level0_col4\" class=\"col_heading level0 col4\" >Prec.</th>\n",
       "      <th id=\"T_8b43f_level0_col5\" class=\"col_heading level0 col5\" >F1</th>\n",
       "      <th id=\"T_8b43f_level0_col6\" class=\"col_heading level0 col6\" >Kappa</th>\n",
       "      <th id=\"T_8b43f_level0_col7\" class=\"col_heading level0 col7\" >MCC</th>\n",
       "      <th id=\"T_8b43f_level0_col8\" class=\"col_heading level0 col8\" >AUPRC</th>\n",
       "      <th id=\"T_8b43f_level0_col9\" class=\"col_heading level0 col9\" >TT (Sec)</th>\n",
       "    </tr>\n",
       "  </thead>\n",
       "  <tbody>\n",
       "    <tr>\n",
       "      <th id=\"T_8b43f_level0_row0\" class=\"row_heading level0 row0\" >lightgbm</th>\n",
       "      <td id=\"T_8b43f_row0_col0\" class=\"data row0 col0\" >Light Gradient Boosting Machine</td>\n",
       "      <td id=\"T_8b43f_row0_col1\" class=\"data row0 col1\" >0.8777</td>\n",
       "      <td id=\"T_8b43f_row0_col2\" class=\"data row0 col2\" >0.8698</td>\n",
       "      <td id=\"T_8b43f_row0_col3\" class=\"data row0 col3\" >0.3816</td>\n",
       "      <td id=\"T_8b43f_row0_col4\" class=\"data row0 col4\" >0.6613</td>\n",
       "      <td id=\"T_8b43f_row0_col5\" class=\"data row0 col5\" >0.4840</td>\n",
       "      <td id=\"T_8b43f_row0_col6\" class=\"data row0 col6\" >0.4202</td>\n",
       "      <td id=\"T_8b43f_row0_col7\" class=\"data row0 col7\" >0.4407</td>\n",
       "      <td id=\"T_8b43f_row0_col8\" class=\"data row0 col8\" >0.5928</td>\n",
       "      <td id=\"T_8b43f_row0_col9\" class=\"data row0 col9\" >34.0200</td>\n",
       "    </tr>\n",
       "    <tr>\n",
       "      <th id=\"T_8b43f_level0_row1\" class=\"row_heading level0 row1\" >lr</th>\n",
       "      <td id=\"T_8b43f_row1_col0\" class=\"data row1 col0\" >Logistic Regression</td>\n",
       "      <td id=\"T_8b43f_row1_col1\" class=\"data row1 col1\" >0.8759</td>\n",
       "      <td id=\"T_8b43f_row1_col2\" class=\"data row1 col2\" >0.8497</td>\n",
       "      <td id=\"T_8b43f_row1_col3\" class=\"data row1 col3\" >0.3678</td>\n",
       "      <td id=\"T_8b43f_row1_col4\" class=\"data row1 col4\" >0.6552</td>\n",
       "      <td id=\"T_8b43f_row1_col5\" class=\"data row1 col5\" >0.4712</td>\n",
       "      <td id=\"T_8b43f_row1_col6\" class=\"data row1 col6\" >0.4071</td>\n",
       "      <td id=\"T_8b43f_row1_col7\" class=\"data row1 col7\" >0.4289</td>\n",
       "      <td id=\"T_8b43f_row1_col8\" class=\"data row1 col8\" >0.5691</td>\n",
       "      <td id=\"T_8b43f_row1_col9\" class=\"data row1 col9\" >70.4200</td>\n",
       "    </tr>\n",
       "    <tr>\n",
       "      <th id=\"T_8b43f_level0_row2\" class=\"row_heading level0 row2\" >xgboost</th>\n",
       "      <td id=\"T_8b43f_row2_col0\" class=\"data row2 col0\" >Extreme Gradient Boosting</td>\n",
       "      <td id=\"T_8b43f_row2_col1\" class=\"data row2 col1\" >0.8743</td>\n",
       "      <td id=\"T_8b43f_row2_col2\" class=\"data row2 col2\" >0.8566</td>\n",
       "      <td id=\"T_8b43f_row2_col3\" class=\"data row2 col3\" >0.3964</td>\n",
       "      <td id=\"T_8b43f_row2_col4\" class=\"data row2 col4\" >0.6302</td>\n",
       "      <td id=\"T_8b43f_row2_col5\" class=\"data row2 col5\" >0.4867</td>\n",
       "      <td id=\"T_8b43f_row2_col6\" class=\"data row2 col6\" >0.4192</td>\n",
       "      <td id=\"T_8b43f_row2_col7\" class=\"data row2 col7\" >0.4339</td>\n",
       "      <td id=\"T_8b43f_row2_col8\" class=\"data row2 col8\" >0.5699</td>\n",
       "      <td id=\"T_8b43f_row2_col9\" class=\"data row2 col9\" >22.6700</td>\n",
       "    </tr>\n",
       "    <tr>\n",
       "      <th id=\"T_8b43f_level0_row3\" class=\"row_heading level0 row3\" >nb</th>\n",
       "      <td id=\"T_8b43f_row3_col0\" class=\"data row3 col0\" >Naive Bayes</td>\n",
       "      <td id=\"T_8b43f_row3_col1\" class=\"data row3 col1\" >0.8355</td>\n",
       "      <td id=\"T_8b43f_row3_col2\" class=\"data row3 col2\" >0.7697</td>\n",
       "      <td id=\"T_8b43f_row3_col3\" class=\"data row3 col3\" >0.4015</td>\n",
       "      <td id=\"T_8b43f_row3_col4\" class=\"data row3 col4\" >0.4474</td>\n",
       "      <td id=\"T_8b43f_row3_col5\" class=\"data row3 col5\" >0.4232</td>\n",
       "      <td id=\"T_8b43f_row3_col6\" class=\"data row3 col6\" >0.3276</td>\n",
       "      <td id=\"T_8b43f_row3_col7\" class=\"data row3 col7\" >0.3283</td>\n",
       "      <td id=\"T_8b43f_row3_col8\" class=\"data row3 col8\" >0.3745</td>\n",
       "      <td id=\"T_8b43f_row3_col9\" class=\"data row3 col9\" >14.2200</td>\n",
       "    </tr>\n",
       "  </tbody>\n",
       "</table>\n"
      ],
      "text/plain": [
       "<pandas.io.formats.style.Styler at 0x2408c5c68b0>"
      ]
     },
     "metadata": {},
     "output_type": "display_data"
    },
    {
     "data": {
      "text/html": [],
      "text/plain": [
       "<IPython.core.display.HTML object>"
      ]
     },
     "metadata": {},
     "output_type": "display_data"
    }
   ],
   "source": [
    "best_model = compare_models(cross_validation=False, include=['lightgbm', 'xgboost', 'nb', 'lr'])"
   ]
  },
  {
   "cell_type": "markdown",
   "metadata": {},
   "source": [
    "## Readmission"
   ]
  },
  {
   "cell_type": "code",
   "execution_count": 4,
   "metadata": {},
   "outputs": [
    {
     "name": "stdout",
     "output_type": "stream",
     "text": [
      "Trial:  0\n",
      "Threshold 조정 + 0.05, 현재 한계값: 0.1\n",
      "train set : test set = 0.7 : 0.30000000000000004\n",
      "Train set class:  0.0    967376\n",
      "1.0    246181\n",
      "Name: label, dtype: int64\n",
      "Test set class:  0.0    428308\n",
      "1.0     99300\n",
      "Name: label, dtype: int64\n",
      "--------------------\n",
      "Train class ratio: 0.7971409665965422:0.20285903340345776\n",
      "Test class ratio: 0.8117920880653818:0.18820791193461814\n",
      "--------------------\n",
      "Number of trainset patient: 11365\n",
      "Number of testset patient: 4872\n",
      "Number of trainset stay: 12552\n",
      "Number of testset stay: 5406\n",
      "--------------------\n",
      "Split seed:  3582\n",
      "train ratio: 0.7\n",
      "Threshold: 0.1\n",
      "--------------------\n",
      "총 소요 시간(초):1.168750524520874\n",
      "시도한 trial 수:  0\n"
     ]
    }
   ],
   "source": [
    "readmission = pd.read_csv('/Users/DAHS/Desktop/circ_mimic_preprocessing_1day/data/cohort/cohort_icu_readmission_30_.csv.gz', index_col = 0, compression='gzip')\n",
    "\n",
    "readm_dict = dict(zip(readmission[['stay_id', 'label']].stay_id, readmission[['stay_id', 'label']].label))\n",
    "dataset['label'] = dataset['stay_id'].copy()\n",
    "dataset['label'] = dataset['label'].map(readm_dict)\n",
    "\n",
    "mimic_train_ori, mimic_valid_ori, trn_patient, val_patient = random_split_stay(dataset.dropna(), 0.7, Threshold=0.05, n_trial=1) "
   ]
  },
  {
   "cell_type": "code",
   "execution_count": 5,
   "metadata": {},
   "outputs": [
    {
     "data": {
      "text/html": [
       "<style type=\"text/css\">\n",
       "#T_30bfb_row8_col1, #T_30bfb_row12_col1 {\n",
       "  background-color: lightgreen;\n",
       "}\n",
       "</style>\n",
       "<table id=\"T_30bfb\">\n",
       "  <thead>\n",
       "    <tr>\n",
       "      <th class=\"blank level0\" >&nbsp;</th>\n",
       "      <th id=\"T_30bfb_level0_col0\" class=\"col_heading level0 col0\" >Description</th>\n",
       "      <th id=\"T_30bfb_level0_col1\" class=\"col_heading level0 col1\" >Value</th>\n",
       "    </tr>\n",
       "  </thead>\n",
       "  <tbody>\n",
       "    <tr>\n",
       "      <th id=\"T_30bfb_level0_row0\" class=\"row_heading level0 row0\" >0</th>\n",
       "      <td id=\"T_30bfb_row0_col0\" class=\"data row0 col0\" >Session id</td>\n",
       "      <td id=\"T_30bfb_row0_col1\" class=\"data row0 col1\" >123</td>\n",
       "    </tr>\n",
       "    <tr>\n",
       "      <th id=\"T_30bfb_level0_row1\" class=\"row_heading level0 row1\" >1</th>\n",
       "      <td id=\"T_30bfb_row1_col0\" class=\"data row1 col0\" >Target</td>\n",
       "      <td id=\"T_30bfb_row1_col1\" class=\"data row1 col1\" >label</td>\n",
       "    </tr>\n",
       "    <tr>\n",
       "      <th id=\"T_30bfb_level0_row2\" class=\"row_heading level0 row2\" >2</th>\n",
       "      <td id=\"T_30bfb_row2_col0\" class=\"data row2 col0\" >Target type</td>\n",
       "      <td id=\"T_30bfb_row2_col1\" class=\"data row2 col1\" >Binary</td>\n",
       "    </tr>\n",
       "    <tr>\n",
       "      <th id=\"T_30bfb_level0_row3\" class=\"row_heading level0 row3\" >3</th>\n",
       "      <td id=\"T_30bfb_row3_col0\" class=\"data row3 col0\" >Original data shape</td>\n",
       "      <td id=\"T_30bfb_row3_col1\" class=\"data row3 col1\" >(1741165, 215)</td>\n",
       "    </tr>\n",
       "    <tr>\n",
       "      <th id=\"T_30bfb_level0_row4\" class=\"row_heading level0 row4\" >4</th>\n",
       "      <td id=\"T_30bfb_row4_col0\" class=\"data row4 col0\" >Transformed data shape</td>\n",
       "      <td id=\"T_30bfb_row4_col1\" class=\"data row4 col1\" >(1741165, 215)</td>\n",
       "    </tr>\n",
       "    <tr>\n",
       "      <th id=\"T_30bfb_level0_row5\" class=\"row_heading level0 row5\" >5</th>\n",
       "      <td id=\"T_30bfb_row5_col0\" class=\"data row5 col0\" >Transformed train set shape</td>\n",
       "      <td id=\"T_30bfb_row5_col1\" class=\"data row5 col1\" >(1213557, 215)</td>\n",
       "    </tr>\n",
       "    <tr>\n",
       "      <th id=\"T_30bfb_level0_row6\" class=\"row_heading level0 row6\" >6</th>\n",
       "      <td id=\"T_30bfb_row6_col0\" class=\"data row6 col0\" >Transformed test set shape</td>\n",
       "      <td id=\"T_30bfb_row6_col1\" class=\"data row6 col1\" >(527608, 215)</td>\n",
       "    </tr>\n",
       "    <tr>\n",
       "      <th id=\"T_30bfb_level0_row7\" class=\"row_heading level0 row7\" >7</th>\n",
       "      <td id=\"T_30bfb_row7_col0\" class=\"data row7 col0\" >Numeric features</td>\n",
       "      <td id=\"T_30bfb_row7_col1\" class=\"data row7 col1\" >214</td>\n",
       "    </tr>\n",
       "    <tr>\n",
       "      <th id=\"T_30bfb_level0_row8\" class=\"row_heading level0 row8\" >8</th>\n",
       "      <td id=\"T_30bfb_row8_col0\" class=\"data row8 col0\" >Preprocess</td>\n",
       "      <td id=\"T_30bfb_row8_col1\" class=\"data row8 col1\" >True</td>\n",
       "    </tr>\n",
       "    <tr>\n",
       "      <th id=\"T_30bfb_level0_row9\" class=\"row_heading level0 row9\" >9</th>\n",
       "      <td id=\"T_30bfb_row9_col0\" class=\"data row9 col0\" >Imputation type</td>\n",
       "      <td id=\"T_30bfb_row9_col1\" class=\"data row9 col1\" >simple</td>\n",
       "    </tr>\n",
       "    <tr>\n",
       "      <th id=\"T_30bfb_level0_row10\" class=\"row_heading level0 row10\" >10</th>\n",
       "      <td id=\"T_30bfb_row10_col0\" class=\"data row10 col0\" >Numeric imputation</td>\n",
       "      <td id=\"T_30bfb_row10_col1\" class=\"data row10 col1\" >mean</td>\n",
       "    </tr>\n",
       "    <tr>\n",
       "      <th id=\"T_30bfb_level0_row11\" class=\"row_heading level0 row11\" >11</th>\n",
       "      <td id=\"T_30bfb_row11_col0\" class=\"data row11 col0\" >Categorical imputation</td>\n",
       "      <td id=\"T_30bfb_row11_col1\" class=\"data row11 col1\" >mode</td>\n",
       "    </tr>\n",
       "    <tr>\n",
       "      <th id=\"T_30bfb_level0_row12\" class=\"row_heading level0 row12\" >12</th>\n",
       "      <td id=\"T_30bfb_row12_col0\" class=\"data row12 col0\" >Normalize</td>\n",
       "      <td id=\"T_30bfb_row12_col1\" class=\"data row12 col1\" >True</td>\n",
       "    </tr>\n",
       "    <tr>\n",
       "      <th id=\"T_30bfb_level0_row13\" class=\"row_heading level0 row13\" >13</th>\n",
       "      <td id=\"T_30bfb_row13_col0\" class=\"data row13 col0\" >Normalize method</td>\n",
       "      <td id=\"T_30bfb_row13_col1\" class=\"data row13 col1\" >zscore</td>\n",
       "    </tr>\n",
       "    <tr>\n",
       "      <th id=\"T_30bfb_level0_row14\" class=\"row_heading level0 row14\" >14</th>\n",
       "      <td id=\"T_30bfb_row14_col0\" class=\"data row14 col0\" >Fold Generator</td>\n",
       "      <td id=\"T_30bfb_row14_col1\" class=\"data row14 col1\" >StratifiedKFold</td>\n",
       "    </tr>\n",
       "    <tr>\n",
       "      <th id=\"T_30bfb_level0_row15\" class=\"row_heading level0 row15\" >15</th>\n",
       "      <td id=\"T_30bfb_row15_col0\" class=\"data row15 col0\" >Fold Number</td>\n",
       "      <td id=\"T_30bfb_row15_col1\" class=\"data row15 col1\" >10</td>\n",
       "    </tr>\n",
       "    <tr>\n",
       "      <th id=\"T_30bfb_level0_row16\" class=\"row_heading level0 row16\" >16</th>\n",
       "      <td id=\"T_30bfb_row16_col0\" class=\"data row16 col0\" >CPU Jobs</td>\n",
       "      <td id=\"T_30bfb_row16_col1\" class=\"data row16 col1\" >-1</td>\n",
       "    </tr>\n",
       "    <tr>\n",
       "      <th id=\"T_30bfb_level0_row17\" class=\"row_heading level0 row17\" >17</th>\n",
       "      <td id=\"T_30bfb_row17_col0\" class=\"data row17 col0\" >Use GPU</td>\n",
       "      <td id=\"T_30bfb_row17_col1\" class=\"data row17 col1\" >False</td>\n",
       "    </tr>\n",
       "    <tr>\n",
       "      <th id=\"T_30bfb_level0_row18\" class=\"row_heading level0 row18\" >18</th>\n",
       "      <td id=\"T_30bfb_row18_col0\" class=\"data row18 col0\" >Log Experiment</td>\n",
       "      <td id=\"T_30bfb_row18_col1\" class=\"data row18 col1\" >False</td>\n",
       "    </tr>\n",
       "    <tr>\n",
       "      <th id=\"T_30bfb_level0_row19\" class=\"row_heading level0 row19\" >19</th>\n",
       "      <td id=\"T_30bfb_row19_col0\" class=\"data row19 col0\" >Experiment Name</td>\n",
       "      <td id=\"T_30bfb_row19_col1\" class=\"data row19 col1\" >clf-default-name</td>\n",
       "    </tr>\n",
       "    <tr>\n",
       "      <th id=\"T_30bfb_level0_row20\" class=\"row_heading level0 row20\" >20</th>\n",
       "      <td id=\"T_30bfb_row20_col0\" class=\"data row20 col0\" >USI</td>\n",
       "      <td id=\"T_30bfb_row20_col1\" class=\"data row20 col1\" >4096</td>\n",
       "    </tr>\n",
       "  </tbody>\n",
       "</table>\n"
      ],
      "text/plain": [
       "<pandas.io.formats.style.Styler at 0x21454c914c0>"
      ]
     },
     "metadata": {},
     "output_type": "display_data"
    }
   ],
   "source": [
    "# original space, readmission prediction\n",
    "\n",
    "input_space_clf_setting = setup(data = mimic_train_ori.drop(['Unnamed: 0', 'subject_id', 'stay_id', 'hadm_id','Annotation','classes', 'CIRC_next_12h'], axis = 1), target = 'label',\n",
    "                                test_data = mimic_valid_ori.drop(['Unnamed: 0', 'subject_id', 'stay_id', 'hadm_id','Annotation','classes', 'CIRC_next_12h'], axis = 1), normalize=True,\n",
    "                                index=False, session_id = 123)"
   ]
  },
  {
   "cell_type": "code",
   "execution_count": 6,
   "metadata": {},
   "outputs": [
    {
     "data": {
      "text/html": [],
      "text/plain": [
       "<IPython.core.display.HTML object>"
      ]
     },
     "metadata": {},
     "output_type": "display_data"
    },
    {
     "data": {
      "text/html": [
       "<style type=\"text/css\">\n",
       "#T_f2dc4 th {\n",
       "  text-align: left;\n",
       "}\n",
       "#T_f2dc4_row0_col0, #T_f2dc4_row0_col3, #T_f2dc4_row0_col5, #T_f2dc4_row0_col6, #T_f2dc4_row1_col0, #T_f2dc4_row1_col1, #T_f2dc4_row1_col2, #T_f2dc4_row1_col3, #T_f2dc4_row1_col4, #T_f2dc4_row1_col5, #T_f2dc4_row1_col6, #T_f2dc4_row1_col7, #T_f2dc4_row1_col8, #T_f2dc4_row2_col0, #T_f2dc4_row2_col1, #T_f2dc4_row2_col2, #T_f2dc4_row2_col3, #T_f2dc4_row2_col4, #T_f2dc4_row2_col5, #T_f2dc4_row2_col7, #T_f2dc4_row2_col8, #T_f2dc4_row3_col0, #T_f2dc4_row3_col1, #T_f2dc4_row3_col2, #T_f2dc4_row3_col4, #T_f2dc4_row3_col6, #T_f2dc4_row3_col7, #T_f2dc4_row3_col8 {\n",
       "  text-align: left;\n",
       "}\n",
       "#T_f2dc4_row0_col1, #T_f2dc4_row0_col2, #T_f2dc4_row0_col4, #T_f2dc4_row0_col7, #T_f2dc4_row0_col8, #T_f2dc4_row2_col6, #T_f2dc4_row3_col3, #T_f2dc4_row3_col5 {\n",
       "  text-align: left;\n",
       "  background-color: yellow;\n",
       "}\n",
       "#T_f2dc4_row0_col9, #T_f2dc4_row1_col9, #T_f2dc4_row2_col9 {\n",
       "  text-align: left;\n",
       "  background-color: lightgrey;\n",
       "}\n",
       "#T_f2dc4_row3_col9 {\n",
       "  text-align: left;\n",
       "  background-color: yellow;\n",
       "  background-color: lightgrey;\n",
       "}\n",
       "</style>\n",
       "<table id=\"T_f2dc4\">\n",
       "  <thead>\n",
       "    <tr>\n",
       "      <th class=\"blank level0\" >&nbsp;</th>\n",
       "      <th id=\"T_f2dc4_level0_col0\" class=\"col_heading level0 col0\" >Model</th>\n",
       "      <th id=\"T_f2dc4_level0_col1\" class=\"col_heading level0 col1\" >Accuracy</th>\n",
       "      <th id=\"T_f2dc4_level0_col2\" class=\"col_heading level0 col2\" >AUC</th>\n",
       "      <th id=\"T_f2dc4_level0_col3\" class=\"col_heading level0 col3\" >Recall</th>\n",
       "      <th id=\"T_f2dc4_level0_col4\" class=\"col_heading level0 col4\" >Prec.</th>\n",
       "      <th id=\"T_f2dc4_level0_col5\" class=\"col_heading level0 col5\" >F1</th>\n",
       "      <th id=\"T_f2dc4_level0_col6\" class=\"col_heading level0 col6\" >Kappa</th>\n",
       "      <th id=\"T_f2dc4_level0_col7\" class=\"col_heading level0 col7\" >MCC</th>\n",
       "      <th id=\"T_f2dc4_level0_col8\" class=\"col_heading level0 col8\" >AUPRC</th>\n",
       "      <th id=\"T_f2dc4_level0_col9\" class=\"col_heading level0 col9\" >TT (Sec)</th>\n",
       "    </tr>\n",
       "  </thead>\n",
       "  <tbody>\n",
       "    <tr>\n",
       "      <th id=\"T_f2dc4_level0_row0\" class=\"row_heading level0 row0\" >lr</th>\n",
       "      <td id=\"T_f2dc4_row0_col0\" class=\"data row0 col0\" >Logistic Regression</td>\n",
       "      <td id=\"T_f2dc4_row0_col1\" class=\"data row0 col1\" >0.8081</td>\n",
       "      <td id=\"T_f2dc4_row0_col2\" class=\"data row0 col2\" >0.6367</td>\n",
       "      <td id=\"T_f2dc4_row0_col3\" class=\"data row0 col3\" >0.0422</td>\n",
       "      <td id=\"T_f2dc4_row0_col4\" class=\"data row0 col4\" >0.4057</td>\n",
       "      <td id=\"T_f2dc4_row0_col5\" class=\"data row0 col5\" >0.0764</td>\n",
       "      <td id=\"T_f2dc4_row0_col6\" class=\"data row0 col6\" >0.0425</td>\n",
       "      <td id=\"T_f2dc4_row0_col7\" class=\"data row0 col7\" >0.0786</td>\n",
       "      <td id=\"T_f2dc4_row0_col8\" class=\"data row0 col8\" >0.2852</td>\n",
       "      <td id=\"T_f2dc4_row0_col9\" class=\"data row0 col9\" >90.5100</td>\n",
       "    </tr>\n",
       "    <tr>\n",
       "      <th id=\"T_f2dc4_level0_row1\" class=\"row_heading level0 row1\" >lightgbm</th>\n",
       "      <td id=\"T_f2dc4_row1_col0\" class=\"data row1 col0\" >Light Gradient Boosting Machine</td>\n",
       "      <td id=\"T_f2dc4_row1_col1\" class=\"data row1 col1\" >0.8022</td>\n",
       "      <td id=\"T_f2dc4_row1_col2\" class=\"data row1 col2\" >0.6216</td>\n",
       "      <td id=\"T_f2dc4_row1_col3\" class=\"data row1 col3\" >0.0298</td>\n",
       "      <td id=\"T_f2dc4_row1_col4\" class=\"data row1 col4\" >0.2692</td>\n",
       "      <td id=\"T_f2dc4_row1_col5\" class=\"data row1 col5\" >0.0537</td>\n",
       "      <td id=\"T_f2dc4_row1_col6\" class=\"data row1 col6\" >0.0168</td>\n",
       "      <td id=\"T_f2dc4_row1_col7\" class=\"data row1 col7\" >0.0302</td>\n",
       "      <td id=\"T_f2dc4_row1_col8\" class=\"data row1 col8\" >0.2566</td>\n",
       "      <td id=\"T_f2dc4_row1_col9\" class=\"data row1 col9\" >22.8900</td>\n",
       "    </tr>\n",
       "    <tr>\n",
       "      <th id=\"T_f2dc4_level0_row2\" class=\"row_heading level0 row2\" >xgboost</th>\n",
       "      <td id=\"T_f2dc4_row2_col0\" class=\"data row2 col0\" >Extreme Gradient Boosting</td>\n",
       "      <td id=\"T_f2dc4_row2_col1\" class=\"data row2 col1\" >0.7903</td>\n",
       "      <td id=\"T_f2dc4_row2_col2\" class=\"data row2 col2\" >0.5900</td>\n",
       "      <td id=\"T_f2dc4_row2_col3\" class=\"data row2 col3\" >0.0816</td>\n",
       "      <td id=\"T_f2dc4_row2_col4\" class=\"data row2 col4\" >0.2942</td>\n",
       "      <td id=\"T_f2dc4_row2_col5\" class=\"data row2 col5\" >0.1277</td>\n",
       "      <td id=\"T_f2dc4_row2_col6\" class=\"data row2 col6\" >0.0501</td>\n",
       "      <td id=\"T_f2dc4_row2_col7\" class=\"data row2 col7\" >0.0636</td>\n",
       "      <td id=\"T_f2dc4_row2_col8\" class=\"data row2 col8\" >0.2420</td>\n",
       "      <td id=\"T_f2dc4_row2_col9\" class=\"data row2 col9\" >22.6900</td>\n",
       "    </tr>\n",
       "    <tr>\n",
       "      <th id=\"T_f2dc4_level0_row3\" class=\"row_heading level0 row3\" >nb</th>\n",
       "      <td id=\"T_f2dc4_row3_col0\" class=\"data row3 col0\" >Naive Bayes</td>\n",
       "      <td id=\"T_f2dc4_row3_col1\" class=\"data row3 col1\" >0.2025</td>\n",
       "      <td id=\"T_f2dc4_row3_col2\" class=\"data row3 col2\" >0.5071</td>\n",
       "      <td id=\"T_f2dc4_row3_col3\" class=\"data row3 col3\" >0.9747</td>\n",
       "      <td id=\"T_f2dc4_row3_col4\" class=\"data row3 col4\" >0.1879</td>\n",
       "      <td id=\"T_f2dc4_row3_col5\" class=\"data row3 col5\" >0.3151</td>\n",
       "      <td id=\"T_f2dc4_row3_col6\" class=\"data row3 col6\" >-0.0007</td>\n",
       "      <td id=\"T_f2dc4_row3_col7\" class=\"data row3 col7\" >-0.0046</td>\n",
       "      <td id=\"T_f2dc4_row3_col8\" class=\"data row3 col8\" >0.1905</td>\n",
       "      <td id=\"T_f2dc4_row3_col9\" class=\"data row3 col9\" >19.8300</td>\n",
       "    </tr>\n",
       "  </tbody>\n",
       "</table>\n"
      ],
      "text/plain": [
       "<pandas.io.formats.style.Styler at 0x21454996370>"
      ]
     },
     "metadata": {},
     "output_type": "display_data"
    },
    {
     "data": {
      "text/html": [],
      "text/plain": [
       "<IPython.core.display.HTML object>"
      ]
     },
     "metadata": {},
     "output_type": "display_data"
    }
   ],
   "source": [
    "from sklearn.metrics import average_precision_score\n",
    "add_metric('auprc', 'AUPRC', average_precision_score, target = 'pred_proba')\n",
    "best_model = compare_models(cross_validation=False, include=['lightgbm', 'xgboost', 'nb', 'lr'])"
   ]
  },
  {
   "cell_type": "code",
   "execution_count": null,
   "metadata": {},
   "outputs": [],
   "source": []
  }
 ],
 "metadata": {
  "kernelspec": {
   "display_name": "Umap_python",
   "language": "python",
   "name": "python3"
  },
  "language_info": {
   "codemirror_mode": {
    "name": "ipython",
    "version": 3
   },
   "file_extension": ".py",
   "mimetype": "text/x-python",
   "name": "python",
   "nbconvert_exporter": "python",
   "pygments_lexer": "ipython3",
   "version": "3.8.18"
  }
 },
 "nbformat": 4,
 "nbformat_minor": 2
}
