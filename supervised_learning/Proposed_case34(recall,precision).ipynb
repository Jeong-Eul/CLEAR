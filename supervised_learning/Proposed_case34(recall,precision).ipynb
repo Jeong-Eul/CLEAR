{
 "cells": [
  {
   "cell_type": "code",
   "execution_count": 1,
   "metadata": {},
   "outputs": [],
   "source": [
    "import pandas as pd\n",
    "import numpy as np\n",
    "import time\n",
    "from pycaret.classification import *"
   ]
  },
  {
   "cell_type": "code",
   "execution_count": 2,
   "metadata": {},
   "outputs": [],
   "source": [
    "def check_class_ratio(dataset):\n",
    "    class_ratio = round(np.mean(dataset.classes), 2)\n",
    "    return class_ratio\n",
    "\n",
    "def random_split_stay(df, train_ratio, Threshold, n_trial):\n",
    "    data = df.copy()\n",
    "    \n",
    "    search_time = time.time()\n",
    "    \n",
    "    for T in range(n_trial):\n",
    "        array = data.subject_id.unique()\n",
    "        \n",
    "        # seed = np.random.randint(0, 10000, 1)\n",
    "        seed = 3582\n",
    "        np.random.seed(seed) \n",
    "        np.random.shuffle(array)\n",
    "\n",
    "\n",
    "        split_point = int(train_ratio * len(array))\n",
    "        stay_for_train, stay_for_test = np.split(array, [split_point])\n",
    "\n",
    "        \n",
    "\n",
    "        condition_train = data.subject_id.isin(stay_for_train)\n",
    "        holdout_train = data[condition_train]\n",
    "\n",
    "        condition_test = data.subject_id.isin(stay_for_test)\n",
    "        holdout_test = data[condition_test]\n",
    "        \n",
    "        # holdout_test = holdout_test.sort_values(by=['subject_id',  'stay_id', 'Time_since_ICU_admission']) \n",
    "        # holdout_train = holdout_train.sort_values(by=['subject_id',  'stay_id', 'Time_since_ICU_admission']) \n",
    "\n",
    "        train_class_ratio  = check_class_ratio(holdout_train)\n",
    "        test_class_ratio  = check_class_ratio(holdout_test)\n",
    "                \n",
    "            \n",
    "        if (train_class_ratio - test_class_ratio) >= Threshold:\n",
    "            \n",
    "            break  # 클래스 비율이 모두 threshold 이상일 경우 반복문 종료\n",
    "        \n",
    "        if T % 100 == 0:\n",
    "            print('Trial: ', T)\n",
    "            \n",
    "        if T % 10000 == 0:\n",
    "        \n",
    "            Threshold = Threshold + 0.05\n",
    "            print('Threshold 조정 + 0.05, 현재 한계값: {}'.format(Threshold))\n",
    "        \n",
    "        if T == 9999:\n",
    "            print('최대 Trial 달성, 분할 불가')\n",
    "        \n",
    "    train = holdout_train.copy()\n",
    "    test = holdout_test.copy()\n",
    "    search_time_end = time.time()\n",
    "    \n",
    "    trn_class1 = train.classes.value_counts()[0]\n",
    "    trn_class2 = train.classes.value_counts()[1]\n",
    "    \n",
    "    tes_class1 = test.classes.value_counts()[0]\n",
    "    tes_class2 = test.classes.value_counts()[1]\n",
    "\n",
    "    \n",
    "    \n",
    "    print('train set : test set = {} : {}'.format(train_ratio, 1-train_ratio))\n",
    "    print('Train set class: ', train.classes.value_counts().sort_index())\n",
    "    print('Test set class: ', test.classes.value_counts().sort_index())\n",
    "    print('-'*20)\n",
    "    print('Train class ratio: {}:{}'.format((trn_class1)/(trn_class1+trn_class2), (trn_class2)/(trn_class1+trn_class2)))\n",
    "    print('Test class ratio: {}:{}'.format((tes_class1)/(tes_class1+tes_class2), (tes_class2)/(tes_class1+tes_class2)))\n",
    "    print('-'*20)\n",
    "    print('Number of trainset patient:', len(train.subject_id.unique()))\n",
    "    print('Number of testset patient:', len(test.subject_id.unique()))\n",
    "    print('Number of trainset stay:', len(train.stay_id.unique()))\n",
    "    print('Number of testset stay:', len(test.stay_id.unique()))\n",
    "    print('-'*20)\n",
    "    print('Split seed: ',seed)\n",
    "    print('train ratio:', train_ratio)\n",
    "    print('Threshold:', Threshold)\n",
    "    print('-'*20)\n",
    "    print('총 소요 시간(초):{}'.format(search_time_end - search_time))\n",
    "    print('시도한 trial 수: ', T)\n",
    "    \n",
    "    return train, test, stay_for_train, stay_for_test"
   ]
  },
  {
   "cell_type": "code",
   "execution_count": 3,
   "metadata": {},
   "outputs": [],
   "source": [
    "dataset = pd.read_csv('/Users/DAHS/MIMIC-IV-Data-Pipeline/MIMIC_pipeline/Case Labeling/mimic_df.csv.gz', index_col = 0, compression='gzip')"
   ]
  },
  {
   "cell_type": "code",
   "execution_count": 4,
   "metadata": {},
   "outputs": [],
   "source": [
    "embset = pd.read_csv('/Users/DAHS/MIMIC-IV-Data-Pipeline/MIMIC_pipeline/supervised_contrastive_learning/embedding_data.csv.gz', index_col = 0, compression='gzip')"
   ]
  },
  {
   "cell_type": "code",
   "execution_count": 5,
   "metadata": {},
   "outputs": [],
   "source": [
    "total_dataset = pd.concat([dataset.reset_index(drop=True), embset.drop(['subject_id', 'stay_id', 'hadm_id', '43'], axis = 1).reset_index(drop=True)], axis = 1)"
   ]
  },
  {
   "cell_type": "code",
   "execution_count": 15,
   "metadata": {},
   "outputs": [],
   "source": [
    "def filter_classes_with_condition(df):\n",
    "    filtered_df = df.copy()\n",
    "    result_df = filtered_df[filtered_df['classes'] == 2]\n",
    "    result_df2 = filtered_df[filtered_df['classes'] == 3]\n",
    "    df = pd.concat([result_df, result_df2])\n",
    "    df['classes'] = df['classes'].map({2:0, 3:1})\n",
    "    return df"
   ]
  },
  {
   "cell_type": "code",
   "execution_count": 7,
   "metadata": {},
   "outputs": [],
   "source": [
    "recovery_situation = {0, 1, 2, 3}\n",
    "deterioration_situation = {0, 1, 3}\n",
    "\n",
    "    \n",
    "recover_state = total_dataset[total_dataset['classes'].isin(recovery_situation)].groupby('stay_id')['classes'].nunique()\n",
    "recover_state = recover_state[recover_state == len(recovery_situation)].index\n",
    "\n",
    "recover_set = total_dataset[total_dataset['stay_id'].isin(recover_state)]\n",
    "\n",
    "deterioration_state = total_dataset[total_dataset['classes'].isin(deterioration_situation)].groupby('stay_id')['classes'].nunique()\n",
    "deterioration_state = deterioration_state[deterioration_state == len(deterioration_situation)].index\n",
    "\n",
    "deterioration_set = total_dataset[total_dataset['stay_id'].isin(deterioration_state)]\n",
    "\n",
    "def filter_classes_with_condition(df):\n",
    "    filtered_df = df[df['classes'].isin([0, 1, 3])]\n",
    "    return filtered_df\n",
    "\n",
    "deterioration_set = filter_classes_with_condition(deterioration_set)\n",
    "\n",
    "deterioration_grouped = deterioration_set.groupby('stay_id')\n",
    "\n",
    "# 조건에 맞는 stay_id를 찾는 함수\n",
    "def deterioration_filter_stay_ids(group):\n",
    "    # 처음 3개 관측치의 Annotation이 모두 'no_circ'인지 확인\n",
    "    if all(group.head(3)['Annotation'] == 'no_circ'):\n",
    "        # 마지막 관측치의 10개가 classes가 3인지 확인\n",
    "        if all(group.tail(10)['classes'] == 3):\n",
    "            return True\n",
    "    return False\n",
    "\n",
    "# 조건을 만족하는 stay_id 필터링\n",
    "valid_stay_ids = [name for name, group in deterioration_grouped if deterioration_filter_stay_ids(group)]\n",
    "deterioration_df = deterioration_set[deterioration_set.stay_id.isin(valid_stay_ids)].copy()\n",
    "\n",
    "recover_grouped = recover_set.groupby('stay_id')\n",
    "\n",
    "def recovery_filter_stay_ids(group):\n",
    "    # 처음 3개 관측치의 Annotation이 모두 'no_circ'인 경우만 고려\n",
    "    if all(group.head(3)['Annotation'] == 'no_circ'):\n",
    "        # 'classes'가 2인 마지막 관측치 찾기\n",
    "        last_class_2_index = group[group['classes'] == 2].index.max()\n",
    "        if pd.notna(last_class_2_index):\n",
    "            # 해당 인덱스까지의 데이터 반환\n",
    "            return group.loc[:last_class_2_index]\n",
    "    return pd.DataFrame()\n",
    "\n",
    "# 조건을 만족하는 데이터 필터링\n",
    "recovery_df = pd.concat([recovery_filter_stay_ids(group) for _, group in recover_grouped])"
   ]
  },
  {
   "cell_type": "code",
   "execution_count": 10,
   "metadata": {},
   "outputs": [],
   "source": [
    "total_dataset = pd.concat([recovery_df, deterioration_df])"
   ]
  },
  {
   "cell_type": "code",
   "execution_count": 16,
   "metadata": {},
   "outputs": [
    {
     "name": "stdout",
     "output_type": "stream",
     "text": [
      "train set : test set = 0.7 : 0.30000000000000004\n",
      "Train set class:  0    30186\n",
      "1     6755\n",
      "2     2015\n",
      "3    36032\n",
      "Name: classes, dtype: int64\n",
      "Test set class:  0    16072\n",
      "1     2860\n",
      "2      815\n",
      "3    15979\n",
      "Name: classes, dtype: int64\n",
      "--------------------\n",
      "Train class ratio: 0.8171408462142336:0.1828591537857665\n",
      "Test class ratio: 0.8489330234523558:0.1510669765476442\n",
      "--------------------\n",
      "Number of trainset patient: 908\n",
      "Number of testset patient: 390\n",
      "Number of trainset stay: 923\n",
      "Number of testset stay: 398\n",
      "--------------------\n",
      "Split seed:  3582\n",
      "train ratio: 0.7\n",
      "Threshold: 0.05\n",
      "--------------------\n",
      "총 소요 시간(초):0.09093284606933594\n",
      "시도한 trial 수:  0\n"
     ]
    }
   ],
   "source": [
    "mimic_train_ori, mimic_valid_ori, trn_patient, val_patient = random_split_stay(total_dataset, 0.7, Threshold=0.05, n_trial=1) \n",
    "mimic_train_ori_sampling = filter_classes_with_condition(mimic_train_ori)\n",
    "mimic_valid_ori_sampling = filter_classes_with_condition(mimic_valid_ori)"
   ]
  },
  {
   "cell_type": "code",
   "execution_count": 28,
   "metadata": {},
   "outputs": [
    {
     "data": {
      "text/html": [
       "<style type=\"text/css\">\n",
       "#T_c3d1e_row8_col1, #T_c3d1e_row12_col1 {\n",
       "  background-color: lightgreen;\n",
       "}\n",
       "</style>\n",
       "<table id=\"T_c3d1e\">\n",
       "  <thead>\n",
       "    <tr>\n",
       "      <th class=\"blank level0\" >&nbsp;</th>\n",
       "      <th id=\"T_c3d1e_level0_col0\" class=\"col_heading level0 col0\" >Description</th>\n",
       "      <th id=\"T_c3d1e_level0_col1\" class=\"col_heading level0 col1\" >Value</th>\n",
       "    </tr>\n",
       "  </thead>\n",
       "  <tbody>\n",
       "    <tr>\n",
       "      <th id=\"T_c3d1e_level0_row0\" class=\"row_heading level0 row0\" >0</th>\n",
       "      <td id=\"T_c3d1e_row0_col0\" class=\"data row0 col0\" >Session id</td>\n",
       "      <td id=\"T_c3d1e_row0_col1\" class=\"data row0 col1\" >123</td>\n",
       "    </tr>\n",
       "    <tr>\n",
       "      <th id=\"T_c3d1e_level0_row1\" class=\"row_heading level0 row1\" >1</th>\n",
       "      <td id=\"T_c3d1e_row1_col0\" class=\"data row1 col0\" >Target</td>\n",
       "      <td id=\"T_c3d1e_row1_col1\" class=\"data row1 col1\" >classes</td>\n",
       "    </tr>\n",
       "    <tr>\n",
       "      <th id=\"T_c3d1e_level0_row2\" class=\"row_heading level0 row2\" >2</th>\n",
       "      <td id=\"T_c3d1e_row2_col0\" class=\"data row2 col0\" >Target type</td>\n",
       "      <td id=\"T_c3d1e_row2_col1\" class=\"data row2 col1\" >Binary</td>\n",
       "    </tr>\n",
       "    <tr>\n",
       "      <th id=\"T_c3d1e_level0_row3\" class=\"row_heading level0 row3\" >3</th>\n",
       "      <td id=\"T_c3d1e_row3_col0\" class=\"data row3 col0\" >Original data shape</td>\n",
       "      <td id=\"T_c3d1e_row3_col1\" class=\"data row3 col1\" >(61387, 255)</td>\n",
       "    </tr>\n",
       "    <tr>\n",
       "      <th id=\"T_c3d1e_level0_row4\" class=\"row_heading level0 row4\" >4</th>\n",
       "      <td id=\"T_c3d1e_row4_col0\" class=\"data row4 col0\" >Transformed data shape</td>\n",
       "      <td id=\"T_c3d1e_row4_col1\" class=\"data row4 col1\" >(61387, 255)</td>\n",
       "    </tr>\n",
       "    <tr>\n",
       "      <th id=\"T_c3d1e_level0_row5\" class=\"row_heading level0 row5\" >5</th>\n",
       "      <td id=\"T_c3d1e_row5_col0\" class=\"data row5 col0\" >Transformed train set shape</td>\n",
       "      <td id=\"T_c3d1e_row5_col1\" class=\"data row5 col1\" >(43401, 255)</td>\n",
       "    </tr>\n",
       "    <tr>\n",
       "      <th id=\"T_c3d1e_level0_row6\" class=\"row_heading level0 row6\" >6</th>\n",
       "      <td id=\"T_c3d1e_row6_col0\" class=\"data row6 col0\" >Transformed test set shape</td>\n",
       "      <td id=\"T_c3d1e_row6_col1\" class=\"data row6 col1\" >(17986, 255)</td>\n",
       "    </tr>\n",
       "    <tr>\n",
       "      <th id=\"T_c3d1e_level0_row7\" class=\"row_heading level0 row7\" >7</th>\n",
       "      <td id=\"T_c3d1e_row7_col0\" class=\"data row7 col0\" >Numeric features</td>\n",
       "      <td id=\"T_c3d1e_row7_col1\" class=\"data row7 col1\" >254</td>\n",
       "    </tr>\n",
       "    <tr>\n",
       "      <th id=\"T_c3d1e_level0_row8\" class=\"row_heading level0 row8\" >8</th>\n",
       "      <td id=\"T_c3d1e_row8_col0\" class=\"data row8 col0\" >Preprocess</td>\n",
       "      <td id=\"T_c3d1e_row8_col1\" class=\"data row8 col1\" >True</td>\n",
       "    </tr>\n",
       "    <tr>\n",
       "      <th id=\"T_c3d1e_level0_row9\" class=\"row_heading level0 row9\" >9</th>\n",
       "      <td id=\"T_c3d1e_row9_col0\" class=\"data row9 col0\" >Imputation type</td>\n",
       "      <td id=\"T_c3d1e_row9_col1\" class=\"data row9 col1\" >simple</td>\n",
       "    </tr>\n",
       "    <tr>\n",
       "      <th id=\"T_c3d1e_level0_row10\" class=\"row_heading level0 row10\" >10</th>\n",
       "      <td id=\"T_c3d1e_row10_col0\" class=\"data row10 col0\" >Numeric imputation</td>\n",
       "      <td id=\"T_c3d1e_row10_col1\" class=\"data row10 col1\" >mean</td>\n",
       "    </tr>\n",
       "    <tr>\n",
       "      <th id=\"T_c3d1e_level0_row11\" class=\"row_heading level0 row11\" >11</th>\n",
       "      <td id=\"T_c3d1e_row11_col0\" class=\"data row11 col0\" >Categorical imputation</td>\n",
       "      <td id=\"T_c3d1e_row11_col1\" class=\"data row11 col1\" >mode</td>\n",
       "    </tr>\n",
       "    <tr>\n",
       "      <th id=\"T_c3d1e_level0_row12\" class=\"row_heading level0 row12\" >12</th>\n",
       "      <td id=\"T_c3d1e_row12_col0\" class=\"data row12 col0\" >Normalize</td>\n",
       "      <td id=\"T_c3d1e_row12_col1\" class=\"data row12 col1\" >True</td>\n",
       "    </tr>\n",
       "    <tr>\n",
       "      <th id=\"T_c3d1e_level0_row13\" class=\"row_heading level0 row13\" >13</th>\n",
       "      <td id=\"T_c3d1e_row13_col0\" class=\"data row13 col0\" >Normalize method</td>\n",
       "      <td id=\"T_c3d1e_row13_col1\" class=\"data row13 col1\" >zscore</td>\n",
       "    </tr>\n",
       "    <tr>\n",
       "      <th id=\"T_c3d1e_level0_row14\" class=\"row_heading level0 row14\" >14</th>\n",
       "      <td id=\"T_c3d1e_row14_col0\" class=\"data row14 col0\" >Fold Generator</td>\n",
       "      <td id=\"T_c3d1e_row14_col1\" class=\"data row14 col1\" >StratifiedKFold</td>\n",
       "    </tr>\n",
       "    <tr>\n",
       "      <th id=\"T_c3d1e_level0_row15\" class=\"row_heading level0 row15\" >15</th>\n",
       "      <td id=\"T_c3d1e_row15_col0\" class=\"data row15 col0\" >Fold Number</td>\n",
       "      <td id=\"T_c3d1e_row15_col1\" class=\"data row15 col1\" >10</td>\n",
       "    </tr>\n",
       "    <tr>\n",
       "      <th id=\"T_c3d1e_level0_row16\" class=\"row_heading level0 row16\" >16</th>\n",
       "      <td id=\"T_c3d1e_row16_col0\" class=\"data row16 col0\" >CPU Jobs</td>\n",
       "      <td id=\"T_c3d1e_row16_col1\" class=\"data row16 col1\" >-1</td>\n",
       "    </tr>\n",
       "    <tr>\n",
       "      <th id=\"T_c3d1e_level0_row17\" class=\"row_heading level0 row17\" >17</th>\n",
       "      <td id=\"T_c3d1e_row17_col0\" class=\"data row17 col0\" >Use GPU</td>\n",
       "      <td id=\"T_c3d1e_row17_col1\" class=\"data row17 col1\" >False</td>\n",
       "    </tr>\n",
       "    <tr>\n",
       "      <th id=\"T_c3d1e_level0_row18\" class=\"row_heading level0 row18\" >18</th>\n",
       "      <td id=\"T_c3d1e_row18_col0\" class=\"data row18 col0\" >Log Experiment</td>\n",
       "      <td id=\"T_c3d1e_row18_col1\" class=\"data row18 col1\" >False</td>\n",
       "    </tr>\n",
       "    <tr>\n",
       "      <th id=\"T_c3d1e_level0_row19\" class=\"row_heading level0 row19\" >19</th>\n",
       "      <td id=\"T_c3d1e_row19_col0\" class=\"data row19 col0\" >Experiment Name</td>\n",
       "      <td id=\"T_c3d1e_row19_col1\" class=\"data row19 col1\" >clf-default-name</td>\n",
       "    </tr>\n",
       "    <tr>\n",
       "      <th id=\"T_c3d1e_level0_row20\" class=\"row_heading level0 row20\" >20</th>\n",
       "      <td id=\"T_c3d1e_row20_col0\" class=\"data row20 col0\" >USI</td>\n",
       "      <td id=\"T_c3d1e_row20_col1\" class=\"data row20 col1\" >98e5</td>\n",
       "    </tr>\n",
       "  </tbody>\n",
       "</table>\n"
      ],
      "text/plain": [
       "<pandas.io.formats.style.Styler at 0x1f9513af790>"
      ]
     },
     "metadata": {},
     "output_type": "display_data"
    }
   ],
   "source": [
    "# original space, circulatory prediction\n",
    "\n",
    "input_space_clf_setting = setup(data = mimic_train_ori_sampling.drop(['Unnamed: 0', 'subject_id', 'stay_id', 'hadm_id','Annotation','CIRC_next_12h'], axis = 1), target = 'classes',\n",
    "                                test_data = mimic_valid_ori_sampling.drop(['Unnamed: 0', 'subject_id', 'stay_id', 'hadm_id','Annotation','CIRC_next_12h'], axis = 1), normalize=True,\n",
    "                                index=False, session_id = 123)"
   ]
  },
  {
   "cell_type": "code",
   "execution_count": 67,
   "metadata": {},
   "outputs": [
    {
     "data": {
      "text/plain": [
       "2076"
      ]
     },
     "execution_count": 67,
     "metadata": {},
     "output_type": "execute_result"
    }
   ],
   "source": [
    "import gc\n",
    "gc.collect()"
   ]
  },
  {
   "cell_type": "code",
   "execution_count": 29,
   "metadata": {},
   "outputs": [
    {
     "data": {
      "text/plain": [
       "Name                                                       precision_0\n",
       "Display Name                                               precision_0\n",
       "Score Function       <pycaret.internal.metrics.EncodedDecodedLabels...\n",
       "Scorer                                    make_scorer(Precision_pos_0)\n",
       "Target                                                            pred\n",
       "Args                                                                {}\n",
       "Greater is Better                                                 True\n",
       "Multiclass                                                        True\n",
       "Custom                                                            True\n",
       "Name: precision_0, dtype: object"
      ]
     },
     "execution_count": 29,
     "metadata": {},
     "output_type": "execute_result"
    }
   ],
   "source": [
    "from sklearn.metrics import average_precision_score\n",
    "add_metric('AUPRC_0', 'AUPRC_0', average_precision_score, target = 'pred_proba', pos_label = 0)\n",
    "add_metric('AUPRC_1', 'AUPRC_1', average_precision_score, target = 'pred_proba', pos_label = 1)\n",
    "\n",
    "from sklearn.metrics import recall_score\n",
    "from sklearn.metrics import precision_score\n",
    "# create a custom function\n",
    "def Recall_pos_0(y_true, y_pred):\n",
    "    return recall_score(y_true\n",
    "                        , y_pred\n",
    "                        , pos_label=0\n",
    "                        , zero_division=1)\n",
    "    \n",
    "def Precision_pos_0(y_true, y_pred):\n",
    "    return precision_score(y_true\n",
    "                        , y_pred\n",
    "                        , pos_label=0\n",
    "                        , zero_division=1)\n",
    "    \n",
    "# add metric to PyCaret\n",
    "add_metric('recall_0', 'recall_0', Recall_pos_0, greater_is_better = True)\n",
    "# add metric to PyCaret\n",
    "add_metric('precision_0', 'precision_0', Precision_pos_0, greater_is_better = True)"
   ]
  },
  {
   "cell_type": "code",
   "execution_count": 21,
   "metadata": {},
   "outputs": [
    {
     "data": {
      "text/html": [],
      "text/plain": [
       "<IPython.core.display.HTML object>"
      ]
     },
     "metadata": {},
     "output_type": "display_data"
    },
    {
     "data": {
      "text/html": [
       "<style type=\"text/css\">\n",
       "</style>\n",
       "<table id=\"T_bc1c8\">\n",
       "  <thead>\n",
       "    <tr>\n",
       "      <th class=\"blank level0\" >&nbsp;</th>\n",
       "      <th id=\"T_bc1c8_level0_col0\" class=\"col_heading level0 col0\" >Accuracy</th>\n",
       "      <th id=\"T_bc1c8_level0_col1\" class=\"col_heading level0 col1\" >AUC</th>\n",
       "      <th id=\"T_bc1c8_level0_col2\" class=\"col_heading level0 col2\" >Recall</th>\n",
       "      <th id=\"T_bc1c8_level0_col3\" class=\"col_heading level0 col3\" >Prec.</th>\n",
       "      <th id=\"T_bc1c8_level0_col4\" class=\"col_heading level0 col4\" >F1</th>\n",
       "      <th id=\"T_bc1c8_level0_col5\" class=\"col_heading level0 col5\" >Kappa</th>\n",
       "      <th id=\"T_bc1c8_level0_col6\" class=\"col_heading level0 col6\" >MCC</th>\n",
       "      <th id=\"T_bc1c8_level0_col7\" class=\"col_heading level0 col7\" >AUPRC_0</th>\n",
       "      <th id=\"T_bc1c8_level0_col8\" class=\"col_heading level0 col8\" >AUPRC_1</th>\n",
       "      <th id=\"T_bc1c8_level0_col9\" class=\"col_heading level0 col9\" >recall_0</th>\n",
       "      <th id=\"T_bc1c8_level0_col10\" class=\"col_heading level0 col10\" >precision_0</th>\n",
       "    </tr>\n",
       "  </thead>\n",
       "  <tbody>\n",
       "    <tr>\n",
       "      <th id=\"T_bc1c8_level0_row0\" class=\"row_heading level0 row0\" >Test</th>\n",
       "      <td id=\"T_bc1c8_row0_col0\" class=\"data row0 col0\" >0.9716</td>\n",
       "      <td id=\"T_bc1c8_row0_col1\" class=\"data row0 col1\" >0.9779</td>\n",
       "      <td id=\"T_bc1c8_row0_col2\" class=\"data row0 col2\" >0.9893</td>\n",
       "      <td id=\"T_bc1c8_row0_col3\" class=\"data row0 col3\" >0.9811</td>\n",
       "      <td id=\"T_bc1c8_row0_col4\" class=\"data row0 col4\" >0.9852</td>\n",
       "      <td id=\"T_bc1c8_row0_col5\" class=\"data row0 col5\" >0.6417</td>\n",
       "      <td id=\"T_bc1c8_row0_col6\" class=\"data row0 col6\" >0.6449</td>\n",
       "      <td id=\"T_bc1c8_row0_col7\" class=\"data row0 col7\" >0.0232</td>\n",
       "      <td id=\"T_bc1c8_row0_col8\" class=\"data row0 col8\" >0.9989</td>\n",
       "      <td id=\"T_bc1c8_row0_col9\" class=\"data row0 col9\" >0.5988</td>\n",
       "      <td id=\"T_bc1c8_row0_col10\" class=\"data row0 col10\" >0.7262</td>\n",
       "    </tr>\n",
       "  </tbody>\n",
       "</table>\n"
      ],
      "text/plain": [
       "<pandas.io.formats.style.Styler at 0x1f951afcb50>"
      ]
     },
     "metadata": {},
     "output_type": "display_data"
    },
    {
     "data": {
      "text/html": [],
      "text/plain": [
       "<IPython.core.display.HTML object>"
      ]
     },
     "metadata": {},
     "output_type": "display_data"
    }
   ],
   "source": [
    "lightgbm = create_model('lightgbm', cross_validation=False, learning_rate=0.1)"
   ]
  },
  {
   "cell_type": "code",
   "execution_count": 22,
   "metadata": {},
   "outputs": [],
   "source": [
    "#FICS: Fairness-Incorporated Composite Score\n",
    "def FICS(auprc, f1score, w1, w2):\n",
    "    fics = auprc*w1 + f1score*w2\n",
    "    print(fics)"
   ]
  },
  {
   "cell_type": "code",
   "execution_count": 23,
   "metadata": {},
   "outputs": [
    {
     "name": "stdout",
     "output_type": "stream",
     "text": [
      "1.4788000000000001\n"
     ]
    }
   ],
   "source": [
    "FICS(0.0232, 0.9859, 18.7, 1)"
   ]
  },
  {
   "cell_type": "code",
   "execution_count": 24,
   "metadata": {},
   "outputs": [
    {
     "data": {
      "text/html": [],
      "text/plain": [
       "<IPython.core.display.HTML object>"
      ]
     },
     "metadata": {},
     "output_type": "display_data"
    },
    {
     "data": {
      "text/html": [
       "<style type=\"text/css\">\n",
       "</style>\n",
       "<table id=\"T_722c8\">\n",
       "  <thead>\n",
       "    <tr>\n",
       "      <th class=\"blank level0\" >&nbsp;</th>\n",
       "      <th id=\"T_722c8_level0_col0\" class=\"col_heading level0 col0\" >Accuracy</th>\n",
       "      <th id=\"T_722c8_level0_col1\" class=\"col_heading level0 col1\" >AUC</th>\n",
       "      <th id=\"T_722c8_level0_col2\" class=\"col_heading level0 col2\" >Recall</th>\n",
       "      <th id=\"T_722c8_level0_col3\" class=\"col_heading level0 col3\" >Prec.</th>\n",
       "      <th id=\"T_722c8_level0_col4\" class=\"col_heading level0 col4\" >F1</th>\n",
       "      <th id=\"T_722c8_level0_col5\" class=\"col_heading level0 col5\" >Kappa</th>\n",
       "      <th id=\"T_722c8_level0_col6\" class=\"col_heading level0 col6\" >MCC</th>\n",
       "      <th id=\"T_722c8_level0_col7\" class=\"col_heading level0 col7\" >AUPRC_0</th>\n",
       "      <th id=\"T_722c8_level0_col8\" class=\"col_heading level0 col8\" >AUPRC_1</th>\n",
       "      <th id=\"T_722c8_level0_col9\" class=\"col_heading level0 col9\" >recall_0</th>\n",
       "      <th id=\"T_722c8_level0_col10\" class=\"col_heading level0 col10\" >precision_0</th>\n",
       "    </tr>\n",
       "  </thead>\n",
       "  <tbody>\n",
       "    <tr>\n",
       "      <th id=\"T_722c8_level0_row0\" class=\"row_heading level0 row0\" >Test</th>\n",
       "      <td id=\"T_722c8_row0_col0\" class=\"data row0 col0\" >0.9718</td>\n",
       "      <td id=\"T_722c8_row0_col1\" class=\"data row0 col1\" >0.9785</td>\n",
       "      <td id=\"T_722c8_row0_col2\" class=\"data row0 col2\" >0.9904</td>\n",
       "      <td id=\"T_722c8_row0_col3\" class=\"data row0 col3\" >0.9802</td>\n",
       "      <td id=\"T_722c8_row0_col4\" class=\"data row0 col4\" >0.9853</td>\n",
       "      <td id=\"T_722c8_row0_col5\" class=\"data row0 col5\" >0.6361</td>\n",
       "      <td id=\"T_722c8_row0_col6\" class=\"data row0 col6\" >0.6414</td>\n",
       "      <td id=\"T_722c8_row0_col7\" class=\"data row0 col7\" >0.0232</td>\n",
       "      <td id=\"T_722c8_row0_col8\" class=\"data row0 col8\" >0.9989</td>\n",
       "      <td id=\"T_722c8_row0_col9\" class=\"data row0 col9\" >0.5791</td>\n",
       "      <td id=\"T_722c8_row0_col10\" class=\"data row0 col10\" >0.7421</td>\n",
       "    </tr>\n",
       "  </tbody>\n",
       "</table>\n"
      ],
      "text/plain": [
       "<pandas.io.formats.style.Styler at 0x1f96bf29610>"
      ]
     },
     "metadata": {},
     "output_type": "display_data"
    },
    {
     "data": {
      "text/html": [],
      "text/plain": [
       "<IPython.core.display.HTML object>"
      ]
     },
     "metadata": {},
     "output_type": "display_data"
    }
   ],
   "source": [
    "xgboost = create_model('xgboost', cross_validation=False, learning_rate=0.1)"
   ]
  },
  {
   "cell_type": "code",
   "execution_count": 14,
   "metadata": {},
   "outputs": [
    {
     "name": "stdout",
     "output_type": "stream",
     "text": [
      "1.479\n"
     ]
    }
   ],
   "source": [
    "FICS(0.0154, 0.9862, 32, 1)"
   ]
  },
  {
   "cell_type": "code",
   "execution_count": 25,
   "metadata": {},
   "outputs": [
    {
     "data": {
      "text/html": [],
      "text/plain": [
       "<IPython.core.display.HTML object>"
      ]
     },
     "metadata": {},
     "output_type": "display_data"
    },
    {
     "data": {
      "text/html": [
       "<style type=\"text/css\">\n",
       "</style>\n",
       "<table id=\"T_05959\">\n",
       "  <thead>\n",
       "    <tr>\n",
       "      <th class=\"blank level0\" >&nbsp;</th>\n",
       "      <th id=\"T_05959_level0_col0\" class=\"col_heading level0 col0\" >Accuracy</th>\n",
       "      <th id=\"T_05959_level0_col1\" class=\"col_heading level0 col1\" >AUC</th>\n",
       "      <th id=\"T_05959_level0_col2\" class=\"col_heading level0 col2\" >Recall</th>\n",
       "      <th id=\"T_05959_level0_col3\" class=\"col_heading level0 col3\" >Prec.</th>\n",
       "      <th id=\"T_05959_level0_col4\" class=\"col_heading level0 col4\" >F1</th>\n",
       "      <th id=\"T_05959_level0_col5\" class=\"col_heading level0 col5\" >Kappa</th>\n",
       "      <th id=\"T_05959_level0_col6\" class=\"col_heading level0 col6\" >MCC</th>\n",
       "      <th id=\"T_05959_level0_col7\" class=\"col_heading level0 col7\" >AUPRC_0</th>\n",
       "      <th id=\"T_05959_level0_col8\" class=\"col_heading level0 col8\" >AUPRC_1</th>\n",
       "      <th id=\"T_05959_level0_col9\" class=\"col_heading level0 col9\" >recall_0</th>\n",
       "      <th id=\"T_05959_level0_col10\" class=\"col_heading level0 col10\" >precision_0</th>\n",
       "    </tr>\n",
       "  </thead>\n",
       "  <tbody>\n",
       "    <tr>\n",
       "      <th id=\"T_05959_level0_row0\" class=\"row_heading level0 row0\" >Test</th>\n",
       "      <td id=\"T_05959_row0_col0\" class=\"data row0 col0\" >0.9549</td>\n",
       "      <td id=\"T_05959_row0_col1\" class=\"data row0 col1\" >0.8674</td>\n",
       "      <td id=\"T_05959_row0_col2\" class=\"data row0 col2\" >0.9983</td>\n",
       "      <td id=\"T_05959_row0_col3\" class=\"data row0 col3\" >0.9564</td>\n",
       "      <td id=\"T_05959_row0_col4\" class=\"data row0 col4\" >0.9769</td>\n",
       "      <td id=\"T_05959_row0_col5\" class=\"data row0 col5\" >0.0691</td>\n",
       "      <td id=\"T_05959_row0_col6\" class=\"data row0 col6\" >0.1364</td>\n",
       "      <td id=\"T_05959_row0_col7\" class=\"data row0 col7\" >0.0246</td>\n",
       "      <td id=\"T_05959_row0_col8\" class=\"data row0 col8\" >0.9919</td>\n",
       "      <td id=\"T_05959_row0_col9\" class=\"data row0 col9\" >0.0405</td>\n",
       "      <td id=\"T_05959_row0_col10\" class=\"data row0 col10\" >0.5238</td>\n",
       "    </tr>\n",
       "  </tbody>\n",
       "</table>\n"
      ],
      "text/plain": [
       "<pandas.io.formats.style.Styler at 0x1f966dd8490>"
      ]
     },
     "metadata": {},
     "output_type": "display_data"
    },
    {
     "data": {
      "text/html": [],
      "text/plain": [
       "<IPython.core.display.HTML object>"
      ]
     },
     "metadata": {},
     "output_type": "display_data"
    }
   ],
   "source": [
    "lr = create_model('lr', cross_validation=False)"
   ]
  },
  {
   "cell_type": "code",
   "execution_count": 16,
   "metadata": {},
   "outputs": [
    {
     "name": "stdout",
     "output_type": "stream",
     "text": [
      "1.5002\n"
     ]
    }
   ],
   "source": [
    "FICS(0.0161, 0.9850, 32, 1)"
   ]
  },
  {
   "cell_type": "code",
   "execution_count": 30,
   "metadata": {},
   "outputs": [
    {
     "data": {
      "text/html": [],
      "text/plain": [
       "<IPython.core.display.HTML object>"
      ]
     },
     "metadata": {},
     "output_type": "display_data"
    },
    {
     "data": {
      "text/html": [
       "<style type=\"text/css\">\n",
       "</style>\n",
       "<table id=\"T_37967\">\n",
       "  <thead>\n",
       "    <tr>\n",
       "      <th class=\"blank level0\" >&nbsp;</th>\n",
       "      <th id=\"T_37967_level0_col0\" class=\"col_heading level0 col0\" >Accuracy</th>\n",
       "      <th id=\"T_37967_level0_col1\" class=\"col_heading level0 col1\" >AUC</th>\n",
       "      <th id=\"T_37967_level0_col2\" class=\"col_heading level0 col2\" >Recall</th>\n",
       "      <th id=\"T_37967_level0_col3\" class=\"col_heading level0 col3\" >Prec.</th>\n",
       "      <th id=\"T_37967_level0_col4\" class=\"col_heading level0 col4\" >F1</th>\n",
       "      <th id=\"T_37967_level0_col5\" class=\"col_heading level0 col5\" >Kappa</th>\n",
       "      <th id=\"T_37967_level0_col6\" class=\"col_heading level0 col6\" >MCC</th>\n",
       "      <th id=\"T_37967_level0_col7\" class=\"col_heading level0 col7\" >AUPRC_0</th>\n",
       "      <th id=\"T_37967_level0_col8\" class=\"col_heading level0 col8\" >AUPRC_1</th>\n",
       "      <th id=\"T_37967_level0_col9\" class=\"col_heading level0 col9\" >recall_0</th>\n",
       "      <th id=\"T_37967_level0_col10\" class=\"col_heading level0 col10\" >precision_0</th>\n",
       "    </tr>\n",
       "  </thead>\n",
       "  <tbody>\n",
       "    <tr>\n",
       "      <th id=\"T_37967_level0_row0\" class=\"row_heading level0 row0\" >Test</th>\n",
       "      <td id=\"T_37967_row0_col0\" class=\"data row0 col0\" >0.9734</td>\n",
       "      <td id=\"T_37967_row0_col1\" class=\"data row0 col1\" >0.8061</td>\n",
       "      <td id=\"T_37967_row0_col2\" class=\"data row0 col2\" >0.9901</td>\n",
       "      <td id=\"T_37967_row0_col3\" class=\"data row0 col3\" >0.9822</td>\n",
       "      <td id=\"T_37967_row0_col4\" class=\"data row0 col4\" >0.9861</td>\n",
       "      <td id=\"T_37967_row0_col5\" class=\"data row0 col5\" >0.6659</td>\n",
       "      <td id=\"T_37967_row0_col6\" class=\"data row0 col6\" >0.6690</td>\n",
       "      <td id=\"T_37967_row0_col7\" class=\"data row0 col7\" >0.0349</td>\n",
       "      <td id=\"T_37967_row0_col8\" class=\"data row0 col8\" >0.9819</td>\n",
       "      <td id=\"T_37967_row0_col9\" class=\"data row0 col9\" >0.6221</td>\n",
       "      <td id=\"T_37967_row0_col10\" class=\"data row0 col10\" >0.7489</td>\n",
       "    </tr>\n",
       "  </tbody>\n",
       "</table>\n"
      ],
      "text/plain": [
       "<pandas.io.formats.style.Styler at 0x1f97fa5d790>"
      ]
     },
     "metadata": {},
     "output_type": "display_data"
    },
    {
     "data": {
      "text/html": [],
      "text/plain": [
       "<IPython.core.display.HTML object>"
      ]
     },
     "metadata": {},
     "output_type": "display_data"
    }
   ],
   "source": [
    "svm = create_model('svm', cross_validation=False)"
   ]
  },
  {
   "cell_type": "code",
   "execution_count": 18,
   "metadata": {},
   "outputs": [
    {
     "name": "stdout",
     "output_type": "stream",
     "text": [
      "1.8883\n"
     ]
    }
   ],
   "source": [
    "FICS(0.0283\t, 0.9827, 32, 1)"
   ]
  },
  {
   "cell_type": "code",
   "execution_count": 27,
   "metadata": {},
   "outputs": [
    {
     "data": {
      "text/html": [],
      "text/plain": [
       "<IPython.core.display.HTML object>"
      ]
     },
     "metadata": {},
     "output_type": "display_data"
    },
    {
     "data": {
      "text/html": [
       "<style type=\"text/css\">\n",
       "</style>\n",
       "<table id=\"T_ed061\">\n",
       "  <thead>\n",
       "    <tr>\n",
       "      <th class=\"blank level0\" >&nbsp;</th>\n",
       "      <th id=\"T_ed061_level0_col0\" class=\"col_heading level0 col0\" >Accuracy</th>\n",
       "      <th id=\"T_ed061_level0_col1\" class=\"col_heading level0 col1\" >AUC</th>\n",
       "      <th id=\"T_ed061_level0_col2\" class=\"col_heading level0 col2\" >Recall</th>\n",
       "      <th id=\"T_ed061_level0_col3\" class=\"col_heading level0 col3\" >Prec.</th>\n",
       "      <th id=\"T_ed061_level0_col4\" class=\"col_heading level0 col4\" >F1</th>\n",
       "      <th id=\"T_ed061_level0_col5\" class=\"col_heading level0 col5\" >Kappa</th>\n",
       "      <th id=\"T_ed061_level0_col6\" class=\"col_heading level0 col6\" >MCC</th>\n",
       "      <th id=\"T_ed061_level0_col7\" class=\"col_heading level0 col7\" >AUPRC_0</th>\n",
       "      <th id=\"T_ed061_level0_col8\" class=\"col_heading level0 col8\" >AUPRC_1</th>\n",
       "      <th id=\"T_ed061_level0_col9\" class=\"col_heading level0 col9\" >recall_0</th>\n",
       "      <th id=\"T_ed061_level0_col10\" class=\"col_heading level0 col10\" >precision_0</th>\n",
       "    </tr>\n",
       "  </thead>\n",
       "  <tbody>\n",
       "    <tr>\n",
       "      <th id=\"T_ed061_level0_row0\" class=\"row_heading level0 row0\" >Test</th>\n",
       "      <td id=\"T_ed061_row0_col0\" class=\"data row0 col0\" >0.4124</td>\n",
       "      <td id=\"T_ed061_row0_col1\" class=\"data row0 col1\" >0.8246</td>\n",
       "      <td id=\"T_ed061_row0_col2\" class=\"data row0 col2\" >0.3869</td>\n",
       "      <td id=\"T_ed061_row0_col3\" class=\"data row0 col3\" >0.9937</td>\n",
       "      <td id=\"T_ed061_row0_col4\" class=\"data row0 col4\" >0.5570</td>\n",
       "      <td id=\"T_ed061_row0_col5\" class=\"data row0 col5\" >0.0471</td>\n",
       "      <td id=\"T_ed061_row0_col6\" class=\"data row0 col6\" >0.1443</td>\n",
       "      <td id=\"T_ed061_row0_col7\" class=\"data row0 col7\" >0.0254</td>\n",
       "      <td id=\"T_ed061_row0_col8\" class=\"data row0 col8\" >0.9882</td>\n",
       "      <td id=\"T_ed061_row0_col9\" class=\"data row0 col9\" >0.9485</td>\n",
       "      <td id=\"T_ed061_row0_col10\" class=\"data row0 col10\" >0.0684</td>\n",
       "    </tr>\n",
       "  </tbody>\n",
       "</table>\n"
      ],
      "text/plain": [
       "<pandas.io.formats.style.Styler at 0x1f9513a3d30>"
      ]
     },
     "metadata": {},
     "output_type": "display_data"
    },
    {
     "data": {
      "text/html": [],
      "text/plain": [
       "<IPython.core.display.HTML object>"
      ]
     },
     "metadata": {},
     "output_type": "display_data"
    }
   ],
   "source": [
    "nb = create_model('nb', cross_validation=False)"
   ]
  },
  {
   "cell_type": "code",
   "execution_count": 20,
   "metadata": {},
   "outputs": [
    {
     "name": "stdout",
     "output_type": "stream",
     "text": [
      "1.1732\n"
     ]
    }
   ],
   "source": [
    "FICS(0.0168\t, 0.6356, 32, 1)"
   ]
  },
  {
   "cell_type": "code",
   "execution_count": 39,
   "metadata": {},
   "outputs": [],
   "source": [
    "test_data = mimic_valid_ori_sampling.copy().reset_index(drop=True)\n",
    "idx = test_data[test_data['classes']==1].index\n",
    "test_data['Annotation'].loc[idx] = 'no_circ'"
   ]
  },
  {
   "cell_type": "code",
   "execution_count": 57,
   "metadata": {},
   "outputs": [
    {
     "data": {
      "text/html": [
       "<div>\n",
       "<style scoped>\n",
       "    .dataframe tbody tr th:only-of-type {\n",
       "        vertical-align: middle;\n",
       "    }\n",
       "\n",
       "    .dataframe tbody tr th {\n",
       "        vertical-align: top;\n",
       "    }\n",
       "\n",
       "    .dataframe thead th {\n",
       "        text-align: right;\n",
       "    }\n",
       "</style>\n",
       "<table border=\"1\" class=\"dataframe\">\n",
       "  <thead>\n",
       "    <tr style=\"text-align: right;\">\n",
       "      <th></th>\n",
       "      <th>Time_since_ICU_admission</th>\n",
       "      <th>Annotation</th>\n",
       "      <th>CIRC_next_12h</th>\n",
       "      <th>classes</th>\n",
       "    </tr>\n",
       "  </thead>\n",
       "  <tbody>\n",
       "    <tr>\n",
       "      <th>3542</th>\n",
       "      <td>3</td>\n",
       "      <td>no_circ</td>\n",
       "      <td>1.0</td>\n",
       "      <td>1</td>\n",
       "    </tr>\n",
       "    <tr>\n",
       "      <th>3543</th>\n",
       "      <td>4</td>\n",
       "      <td>no_circ</td>\n",
       "      <td>1.0</td>\n",
       "      <td>1</td>\n",
       "    </tr>\n",
       "    <tr>\n",
       "      <th>3544</th>\n",
       "      <td>5</td>\n",
       "      <td>no_circ</td>\n",
       "      <td>1.0</td>\n",
       "      <td>1</td>\n",
       "    </tr>\n",
       "    <tr>\n",
       "      <th>3545</th>\n",
       "      <td>6</td>\n",
       "      <td>no_circ</td>\n",
       "      <td>1.0</td>\n",
       "      <td>1</td>\n",
       "    </tr>\n",
       "    <tr>\n",
       "      <th>3546</th>\n",
       "      <td>7</td>\n",
       "      <td>no_circ</td>\n",
       "      <td>1.0</td>\n",
       "      <td>1</td>\n",
       "    </tr>\n",
       "    <tr>\n",
       "      <th>3547</th>\n",
       "      <td>8</td>\n",
       "      <td>no_circ</td>\n",
       "      <td>1.0</td>\n",
       "      <td>1</td>\n",
       "    </tr>\n",
       "    <tr>\n",
       "      <th>3548</th>\n",
       "      <td>9</td>\n",
       "      <td>no_circ</td>\n",
       "      <td>1.0</td>\n",
       "      <td>1</td>\n",
       "    </tr>\n",
       "    <tr>\n",
       "      <th>3549</th>\n",
       "      <td>10</td>\n",
       "      <td>no_circ</td>\n",
       "      <td>1.0</td>\n",
       "      <td>1</td>\n",
       "    </tr>\n",
       "    <tr>\n",
       "      <th>3550</th>\n",
       "      <td>11</td>\n",
       "      <td>no_circ</td>\n",
       "      <td>1.0</td>\n",
       "      <td>1</td>\n",
       "    </tr>\n",
       "    <tr>\n",
       "      <th>3551</th>\n",
       "      <td>12</td>\n",
       "      <td>no_circ</td>\n",
       "      <td>1.0</td>\n",
       "      <td>1</td>\n",
       "    </tr>\n",
       "    <tr>\n",
       "      <th>3552</th>\n",
       "      <td>13</td>\n",
       "      <td>no_circ</td>\n",
       "      <td>1.0</td>\n",
       "      <td>1</td>\n",
       "    </tr>\n",
       "    <tr>\n",
       "      <th>3553</th>\n",
       "      <td>14</td>\n",
       "      <td>no_circ</td>\n",
       "      <td>1.0</td>\n",
       "      <td>1</td>\n",
       "    </tr>\n",
       "    <tr>\n",
       "      <th>3554</th>\n",
       "      <td>15</td>\n",
       "      <td>no_circ</td>\n",
       "      <td>1.0</td>\n",
       "      <td>1</td>\n",
       "    </tr>\n",
       "    <tr>\n",
       "      <th>3555</th>\n",
       "      <td>16</td>\n",
       "      <td>no_circ</td>\n",
       "      <td>1.0</td>\n",
       "      <td>1</td>\n",
       "    </tr>\n",
       "    <tr>\n",
       "      <th>15</th>\n",
       "      <td>17</td>\n",
       "      <td>circ</td>\n",
       "      <td>1.0</td>\n",
       "      <td>0</td>\n",
       "    </tr>\n",
       "    <tr>\n",
       "      <th>16</th>\n",
       "      <td>18</td>\n",
       "      <td>circ</td>\n",
       "      <td>1.0</td>\n",
       "      <td>0</td>\n",
       "    </tr>\n",
       "    <tr>\n",
       "      <th>17</th>\n",
       "      <td>19</td>\n",
       "      <td>circ</td>\n",
       "      <td>0.0</td>\n",
       "      <td>0</td>\n",
       "    </tr>\n",
       "  </tbody>\n",
       "</table>\n",
       "</div>"
      ],
      "text/plain": [
       "      Time_since_ICU_admission Annotation  CIRC_next_12h  classes\n",
       "3542                         3    no_circ            1.0        1\n",
       "3543                         4    no_circ            1.0        1\n",
       "3544                         5    no_circ            1.0        1\n",
       "3545                         6    no_circ            1.0        1\n",
       "3546                         7    no_circ            1.0        1\n",
       "3547                         8    no_circ            1.0        1\n",
       "3548                         9    no_circ            1.0        1\n",
       "3549                        10    no_circ            1.0        1\n",
       "3550                        11    no_circ            1.0        1\n",
       "3551                        12    no_circ            1.0        1\n",
       "3552                        13    no_circ            1.0        1\n",
       "3553                        14    no_circ            1.0        1\n",
       "3554                        15    no_circ            1.0        1\n",
       "3555                        16    no_circ            1.0        1\n",
       "15                          17       circ            1.0        0\n",
       "16                          18       circ            1.0        0\n",
       "17                          19       circ            0.0        0"
      ]
     },
     "execution_count": 57,
     "metadata": {},
     "output_type": "execute_result"
    }
   ],
   "source": [
    "test_data[test_data['stay_id']==test_data.stay_id.unique()[3]][['Time_since_ICU_admission','Annotation', 'CIRC_next_12h', 'classes']].sort_values(by='Time_since_ICU_admission')"
   ]
  },
  {
   "cell_type": "code",
   "execution_count": 58,
   "metadata": {},
   "outputs": [],
   "source": [
    "from sklearn.metrics import precision_score\n",
    "from sklearn.metrics import recall_score\n",
    "import numpy as np\n",
    "from tqdm import tqdm\n",
    "\n",
    "def filter_numeric_elements(lst):\n",
    "    return [x for x in lst if isinstance(x, (int, float))]\n",
    "\n",
    "def calculate_cap_recall(df, stid):\n",
    "    # 데이터프레임 복사본 생성\n",
    "    df_stid = df[df['stay_id'] == stid].copy()\n",
    "\n",
    "    # 연속적인 circ 이벤트 처리\n",
    "    df_stid['circ_event'] = (df_stid['Annotation'] == 'circ') & (df_stid['Annotation'].shift(1) != 'circ')\n",
    "\n",
    "    # circ 이벤트 시작 시점 찾기\n",
    "    circ_start_times = df_stid[df_stid['circ_event']]['Time_since_ICU_admission'].tolist()\n",
    "    captured_events = 0\n",
    "    drop_event = 0\n",
    "    for start_time in circ_start_times:\n",
    "        if start_time == df_stid['Time_since_ICU_admission'].values[0]:\n",
    "            drop_event += 1\n",
    "        else:\n",
    "            window_start = start_time - 12\n",
    "            previous_times = df_stid[(df_stid['Time_since_ICU_admission'] >= window_start) & (df_stid['Time_since_ICU_admission'] < start_time)]\n",
    "\n",
    "            # 이전 시간 데이터가 없는 경우도 평가에서 제외\n",
    "            if previous_times.empty:\n",
    "                drop_event += 1\n",
    "            elif any(previous_times['prediction_label'] == 1):\n",
    "                captured_events += 1\n",
    "\n",
    "    total_events = len(circ_start_times) - drop_event\n",
    "    if total_events > 0:\n",
    "        return captured_events / total_events\n",
    "    else:\n",
    "        return f'no event in stay id {stid}'  # 또는 적절한 값 반환\n",
    "    \n",
    "    \n",
    "def calculate_precision(df, stid):\n",
    "    # 특정 stay_id에 대한 데이터만 필터링\n",
    "    df_stid = df[df['stay_id'] == stid].copy()\n",
    "\n",
    "    df_stid['circ_event'] = (df_stid['Annotation'] == 'circ') & (df_stid['Annotation'].shift(1) != 'circ')\n",
    "    circ_start_times = df_stid[df_stid['circ_event']]['Time_since_ICU_admission'].tolist()\n",
    "    \n",
    "    # True Alarms와 Total Alarms 초기화\n",
    "    true_alarms = 0\n",
    "    total_alarms = 0\n",
    "    \n",
    "    # 데이터 프레임의 첫 관측치 시간 가져오기\n",
    "    first_observation_time = df_stid['Time_since_ICU_admission'].min()\n",
    "    \n",
    "    for start_time in circ_start_times:\n",
    "        # 첫 관측치에서 circ가 시작된 경우, 이를 precision 계산에서 제외\n",
    "        if start_time == first_observation_time:\n",
    "            continue\n",
    "        \n",
    "        # 이벤트 발생 전 12시간 동안의 예측된 알람 찾기\n",
    "        window_start = max(start_time - 12, first_observation_time)  # window 시작이 첫 관측치 시간보다 이전이면 첫 관측치 시간으로 설정\n",
    "        window_end = start_time\n",
    "        alarms_in_window = df_stid[(df_stid['Time_since_ICU_admission'] >= window_start) & \n",
    "                                   (df_stid['Time_since_ICU_admission'] < window_end) & \n",
    "                                   (df_stid['prediction_label'] == 1)]\n",
    "        \n",
    "        # 전체 알람 (Total Alarms) 계산\n",
    "        total_alarms += len(alarms_in_window)\n",
    "\n",
    "        # 진정한 알람 (True Alarms) 계산\n",
    "        if df_stid.loc[df_stid['Time_since_ICU_admission'] == start_time, 'CIRC_next_12h'].any():\n",
    "            true_alarms += len(alarms_in_window)\n",
    "\n",
    "    # Precision 계산\n",
    "    precision = true_alarms / total_alarms if total_alarms > 0 else 0  # 알람이 전혀 없으면 precision은 0으로 설정\n",
    "    \n",
    "    return precision\n",
    "\n",
    "\n",
    "def make_evaluation(model):\n",
    "\n",
    "    pred_df = predict_model(model, raw_score=True, data = test_data)\n",
    "\n",
    "    evaluation = test_data[['subject_id', 'stay_id', 'Time_since_ICU_admission', 'Annotation','classes', 'CIRC_next_12h']].copy().sort_values('Time_since_ICU_admission')\n",
    "    evaluation['prediction_label'] = pred_df['prediction_label'].values\n",
    "\n",
    "    case2_recall_precision = evaluation[(evaluation['CIRC_next_12h']==0) | (evaluation['CIRC_next_12h']==1)]\n",
    "\n",
    "    case_2precision = precision_score(case2_recall_precision['CIRC_next_12h'], case2_recall_precision['prediction_label'])\n",
    "    case_2recall = recall_score(case2_recall_precision['CIRC_next_12h'], case2_recall_precision['prediction_label'])\n",
    "    \n",
    "\n",
    "    recall = []\n",
    "    for stid in evaluation.stay_id.unique():\n",
    "        recall.append(calculate_cap_recall(evaluation, stid))\n",
    "\n",
    "    filtered_list = filter_numeric_elements(recall)\n",
    "    total_recall = np.nanmean(filtered_list)\n",
    "\n",
    "    precisions = []\n",
    "    for stid in evaluation['stay_id'].unique():\n",
    "        precisions.append(calculate_precision(evaluation, stid))\n",
    "\n",
    "    non_string_indices = [index for index, item in enumerate(recall) if not isinstance(item, str)]\n",
    "    precisions = [precisions[index] for index in non_string_indices]\n",
    "\n",
    "    mean_precision = np.mean([p for p in precisions if isinstance(p, (int, float))])\n",
    "\n",
    "    d = {'Model': [f'{model}'], 'Event Recall': [total_recall], 'Event Precision': [mean_precision], 'Case 2 Recall': [case_2recall], 'Case 2 Precision': [case_2precision]}\n",
    "    performance = pd.DataFrame(d)\n",
    "    display(performance)"
   ]
  },
  {
   "cell_type": "code",
   "execution_count": 69,
   "metadata": {},
   "outputs": [
    {
     "data": {
      "text/html": [
       "<style type=\"text/css\">\n",
       "</style>\n",
       "<table id=\"T_58a5c\">\n",
       "  <thead>\n",
       "    <tr>\n",
       "      <th class=\"blank level0\" >&nbsp;</th>\n",
       "      <th id=\"T_58a5c_level0_col0\" class=\"col_heading level0 col0\" >Model</th>\n",
       "      <th id=\"T_58a5c_level0_col1\" class=\"col_heading level0 col1\" >Accuracy</th>\n",
       "      <th id=\"T_58a5c_level0_col2\" class=\"col_heading level0 col2\" >AUC</th>\n",
       "      <th id=\"T_58a5c_level0_col3\" class=\"col_heading level0 col3\" >Recall</th>\n",
       "      <th id=\"T_58a5c_level0_col4\" class=\"col_heading level0 col4\" >Prec.</th>\n",
       "      <th id=\"T_58a5c_level0_col5\" class=\"col_heading level0 col5\" >F1</th>\n",
       "      <th id=\"T_58a5c_level0_col6\" class=\"col_heading level0 col6\" >Kappa</th>\n",
       "      <th id=\"T_58a5c_level0_col7\" class=\"col_heading level0 col7\" >MCC</th>\n",
       "    </tr>\n",
       "  </thead>\n",
       "  <tbody>\n",
       "    <tr>\n",
       "      <th id=\"T_58a5c_level0_row0\" class=\"row_heading level0 row0\" >0</th>\n",
       "      <td id=\"T_58a5c_row0_col0\" class=\"data row0 col0\" >Light Gradient Boosting Machine</td>\n",
       "      <td id=\"T_58a5c_row0_col1\" class=\"data row0 col1\" >0.9726</td>\n",
       "      <td id=\"T_58a5c_row0_col2\" class=\"data row0 col2\" >0.9123</td>\n",
       "      <td id=\"T_58a5c_row0_col3\" class=\"data row0 col3\" >0.9978</td>\n",
       "      <td id=\"T_58a5c_row0_col4\" class=\"data row0 col4\" >0.9746</td>\n",
       "      <td id=\"T_58a5c_row0_col5\" class=\"data row0 col5\" >0.9860</td>\n",
       "      <td id=\"T_58a5c_row0_col6\" class=\"data row0 col6\" >0.2247</td>\n",
       "      <td id=\"T_58a5c_row0_col7\" class=\"data row0 col7\" >0.2968</td>\n",
       "    </tr>\n",
       "  </tbody>\n",
       "</table>\n"
      ],
      "text/plain": [
       "<pandas.io.formats.style.Styler at 0x221a8786310>"
      ]
     },
     "metadata": {},
     "output_type": "display_data"
    },
    {
     "data": {
      "text/html": [
       "<div>\n",
       "<style scoped>\n",
       "    .dataframe tbody tr th:only-of-type {\n",
       "        vertical-align: middle;\n",
       "    }\n",
       "\n",
       "    .dataframe tbody tr th {\n",
       "        vertical-align: top;\n",
       "    }\n",
       "\n",
       "    .dataframe thead th {\n",
       "        text-align: right;\n",
       "    }\n",
       "</style>\n",
       "<table border=\"1\" class=\"dataframe\">\n",
       "  <thead>\n",
       "    <tr style=\"text-align: right;\">\n",
       "      <th></th>\n",
       "      <th>Model</th>\n",
       "      <th>Event Recall</th>\n",
       "      <th>Event Precision</th>\n",
       "      <th>Case 2 Recall</th>\n",
       "      <th>Case 2 Precision</th>\n",
       "    </tr>\n",
       "  </thead>\n",
       "  <tbody>\n",
       "    <tr>\n",
       "      <th>0</th>\n",
       "      <td>LGBMClassifier(boosting_type='gbdt', class_wei...</td>\n",
       "      <td>0.998483</td>\n",
       "      <td>0.902207</td>\n",
       "      <td>0.993779</td>\n",
       "      <td>0.956061</td>\n",
       "    </tr>\n",
       "  </tbody>\n",
       "</table>\n",
       "</div>"
      ],
      "text/plain": [
       "                                               Model  Event Recall  \\\n",
       "0  LGBMClassifier(boosting_type='gbdt', class_wei...      0.998483   \n",
       "\n",
       "   Event Precision  Case 2 Recall  Case 2 Precision  \n",
       "0         0.902207       0.993779          0.956061  "
      ]
     },
     "metadata": {},
     "output_type": "display_data"
    }
   ],
   "source": [
    "make_evaluation(lightgbm)"
   ]
  },
  {
   "cell_type": "code",
   "execution_count": 60,
   "metadata": {},
   "outputs": [
    {
     "data": {
      "text/html": [
       "<style type=\"text/css\">\n",
       "</style>\n",
       "<table id=\"T_f49ed\">\n",
       "  <thead>\n",
       "    <tr>\n",
       "      <th class=\"blank level0\" >&nbsp;</th>\n",
       "      <th id=\"T_f49ed_level0_col0\" class=\"col_heading level0 col0\" >Model</th>\n",
       "      <th id=\"T_f49ed_level0_col1\" class=\"col_heading level0 col1\" >Accuracy</th>\n",
       "      <th id=\"T_f49ed_level0_col2\" class=\"col_heading level0 col2\" >AUC</th>\n",
       "      <th id=\"T_f49ed_level0_col3\" class=\"col_heading level0 col3\" >Recall</th>\n",
       "      <th id=\"T_f49ed_level0_col4\" class=\"col_heading level0 col4\" >Prec.</th>\n",
       "      <th id=\"T_f49ed_level0_col5\" class=\"col_heading level0 col5\" >F1</th>\n",
       "      <th id=\"T_f49ed_level0_col6\" class=\"col_heading level0 col6\" >Kappa</th>\n",
       "      <th id=\"T_f49ed_level0_col7\" class=\"col_heading level0 col7\" >MCC</th>\n",
       "    </tr>\n",
       "  </thead>\n",
       "  <tbody>\n",
       "    <tr>\n",
       "      <th id=\"T_f49ed_level0_row0\" class=\"row_heading level0 row0\" >0</th>\n",
       "      <td id=\"T_f49ed_row0_col0\" class=\"data row0 col0\" >Extreme Gradient Boosting</td>\n",
       "      <td id=\"T_f49ed_row0_col1\" class=\"data row0 col1\" >0.9729</td>\n",
       "      <td id=\"T_f49ed_row0_col2\" class=\"data row0 col2\" >0.9144</td>\n",
       "      <td id=\"T_f49ed_row0_col3\" class=\"data row0 col3\" >0.9984</td>\n",
       "      <td id=\"T_f49ed_row0_col4\" class=\"data row0 col4\" >0.9743</td>\n",
       "      <td id=\"T_f49ed_row0_col5\" class=\"data row0 col5\" >0.9862</td>\n",
       "      <td id=\"T_f49ed_row0_col6\" class=\"data row0 col6\" >0.2127</td>\n",
       "      <td id=\"T_f49ed_row0_col7\" class=\"data row0 col7\" >0.2975</td>\n",
       "    </tr>\n",
       "  </tbody>\n",
       "</table>\n"
      ],
      "text/plain": [
       "<pandas.io.formats.style.Styler at 0x221a860f220>"
      ]
     },
     "metadata": {},
     "output_type": "display_data"
    },
    {
     "data": {
      "text/html": [
       "<div>\n",
       "<style scoped>\n",
       "    .dataframe tbody tr th:only-of-type {\n",
       "        vertical-align: middle;\n",
       "    }\n",
       "\n",
       "    .dataframe tbody tr th {\n",
       "        vertical-align: top;\n",
       "    }\n",
       "\n",
       "    .dataframe thead th {\n",
       "        text-align: right;\n",
       "    }\n",
       "</style>\n",
       "<table border=\"1\" class=\"dataframe\">\n",
       "  <thead>\n",
       "    <tr style=\"text-align: right;\">\n",
       "      <th></th>\n",
       "      <th>Model</th>\n",
       "      <th>Event Recall</th>\n",
       "      <th>Event Precision</th>\n",
       "      <th>Case 2 Recall</th>\n",
       "      <th>Case 2 Precision</th>\n",
       "    </tr>\n",
       "  </thead>\n",
       "  <tbody>\n",
       "    <tr>\n",
       "      <th>0</th>\n",
       "      <td>XGBClassifier(base_score=None, booster='gbtree...</td>\n",
       "      <td>0.995448</td>\n",
       "      <td>0.899172</td>\n",
       "      <td>0.994762</td>\n",
       "      <td>0.956062</td>\n",
       "    </tr>\n",
       "  </tbody>\n",
       "</table>\n",
       "</div>"
      ],
      "text/plain": [
       "                                               Model  Event Recall  \\\n",
       "0  XGBClassifier(base_score=None, booster='gbtree...      0.995448   \n",
       "\n",
       "   Event Precision  Case 2 Recall  Case 2 Precision  \n",
       "0         0.899172       0.994762          0.956062  "
      ]
     },
     "metadata": {},
     "output_type": "display_data"
    }
   ],
   "source": [
    "make_evaluation(xgboost)"
   ]
  },
  {
   "cell_type": "code",
   "execution_count": 61,
   "metadata": {},
   "outputs": [
    {
     "data": {
      "text/html": [
       "<style type=\"text/css\">\n",
       "</style>\n",
       "<table id=\"T_878dc\">\n",
       "  <thead>\n",
       "    <tr>\n",
       "      <th class=\"blank level0\" >&nbsp;</th>\n",
       "      <th id=\"T_878dc_level0_col0\" class=\"col_heading level0 col0\" >Model</th>\n",
       "      <th id=\"T_878dc_level0_col1\" class=\"col_heading level0 col1\" >Accuracy</th>\n",
       "      <th id=\"T_878dc_level0_col2\" class=\"col_heading level0 col2\" >AUC</th>\n",
       "      <th id=\"T_878dc_level0_col3\" class=\"col_heading level0 col3\" >Recall</th>\n",
       "      <th id=\"T_878dc_level0_col4\" class=\"col_heading level0 col4\" >Prec.</th>\n",
       "      <th id=\"T_878dc_level0_col5\" class=\"col_heading level0 col5\" >F1</th>\n",
       "      <th id=\"T_878dc_level0_col6\" class=\"col_heading level0 col6\" >Kappa</th>\n",
       "      <th id=\"T_878dc_level0_col7\" class=\"col_heading level0 col7\" >MCC</th>\n",
       "    </tr>\n",
       "  </thead>\n",
       "  <tbody>\n",
       "    <tr>\n",
       "      <th id=\"T_878dc_level0_row0\" class=\"row_heading level0 row0\" >0</th>\n",
       "      <td id=\"T_878dc_row0_col0\" class=\"data row0 col0\" >Logistic Regression</td>\n",
       "      <td id=\"T_878dc_row0_col1\" class=\"data row0 col1\" >0.9713</td>\n",
       "      <td id=\"T_878dc_row0_col2\" class=\"data row0 col2\" >0.8982</td>\n",
       "      <td id=\"T_878dc_row0_col3\" class=\"data row0 col3\" >0.9989</td>\n",
       "      <td id=\"T_878dc_row0_col4\" class=\"data row0 col4\" >0.9723</td>\n",
       "      <td id=\"T_878dc_row0_col5\" class=\"data row0 col5\" >0.9854</td>\n",
       "      <td id=\"T_878dc_row0_col6\" class=\"data row0 col6\" >0.1094</td>\n",
       "      <td id=\"T_878dc_row0_col7\" class=\"data row0 col7\" >0.1924</td>\n",
       "    </tr>\n",
       "  </tbody>\n",
       "</table>\n"
      ],
      "text/plain": [
       "<pandas.io.formats.style.Styler at 0x221a861c460>"
      ]
     },
     "metadata": {},
     "output_type": "display_data"
    },
    {
     "data": {
      "text/html": [
       "<div>\n",
       "<style scoped>\n",
       "    .dataframe tbody tr th:only-of-type {\n",
       "        vertical-align: middle;\n",
       "    }\n",
       "\n",
       "    .dataframe tbody tr th {\n",
       "        vertical-align: top;\n",
       "    }\n",
       "\n",
       "    .dataframe thead th {\n",
       "        text-align: right;\n",
       "    }\n",
       "</style>\n",
       "<table border=\"1\" class=\"dataframe\">\n",
       "  <thead>\n",
       "    <tr style=\"text-align: right;\">\n",
       "      <th></th>\n",
       "      <th>Model</th>\n",
       "      <th>Event Recall</th>\n",
       "      <th>Event Precision</th>\n",
       "      <th>Case 2 Recall</th>\n",
       "      <th>Case 2 Precision</th>\n",
       "    </tr>\n",
       "  </thead>\n",
       "  <tbody>\n",
       "    <tr>\n",
       "      <th>0</th>\n",
       "      <td>LogisticRegression(C=1.0, class_weight=None, d...</td>\n",
       "      <td>0.998483</td>\n",
       "      <td>0.902207</td>\n",
       "      <td>0.997106</td>\n",
       "      <td>0.956013</td>\n",
       "    </tr>\n",
       "  </tbody>\n",
       "</table>\n",
       "</div>"
      ],
      "text/plain": [
       "                                               Model  Event Recall  \\\n",
       "0  LogisticRegression(C=1.0, class_weight=None, d...      0.998483   \n",
       "\n",
       "   Event Precision  Case 2 Recall  Case 2 Precision  \n",
       "0         0.902207       0.997106          0.956013  "
      ]
     },
     "metadata": {},
     "output_type": "display_data"
    }
   ],
   "source": [
    "make_evaluation(lr)"
   ]
  },
  {
   "cell_type": "code",
   "execution_count": 62,
   "metadata": {},
   "outputs": [
    {
     "data": {
      "text/html": [
       "<style type=\"text/css\">\n",
       "</style>\n",
       "<table id=\"T_4a5a9\">\n",
       "  <thead>\n",
       "    <tr>\n",
       "      <th class=\"blank level0\" >&nbsp;</th>\n",
       "      <th id=\"T_4a5a9_level0_col0\" class=\"col_heading level0 col0\" >Model</th>\n",
       "      <th id=\"T_4a5a9_level0_col1\" class=\"col_heading level0 col1\" >Accuracy</th>\n",
       "      <th id=\"T_4a5a9_level0_col2\" class=\"col_heading level0 col2\" >AUC</th>\n",
       "      <th id=\"T_4a5a9_level0_col3\" class=\"col_heading level0 col3\" >Recall</th>\n",
       "      <th id=\"T_4a5a9_level0_col4\" class=\"col_heading level0 col4\" >Prec.</th>\n",
       "      <th id=\"T_4a5a9_level0_col5\" class=\"col_heading level0 col5\" >F1</th>\n",
       "      <th id=\"T_4a5a9_level0_col6\" class=\"col_heading level0 col6\" >Kappa</th>\n",
       "      <th id=\"T_4a5a9_level0_col7\" class=\"col_heading level0 col7\" >MCC</th>\n",
       "    </tr>\n",
       "  </thead>\n",
       "  <tbody>\n",
       "    <tr>\n",
       "      <th id=\"T_4a5a9_level0_row0\" class=\"row_heading level0 row0\" >0</th>\n",
       "      <td id=\"T_4a5a9_row0_col0\" class=\"data row0 col0\" >SVM - Linear Kernel</td>\n",
       "      <td id=\"T_4a5a9_row0_col1\" class=\"data row0 col1\" >0.9710</td>\n",
       "      <td id=\"T_4a5a9_row0_col2\" class=\"data row0 col2\" >0.5191</td>\n",
       "      <td id=\"T_4a5a9_row0_col3\" class=\"data row0 col3\" >0.9992</td>\n",
       "      <td id=\"T_4a5a9_row0_col4\" class=\"data row0 col4\" >0.9717</td>\n",
       "      <td id=\"T_4a5a9_row0_col5\" class=\"data row0 col5\" >0.9853</td>\n",
       "      <td id=\"T_4a5a9_row0_col6\" class=\"data row0 col6\" >0.0699</td>\n",
       "      <td id=\"T_4a5a9_row0_col7\" class=\"data row0 col7\" >0.1486</td>\n",
       "    </tr>\n",
       "  </tbody>\n",
       "</table>\n"
      ],
      "text/plain": [
       "<pandas.io.formats.style.Styler at 0x222f03bc940>"
      ]
     },
     "metadata": {},
     "output_type": "display_data"
    },
    {
     "data": {
      "text/html": [
       "<div>\n",
       "<style scoped>\n",
       "    .dataframe tbody tr th:only-of-type {\n",
       "        vertical-align: middle;\n",
       "    }\n",
       "\n",
       "    .dataframe tbody tr th {\n",
       "        vertical-align: top;\n",
       "    }\n",
       "\n",
       "    .dataframe thead th {\n",
       "        text-align: right;\n",
       "    }\n",
       "</style>\n",
       "<table border=\"1\" class=\"dataframe\">\n",
       "  <thead>\n",
       "    <tr style=\"text-align: right;\">\n",
       "      <th></th>\n",
       "      <th>Model</th>\n",
       "      <th>Event Recall</th>\n",
       "      <th>Event Precision</th>\n",
       "      <th>Case 2 Recall</th>\n",
       "      <th>Case 2 Precision</th>\n",
       "    </tr>\n",
       "  </thead>\n",
       "  <tbody>\n",
       "    <tr>\n",
       "      <th>0</th>\n",
       "      <td>SGDClassifier(alpha=0.0001, average=False, cla...</td>\n",
       "      <td>1.0</td>\n",
       "      <td>0.903725</td>\n",
       "      <td>0.998121</td>\n",
       "      <td>0.955976</td>\n",
       "    </tr>\n",
       "  </tbody>\n",
       "</table>\n",
       "</div>"
      ],
      "text/plain": [
       "                                               Model  Event Recall  \\\n",
       "0  SGDClassifier(alpha=0.0001, average=False, cla...           1.0   \n",
       "\n",
       "   Event Precision  Case 2 Recall  Case 2 Precision  \n",
       "0         0.903725       0.998121          0.955976  "
      ]
     },
     "metadata": {},
     "output_type": "display_data"
    }
   ],
   "source": [
    "make_evaluation(svm)"
   ]
  },
  {
   "cell_type": "code",
   "execution_count": 71,
   "metadata": {},
   "outputs": [
    {
     "data": {
      "text/html": [],
      "text/plain": [
       "<IPython.core.display.HTML object>"
      ]
     },
     "metadata": {},
     "output_type": "display_data"
    },
    {
     "data": {
      "image/png": "[encoded data removed]",
      "text/plain": [
       "<Figure size 800x500 with 1 Axes>"
      ]
     },
     "metadata": {},
     "output_type": "display_data"
    }
   ],
   "source": [
    "# 피처 공간의 변화와 선형 분리 가능성: supervised contrastive embedding을 통해 같은 클래스의 데이터는 가까워지고, 다른 클래스의 데이터는 멀어지도록 feature 공간을 변형하였는데,\n",
    "# 이러한 변환은 분류 경계면 형성에 큰 도움을 주어 선형 분리가능성을 높일 수 있었고, 마진 최대화를 통한 최적 결정 경계를 찾는 SVM에 특히 유리했을 것이다.\n",
    "# 반면, LightGBM과 XGBoost는 결정 트리 기반의 모델로, 변수의 값을 기준으로 분기하는 방식으로 작동한다.\n",
    "# 이는 contrastive embedding을 통한 feature 변환에 덜 민감하게 반응함을 의미하며, contrastive embedding 변환의 이점을 충분히 활용하지 못할 수 있다.\n",
    "\n",
    "\n",
    "# 모델의 성능 향상은 단일 feature의 중요도보다는 feature들 간의 상호작용과 전체 feature 집합의 기여도에 더 의존할 수 있음\n",
    "# 오히려, 이 feature가 결정 경계 형성에 필요한 정보를 제공하고 있으며, 다른 feature들과의 상호작용을 통해 모델의 성능을 향상시킬 수 있음\n",
    "\n",
    "plot_model(lightgbm, plot = 'feature')"
   ]
  },
  {
   "cell_type": "code",
   "execution_count": 62,
   "metadata": {},
   "outputs": [
    {
     "data": {
      "text/plain": [
       "0    1175656\n",
       "1      22253\n",
       "2        380\n",
       "3      12576\n",
       "Name: classes, dtype: int64"
      ]
     },
     "execution_count": 62,
     "metadata": {},
     "output_type": "execute_result"
    }
   ],
   "source": [
    "mimic_train_ori_sampling.classes.value_counts().sort_index()\n",
    "\n",
    "#비율을 만약에 클래스 1보다 줄이면 어떻게 될까?"
   ]
  },
  {
   "cell_type": "code",
   "execution_count": 72,
   "metadata": {},
   "outputs": [
    {
     "data": {
      "image/png": "[encoded data removed]",
      "text/plain": [
       "<Figure size 1000x1500 with 1 Axes>"
      ]
     },
     "metadata": {},
     "output_type": "display_data"
    }
   ],
   "source": [
    "import matplotlib.pyplot as plt\n",
    "import lightgbm as lgb\n",
    "lgb.plot_importance(lightgbm, importance_type=\"split\", figsize=(10,15), title=\"LightGBM Feature Importance (Split)\", max_num_features=20)\n",
    "plt.show()"
   ]
  },
  {
   "cell_type": "code",
   "execution_count": 73,
   "metadata": {},
   "outputs": [
    {
     "data": {
      "image/png": "[encoded data removed]",
      "text/plain": [
       "<Figure size 1000x1500 with 1 Axes>"
      ]
     },
     "metadata": {},
     "output_type": "display_data"
    }
   ],
   "source": [
    "import matplotlib.pyplot as plt\n",
    "import lightgbm as lgb\n",
    "lgb.plot_importance(lightgbm, importance_type=\"gain\", figsize=(10,15), title=\"LightGBM Feature Importance (Gain)\", max_num_features=20)\n",
    "plt.show()"
   ]
  },
  {
   "cell_type": "code",
   "execution_count": 65,
   "metadata": {},
   "outputs": [
    {
     "data": {
      "text/html": [],
      "text/plain": [
       "<IPython.core.display.HTML object>"
      ]
     },
     "metadata": {},
     "output_type": "display_data"
    },
    {
     "data": {
      "image/png": "[encoded data removed]",
      "text/plain": [
       "<Figure size 800x550 with 1 Axes>"
      ]
     },
     "metadata": {},
     "output_type": "display_data"
    }
   ],
   "source": [
    "plot_model(lightgbm, plot='confusion_matrix')"
   ]
  },
  {
   "cell_type": "code",
   "execution_count": null,
   "metadata": {},
   "outputs": [],
   "source": []
  }
 ],
 "metadata": {
  "kernelspec": {
   "display_name": "Umap_python",
   "language": "python",
   "name": "python3"
  },
  "language_info": {
   "codemirror_mode": {
    "name": "ipython",
    "version": 3
   },
   "file_extension": ".py",
   "mimetype": "text/x-python",
   "name": "python",
   "nbconvert_exporter": "python",
   "pygments_lexer": "ipython3",
   "version": "3.8.18"
  }
 },
 "nbformat": 4,
 "nbformat_minor": 2
}
